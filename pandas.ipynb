{
 "cells": [
  {
   "cell_type": "markdown",
   "id": "85005c6f-69fb-4ddd-ba72-1c6d743dd953",
   "metadata": {},
   "source": [
    "# Pandas: Data Analysis"
   ]
  },
  {
   "cell_type": "code",
   "execution_count": 1,
   "id": "0fd01a31-b2a5-42db-800a-490bf238e47d",
   "metadata": {},
   "outputs": [
    {
     "name": "stdout",
     "output_type": "stream",
     "text": [
      "Last updated: 2025-06-15 11:05:41.646050\n"
     ]
    }
   ],
   "source": [
    "import datetime\n",
    "print(f\"Last updated: {datetime.datetime.now()}\")"
   ]
  },
  {
   "cell_type": "markdown",
   "id": "099bc033-5bce-4662-8c93-4ee2b0d1beaf",
   "metadata": {},
   "source": [
    "## What is pandas?\n",
    "\n",
    "If you're getting into machine learning and data science and you're using Python, you're going to use pandas.\n",
    "\n",
    "[pandas](https://pandas.pydata.org/) is an open source library which helps you analyse and manipulate data."
   ]
  },
  {
   "cell_type": "markdown",
   "id": "9c1d1371-0a15-42d6-af49-8c9fa52c3462",
   "metadata": {},
   "source": [
    "## Why pandas?\n",
    "\n",
    "pandas provides a simple to use but very capable set of functions you can use to on your data.\n",
    "\n",
    "It's integrated with many other data science and machine learning tools which use Python so having an understanding of it will be helpful throughout your journey.\n",
    "\n",
    "One of the main use cases you'll come across is using pandas to transform your data in a way which makes it usable with machine learning algorithms."
   ]
  },
  {
   "cell_type": "markdown",
   "id": "a4bb9c8f-8687-489c-bf29-bedbb4ccae58",
   "metadata": {},
   "source": [
    "## 0. Importing pandas\n",
    "\n",
    "To get started using pandas, the first step is to import it. \n",
    "\n",
    "The most common way (and method you should use) is to import pandas as the abbreviation `pd` (e.g. `pandas` -> `pd`).\n",
    "\n",
    "If you see the letters `pd` used anywhere in machine learning or data science, it's probably referring to the pandas library."
   ]
  },
  {
   "cell_type": "code",
   "execution_count": 2,
   "id": "5a4fc592-f3ea-47f8-8f0b-4abc73aeb105",
   "metadata": {},
   "outputs": [],
   "source": [
    "import pandas as pd"
   ]
  },
  {
   "cell_type": "code",
   "execution_count": 3,
   "id": "7158fb7d-879e-4248-b0ed-df2f98bd36a8",
   "metadata": {},
   "outputs": [
    {
     "name": "stdout",
     "output_type": "stream",
     "text": [
      "pandas version: 2.2.3\n"
     ]
    }
   ],
   "source": [
    "# print the version \n",
    "print(f\"pandas version: {pd.__version__}\")"
   ]
  },
  {
   "cell_type": "markdown",
   "id": "556124e6-4b47-4508-82e5-618eb6d12b6b",
   "metadata": {},
   "source": [
    "## 1. Datatypes\n",
    "\n",
    "pandas has two main datatypes, `Series` and `DataFrame`.\n",
    "* [`pandas.Series`](https://pandas.pydata.org/docs/reference/api/pandas.Series.html) - a 1-dimensional column of data.\n",
    "* [`pandas.DataFrame`](https://pandas.pydata.org/docs/reference/api/pandas.DataFrame.html) (most common) - a 2-dimesional table of data with rows and columns.\n",
    "\n",
    "You can create a `Series` using `pd.Series()` and passing it a Python list."
   ]
  },
  {
   "cell_type": "code",
   "execution_count": 4,
   "id": "56fcd51e-be55-4fe8-bd40-618bf7645b8d",
   "metadata": {},
   "outputs": [
    {
     "data": {
      "text/plain": [
       "0       BMW\n",
       "1    Toyota\n",
       "2     Honda\n",
       "dtype: object"
      ]
     },
     "execution_count": 4,
     "metadata": {},
     "output_type": "execute_result"
    }
   ],
   "source": [
    "# creating a series of car types\n",
    "cars = pd.Series([\"BMW\", \"Toyota\", \"Honda\"])\n",
    "cars"
   ]
  },
  {
   "cell_type": "code",
   "execution_count": 5,
   "id": "eb000cd3-7496-4831-9fb1-62badd7a68dd",
   "metadata": {},
   "outputs": [
    {
     "data": {
      "text/plain": [
       "0     Blue\n",
       "1      Red\n",
       "2    White\n",
       "dtype: object"
      ]
     },
     "execution_count": 5,
     "metadata": {},
     "output_type": "execute_result"
    }
   ],
   "source": [
    "# creating a series of colours\n",
    "colours = pd.Series([\"Blue\", \"Red\", \"White\"])\n",
    "colours"
   ]
  },
  {
   "cell_type": "markdown",
   "id": "787e87a2-3cfc-4387-b724-5754e565756d",
   "metadata": {},
   "source": [
    "You can create a `DataFrame` by using `pd.DataFrame()` and passing it a Python dictionary.\n",
    "\n",
    "Let's use our two `Series` as the values."
   ]
  },
  {
   "cell_type": "code",
   "execution_count": 6,
   "id": "0f195f28-2d2b-4163-ba7e-c28a85acf8df",
   "metadata": {},
   "outputs": [
    {
     "data": {
      "text/html": [
       "<div>\n",
       "<style scoped>\n",
       "    .dataframe tbody tr th:only-of-type {\n",
       "        vertical-align: middle;\n",
       "    }\n",
       "\n",
       "    .dataframe tbody tr th {\n",
       "        vertical-align: top;\n",
       "    }\n",
       "\n",
       "    .dataframe thead th {\n",
       "        text-align: right;\n",
       "    }\n",
       "</style>\n",
       "<table border=\"1\" class=\"dataframe\">\n",
       "  <thead>\n",
       "    <tr style=\"text-align: right;\">\n",
       "      <th></th>\n",
       "      <th>Car Type</th>\n",
       "      <th>Colour</th>\n",
       "    </tr>\n",
       "  </thead>\n",
       "  <tbody>\n",
       "    <tr>\n",
       "      <th>0</th>\n",
       "      <td>BMW</td>\n",
       "      <td>Blue</td>\n",
       "    </tr>\n",
       "    <tr>\n",
       "      <th>1</th>\n",
       "      <td>Toyota</td>\n",
       "      <td>Red</td>\n",
       "    </tr>\n",
       "    <tr>\n",
       "      <th>2</th>\n",
       "      <td>Honda</td>\n",
       "      <td>White</td>\n",
       "    </tr>\n",
       "  </tbody>\n",
       "</table>\n",
       "</div>"
      ],
      "text/plain": [
       "  Car Type Colour\n",
       "0      BMW   Blue\n",
       "1   Toyota    Red\n",
       "2    Honda  White"
      ]
     },
     "execution_count": 6,
     "metadata": {},
     "output_type": "execute_result"
    }
   ],
   "source": [
    "# creating a DataFrame of cars and colours\n",
    "car_data = pd.DataFrame({\"Car Type\" : cars,\n",
    "                        \"Colour\": colours})\n",
    "car_data"
   ]
  },
  {
   "cell_type": "markdown",
   "id": "20c1b641-2dd2-46e6-9d92-155bc4f7f4f3",
   "metadata": {},
   "source": [
    "You can see the keys of the dictionary became the column headings (text in bold) and the values of the two `Series`'s became the values in the DataFrame.\n",
    "\n",
    "It's important to note, many different types of data could go into the DataFrame. \n",
    "\n",
    "Here we've used only text but you could use floats, integers, dates and more."
   ]
  },
  {
   "cell_type": "markdown",
   "id": "5e23586c-bc7e-42fe-ba4e-784cf62e5b16",
   "metadata": {},
   "source": [
    "## 2. Importing data\n",
    "\n",
    "Creating `Series` and `DataFrame`'s from scratch is nice but what you'll usually be doing is importing your data in the form of a `.csv` (comma separated value), spreadsheet file or something similar such as an [SQL database](https://pandas.pydata.org/docs/reference/api/pandas.read_sql.html).\n",
    "\n",
    "pandas allows for easy importing of data like this through functions such as [`pd.read_csv()`](https://pandas.pydata.org/docs/reference/api/pandas.read_csv.html) and [`pd.read_excel()`](https://pandas.pydata.org/docs/reference/api/pandas.read_excel.html) (for Microsoft Excel files).\n",
    "\n",
    "Say you wanted to get this information from this Google Sheet document into a pandas `DataFrame`. \n",
    "\n",
    "You could export it as a `.csv` file and then import it using `pd.read_csv()`. \n",
    "\n",
    "> **Tip:** If the Google Sheet is public, `pd.read_csv()` can read it via URL, try searching for \"pandas read Google Sheet with URL\".\n",
    "\n",
    "In this case, the exported `.csv` file is called `car-sales.csv`."
   ]
  },
  {
   "cell_type": "code",
   "execution_count": 8,
   "id": "ad7eccf8-9f9f-4596-95bb-de77352bb779",
   "metadata": {},
   "outputs": [
    {
     "data": {
      "text/html": [
       "<div>\n",
       "<style scoped>\n",
       "    .dataframe tbody tr th:only-of-type {\n",
       "        vertical-align: middle;\n",
       "    }\n",
       "\n",
       "    .dataframe tbody tr th {\n",
       "        vertical-align: top;\n",
       "    }\n",
       "\n",
       "    .dataframe thead th {\n",
       "        text-align: right;\n",
       "    }\n",
       "</style>\n",
       "<table border=\"1\" class=\"dataframe\">\n",
       "  <thead>\n",
       "    <tr style=\"text-align: right;\">\n",
       "      <th></th>\n",
       "      <th>Make</th>\n",
       "      <th>Colour</th>\n",
       "      <th>Odometer (KM)</th>\n",
       "      <th>Doors</th>\n",
       "      <th>Price</th>\n",
       "    </tr>\n",
       "  </thead>\n",
       "  <tbody>\n",
       "    <tr>\n",
       "      <th>0</th>\n",
       "      <td>Toyota</td>\n",
       "      <td>White</td>\n",
       "      <td>150043</td>\n",
       "      <td>4</td>\n",
       "      <td>$4,000.00</td>\n",
       "    </tr>\n",
       "    <tr>\n",
       "      <th>1</th>\n",
       "      <td>Honda</td>\n",
       "      <td>Red</td>\n",
       "      <td>87899</td>\n",
       "      <td>4</td>\n",
       "      <td>$5,000.00</td>\n",
       "    </tr>\n",
       "    <tr>\n",
       "      <th>2</th>\n",
       "      <td>Toyota</td>\n",
       "      <td>Blue</td>\n",
       "      <td>32549</td>\n",
       "      <td>3</td>\n",
       "      <td>$7,000.00</td>\n",
       "    </tr>\n",
       "    <tr>\n",
       "      <th>3</th>\n",
       "      <td>BMW</td>\n",
       "      <td>Black</td>\n",
       "      <td>11179</td>\n",
       "      <td>5</td>\n",
       "      <td>$22,000.00</td>\n",
       "    </tr>\n",
       "    <tr>\n",
       "      <th>4</th>\n",
       "      <td>Nissan</td>\n",
       "      <td>White</td>\n",
       "      <td>213095</td>\n",
       "      <td>4</td>\n",
       "      <td>$3,500.00</td>\n",
       "    </tr>\n",
       "    <tr>\n",
       "      <th>5</th>\n",
       "      <td>Toyota</td>\n",
       "      <td>Green</td>\n",
       "      <td>99213</td>\n",
       "      <td>4</td>\n",
       "      <td>$4,500.00</td>\n",
       "    </tr>\n",
       "    <tr>\n",
       "      <th>6</th>\n",
       "      <td>Honda</td>\n",
       "      <td>Blue</td>\n",
       "      <td>45698</td>\n",
       "      <td>4</td>\n",
       "      <td>$7,500.00</td>\n",
       "    </tr>\n",
       "    <tr>\n",
       "      <th>7</th>\n",
       "      <td>Honda</td>\n",
       "      <td>Blue</td>\n",
       "      <td>54738</td>\n",
       "      <td>4</td>\n",
       "      <td>$7,000.00</td>\n",
       "    </tr>\n",
       "    <tr>\n",
       "      <th>8</th>\n",
       "      <td>Toyota</td>\n",
       "      <td>White</td>\n",
       "      <td>60000</td>\n",
       "      <td>4</td>\n",
       "      <td>$6,250.00</td>\n",
       "    </tr>\n",
       "    <tr>\n",
       "      <th>9</th>\n",
       "      <td>Nissan</td>\n",
       "      <td>White</td>\n",
       "      <td>31600</td>\n",
       "      <td>4</td>\n",
       "      <td>$9,700.00</td>\n",
       "    </tr>\n",
       "  </tbody>\n",
       "</table>\n",
       "</div>"
      ],
      "text/plain": [
       "     Make Colour  Odometer (KM)  Doors       Price\n",
       "0  Toyota  White         150043      4   $4,000.00\n",
       "1   Honda    Red          87899      4   $5,000.00\n",
       "2  Toyota   Blue          32549      3   $7,000.00\n",
       "3     BMW  Black          11179      5  $22,000.00\n",
       "4  Nissan  White         213095      4   $3,500.00\n",
       "5  Toyota  Green          99213      4   $4,500.00\n",
       "6   Honda   Blue          45698      4   $7,500.00\n",
       "7   Honda   Blue          54738      4   $7,000.00\n",
       "8  Toyota  White          60000      4   $6,250.00\n",
       "9  Nissan  White          31600      4   $9,700.00"
      ]
     },
     "execution_count": 8,
     "metadata": {},
     "output_type": "execute_result"
    }
   ],
   "source": [
    "# Import the car sales data\n",
    "car_sales = pd.read_csv(\"./data/car-sales.csv\")\n",
    "car_sales"
   ]
  },
  {
   "cell_type": "markdown",
   "id": "d001bd18-5670-4ec8-b72c-d59cde68cf11",
   "metadata": {},
   "source": [
    "Now we've got the same data from the spreadsheet available in a pandas `DataFrame` called `car_sales`. \n",
    "\n",
    "Having your data available in a `DataFrame` allows you to take advantage of all of pandas functionality on it.\n",
    "\n",
    "Another common practice you'll see is data being imported to `DataFrame` called `df` (short for `DataFrame`)."
   ]
  },
  {
   "cell_type": "code",
   "execution_count": 10,
   "id": "e44ff771-4083-494b-8a00-436190f91eb0",
   "metadata": {},
   "outputs": [
    {
     "data": {
      "text/html": [
       "<div>\n",
       "<style scoped>\n",
       "    .dataframe tbody tr th:only-of-type {\n",
       "        vertical-align: middle;\n",
       "    }\n",
       "\n",
       "    .dataframe tbody tr th {\n",
       "        vertical-align: top;\n",
       "    }\n",
       "\n",
       "    .dataframe thead th {\n",
       "        text-align: right;\n",
       "    }\n",
       "</style>\n",
       "<table border=\"1\" class=\"dataframe\">\n",
       "  <thead>\n",
       "    <tr style=\"text-align: right;\">\n",
       "      <th></th>\n",
       "      <th>Make</th>\n",
       "      <th>Colour</th>\n",
       "      <th>Odometer (KM)</th>\n",
       "      <th>Doors</th>\n",
       "      <th>Price</th>\n",
       "    </tr>\n",
       "  </thead>\n",
       "  <tbody>\n",
       "    <tr>\n",
       "      <th>0</th>\n",
       "      <td>Toyota</td>\n",
       "      <td>White</td>\n",
       "      <td>150043</td>\n",
       "      <td>4</td>\n",
       "      <td>$4,000.00</td>\n",
       "    </tr>\n",
       "    <tr>\n",
       "      <th>1</th>\n",
       "      <td>Honda</td>\n",
       "      <td>Red</td>\n",
       "      <td>87899</td>\n",
       "      <td>4</td>\n",
       "      <td>$5,000.00</td>\n",
       "    </tr>\n",
       "    <tr>\n",
       "      <th>2</th>\n",
       "      <td>Toyota</td>\n",
       "      <td>Blue</td>\n",
       "      <td>32549</td>\n",
       "      <td>3</td>\n",
       "      <td>$7,000.00</td>\n",
       "    </tr>\n",
       "    <tr>\n",
       "      <th>3</th>\n",
       "      <td>BMW</td>\n",
       "      <td>Black</td>\n",
       "      <td>11179</td>\n",
       "      <td>5</td>\n",
       "      <td>$22,000.00</td>\n",
       "    </tr>\n",
       "    <tr>\n",
       "      <th>4</th>\n",
       "      <td>Nissan</td>\n",
       "      <td>White</td>\n",
       "      <td>213095</td>\n",
       "      <td>4</td>\n",
       "      <td>$3,500.00</td>\n",
       "    </tr>\n",
       "    <tr>\n",
       "      <th>5</th>\n",
       "      <td>Toyota</td>\n",
       "      <td>Green</td>\n",
       "      <td>99213</td>\n",
       "      <td>4</td>\n",
       "      <td>$4,500.00</td>\n",
       "    </tr>\n",
       "    <tr>\n",
       "      <th>6</th>\n",
       "      <td>Honda</td>\n",
       "      <td>Blue</td>\n",
       "      <td>45698</td>\n",
       "      <td>4</td>\n",
       "      <td>$7,500.00</td>\n",
       "    </tr>\n",
       "    <tr>\n",
       "      <th>7</th>\n",
       "      <td>Honda</td>\n",
       "      <td>Blue</td>\n",
       "      <td>54738</td>\n",
       "      <td>4</td>\n",
       "      <td>$7,000.00</td>\n",
       "    </tr>\n",
       "    <tr>\n",
       "      <th>8</th>\n",
       "      <td>Toyota</td>\n",
       "      <td>White</td>\n",
       "      <td>60000</td>\n",
       "      <td>4</td>\n",
       "      <td>$6,250.00</td>\n",
       "    </tr>\n",
       "    <tr>\n",
       "      <th>9</th>\n",
       "      <td>Nissan</td>\n",
       "      <td>White</td>\n",
       "      <td>31600</td>\n",
       "      <td>4</td>\n",
       "      <td>$9,700.00</td>\n",
       "    </tr>\n",
       "  </tbody>\n",
       "</table>\n",
       "</div>"
      ],
      "text/plain": [
       "     Make Colour  Odometer (KM)  Doors       Price\n",
       "0  Toyota  White         150043      4   $4,000.00\n",
       "1   Honda    Red          87899      4   $5,000.00\n",
       "2  Toyota   Blue          32549      3   $7,000.00\n",
       "3     BMW  Black          11179      5  $22,000.00\n",
       "4  Nissan  White         213095      4   $3,500.00\n",
       "5  Toyota  Green          99213      4   $4,500.00\n",
       "6   Honda   Blue          45698      4   $7,500.00\n",
       "7   Honda   Blue          54738      4   $7,000.00\n",
       "8  Toyota  White          60000      4   $6,250.00\n",
       "9  Nissan  White          31600      4   $9,700.00"
      ]
     },
     "execution_count": 10,
     "metadata": {},
     "output_type": "execute_result"
    }
   ],
   "source": [
    "df = pd.read_csv(\"./data/car-sales.csv\")\n",
    "df"
   ]
  },
  {
   "cell_type": "markdown",
   "id": "8ea2914e-a29e-40c9-b609-9b8e28f31e25",
   "metadata": {},
   "source": [
    "Now `car_sales` and `df` contain the exact same information, the only difference is the name. Like any other variable, you can name your `DataFrame`'s whatever you want. But best to choose something simple.\n",
    "\n",
    "### Anatomy of a DataFrame\n",
    "\n",
    "Different functions use different labels for different things. This graphic sums up some of the main components of `DataFrame`'s and their different names."
   ]
  },
  {
   "cell_type": "markdown",
   "id": "d860cee8-c3b3-42a9-86fc-9997559196e8",
   "metadata": {},
   "source": [
    "## 3. Exporting data\n",
    "\n",
    "After you've made a few changes to your data, you might want to export it and save it so someone else can access the changes.\n",
    "\n",
    "pandas allows you to export `DataFrame`'s to `.csv` format using [`.to_csv()`](https://pandas.pydata.org/docs/reference/api/pandas.DataFrame.to_csv.html) or spreadsheet format using [`.to_excel()`](https://pandas.pydata.org/docs/reference/api/pandas.DataFrame.to_excel.html).\n",
    "\n",
    "We haven't made any changes yet to the `car_sales` `DataFrame` but let's try export it."
   ]
  },
  {
   "cell_type": "code",
   "execution_count": 11,
   "id": "5b584cc6-cff9-42cb-8d78-b6b77ae66de8",
   "metadata": {},
   "outputs": [],
   "source": [
    "car_sales.to_csv(\"./exported/exported-car-sales.csv\")"
   ]
  },
  {
   "cell_type": "markdown",
   "id": "b54ff63d-dfbd-4fa0-b5b1-2063229457d0",
   "metadata": {},
   "source": [
    "Running this will save a file called `export-car-sales.csv` to the current folder."
   ]
  },
  {
   "cell_type": "markdown",
   "id": "425bd000-7367-460e-8e4a-baf90a123bbb",
   "metadata": {},
   "source": [
    "## 4. Describing data\n",
    "\n",
    "One of the first things you'll want to do after you import some data into a pandas `DataFrame` is to start exploring it.\n",
    "\n",
    "pandas has many built in functions which allow you to quickly get information about a `DataFrame`.\n",
    "\n",
    "Let's explore some using the `car_sales` `DataFrame`."
   ]
  },
  {
   "cell_type": "code",
   "execution_count": 12,
   "id": "2c300f3f-b898-4eb8-b8cb-51570bb29f20",
   "metadata": {},
   "outputs": [
    {
     "data": {
      "text/html": [
       "<div>\n",
       "<style scoped>\n",
       "    .dataframe tbody tr th:only-of-type {\n",
       "        vertical-align: middle;\n",
       "    }\n",
       "\n",
       "    .dataframe tbody tr th {\n",
       "        vertical-align: top;\n",
       "    }\n",
       "\n",
       "    .dataframe thead th {\n",
       "        text-align: right;\n",
       "    }\n",
       "</style>\n",
       "<table border=\"1\" class=\"dataframe\">\n",
       "  <thead>\n",
       "    <tr style=\"text-align: right;\">\n",
       "      <th></th>\n",
       "      <th>Make</th>\n",
       "      <th>Colour</th>\n",
       "      <th>Odometer (KM)</th>\n",
       "      <th>Doors</th>\n",
       "      <th>Price</th>\n",
       "    </tr>\n",
       "  </thead>\n",
       "  <tbody>\n",
       "    <tr>\n",
       "      <th>0</th>\n",
       "      <td>Toyota</td>\n",
       "      <td>White</td>\n",
       "      <td>150043</td>\n",
       "      <td>4</td>\n",
       "      <td>$4,000.00</td>\n",
       "    </tr>\n",
       "    <tr>\n",
       "      <th>1</th>\n",
       "      <td>Honda</td>\n",
       "      <td>Red</td>\n",
       "      <td>87899</td>\n",
       "      <td>4</td>\n",
       "      <td>$5,000.00</td>\n",
       "    </tr>\n",
       "    <tr>\n",
       "      <th>2</th>\n",
       "      <td>Toyota</td>\n",
       "      <td>Blue</td>\n",
       "      <td>32549</td>\n",
       "      <td>3</td>\n",
       "      <td>$7,000.00</td>\n",
       "    </tr>\n",
       "    <tr>\n",
       "      <th>3</th>\n",
       "      <td>BMW</td>\n",
       "      <td>Black</td>\n",
       "      <td>11179</td>\n",
       "      <td>5</td>\n",
       "      <td>$22,000.00</td>\n",
       "    </tr>\n",
       "    <tr>\n",
       "      <th>4</th>\n",
       "      <td>Nissan</td>\n",
       "      <td>White</td>\n",
       "      <td>213095</td>\n",
       "      <td>4</td>\n",
       "      <td>$3,500.00</td>\n",
       "    </tr>\n",
       "    <tr>\n",
       "      <th>5</th>\n",
       "      <td>Toyota</td>\n",
       "      <td>Green</td>\n",
       "      <td>99213</td>\n",
       "      <td>4</td>\n",
       "      <td>$4,500.00</td>\n",
       "    </tr>\n",
       "    <tr>\n",
       "      <th>6</th>\n",
       "      <td>Honda</td>\n",
       "      <td>Blue</td>\n",
       "      <td>45698</td>\n",
       "      <td>4</td>\n",
       "      <td>$7,500.00</td>\n",
       "    </tr>\n",
       "    <tr>\n",
       "      <th>7</th>\n",
       "      <td>Honda</td>\n",
       "      <td>Blue</td>\n",
       "      <td>54738</td>\n",
       "      <td>4</td>\n",
       "      <td>$7,000.00</td>\n",
       "    </tr>\n",
       "    <tr>\n",
       "      <th>8</th>\n",
       "      <td>Toyota</td>\n",
       "      <td>White</td>\n",
       "      <td>60000</td>\n",
       "      <td>4</td>\n",
       "      <td>$6,250.00</td>\n",
       "    </tr>\n",
       "    <tr>\n",
       "      <th>9</th>\n",
       "      <td>Nissan</td>\n",
       "      <td>White</td>\n",
       "      <td>31600</td>\n",
       "      <td>4</td>\n",
       "      <td>$9,700.00</td>\n",
       "    </tr>\n",
       "  </tbody>\n",
       "</table>\n",
       "</div>"
      ],
      "text/plain": [
       "     Make Colour  Odometer (KM)  Doors       Price\n",
       "0  Toyota  White         150043      4   $4,000.00\n",
       "1   Honda    Red          87899      4   $5,000.00\n",
       "2  Toyota   Blue          32549      3   $7,000.00\n",
       "3     BMW  Black          11179      5  $22,000.00\n",
       "4  Nissan  White         213095      4   $3,500.00\n",
       "5  Toyota  Green          99213      4   $4,500.00\n",
       "6   Honda   Blue          45698      4   $7,500.00\n",
       "7   Honda   Blue          54738      4   $7,000.00\n",
       "8  Toyota  White          60000      4   $6,250.00\n",
       "9  Nissan  White          31600      4   $9,700.00"
      ]
     },
     "execution_count": 12,
     "metadata": {},
     "output_type": "execute_result"
    }
   ],
   "source": [
    "# display teh contents of the car_sales DataFrame\n",
    "car_sales"
   ]
  },
  {
   "cell_type": "markdown",
   "id": "641cc687-ed3f-4757-bcd0-e5d2f3d58d34",
   "metadata": {},
   "source": [
    "[`.dtypes`](https://pandas.pydata.org/docs/reference/api/pandas.DataFrame.dtypes.html) shows us what datatype each column contains."
   ]
  },
  {
   "cell_type": "code",
   "execution_count": 13,
   "id": "6f3f43a0-87ee-43eb-8554-6947a374e4eb",
   "metadata": {},
   "outputs": [
    {
     "data": {
      "text/plain": [
       "Make             object\n",
       "Colour           object\n",
       "Odometer (KM)     int64\n",
       "Doors             int64\n",
       "Price            object\n",
       "dtype: object"
      ]
     },
     "execution_count": 13,
     "metadata": {},
     "output_type": "execute_result"
    }
   ],
   "source": [
    "car_sales.dtypes"
   ]
  },
  {
   "cell_type": "markdown",
   "id": "555b41c4-38e1-4c08-afa0-fa75ad3d1e59",
   "metadata": {},
   "source": [
    "Notice how the `Price` column isn't an integer like `Odometer` or `Doors`. Don't worry, pandas makes this easy to fix."
   ]
  },
  {
   "cell_type": "markdown",
   "id": "cb32584d-2182-4a38-8024-0995bc171308",
   "metadata": {},
   "source": [
    "[`.describe()`](https://pandas.pydata.org/docs/reference/api/pandas.DataFrame.describe.html) gives you a quick statistical overview of the numerical columns."
   ]
  },
  {
   "cell_type": "code",
   "execution_count": 14,
   "id": "bdbd954a-3fb1-4f9b-90fb-298bf84a98dd",
   "metadata": {},
   "outputs": [
    {
     "data": {
      "text/html": [
       "<div>\n",
       "<style scoped>\n",
       "    .dataframe tbody tr th:only-of-type {\n",
       "        vertical-align: middle;\n",
       "    }\n",
       "\n",
       "    .dataframe tbody tr th {\n",
       "        vertical-align: top;\n",
       "    }\n",
       "\n",
       "    .dataframe thead th {\n",
       "        text-align: right;\n",
       "    }\n",
       "</style>\n",
       "<table border=\"1\" class=\"dataframe\">\n",
       "  <thead>\n",
       "    <tr style=\"text-align: right;\">\n",
       "      <th></th>\n",
       "      <th>Odometer (KM)</th>\n",
       "      <th>Doors</th>\n",
       "    </tr>\n",
       "  </thead>\n",
       "  <tbody>\n",
       "    <tr>\n",
       "      <th>count</th>\n",
       "      <td>10.000000</td>\n",
       "      <td>10.000000</td>\n",
       "    </tr>\n",
       "    <tr>\n",
       "      <th>mean</th>\n",
       "      <td>78601.400000</td>\n",
       "      <td>4.000000</td>\n",
       "    </tr>\n",
       "    <tr>\n",
       "      <th>std</th>\n",
       "      <td>61983.471735</td>\n",
       "      <td>0.471405</td>\n",
       "    </tr>\n",
       "    <tr>\n",
       "      <th>min</th>\n",
       "      <td>11179.000000</td>\n",
       "      <td>3.000000</td>\n",
       "    </tr>\n",
       "    <tr>\n",
       "      <th>25%</th>\n",
       "      <td>35836.250000</td>\n",
       "      <td>4.000000</td>\n",
       "    </tr>\n",
       "    <tr>\n",
       "      <th>50%</th>\n",
       "      <td>57369.000000</td>\n",
       "      <td>4.000000</td>\n",
       "    </tr>\n",
       "    <tr>\n",
       "      <th>75%</th>\n",
       "      <td>96384.500000</td>\n",
       "      <td>4.000000</td>\n",
       "    </tr>\n",
       "    <tr>\n",
       "      <th>max</th>\n",
       "      <td>213095.000000</td>\n",
       "      <td>5.000000</td>\n",
       "    </tr>\n",
       "  </tbody>\n",
       "</table>\n",
       "</div>"
      ],
      "text/plain": [
       "       Odometer (KM)      Doors\n",
       "count      10.000000  10.000000\n",
       "mean    78601.400000   4.000000\n",
       "std     61983.471735   0.471405\n",
       "min     11179.000000   3.000000\n",
       "25%     35836.250000   4.000000\n",
       "50%     57369.000000   4.000000\n",
       "75%     96384.500000   4.000000\n",
       "max    213095.000000   5.000000"
      ]
     },
     "execution_count": 14,
     "metadata": {},
     "output_type": "execute_result"
    }
   ],
   "source": [
    "car_sales.describe()"
   ]
  },
  {
   "cell_type": "markdown",
   "id": "38353c7f-6ab4-457f-a2bc-59aa4bd89de0",
   "metadata": {},
   "source": [
    "[`.info()`](https://pandas.pydata.org/docs/reference/api/pandas.DataFrame.info.html) shows a handful of useful information about a `DataFrame` such as: \n",
    "* How many entries (rows) there are \n",
    "* Whether there are missing values (if a columns non-null value is less than the number of entries, it has missing values)\n",
    "* The datatypes of each column"
   ]
  },
  {
   "cell_type": "code",
   "execution_count": 15,
   "id": "5d54997a-8ee6-4cf4-ad56-b1a5f58aaab5",
   "metadata": {},
   "outputs": [
    {
     "name": "stdout",
     "output_type": "stream",
     "text": [
      "<class 'pandas.core.frame.DataFrame'>\n",
      "RangeIndex: 10 entries, 0 to 9\n",
      "Data columns (total 5 columns):\n",
      " #   Column         Non-Null Count  Dtype \n",
      "---  ------         --------------  ----- \n",
      " 0   Make           10 non-null     object\n",
      " 1   Colour         10 non-null     object\n",
      " 2   Odometer (KM)  10 non-null     int64 \n",
      " 3   Doors          10 non-null     int64 \n",
      " 4   Price          10 non-null     object\n",
      "dtypes: int64(2), object(3)\n",
      "memory usage: 532.0+ bytes\n"
     ]
    }
   ],
   "source": [
    "car_sales.info()"
   ]
  },
  {
   "cell_type": "markdown",
   "id": "d8fa2a42-ad80-40a9-8329-1758d5d88ad9",
   "metadata": {},
   "source": [
    "You can also call various statistical and mathematical methods such as [`.mean()`](https://pandas.pydata.org/docs/reference/api/pandas.DataFrame.mean.html) or [`.sum()`](https://pandas.pydata.org/docs/reference/api/pandas.DataFrame.sum.html) directly on a `DataFrame` or `Series`."
   ]
  },
  {
   "cell_type": "code",
   "execution_count": 16,
   "id": "e37e23a1-53ac-49e5-9fc5-9cd98efa2d16",
   "metadata": {},
   "outputs": [
    {
     "data": {
      "text/plain": [
       "Odometer (KM)    78601.4\n",
       "Doors                4.0\n",
       "dtype: float64"
      ]
     },
     "execution_count": 16,
     "metadata": {},
     "output_type": "execute_result"
    }
   ],
   "source": [
    "# calling .mean() on a DataFrame\n",
    "car_sales.mean(numeric_only= True)\n",
    "# numeric_only = get mean values of numeric columnns only"
   ]
  },
  {
   "cell_type": "code",
   "execution_count": 17,
   "id": "8f88f8ff-e50b-4046-ada1-c6fe053d0cff",
   "metadata": {},
   "outputs": [
    {
     "data": {
      "text/plain": [
       "np.float64(5916.666666666667)"
      ]
     },
     "execution_count": 17,
     "metadata": {},
     "output_type": "execute_result"
    }
   ],
   "source": [
    "# calling .mean() on a Series\n",
    "car_prices = pd.Series([3000, 3500, 11250])\n",
    "car_prices.mean()"
   ]
  },
  {
   "cell_type": "code",
   "execution_count": 18,
   "id": "bd2d470a-b036-4b75-bf4e-bb56007c73fd",
   "metadata": {},
   "outputs": [
    {
     "data": {
      "text/plain": [
       "Make             ToyotaHondaToyotaBMWNissanToyotaHondaHondaToyo...\n",
       "Colour               WhiteRedBlueBlackWhiteGreenBlueBlueWhiteWhite\n",
       "Odometer (KM)                                               786014\n",
       "Doors                                                           40\n",
       "Price            $4,000.00$5,000.00$7,000.00$22,000.00$3,500.00...\n",
       "dtype: object"
      ]
     },
     "execution_count": 18,
     "metadata": {},
     "output_type": "execute_result"
    }
   ],
   "source": [
    "# calling .sum() on a DataFrame\n",
    "car_sales.sum(numeric_only= False)"
   ]
  },
  {
   "cell_type": "code",
   "execution_count": 19,
   "id": "e369be9c-42d7-4321-af7c-2851ebe7c319",
   "metadata": {},
   "outputs": [
    {
     "data": {
      "text/plain": [
       "Odometer (KM)    786014\n",
       "Doors                40\n",
       "dtype: int64"
      ]
     },
     "execution_count": 19,
     "metadata": {},
     "output_type": "execute_result"
    }
   ],
   "source": [
    "# calling .sum() on a DataFrame\n",
    "car_sales.sum(numeric_only= True)"
   ]
  },
  {
   "cell_type": "code",
   "execution_count": 20,
   "id": "94eb3c57-f726-4bb1-8a4c-c5805c617c9b",
   "metadata": {},
   "outputs": [
    {
     "data": {
      "text/plain": [
       "np.int64(17750)"
      ]
     },
     "execution_count": 20,
     "metadata": {},
     "output_type": "execute_result"
    }
   ],
   "source": [
    "# calling .sum() on a Series\n",
    "car_prices.sum()"
   ]
  },
  {
   "cell_type": "markdown",
   "id": "163684eb-6d70-4b28-97ba-c4155a6eab3a",
   "metadata": {},
   "source": [
    "Calling these on a whole `DataFrame` may not be as helpful as targeting an individual column. But it's helpful to know they're there.\n",
    "\n",
    "`.columns` will show you all the columns of a `DataFrame`."
   ]
  },
  {
   "cell_type": "code",
   "execution_count": 21,
   "id": "483019ee-f20b-44e7-a4d9-9eda0dc5990b",
   "metadata": {},
   "outputs": [
    {
     "data": {
      "text/plain": [
       "Index(['Make', 'Colour', 'Odometer (KM)', 'Doors', 'Price'], dtype='object')"
      ]
     },
     "execution_count": 21,
     "metadata": {},
     "output_type": "execute_result"
    }
   ],
   "source": [
    "car_sales.columns"
   ]
  },
  {
   "cell_type": "markdown",
   "id": "d636618c-4594-4046-b408-114c42ca1f2b",
   "metadata": {},
   "source": [
    "You can save them to a list which you could use later"
   ]
  },
  {
   "cell_type": "code",
   "execution_count": 22,
   "id": "fc6d475c-9f06-4dff-9df7-abcc990d878f",
   "metadata": {},
   "outputs": [
    {
     "data": {
      "text/plain": [
       "'Make'"
      ]
     },
     "execution_count": 22,
     "metadata": {},
     "output_type": "execute_result"
    }
   ],
   "source": [
    "# save car_sales columns to a list\n",
    "car_columns = car_sales.columns\n",
    "car_columns[0]"
   ]
  },
  {
   "cell_type": "markdown",
   "id": "bbaab7f8-1020-423a-95e9-a5fb2f9b11dc",
   "metadata": {},
   "source": [
    "`.index` will show you the values in a `DataFrame`'s index (the column on the far left)."
   ]
  },
  {
   "cell_type": "code",
   "execution_count": 23,
   "id": "9ae7d8c0-24b7-449c-a317-37ffe225ba02",
   "metadata": {},
   "outputs": [
    {
     "data": {
      "text/plain": [
       "RangeIndex(start=0, stop=10, step=1)"
      ]
     },
     "execution_count": 23,
     "metadata": {},
     "output_type": "execute_result"
    }
   ],
   "source": [
    "car_sales.index"
   ]
  },
  {
   "cell_type": "markdown",
   "id": "d557a77c-d3a0-45c7-a1bb-c8b0c3c9672d",
   "metadata": {},
   "source": [
    "pandas `DataFrame`'s, like Python lists, are 0-indexed (unless otherwise changed). This means they start at 0. "
   ]
  },
  {
   "cell_type": "code",
   "execution_count": 24,
   "id": "de4f9e3f-5b26-4784-8332-72b6f160f4f7",
   "metadata": {},
   "outputs": [
    {
     "data": {
      "text/plain": [
       "10"
      ]
     },
     "execution_count": 24,
     "metadata": {},
     "output_type": "execute_result"
    }
   ],
   "source": [
    "# display the length of the DataFrame\n",
    "len(car_sales)"
   ]
  },
  {
   "cell_type": "code",
   "execution_count": 25,
   "id": "935fc35f-16dc-4ffa-bcde-f4d7020afc3c",
   "metadata": {},
   "outputs": [
    {
     "data": {
      "text/plain": [
       "3"
      ]
     },
     "execution_count": 25,
     "metadata": {},
     "output_type": "execute_result"
    }
   ],
   "source": [
    "# display the length of the Series\n",
    "len(car_prices)"
   ]
  },
  {
   "cell_type": "markdown",
   "id": "22e9922d-e2c0-4492-9fc1-5b7da4557f3f",
   "metadata": {},
   "source": [
    "So even though the length of our `car_sales` dataframe is 10, this means the indexes go from 0-9."
   ]
  },
  {
   "cell_type": "markdown",
   "id": "7b9c7c5c-db98-4261-a54a-a468501e55e4",
   "metadata": {},
   "source": [
    "## 5. Viewing and selecting data\n",
    "\n",
    "Some common methods for viewing and selecting data in a pandas DataFrame include:\n",
    "\n",
    "* [`DataFrame.head(n=5)`](https://pandas.pydata.org/docs/reference/api/pandas.DataFrame.head.html) - Displays the first `n` rows of a DataFrame (e.g. `car_sales.head()` will show the first 5 rows of the `car_sales` DataFrame).\n",
    "* [`DataFrame.tail(n=5)`](https://pandas.pydata.org/docs/reference/api/pandas.DataFrame.tail.html) - Displays the last `n` rows of a DataFrame.\n",
    "* [`DataFrame.loc[]`](https://pandas.pydata.org/docs/reference/api/pandas.DataFrame.loc.html) - Accesses a group of rows and columns by labels or a boolean array.\n",
    "* [`DataFrame.iloc[]`](https://pandas.pydata.org/docs/reference/api/pandas.DataFrame.iloc.html) - Accesses a group of rows and columns by integer indices (e.g. `car_sales.iloc[0]` shows all the columns from index `0`.\n",
    "* [`DataFrame.columns`](https://pandas.pydata.org/docs/reference/api/pandas.DataFrame.columns.html) -  Lists the column labels of the DataFrame.\n",
    "* `DataFrame['A']` - Selects the column named `'A'` from the DataFrame.\n",
    "* `DataFrame[DataFrame['A'] > 5]` - Boolean indexing filters rows based on column values meeting a condition (e.g. all rows from column `'A'` greater than `5`.\n",
    "* [`DataFrame.plot()`](https://pandas.pydata.org/docs/reference/api/pandas.DataFrame.plot.html) - Creates a line plot of a DataFrame's columns (e.g. plot `Make` vs. `Odometer (KM)` columns with `car_sales[[\"Make\", \"Odometer (KM)\"]].plot();`).\n",
    "* [`DataFrame.hist()`](https://pandas.pydata.org/docs/reference/api/pandas.DataFrame.hist.html) - Generates histograms for columns in a DataFrame.\n",
    "* [`pandas.crosstab()`](https://pandas.pydata.org/docs/reference/api/pandas.crosstab.html) - Computes a cross-tabulation of two or more factors.\n",
    "\n",
    "In practice, you'll constantly be making changes to your data, and viewing it. Changing it, viewing it, changing it, viewing it.\n",
    "\n",
    "You won't always want to change all of the data in your `DataFrame`'s either. So there are just as many different ways to select data as there is to view it.\n",
    "\n",
    "`.head()` allows you to view the first 5 rows of your `DataFrame`. You'll likely be using this one a lot. "
   ]
  },
  {
   "cell_type": "code",
   "execution_count": 26,
   "id": "caaeb382-cc21-42c3-ae6e-94075c4b1cf6",
   "metadata": {},
   "outputs": [
    {
     "data": {
      "text/html": [
       "<div>\n",
       "<style scoped>\n",
       "    .dataframe tbody tr th:only-of-type {\n",
       "        vertical-align: middle;\n",
       "    }\n",
       "\n",
       "    .dataframe tbody tr th {\n",
       "        vertical-align: top;\n",
       "    }\n",
       "\n",
       "    .dataframe thead th {\n",
       "        text-align: right;\n",
       "    }\n",
       "</style>\n",
       "<table border=\"1\" class=\"dataframe\">\n",
       "  <thead>\n",
       "    <tr style=\"text-align: right;\">\n",
       "      <th></th>\n",
       "      <th>Make</th>\n",
       "      <th>Colour</th>\n",
       "      <th>Odometer (KM)</th>\n",
       "      <th>Doors</th>\n",
       "      <th>Price</th>\n",
       "    </tr>\n",
       "  </thead>\n",
       "  <tbody>\n",
       "    <tr>\n",
       "      <th>0</th>\n",
       "      <td>Toyota</td>\n",
       "      <td>White</td>\n",
       "      <td>150043</td>\n",
       "      <td>4</td>\n",
       "      <td>$4,000.00</td>\n",
       "    </tr>\n",
       "    <tr>\n",
       "      <th>1</th>\n",
       "      <td>Honda</td>\n",
       "      <td>Red</td>\n",
       "      <td>87899</td>\n",
       "      <td>4</td>\n",
       "      <td>$5,000.00</td>\n",
       "    </tr>\n",
       "    <tr>\n",
       "      <th>2</th>\n",
       "      <td>Toyota</td>\n",
       "      <td>Blue</td>\n",
       "      <td>32549</td>\n",
       "      <td>3</td>\n",
       "      <td>$7,000.00</td>\n",
       "    </tr>\n",
       "    <tr>\n",
       "      <th>3</th>\n",
       "      <td>BMW</td>\n",
       "      <td>Black</td>\n",
       "      <td>11179</td>\n",
       "      <td>5</td>\n",
       "      <td>$22,000.00</td>\n",
       "    </tr>\n",
       "    <tr>\n",
       "      <th>4</th>\n",
       "      <td>Nissan</td>\n",
       "      <td>White</td>\n",
       "      <td>213095</td>\n",
       "      <td>4</td>\n",
       "      <td>$3,500.00</td>\n",
       "    </tr>\n",
       "  </tbody>\n",
       "</table>\n",
       "</div>"
      ],
      "text/plain": [
       "     Make Colour  Odometer (KM)  Doors       Price\n",
       "0  Toyota  White         150043      4   $4,000.00\n",
       "1   Honda    Red          87899      4   $5,000.00\n",
       "2  Toyota   Blue          32549      3   $7,000.00\n",
       "3     BMW  Black          11179      5  $22,000.00\n",
       "4  Nissan  White         213095      4   $3,500.00"
      ]
     },
     "execution_count": 26,
     "metadata": {},
     "output_type": "execute_result"
    }
   ],
   "source": [
    "# Show the first 5 rows of car_sales\n",
    "car_sales.head()"
   ]
  },
  {
   "cell_type": "markdown",
   "id": "8e2620af-7b7d-4ee3-8b8f-d0a400dab13a",
   "metadata": {},
   "source": [
    "Why 5 rows? Good question. \n",
    "R: 5 is default argument for the function\n",
    "\n",
    "Want more than 5?\n",
    "\n",
    "No worries, you can pass `.head()` an integer to display more than or less than 5 rows."
   ]
  },
  {
   "cell_type": "code",
   "execution_count": 27,
   "id": "c83dc30b-875e-4a22-8366-ec8da6eaf8a4",
   "metadata": {},
   "outputs": [
    {
     "data": {
      "text/html": [
       "<div>\n",
       "<style scoped>\n",
       "    .dataframe tbody tr th:only-of-type {\n",
       "        vertical-align: middle;\n",
       "    }\n",
       "\n",
       "    .dataframe tbody tr th {\n",
       "        vertical-align: top;\n",
       "    }\n",
       "\n",
       "    .dataframe thead th {\n",
       "        text-align: right;\n",
       "    }\n",
       "</style>\n",
       "<table border=\"1\" class=\"dataframe\">\n",
       "  <thead>\n",
       "    <tr style=\"text-align: right;\">\n",
       "      <th></th>\n",
       "      <th>Make</th>\n",
       "      <th>Colour</th>\n",
       "      <th>Odometer (KM)</th>\n",
       "      <th>Doors</th>\n",
       "      <th>Price</th>\n",
       "    </tr>\n",
       "  </thead>\n",
       "  <tbody>\n",
       "    <tr>\n",
       "      <th>0</th>\n",
       "      <td>Toyota</td>\n",
       "      <td>White</td>\n",
       "      <td>150043</td>\n",
       "      <td>4</td>\n",
       "      <td>$4,000.00</td>\n",
       "    </tr>\n",
       "    <tr>\n",
       "      <th>1</th>\n",
       "      <td>Honda</td>\n",
       "      <td>Red</td>\n",
       "      <td>87899</td>\n",
       "      <td>4</td>\n",
       "      <td>$5,000.00</td>\n",
       "    </tr>\n",
       "    <tr>\n",
       "      <th>2</th>\n",
       "      <td>Toyota</td>\n",
       "      <td>Blue</td>\n",
       "      <td>32549</td>\n",
       "      <td>3</td>\n",
       "      <td>$7,000.00</td>\n",
       "    </tr>\n",
       "    <tr>\n",
       "      <th>3</th>\n",
       "      <td>BMW</td>\n",
       "      <td>Black</td>\n",
       "      <td>11179</td>\n",
       "      <td>5</td>\n",
       "      <td>$22,000.00</td>\n",
       "    </tr>\n",
       "    <tr>\n",
       "      <th>4</th>\n",
       "      <td>Nissan</td>\n",
       "      <td>White</td>\n",
       "      <td>213095</td>\n",
       "      <td>4</td>\n",
       "      <td>$3,500.00</td>\n",
       "    </tr>\n",
       "    <tr>\n",
       "      <th>5</th>\n",
       "      <td>Toyota</td>\n",
       "      <td>Green</td>\n",
       "      <td>99213</td>\n",
       "      <td>4</td>\n",
       "      <td>$4,500.00</td>\n",
       "    </tr>\n",
       "    <tr>\n",
       "      <th>6</th>\n",
       "      <td>Honda</td>\n",
       "      <td>Blue</td>\n",
       "      <td>45698</td>\n",
       "      <td>4</td>\n",
       "      <td>$7,500.00</td>\n",
       "    </tr>\n",
       "  </tbody>\n",
       "</table>\n",
       "</div>"
      ],
      "text/plain": [
       "     Make Colour  Odometer (KM)  Doors       Price\n",
       "0  Toyota  White         150043      4   $4,000.00\n",
       "1   Honda    Red          87899      4   $5,000.00\n",
       "2  Toyota   Blue          32549      3   $7,000.00\n",
       "3     BMW  Black          11179      5  $22,000.00\n",
       "4  Nissan  White         213095      4   $3,500.00\n",
       "5  Toyota  Green          99213      4   $4,500.00\n",
       "6   Honda   Blue          45698      4   $7,500.00"
      ]
     },
     "execution_count": 27,
     "metadata": {},
     "output_type": "execute_result"
    }
   ],
   "source": [
    "# Show the first 7 rows of car_sales\n",
    "car_sales.head(7)"
   ]
  },
  {
   "cell_type": "code",
   "execution_count": 28,
   "id": "8c55413a-46c3-4b88-aa20-40e79f6cd369",
   "metadata": {},
   "outputs": [
    {
     "data": {
      "text/html": [
       "<div>\n",
       "<style scoped>\n",
       "    .dataframe tbody tr th:only-of-type {\n",
       "        vertical-align: middle;\n",
       "    }\n",
       "\n",
       "    .dataframe tbody tr th {\n",
       "        vertical-align: top;\n",
       "    }\n",
       "\n",
       "    .dataframe thead th {\n",
       "        text-align: right;\n",
       "    }\n",
       "</style>\n",
       "<table border=\"1\" class=\"dataframe\">\n",
       "  <thead>\n",
       "    <tr style=\"text-align: right;\">\n",
       "      <th></th>\n",
       "      <th>Make</th>\n",
       "      <th>Colour</th>\n",
       "      <th>Odometer (KM)</th>\n",
       "      <th>Doors</th>\n",
       "      <th>Price</th>\n",
       "    </tr>\n",
       "  </thead>\n",
       "  <tbody>\n",
       "    <tr>\n",
       "      <th>5</th>\n",
       "      <td>Toyota</td>\n",
       "      <td>Green</td>\n",
       "      <td>99213</td>\n",
       "      <td>4</td>\n",
       "      <td>$4,500.00</td>\n",
       "    </tr>\n",
       "    <tr>\n",
       "      <th>6</th>\n",
       "      <td>Honda</td>\n",
       "      <td>Blue</td>\n",
       "      <td>45698</td>\n",
       "      <td>4</td>\n",
       "      <td>$7,500.00</td>\n",
       "    </tr>\n",
       "    <tr>\n",
       "      <th>7</th>\n",
       "      <td>Honda</td>\n",
       "      <td>Blue</td>\n",
       "      <td>54738</td>\n",
       "      <td>4</td>\n",
       "      <td>$7,000.00</td>\n",
       "    </tr>\n",
       "    <tr>\n",
       "      <th>8</th>\n",
       "      <td>Toyota</td>\n",
       "      <td>White</td>\n",
       "      <td>60000</td>\n",
       "      <td>4</td>\n",
       "      <td>$6,250.00</td>\n",
       "    </tr>\n",
       "    <tr>\n",
       "      <th>9</th>\n",
       "      <td>Nissan</td>\n",
       "      <td>White</td>\n",
       "      <td>31600</td>\n",
       "      <td>4</td>\n",
       "      <td>$9,700.00</td>\n",
       "    </tr>\n",
       "  </tbody>\n",
       "</table>\n",
       "</div>"
      ],
      "text/plain": [
       "     Make Colour  Odometer (KM)  Doors      Price\n",
       "5  Toyota  Green          99213      4  $4,500.00\n",
       "6   Honda   Blue          45698      4  $7,500.00\n",
       "7   Honda   Blue          54738      4  $7,000.00\n",
       "8  Toyota  White          60000      4  $6,250.00\n",
       "9  Nissan  White          31600      4  $9,700.00"
      ]
     },
     "execution_count": 28,
     "metadata": {},
     "output_type": "execute_result"
    }
   ],
   "source": [
    "# Show the last 5 rows of car_sales\n",
    "car_sales.tail()"
   ]
  },
  {
   "cell_type": "markdown",
   "id": "39624747-5b58-4688-9205-1e88ca573541",
   "metadata": {},
   "source": [
    "`.tail()` allows you to see the bottom 5 rows of your `DataFrame`. This is helpful if your changes are influencing the bottom rows of your data.\n",
    "\n",
    "Similarly, you can pass .tail() an integer to display more than or less than 5 rows."
   ]
  },
  {
   "cell_type": "code",
   "execution_count": 29,
   "id": "01e1cfeb-ee53-4613-b5bf-0c436d5b2c69",
   "metadata": {},
   "outputs": [
    {
     "data": {
      "text/html": [
       "<div>\n",
       "<style scoped>\n",
       "    .dataframe tbody tr th:only-of-type {\n",
       "        vertical-align: middle;\n",
       "    }\n",
       "\n",
       "    .dataframe tbody tr th {\n",
       "        vertical-align: top;\n",
       "    }\n",
       "\n",
       "    .dataframe thead th {\n",
       "        text-align: right;\n",
       "    }\n",
       "</style>\n",
       "<table border=\"1\" class=\"dataframe\">\n",
       "  <thead>\n",
       "    <tr style=\"text-align: right;\">\n",
       "      <th></th>\n",
       "      <th>Make</th>\n",
       "      <th>Colour</th>\n",
       "      <th>Odometer (KM)</th>\n",
       "      <th>Doors</th>\n",
       "      <th>Price</th>\n",
       "    </tr>\n",
       "  </thead>\n",
       "  <tbody>\n",
       "    <tr>\n",
       "      <th>7</th>\n",
       "      <td>Honda</td>\n",
       "      <td>Blue</td>\n",
       "      <td>54738</td>\n",
       "      <td>4</td>\n",
       "      <td>$7,000.00</td>\n",
       "    </tr>\n",
       "    <tr>\n",
       "      <th>8</th>\n",
       "      <td>Toyota</td>\n",
       "      <td>White</td>\n",
       "      <td>60000</td>\n",
       "      <td>4</td>\n",
       "      <td>$6,250.00</td>\n",
       "    </tr>\n",
       "    <tr>\n",
       "      <th>9</th>\n",
       "      <td>Nissan</td>\n",
       "      <td>White</td>\n",
       "      <td>31600</td>\n",
       "      <td>4</td>\n",
       "      <td>$9,700.00</td>\n",
       "    </tr>\n",
       "  </tbody>\n",
       "</table>\n",
       "</div>"
      ],
      "text/plain": [
       "     Make Colour  Odometer (KM)  Doors      Price\n",
       "7   Honda   Blue          54738      4  $7,000.00\n",
       "8  Toyota  White          60000      4  $6,250.00\n",
       "9  Nissan  White          31600      4  $9,700.00"
      ]
     },
     "execution_count": 29,
     "metadata": {},
     "output_type": "execute_result"
    }
   ],
   "source": [
    "# show last 7 rows\n",
    "car_sales.tail(3)"
   ]
  },
  {
   "cell_type": "markdown",
   "id": "ce51e646-8b3f-4bec-92e5-02b8a876bb8e",
   "metadata": {},
   "source": [
    "You can use `.loc[]` and `.iloc[]` to select data from your `Series` and `DataFrame`'s.\n",
    "\n",
    "Let's see."
   ]
  },
  {
   "cell_type": "code",
   "execution_count": 30,
   "id": "73a536c8-c40a-405b-9b67-b2727f43e5b7",
   "metadata": {},
   "outputs": [
    {
     "data": {
      "text/plain": [
       "0       Cat\n",
       "3       Dog\n",
       "9      Bird\n",
       "8     Snake\n",
       "67       Ox\n",
       "3      Lion\n",
       "dtype: object"
      ]
     },
     "execution_count": 30,
     "metadata": {},
     "output_type": "execute_result"
    }
   ],
   "source": [
    "animals = pd.Series([\"Cat\", \"Dog\", \"Bird\", \"Snake\", \"Ox\", \"Lion\"], \n",
    "                   index = [0,3,9,8,67,3])\n",
    "animals"
   ]
  },
  {
   "cell_type": "markdown",
   "id": "bf9e3d00-8684-47ef-a01f-d46951e46382",
   "metadata": {},
   "source": [
    "[`.loc[]`](https://pandas.pydata.org/docs/reference/api/pandas.DataFrame.loc.html) takes an integer or label as input. And it chooses from your `Series` or `DataFrame` whichever index matches the number."
   ]
  },
  {
   "cell_type": "code",
   "execution_count": 31,
   "id": "b7fa3509-a344-4389-adc7-324ce13ba03f",
   "metadata": {},
   "outputs": [
    {
     "data": {
      "text/plain": [
       "3     Dog\n",
       "3    Lion\n",
       "dtype: object"
      ]
     },
     "execution_count": 31,
     "metadata": {},
     "output_type": "execute_result"
    }
   ],
   "source": [
    "animals.loc[3]"
   ]
  },
  {
   "cell_type": "code",
   "execution_count": 32,
   "id": "15bf270a-50e5-4264-a488-9f28df01edda",
   "metadata": {},
   "outputs": [
    {
     "data": {
      "text/plain": [
       "'Bird'"
      ]
     },
     "execution_count": 32,
     "metadata": {},
     "output_type": "execute_result"
    }
   ],
   "source": [
    "animals.loc[9]"
   ]
  },
  {
   "cell_type": "markdown",
   "id": "addb0d5d-40a5-45d2-b081-6eeb810ec33f",
   "metadata": {},
   "source": [
    "Let's try with our `car_sales` DataFrame."
   ]
  },
  {
   "cell_type": "code",
   "execution_count": 33,
   "id": "3f09dc6e-d698-4a84-958c-f2c0724effff",
   "metadata": {},
   "outputs": [
    {
     "data": {
      "text/plain": [
       "Make                    BMW\n",
       "Colour                Black\n",
       "Odometer (KM)         11179\n",
       "Doors                     5\n",
       "Price            $22,000.00\n",
       "Name: 3, dtype: object"
      ]
     },
     "execution_count": 33,
     "metadata": {},
     "output_type": "execute_result"
    }
   ],
   "source": [
    "# select row at index 3\n",
    "car_sales.loc[3]"
   ]
  },
  {
   "cell_type": "markdown",
   "id": "f025bfb9-7e37-4888-a3cc-26058837bf73",
   "metadata": {},
   "source": [
    "[`iloc[]`](https://pandas.pydata.org/docs/reference/api/pandas.DataFrame.iloc.html) does a similar thing but works with exact positions.\n"
   ]
  },
  {
   "cell_type": "code",
   "execution_count": 34,
   "id": "f319b5ca-7091-4c9d-b9f5-decbf41370da",
   "metadata": {},
   "outputs": [
    {
     "data": {
      "text/plain": [
       "'Snake'"
      ]
     },
     "execution_count": 34,
     "metadata": {},
     "output_type": "execute_result"
    }
   ],
   "source": [
    "animals.iloc[3]"
   ]
  },
  {
   "cell_type": "markdown",
   "id": "666d4fac-cf63-4224-bb01-1690613cb8b9",
   "metadata": {},
   "source": [
    "Even though `'snake'` appears at index 8 in the series, it's shown using `.iloc[3]` because it's at the 3rd (starting from 0) position.\n",
    "\n",
    "Let's try with the `car_sales` `DataFrame`."
   ]
  },
  {
   "cell_type": "code",
   "execution_count": 35,
   "id": "e9b4a4b9-3387-4bd5-9969-fd0003f17dd0",
   "metadata": {},
   "outputs": [
    {
     "data": {
      "text/plain": [
       "Make                    BMW\n",
       "Colour                Black\n",
       "Odometer (KM)         11179\n",
       "Doors                     5\n",
       "Price            $22,000.00\n",
       "Name: 3, dtype: object"
      ]
     },
     "execution_count": 35,
     "metadata": {},
     "output_type": "execute_result"
    }
   ],
   "source": [
    "# select row at index 3\n",
    "car_sales.iloc[3]"
   ]
  },
  {
   "cell_type": "markdown",
   "id": "4a78cd67-0da8-4113-bfad-c1e7ba0b3398",
   "metadata": {},
   "source": [
    "You can see it's the same as `.loc[]` because the index is in order, position 3 is the same as index 3.\n",
    "\n",
    "You can also use slicing with `.loc[]` and `.iloc[]`."
   ]
  },
  {
   "cell_type": "code",
   "execution_count": 36,
   "id": "3587dae6-0b46-47e3-a07a-46f3be3779a8",
   "metadata": {},
   "outputs": [
    {
     "data": {
      "text/html": [
       "<div>\n",
       "<style scoped>\n",
       "    .dataframe tbody tr th:only-of-type {\n",
       "        vertical-align: middle;\n",
       "    }\n",
       "\n",
       "    .dataframe tbody tr th {\n",
       "        vertical-align: top;\n",
       "    }\n",
       "\n",
       "    .dataframe thead th {\n",
       "        text-align: right;\n",
       "    }\n",
       "</style>\n",
       "<table border=\"1\" class=\"dataframe\">\n",
       "  <thead>\n",
       "    <tr style=\"text-align: right;\">\n",
       "      <th></th>\n",
       "      <th>Make</th>\n",
       "      <th>Colour</th>\n",
       "      <th>Odometer (KM)</th>\n",
       "      <th>Doors</th>\n",
       "      <th>Price</th>\n",
       "    </tr>\n",
       "  </thead>\n",
       "  <tbody>\n",
       "    <tr>\n",
       "      <th>0</th>\n",
       "      <td>Toyota</td>\n",
       "      <td>White</td>\n",
       "      <td>150043</td>\n",
       "      <td>4</td>\n",
       "      <td>$4,000.00</td>\n",
       "    </tr>\n",
       "    <tr>\n",
       "      <th>1</th>\n",
       "      <td>Honda</td>\n",
       "      <td>Red</td>\n",
       "      <td>87899</td>\n",
       "      <td>4</td>\n",
       "      <td>$5,000.00</td>\n",
       "    </tr>\n",
       "    <tr>\n",
       "      <th>2</th>\n",
       "      <td>Toyota</td>\n",
       "      <td>Blue</td>\n",
       "      <td>32549</td>\n",
       "      <td>3</td>\n",
       "      <td>$7,000.00</td>\n",
       "    </tr>\n",
       "  </tbody>\n",
       "</table>\n",
       "</div>"
      ],
      "text/plain": [
       "     Make Colour  Odometer (KM)  Doors      Price\n",
       "0  Toyota  White         150043      4  $4,000.00\n",
       "1   Honda    Red          87899      4  $5,000.00\n",
       "2  Toyota   Blue          32549      3  $7,000.00"
      ]
     },
     "execution_count": 36,
     "metadata": {},
     "output_type": "execute_result"
    }
   ],
   "source": [
    "# get all rows upto position 3\n",
    "car_sales.iloc[:3]"
   ]
  },
  {
   "cell_type": "code",
   "execution_count": 37,
   "id": "cd873883-4a4a-4b18-bc5e-37b6f5077a16",
   "metadata": {},
   "outputs": [
    {
     "data": {
      "text/html": [
       "<div>\n",
       "<style scoped>\n",
       "    .dataframe tbody tr th:only-of-type {\n",
       "        vertical-align: middle;\n",
       "    }\n",
       "\n",
       "    .dataframe tbody tr th {\n",
       "        vertical-align: top;\n",
       "    }\n",
       "\n",
       "    .dataframe thead th {\n",
       "        text-align: right;\n",
       "    }\n",
       "</style>\n",
       "<table border=\"1\" class=\"dataframe\">\n",
       "  <thead>\n",
       "    <tr style=\"text-align: right;\">\n",
       "      <th></th>\n",
       "      <th>Make</th>\n",
       "      <th>Colour</th>\n",
       "      <th>Odometer (KM)</th>\n",
       "      <th>Doors</th>\n",
       "      <th>Price</th>\n",
       "    </tr>\n",
       "  </thead>\n",
       "  <tbody>\n",
       "    <tr>\n",
       "      <th>0</th>\n",
       "      <td>Toyota</td>\n",
       "      <td>White</td>\n",
       "      <td>150043</td>\n",
       "      <td>4</td>\n",
       "      <td>$4,000.00</td>\n",
       "    </tr>\n",
       "    <tr>\n",
       "      <th>1</th>\n",
       "      <td>Honda</td>\n",
       "      <td>Red</td>\n",
       "      <td>87899</td>\n",
       "      <td>4</td>\n",
       "      <td>$5,000.00</td>\n",
       "    </tr>\n",
       "    <tr>\n",
       "      <th>2</th>\n",
       "      <td>Toyota</td>\n",
       "      <td>Blue</td>\n",
       "      <td>32549</td>\n",
       "      <td>3</td>\n",
       "      <td>$7,000.00</td>\n",
       "    </tr>\n",
       "    <tr>\n",
       "      <th>3</th>\n",
       "      <td>BMW</td>\n",
       "      <td>Black</td>\n",
       "      <td>11179</td>\n",
       "      <td>5</td>\n",
       "      <td>$22,000.00</td>\n",
       "    </tr>\n",
       "  </tbody>\n",
       "</table>\n",
       "</div>"
      ],
      "text/plain": [
       "     Make Colour  Odometer (KM)  Doors       Price\n",
       "0  Toyota  White         150043      4   $4,000.00\n",
       "1   Honda    Red          87899      4   $5,000.00\n",
       "2  Toyota   Blue          32549      3   $7,000.00\n",
       "3     BMW  Black          11179      5  $22,000.00"
      ]
     },
     "execution_count": 37,
     "metadata": {},
     "output_type": "execute_result"
    }
   ],
   "source": [
    "# get all rows upto (and including) position 3\n",
    "car_sales.loc[:3]"
   ]
  },
  {
   "cell_type": "code",
   "execution_count": 38,
   "id": "7655177d-4c05-4857-982b-e683d1bfa0b9",
   "metadata": {},
   "outputs": [
    {
     "data": {
      "text/plain": [
       "0    White\n",
       "1      Red\n",
       "2     Blue\n",
       "3    Black\n",
       "4    White\n",
       "5    Green\n",
       "6     Blue\n",
       "7     Blue\n",
       "8    White\n",
       "9    White\n",
       "Name: Colour, dtype: object"
      ]
     },
     "execution_count": 38,
     "metadata": {},
     "output_type": "execute_result"
    }
   ],
   "source": [
    "# get all rows of \"Colour\" column\n",
    "car_sales.loc[:, \"Colour\"] # note: \":\" stands for \"all\", e.g. \"all indices in the first axis\""
   ]
  },
  {
   "cell_type": "markdown",
   "id": "0ccaecce-3f60-4570-ad09-c8bc63ae15c0",
   "metadata": {},
   "source": [
    "When should you use `.loc[]` or `.iloc[]`?\n",
    "* Use `.loc[]` when you're selecting rows and columns **based on their lables or a condition** (e.g. retrieving data for specific columns).\n",
    "* Use `.iloc[]` when you're selecting rows and columns **based on their integer index positions** (e.g. extracting the first ten rows regardless of the labels).\n",
    "\n",
    "However, in saying this, it will often take a bit of practice with each of the methods before you figure out which you'd like to use."
   ]
  },
  {
   "cell_type": "markdown",
   "id": "466f5ccf-1e01-46b6-a982-7c201fb1ef3d",
   "metadata": {},
   "source": [
    "If you want to select a particular column, you can use `DataFrame.['COLUMN_NAME']`."
   ]
  },
  {
   "cell_type": "code",
   "execution_count": null,
   "id": "a582f0fc-df03-4b61-978f-e3f9e56fba3c",
   "metadata": {},
   "outputs": [],
   "source": [
    "car_sales[\"Make\"]"
   ]
  },
  {
   "cell_type": "code",
   "execution_count": null,
   "id": "10c6f756-6640-4dcd-a0e6-d495733ca3c8",
   "metadata": {},
   "outputs": [],
   "source": [
    "car_sales[\"Colour\"]"
   ]
  },
  {
   "cell_type": "markdown",
   "id": "5a4cd20d-faa6-420b-942e-21b66c57a4e3",
   "metadata": {},
   "source": [
    "Boolean indexing works with column selection too. Using it will select the rows which fulfill the condition in the brackets."
   ]
  },
  {
   "cell_type": "code",
   "execution_count": null,
   "id": "df9a58ef-e7b1-4380-8bd2-302fb6a33234",
   "metadata": {},
   "outputs": [],
   "source": [
    "# selecting cars with over 1000,000 on the Odometer\n",
    "car_sales[car_sales[\"Odometer (KM)\"]>100000]"
   ]
  },
  {
   "cell_type": "code",
   "execution_count": null,
   "id": "c7c17ac8-5dbb-4c8e-bc01-951427e3addb",
   "metadata": {},
   "outputs": [],
   "source": [
    "# selecting cars made by Toyota\n",
    "car_sales[car_sales[\"Make\"]==\"Toyota\"]"
   ]
  },
  {
   "cell_type": "markdown",
   "id": "84d988e7-3dc0-4810-a02f-764124b56901",
   "metadata": {},
   "source": [
    "pandas even allows for quick plotting of columns so you can see your data visualling. To plot, you'll have to import `matplotlib`. If your plots aren't showing, try running the two lines of code below.\n",
    "\n",
    "`%matplotlib inline` is a special command which tells Jupyter to show your plots. Commands with `%` at the front are called magic commands."
   ]
  },
  {
   "cell_type": "code",
   "execution_count": null,
   "id": "a028ec80-49f6-4521-a39b-87229f4bc223",
   "metadata": {},
   "outputs": [],
   "source": [
    "# imprt matplotliba nd use it to plot\n",
    "import matplotlib.pyplot as plt\n",
    "%matplotlib inline"
   ]
  },
  {
   "cell_type": "markdown",
   "id": "a339153a-5e4d-48ef-865f-7edcb011059e",
   "metadata": {},
   "source": [
    "You can visualize a column by calling .plot() on it."
   ]
  },
  {
   "cell_type": "code",
   "execution_count": null,
   "id": "6ca47384-b155-45ae-8538-a4b6bcd5c214",
   "metadata": {},
   "outputs": [],
   "source": [
    "car_sales[\"Odometer (KM)\"].plot(); \n",
    "# tip: the \";\" on the end prevents matplotlib from outputing the plot class"
   ]
  },
  {
   "cell_type": "markdown",
   "id": "5209d850-66e8-491f-b933-5d49c5745631",
   "metadata": {},
   "source": [
    "Or compare two columns by passing them as `x` and `y` to `plot()`."
   ]
  },
  {
   "cell_type": "code",
   "execution_count": null,
   "id": "e85375d6-1407-48d1-9865-a2e41e6d8ef7",
   "metadata": {},
   "outputs": [],
   "source": [
    "car_sales.plot(x=\"Make\", y=\"Odometer (KM)\"); "
   ]
  },
  {
   "cell_type": "markdown",
   "id": "314c854c-f7c4-443d-a3be-60e43e380447",
   "metadata": {},
   "source": [
    "You can see the distribution of a column by calling `.hist()` on you.\n",
    "\n",
    "The distribution of something is a way of describing the spread of different values."
   ]
  },
  {
   "cell_type": "code",
   "execution_count": null,
   "id": "1212857e-3bd5-4260-a931-a97dd78ef050",
   "metadata": {},
   "outputs": [],
   "source": [
    "car_sales[\"Odometer (KM)\"].hist()"
   ]
  },
  {
   "cell_type": "markdown",
   "id": "50f21b7d-b24f-4842-aae9-354e2f45b707",
   "metadata": {},
   "source": [
    "In this case, the majority of the **distribution** (spread) of the `\"Odometer (KM)\"` column is more towards the left of the graph. And there are two values which are more to the right. These two values to the right could be considered **outliers** (not part of the majority).\n",
    "\n",
    "what if we wanted to plot our `\"Price\"` column?\n",
    "ans: \n",
    "Trying to run it leaves us with an error. This is because the `\"Price\"` column of `car_sales` isn't in numeric form. We can tell this because of the `TypeError: no numeric data to plot` at the bottom of the cell.\n",
    "\n",
    "We can check this with `.info()`."
   ]
  },
  {
   "cell_type": "code",
   "execution_count": null,
   "id": "57eff8d7-e623-49ed-813f-c0f04df4b8f4",
   "metadata": {},
   "outputs": [],
   "source": [
    "car_sales[\"Price\"].plot()"
   ]
  },
  {
   "cell_type": "code",
   "execution_count": null,
   "id": "b642df4d-7b20-4ab1-94e8-8cd706071cdc",
   "metadata": {},
   "outputs": [],
   "source": [
    "car_sales.info()"
   ]
  },
  {
   "cell_type": "markdown",
   "id": "f47a8e61-dfcb-4771-a44b-b86e3546be92",
   "metadata": {},
   "source": [
    "to be able to plot the `\"Price\"` column,\n",
    "We need to convert the `\"Price\"` column to a numeric type."
   ]
  },
  {
   "cell_type": "code",
   "execution_count": null,
   "id": "a1c55fac-eb71-4ce8-b09e-1faaf9f888f3",
   "metadata": {},
   "outputs": [],
   "source": [
    "car_sales"
   ]
  },
  {
   "cell_type": "code",
   "execution_count": null,
   "id": "13646ae2-5bf3-4a9e-87ef-c053e84ec9c2",
   "metadata": {},
   "outputs": [],
   "source": [
    "# change price column to integers\n",
    "car_sales[\"Price\"] = car_sales[\"Price\"].str.replace('[\\$\\,\\.]', '', regex=True)\n",
    "car_sales"
   ]
  },
  {
   "cell_type": "markdown",
   "id": "40bb056f-9ccb-466f-ad06-3a841271fda9",
   "metadata": {},
   "source": [
    "Cool! but there are extra zeros in the `Price` column.\n",
    "\n",
    "Let's remove it."
   ]
  },
  {
   "cell_type": "code",
   "execution_count": null,
   "id": "d806fd0d-f5ec-4323-9713-dbe81ddac7a6",
   "metadata": {},
   "outputs": [],
   "source": [
    "# remove 2 extra 0s from the Price comlumn by indexing all but teh last 2 digits\n",
    "car_sales[\"Price\"] = car_sales[\"Price\"].str[:-2].astype(int)\n",
    "car_sales"
   ]
  },
  {
   "cell_type": "code",
   "execution_count": null,
   "id": "8ede5766-769d-4158-875a-70470e6abd12",
   "metadata": {},
   "outputs": [],
   "source": [
    "car_sales.dtypes"
   ]
  },
  {
   "cell_type": "code",
   "execution_count": null,
   "id": "f9ac0416-229b-40f1-8424-bc14781bc81c",
   "metadata": {},
   "outputs": [],
   "source": [
    "car_sales[\"Price\"].hist();"
   ]
  },
  {
   "cell_type": "markdown",
   "id": "a69900bb-2c60-4fba-8c6a-1d91418c688c",
   "metadata": {},
   "source": [
    "## This is one of the many ways you can manipulate data using pandas. \n",
    "\n",
    "When you see a number of different functions in a row, it's referred to as **chaining**. This means you add together a series of functions all to do one overall task.\n",
    "\n",
    "Now that we have it all settled, let's call .hist() on entire of car_sales which will show the distribution fo all the numerical columns of the car_sales DataFrame"
   ]
  },
  {
   "cell_type": "code",
   "execution_count": null,
   "id": "f62e0a13-eac5-4691-ad80-a72046e13dd9",
   "metadata": {},
   "outputs": [],
   "source": [
    "car_sales.hist();"
   ]
  },
  {
   "cell_type": "markdown",
   "id": "626f0e3e-1244-427f-bf38-e56cb1507e01",
   "metadata": {},
   "source": [
    "`pd.crosstab()` is a great way to view two different columns together and compare them."
   ]
  },
  {
   "cell_type": "code",
   "execution_count": null,
   "id": "a7ffa624-61a0-44ff-a393-9b29250b5cd9",
   "metadata": {},
   "outputs": [],
   "source": [
    "# compare car make with number of doors\n",
    "pd.crosstab(car_sales[\"Make\"], car_sales[\"Doors\"])"
   ]
  },
  {
   "cell_type": "markdown",
   "id": "b94de8d8-ff16-4b10-9de5-0235d5fc97bd",
   "metadata": {},
   "source": [
    "If you want to compare more columns in the context of another column, you can use `.groupby()`."
   ]
  },
  {
   "cell_type": "code",
   "execution_count": null,
   "id": "3f716d46-8971-477d-91f3-3fb89efa55b8",
   "metadata": {},
   "outputs": [],
   "source": [
    "car_sales.groupby([\"Make\"]).mean(numeric_only = True)"
   ]
  },
  {
   "cell_type": "markdown",
   "id": "2aa83f19-96fe-47dc-a12b-643cfa1c1aac",
   "metadata": {},
   "source": [
    "## 6. Manipulating data\n",
    "\n",
    "You've seen an example of one way to manipulate data but pandas has many more. \n",
    "\n",
    "How many more? \n",
    "\n",
    "Put it this way, if you can imagine it, chances are, pandas can do it.\n",
    "\n",
    "Let's start with string methods. Because pandas is based on Python, however you can manipulate strings in Python, you can do the same in pandas.\n",
    "\n",
    "You can access the string value of a column using `.str`. Knowing this, how do you think you'd set a column to lowercase?"
   ]
  },
  {
   "cell_type": "code",
   "execution_count": null,
   "id": "96656731-754c-4992-8e6b-d96e3d1cfb74",
   "metadata": {},
   "outputs": [],
   "source": [
    "# lower the make column\n",
    "car_sales[\"Make\"].str.lower()"
   ]
  },
  {
   "cell_type": "markdown",
   "id": "c593ab26-ae2d-4e60-b09a-b85ab4b5a60f",
   "metadata": {},
   "source": [
    "Notice how it doesn't change the values of the original `car_sales` `DataFrame` unless we set it equal to."
   ]
  },
  {
   "cell_type": "code",
   "execution_count": null,
   "id": "25625392-01f3-4fe5-93c0-2561befb5ba3",
   "metadata": {},
   "outputs": [],
   "source": [
    "# view top 5 rows, Make column not lowered\n",
    "car_sales.head()"
   ]
  },
  {
   "cell_type": "code",
   "execution_count": null,
   "id": "99c7bbc0-9abb-475f-a315-8337f4c6db33",
   "metadata": {},
   "outputs": [],
   "source": [
    "# set Make column to be lowered\n",
    "car_sales[\"Make\"] = car_sales[\"Make\"].str.lower()\n",
    "car_sales.head()"
   ]
  },
  {
   "cell_type": "markdown",
   "id": "c789fe17-fc30-442e-be1f-37695a8c20fb",
   "metadata": {},
   "source": [
    "Reassigning the column changes it in the original `DataFrame`. This trend occurs throughout all kinds of data manipulation with pandas.\n",
    "\n",
    "Some functions have a parameter called `inplace` which means a `DataFrame` is updated in place without having to reassign it.\n",
    "\n",
    "Let's see what it looks like in combination with `.fillna()`, a function which fills missing data. But the thing is, our table isn't missing any data.\n",
    "\n",
    "In practice, it's likely you'll work with datasets which aren't complete. What this means is you'll have to decide whether how to fill the missing data or remove the rows which have data missing.\n",
    "\n",
    "Let's check out what a version of our `car_sales` `DataFrame` might look like with missing values."
   ]
  },
  {
   "cell_type": "code",
   "execution_count": null,
   "id": "53a3e830-c998-42ad-b15d-f7371b1b7d85",
   "metadata": {},
   "outputs": [],
   "source": [
    "car_sales_missing = pd.read_csv(\"./car-sales-missing-data.csv\")\n",
    "car_sales_missing"
   ]
  },
  {
   "cell_type": "markdown",
   "id": "ec2fc3b7-7055-410d-87df-cd8f38ad111f",
   "metadata": {},
   "source": [
    "Missing values are shown by `NaN` in pandas. This can be considered the equivalent of `None` in Python.\n",
    "\n",
    "Let's use the [`.fillna()`](https://pandas.pydata.org/docs/reference/api/pandas.DataFrame.fillna.html) function to fill the `Odometer` column with the average of the other values in the same column."
   ]
  },
  {
   "cell_type": "code",
   "execution_count": null,
   "id": "7fe5ac13-fd4b-4773-9a72-8168470cee14",
   "metadata": {},
   "outputs": [],
   "source": [
    "# fill Odometer column missing values with mean.\n",
    "car_sales_missing[\"Odometer\"].fillna(car_sales_missing[\"Odometer\"].mean(), inplace=False) # inplace is set to False by default "
   ]
  },
  {
   "cell_type": "markdown",
   "id": "78bb0935-1303-4283-9656-28e47d016c0d",
   "metadata": {},
   "source": [
    "Now let's check the original `car_sales_missing` `DataFrame`."
   ]
  },
  {
   "cell_type": "code",
   "execution_count": null,
   "id": "3f7f9e02-5402-45ef-ae73-7e6333d5eff6",
   "metadata": {},
   "outputs": [],
   "source": [
    "car_sales_missing"
   ]
  },
  {
   "cell_type": "code",
   "execution_count": null,
   "id": "5ba3373b-e289-49ba-8d92-39897b6b7dcb",
   "metadata": {},
   "outputs": [],
   "source": [
    "# fill Odometer column missing values with mean.\n",
    "car_sales_missing[\"Odometer\"].fillna(car_sales_missing[\"Odometer\"].mean(), inplace=True) "
   ]
  },
  {
   "cell_type": "markdown",
   "id": "275d8a24-5d3e-4730-82db-f364a35a3dd1",
   "metadata": {},
   "source": [
    "Now let's check the `car_sales_missing` `DataFrame` again."
   ]
  },
  {
   "cell_type": "code",
   "execution_count": null,
   "id": "fdf3130c-bf0d-497c-b993-a54872fa42df",
   "metadata": {},
   "outputs": [],
   "source": [
    "car_sales_missing"
   ]
  },
  {
   "cell_type": "markdown",
   "id": "fa31cf57-4386-4730-8b2d-5168b9f338c6",
   "metadata": {},
   "source": [
    "The missing values in the `Odometer` column have been filled with the mean value of the same column.\n",
    "\n",
    "In practice, you might not want to fill a column's missing values with the mean, but this example was to show the difference between `inplace=False` (default) and `inplace=True`.\n",
    "\n",
    "Whichever you choose to use will depend on how you structure your code. \n",
    "\n",
    "All you have to remember is `inplace=False` returns a copy of the `DataFrame` you're working with.\n",
    "\n",
    "This is helpful if you want to make a duplicate of your current `DataFrame` and save it to another variable.\n",
    "\n",
    "Where as, `inplace=True` makes all the changes directly to the target `DataFrame`. \n",
    "\n",
    "We've filled some values but there's still missing values in `car_sales_missing`. Let's say you wanted to remove any rows which had missing data and only work with rows which had complete coverage.\n",
    "\n",
    "You can do this using [`.dropna()`](https://pandas.pydata.org/docs/reference/api/pandas.DataFrame.dropna.html)."
   ]
  },
  {
   "cell_type": "code",
   "execution_count": null,
   "id": "35fc4129-0606-4b0b-9a56-cadf661e5428",
   "metadata": {},
   "outputs": [],
   "source": [
    "# remove missing data\n",
    "car_sales_missing.dropna()"
   ]
  },
  {
   "cell_type": "markdown",
   "id": "061edcb4-bdd5-4af9-8fca-5f32136193e6",
   "metadata": {},
   "source": [
    "It appears the rows with missing values have been removed, now let's check to make sure."
   ]
  },
  {
   "cell_type": "code",
   "execution_count": null,
   "id": "674dde89-b952-4321-90b5-877c035b65ff",
   "metadata": {},
   "outputs": [],
   "source": [
    "car_sales_missing"
   ]
  },
  {
   "cell_type": "markdown",
   "id": "32ef257e-5232-4163-8f4d-6bb6c4f69809",
   "metadata": {},
   "source": [
    "Hmm, they're still there, can you guess why?\n",
    "\n",
    "It's because `.dropna()` has `inplace=False` as default. We can either set `inplace=True` or reassign the `car_sales_missing` `DataFrame`."
   ]
  },
  {
   "cell_type": "code",
   "execution_count": null,
   "id": "921c444f-808e-4390-bdd3-917245042f53",
   "metadata": {},
   "outputs": [],
   "source": [
    "car_sales_missing = car_sales_missing.dropna()\n",
    "# or\n",
    "car_sales_missing.dropna(inplace=True)"
   ]
  },
  {
   "cell_type": "code",
   "execution_count": null,
   "id": "910637c3-5817-439d-bf90-dd5a46b9ecae",
   "metadata": {},
   "outputs": [],
   "source": [
    "car_sales_missing"
   ]
  },
  {
   "cell_type": "markdown",
   "id": "af11b99d-9a27-4508-894a-e9f58de2b2ed",
   "metadata": {},
   "source": [
    "Instead of removing or filling data, what if you wanted to create it?\n",
    "\n",
    "For example, creating a column called `Seats` for number of seats.\n",
    "\n",
    "pandas allows for simple extra column creation on `DataFrame`'s. \n",
    "\n",
    "Three common ways are: \n",
    "1. Adding a `pandas.Series` as a column.\n",
    "2. Adding a Python list as a column.\n",
    "3. By using existing columns to create a new column."
   ]
  },
  {
   "cell_type": "code",
   "execution_count": null,
   "id": "c2b2af7b-754c-4676-b87c-e93b6ce4df54",
   "metadata": {},
   "outputs": [],
   "source": [
    "# create a column from a pandas Series\n",
    "seats_column = pd.Series([5, 5, 5, 5, 5, 5, 5, 5, 5, 5])\n",
    "car_sales[\"Seats\"] = seats_column\n",
    "car_sales"
   ]
  },
  {
   "cell_type": "markdown",
   "id": "136eb137-5e55-4ff7-9e04-d3653c51bc9d",
   "metadata": {},
   "source": [
    "Creating a column is similar to selecting a column, you pass the target `DataFrame` along with a new column name in brackets."
   ]
  },
  {
   "cell_type": "code",
   "execution_count": null,
   "id": "a2455515-e6b6-4675-adf0-8d3a75d46bc8",
   "metadata": {},
   "outputs": [],
   "source": [
    "# creating a column with a Python list\n",
    "engine_sizes = [1.3, 2.0, 3.0, 4.2, 1.6, 1, 2.0, 2.3, 2.0, 3.0]\n",
    "car_sales[\"Engine Size\"] = engine_sizes\n",
    "car_sales"
   ]
  },
  {
   "cell_type": "markdown",
   "id": "f0d4c46b-d692-4aa0-a4de-546e8749e70b",
   "metadata": {},
   "source": [
    "You can also make a column by directly combining the values of other columns. Such as, price per kilometre on the Odometer."
   ]
  },
  {
   "cell_type": "code",
   "execution_count": null,
   "id": "04534c2e-df83-4480-acae-f4b55508048c",
   "metadata": {},
   "outputs": [],
   "source": [
    "# column from other column\n",
    "car_sales[\"Price per KM\"] = car_sales[\"Price\"] / car_sales[\"Odometer (KM)\"]\n",
    "car_sales"
   ]
  },
  {
   "cell_type": "markdown",
   "id": "3211eec0-d269-4745-9da3-b1458b4514c9",
   "metadata": {},
   "source": [
    "Now can you think why this might not be a great column to add?\n",
    "\n",
    "It could be confusing when a car with less kilometers on the odometer looks to cost more per kilometre than one with more. \n",
    "\n",
    "When buying a car, usually less kilometres on the odometer is better.\n",
    "\n",
    "This kind of column creation is called [**feature engineering**](https://en.wikipedia.org/wiki/Feature_engineering), the practice of enriching your dataset with more information (either from it directly or elsewhere).\n",
    "\n",
    "If `Make`, `Colour`, `Doors` are features of the data, creating `Price per KM` could be another. But in this case, not a very good one.\n",
    "\n",
    "As for column creation, you can also create a new column setting all values to a one standard value."
   ]
  },
  {
   "cell_type": "code",
   "execution_count": null,
   "id": "3839ec6f-bd82-4854-9ec7-c138eb8a2b8a",
   "metadata": {},
   "outputs": [],
   "source": [
    "# create a column witha  single / standard value\n",
    "car_sales[\"Number of wheels\"] = 4\n",
    "car_sales"
   ]
  },
  {
   "cell_type": "code",
   "execution_count": null,
   "id": "d12932c3-7abc-4491-84d5-2e57f2dbeac7",
   "metadata": {},
   "outputs": [],
   "source": [
    "car_sales[\"Passes road safety\"] = True\n",
    "car_sales"
   ]
  },
  {
   "cell_type": "markdown",
   "id": "04756723-5ab9-4d5b-bb11-d81e7573c6bc",
   "metadata": {},
   "source": [
    "Now you've created some columns, you decide to show your colleague what you've done. When they ask about the `Price per KM` column, you tell them you're not really sure why it's there.\n",
    "\n",
    "You decide you better remove it to prevent confusion.\n",
    "\n",
    "You can remove a column using [`.drop('COLUMN_NAME', axis=1)`](https://pandas.pydata.org/docs/reference/api/pandas.DataFrame.drop.html)."
   ]
  },
  {
   "cell_type": "code",
   "execution_count": null,
   "id": "b5fbf5ad-d1e2-42c4-960d-e4ee09da45e5",
   "metadata": {},
   "outputs": [],
   "source": [
    "car_sales = car_sales.drop(\"Price per KM\", axis = 1)\n",
    "car_sales"
   ]
  },
  {
   "cell_type": "markdown",
   "id": "aa0d895b-96fe-4802-a808-60a22843bc87",
   "metadata": {},
   "source": [
    "Why `axis=1`? Because that's the axis columns live on. Rows live on `axis=0`.\n",
    "\n",
    "Let's say you wanted to shuffle the order of your `DataFrame` so you could split it into train, validation and test sets. And even though the order of your samples was random, you wanted to make sure.\n",
    "\n",
    "To do so you could use [`.sample(frac=1)`](https://pandas.pydata.org/docs/reference/api/pandas.DataFrame.sample.html). \n",
    "\n",
    "`.sample()` randomly samples different rows from a `DataFrame`. \n",
    "\n",
    "The `frac` parameter dictates the fraction, where 1 = 100% of rows, 0.5 = 50% of rows, 0.01 = 1% of rows.\n",
    "\n",
    "You can also use `.sample(n=1)` where `n` is the number of rows to sample."
   ]
  },
  {
   "cell_type": "code",
   "execution_count": null,
   "id": "ad3a6516-cb4c-4cfb-9e54-af53ee1ddb4c",
   "metadata": {},
   "outputs": [],
   "source": [
    "car_sales_sampled = car_sales.sample(frac=1)\n",
    "car_sales_sampled"
   ]
  },
  {
   "cell_type": "code",
   "execution_count": null,
   "id": "0ca924ca-7776-438f-95a7-df69177d1524",
   "metadata": {},
   "outputs": [],
   "source": [
    "car_sales_half_sampled = car_sales.sample(frac = 0.5)\n",
    "car_sales_half_sampled"
   ]
  },
  {
   "cell_type": "markdown",
   "id": "7a57abb0-7cae-428f-82ce-fc69aeb78c8c",
   "metadata": {},
   "source": [
    "Notice how the rows remain intact but their order is mixed (check the indexes).\n",
    "\n",
    "`.sample(frac=X)` is also helpful when you're working with a large `DataFrame`. \n",
    "\n",
    "Say you had 2,000,000 rows.\n",
    "\n",
    "Running tests, analysis and machine learning algorithms on 2,000,000 rows could take a long time. And since being a data scientist or machine learning engineer is about reducing the time between experiments, you might begin with a sample of rows first.\n",
    "\n",
    "For example, you could use `40k_rows = 2_mil_rows.sample(frac=0.05)` to work on 40,000 rows from a `DataFrame` called `2_mil_rows` containing 2,000,000 rows.\n",
    "\n",
    "What if you wanted to get the indexes back in order?\n",
    "\n",
    "You could do so using [`.reset_index()`](https://pandas.pydata.org/docs/reference/api/pandas.DataFrame.reset_index.html)."
   ]
  },
  {
   "cell_type": "code",
   "execution_count": null,
   "id": "c6987e20-28f1-4e63-90f2-5d99cbf7b444",
   "metadata": {},
   "outputs": [],
   "source": [
    "# Reset the indexes of car_sales_sampled\n",
    "car_sales_sampled.reset_index()"
   ]
  },
  {
   "cell_type": "markdown",
   "id": "f4e88a2c-b75b-4842-8252-89bf1e510385",
   "metadata": {},
   "source": [
    "Calling `.reset_index()` on a `DataFrame` resets the index numbers to their defaults. It also creates a new `Index` column by default which contains the previous index values.\n",
    "\n",
    "Finally, what if you wanted to apply a function to a column. Such as, converting the `Odometer` column from kilometers to miles.\n",
    "\n",
    "You can do so using the [`.apply()`](https://pandas.pydata.org/docs/reference/api/pandas.DataFrame.apply.html) function and passing it a Python [lambda function](https://www.w3schools.com/python/python_lambda.asp). We know there's about 1.6 kilometers in a mile, so if you divide the value in the `Odometer` column by 1.6, it should convert it to miles."
   ]
  },
  {
   "cell_type": "code",
   "execution_count": null,
   "id": "6766ba56-9fbe-4b9d-8900-fc2a3c5bd382",
   "metadata": {},
   "outputs": [],
   "source": [
    "# change the Odometer values from kilometer to miles\n",
    "car_sales[\"Odometer (KM)\"].apply(lambda x: x/1.6)"
   ]
  },
  {
   "cell_type": "markdown",
   "id": "c619fea6-3e40-4eab-a4db-62fc6fba939a",
   "metadata": {},
   "source": [
    "Now let's check our `car_sales` `DataFrame`."
   ]
  },
  {
   "cell_type": "code",
   "execution_count": null,
   "id": "f35bfca0-50b7-4632-9d9d-10e8dc0eab66",
   "metadata": {},
   "outputs": [],
   "source": [
    "car_sales"
   ]
  },
  {
   "cell_type": "markdown",
   "id": "249cefc8-bfe8-4442-99d9-0251ec042386",
   "metadata": {},
   "source": [
    "The `Odometer` column didn't change. \n",
    "\n",
    "R: We didn't reassign it."
   ]
  },
  {
   "cell_type": "code",
   "execution_count": null,
   "id": "a097388d-7a42-4bd9-8c86-14b781a85d82",
   "metadata": {},
   "outputs": [],
   "source": [
    "car_sales[\"Odometer (KM)\"] = car_sales[\"Odometer (KM)\"].apply(lambda x:x/1.6)\n",
    "car_sales"
   ]
  },
  {
   "cell_type": "markdown",
   "id": "8b5265af-41eb-40e1-979d-8e0a7d96f5e9",
   "metadata": {},
   "source": [
    "If you've never seen a lambda function they can be tricky. What the line above is saying is \"take the value in the `Odometer (KM)` column (`x`) and set it to be itself divided by 1.6\"."
   ]
  },
  {
   "cell_type": "markdown",
   "id": "aef7767f-bcca-4793-8da6-0b87a276b89b",
   "metadata": {},
   "source": [
    "## Summary\n",
    "\n",
    "### Main topics we covered\n",
    "* [Series](https://pandas.pydata.org/pandas-docs/stable/reference/api/pandas.Series.html) - a single column (can be multiple rows) of values.\n",
    "* [DataFrame](https://pandas.pydata.org/pandas-docs/stable/reference/frame.html) - multiple columns/rows of values (a DataFrame is comprised of multiple Series).\n",
    "* [Importing data](https://pandas.pydata.org/pandas-docs/stable/reference/io.html) - we used [`pd.read_csv()`](https://pandas.pydata.org/pandas-docs/stable/reference/api/pandas.read_csv.html#pandas-read-csv) to read in a CSV (comma-separated values) file but there are multiple options for reading data.\n",
    "* [Exporting data](https://pandas.pydata.org/pandas-docs/stable/reference/io.html) - we exported our data using `to_csv()`, however there are multiple methods of exporting data.\n",
    "* [Describing data](https://pandas.pydata.org/docs/reference/api/pandas.DataFrame.describe.html)\n",
    "    * `df.dtypes` - find the datatypes present in a dataframe.\n",
    "    * `df.describe()` - find various numerical features of a dataframe.\n",
    "    * `df.info()` - find the number of rows and whether or not any of them are empty.\n",
    "* [Viewing and selecting data](https://pandas.pydata.org/docs/user_guide/10min.html#viewing-data)\n",
    "    * `df.head()` - view the first 5 rows of `df`.\n",
    "    * `df.loc` & `df.iloc` - select specific parts of a dataframe.\n",
    "    * `df['A']` - select column `A` of `df`.\n",
    "    * `df[df['A'] > 1000]` - selection column `A` rows with values over 1000 of `df`.\n",
    "    * `df['A']` - plot values from column `A` using matplotlib (defaults to line graph).\n",
    "* [Manipulating data and performing operations](https://pandas.pydata.org/docs/user_guide/10min.html#operations) - pandas has many built-in functions you can use to manipulate data, also many of the Python operators (e.g. `+`, `-`, `>`, `==`) work with pandas.\n",
    " \n",
    "### Further reading\n",
    "Since pandas is such a large library, it would be impossible to cover it all in one go. \n",
    "\n",
    "The following are some resources you might want to look into for more.\n",
    "* [Python for Data Analysis by Wes McKinney](https://wesmckinney.com/book/) - possibly the most complete text of the pandas library (apart from the documentation itself) written by the creator of pandas.\n",
    "* [Data Manipulation with Pandas (section of Python Data Science Handbook by Jake VanderPlas)](https://jakevdp.github.io/PythonDataScienceHandbook/03.00-introduction-to-pandas.html) - a very hands-on approach to many of the main functions in the pandas library.  "
   ]
  },
  {
   "cell_type": "code",
   "execution_count": null,
   "id": "94d0d93f-47e0-443f-9404-8a310d444c90",
   "metadata": {},
   "outputs": [],
   "source": []
  }
 ],
 "metadata": {
  "kernelspec": {
   "display_name": "Python 3 (ipykernel)",
   "language": "python",
   "name": "python3"
  },
  "language_info": {
   "codemirror_mode": {
    "name": "ipython",
    "version": 3
   },
   "file_extension": ".py",
   "mimetype": "text/x-python",
   "name": "python",
   "nbconvert_exporter": "python",
   "pygments_lexer": "ipython3",
   "version": "3.13.2"
  }
 },
 "nbformat": 4,
 "nbformat_minor": 5
}
