{
 "cells": [
  {
   "cell_type": "code",
   "execution_count": 1,
   "id": "c579e359-562e-49d2-8b39-516df90af6ed",
   "metadata": {},
   "outputs": [
    {
     "name": "stdout",
     "output_type": "stream",
     "text": [
      "Sharmila\n"
     ]
    }
   ],
   "source": [
    "# output\n",
    "print(\"Sharmila\")"
   ]
  },
  {
   "cell_type": "markdown",
   "id": "75682da6-cea3-4abe-a684-de18e633adbe",
   "metadata": {},
   "source": [
    "### what happened above is:\n",
    "* the code went to the interpreter\n",
    "* the interpreter took the code and converted it to bytecode\n",
    "* the bytecode is run in the CPython VM,\n",
    "* then the code is executed and our name gets executed"
   ]
  },
  {
   "cell_type": "code",
   "execution_count": 2,
   "id": "22be34d7-2ddc-496a-b604-ad5f6b17d67e",
   "metadata": {},
   "outputs": [
    {
     "name": "stdin",
     "output_type": "stream",
     "text": [
      "Enter your name:  sharmila\n"
     ]
    },
    {
     "name": "stdout",
     "output_type": "stream",
     "text": [
      "sharmila\n"
     ]
    }
   ],
   "source": [
    "#input\n",
    "name = input(\"Enter your name: \")\n",
    "print(name)"
   ]
  },
  {
   "cell_type": "code",
   "execution_count": 3,
   "id": "ab0934ee-56a4-4e34-8ae7-4f077d613b49",
   "metadata": {},
   "outputs": [
    {
     "name": "stdout",
     "output_type": "stream",
     "text": [
      "heloooo sharmila\n"
     ]
    }
   ],
   "source": [
    "print(\"heloooo\", name)"
   ]
  },
  {
   "cell_type": "code",
   "execution_count": 4,
   "id": "18edd414-1cb7-4360-acf8-b43ebbc5f057",
   "metadata": {},
   "outputs": [
    {
     "name": "stdout",
     "output_type": "stream",
     "text": [
      "heloooosharmila\n"
     ]
    }
   ],
   "source": [
    "print(\"heloooo\"+ name)"
   ]
  },
  {
   "cell_type": "code",
   "execution_count": 5,
   "id": "ad29c813-dab4-4f33-b34e-48d310db8f21",
   "metadata": {},
   "outputs": [
    {
     "name": "stdout",
     "output_type": "stream",
     "text": [
      "heloooo sharmila\n"
     ]
    }
   ],
   "source": [
    "print(\"heloooo \"+ name)"
   ]
  },
  {
   "cell_type": "markdown",
   "id": "6e25e03e-879f-4443-87a4-af7f26e0817b",
   "metadata": {},
   "source": [
    "##### note:\n",
    "* python was created by Guido\n",
    "* in 1991\n",
    "* created with tyhe name monty python (british comedy group)\n",
    "* in 2008, guido created python 3 (a new version of python)"
   ]
  },
  {
   "cell_type": "markdown",
   "id": "afd35d22-3aea-434f-9f2c-5e978dc864b2",
   "metadata": {},
   "source": [
    "# data types"
   ]
  },
  {
   "cell_type": "markdown",
   "id": "97bd5883-5f41-4889-9e98-fb3ccef9b447",
   "metadata": {},
   "source": [
    "## 1. fundamental data types"
   ]
  },
  {
   "cell_type": "markdown",
   "id": "9a2f2396-fee9-4fae-8166-8a0be9dd1d04",
   "metadata": {},
   "source": [
    "### 1.a integer (int)"
   ]
  },
  {
   "cell_type": "code",
   "execution_count": 6,
   "id": "0b3e91cf-4477-48d2-b2a7-944937f37588",
   "metadata": {},
   "outputs": [
    {
     "name": "stdout",
     "output_type": "stream",
     "text": [
      "6\n",
      "<class 'int'>\n",
      "-2\n",
      "8\n",
      "0.5\n",
      "<class 'float'>\n",
      "8\n",
      "1\n",
      "2\n"
     ]
    }
   ],
   "source": [
    "print(2+4)\n",
    "print(type(2+4))\n",
    "print(2-4)\n",
    "print(2*4)\n",
    "print(2/4)\n",
    "print(type(2/4))\n",
    "\n",
    "print(2**3)\n",
    "print(5//4)\n",
    "print(6%4)"
   ]
  },
  {
   "cell_type": "markdown",
   "id": "f84fe757-4c5a-43d0-a71b-a07158f99f29",
   "metadata": {},
   "source": [
    "### 1.b float"
   ]
  },
  {
   "cell_type": "code",
   "execution_count": 7,
   "id": "bd480338-9dfe-4f60-bf2c-d716ace5893f",
   "metadata": {},
   "outputs": [
    {
     "name": "stdout",
     "output_type": "stream",
     "text": [
      "4.2\n",
      "<class 'float'>\n",
      "4.3\n",
      "<class 'float'>\n",
      "<class 'float'>\n",
      "<class 'int'>\n",
      "1.0\n",
      "<class 'float'>\n"
     ]
    }
   ],
   "source": [
    "print(0.2 + 4)\n",
    "print(type(0.2 + 4))\n",
    "print(0.2 + 4.1)\n",
    "print(type(0.2+ 4.1))\n",
    "print(type(0.0004))\n",
    "print(type(0))\n",
    "print(0.2+0.8)\n",
    "print(type(0.2+0.8))"
   ]
  },
  {
   "cell_type": "markdown",
   "id": "983b544b-32e4-44f1-90cf-9bfe897f86c0",
   "metadata": {},
   "source": [
    "#### math functions"
   ]
  },
  {
   "cell_type": "code",
   "execution_count": 8,
   "id": "8cc460e0-3735-4d0e-8d7a-9a24c35f4e09",
   "metadata": {},
   "outputs": [
    {
     "name": "stdout",
     "output_type": "stream",
     "text": [
      "3\n",
      "4\n"
     ]
    }
   ],
   "source": [
    "# round()\n",
    "print(round(3.1))\n",
    "print(round(3.8))"
   ]
  },
  {
   "cell_type": "code",
   "execution_count": 9,
   "id": "7ba7694f-7fec-4b9f-b901-09e29a908a4e",
   "metadata": {},
   "outputs": [
    {
     "name": "stdout",
     "output_type": "stream",
     "text": [
      "20\n",
      "3.7\n"
     ]
    }
   ],
   "source": [
    "# abs()\n",
    "print(abs(-20))\n",
    "print(abs(-3.7))"
   ]
  },
  {
   "cell_type": "code",
   "execution_count": 10,
   "id": "090a3969-080c-42ee-a655-1399dffed995",
   "metadata": {},
   "outputs": [
    {
     "name": "stdout",
     "output_type": "stream",
     "text": [
      "4\n",
      "4\n"
     ]
    }
   ],
   "source": [
    "# ceil()\n",
    "import math\n",
    "\n",
    "print(math.ceil(3.2))\n",
    "print(math.ceil(3.7))"
   ]
  },
  {
   "cell_type": "code",
   "execution_count": 11,
   "id": "4576b0a4-a49c-47db-b006-9fdb7ed8be08",
   "metadata": {},
   "outputs": [
    {
     "name": "stdout",
     "output_type": "stream",
     "text": [
      "3\n",
      "3\n"
     ]
    }
   ],
   "source": [
    "# floor()\n",
    "print(math.floor(3.2))\n",
    "print(math.floor(3.7))"
   ]
  },
  {
   "cell_type": "code",
   "execution_count": 12,
   "id": "457e5b48-f5bb-43d2-9def-cb860d7afa98",
   "metadata": {},
   "outputs": [
    {
     "name": "stdout",
     "output_type": "stream",
     "text": [
      "2.0\n",
      "3.0\n"
     ]
    }
   ],
   "source": [
    "# cbrt()\n",
    "print(math.cbrt(8))\n",
    "print(math.cbrt(27))"
   ]
  },
  {
   "cell_type": "code",
   "execution_count": 13,
   "id": "c9119e11-4a98-426c-95b5-a15f2d76d4f2",
   "metadata": {},
   "outputs": [
    {
     "name": "stdout",
     "output_type": "stream",
     "text": [
      "1.259921049894873\n",
      "1.4422495703074083\n"
     ]
    }
   ],
   "source": [
    "# exp() (e power x)\n",
    "print(math.cbrt(2))\n",
    "print(math.cbrt(3))"
   ]
  },
  {
   "cell_type": "code",
   "execution_count": 14,
   "id": "fe796c33-5c35-475c-aff2-4a8cff31334e",
   "metadata": {},
   "outputs": [
    {
     "name": "stdout",
     "output_type": "stream",
     "text": [
      "9.0\n",
      "8.0\n"
     ]
    }
   ],
   "source": [
    "#pow()\n",
    "print(math.pow(3,2))\n",
    "print(math.pow(2,3))"
   ]
  },
  {
   "cell_type": "code",
   "execution_count": 15,
   "id": "d6e42925-28da-48bd-ab0c-166c646f7bd6",
   "metadata": {},
   "outputs": [
    {
     "name": "stdout",
     "output_type": "stream",
     "text": [
      "2.0\n",
      "3.0\n"
     ]
    }
   ],
   "source": [
    "# sqrt() \n",
    "print(math.sqrt(4))\n",
    "print(math.sqrt(9))"
   ]
  },
  {
   "cell_type": "markdown",
   "id": "4a8cb4a8-51f5-4d8a-93b3-4652b746ee82",
   "metadata": {},
   "source": [
    "#### operator precedence"
   ]
  },
  {
   "cell_type": "code",
   "execution_count": 16,
   "id": "e1d0a9df-abaa-495b-ae41-bfe98e50cfd8",
   "metadata": {},
   "outputs": [
    {
     "name": "stdout",
     "output_type": "stream",
     "text": [
      "32\n",
      "8\n"
     ]
    }
   ],
   "source": [
    "print(20+3*4)\n",
    "print(20-3*4)"
   ]
  },
  {
   "cell_type": "code",
   "execution_count": 17,
   "id": "1c8ea0d5-edb6-47e5-9085-c7b63545f69c",
   "metadata": {},
   "outputs": [
    {
     "name": "stdout",
     "output_type": "stream",
     "text": [
      "21\n"
     ]
    }
   ],
   "source": [
    "print((20-3)+2 ** 2)"
   ]
  },
  {
   "cell_type": "markdown",
   "id": "6194382f-f243-4690-b208-f9feb22d9f0c",
   "metadata": {},
   "source": [
    "#### binary - bin()"
   ]
  },
  {
   "cell_type": "code",
   "execution_count": 18,
   "id": "d25d215b-60d3-4f72-a651-10991084bfd6",
   "metadata": {},
   "outputs": [
    {
     "name": "stdout",
     "output_type": "stream",
     "text": [
      "0b101\n"
     ]
    }
   ],
   "source": [
    "print(bin(5))"
   ]
  },
  {
   "cell_type": "code",
   "execution_count": 19,
   "id": "0e7e05a0-2487-4217-99ef-327b7585a25b",
   "metadata": {},
   "outputs": [
    {
     "name": "stdout",
     "output_type": "stream",
     "text": [
      "5\n"
     ]
    }
   ],
   "source": [
    "print(int('0b101', 2))"
   ]
  },
  {
   "cell_type": "markdown",
   "id": "4664acd2-8194-4add-a575-b751fc26af10",
   "metadata": {},
   "source": [
    "#### variables "
   ]
  },
  {
   "cell_type": "markdown",
   "id": "9c2f5685-7134-4990-b20d-b8fb460706d9",
   "metadata": {},
   "source": [
    "* Note: assigning value to a variable is also called *binding*\n",
    "* best practices\n",
    "  * snake_case = all small case; no space\n",
    "  * start with lowercase or underscore\n",
    "  * letters, numbers, underscores are allowed\n",
    "  * is case sensitive\n",
    "  * dont overwrite keywords."
   ]
  },
  {
   "cell_type": "code",
   "execution_count": 20,
   "id": "bae221f9-452e-4b11-808b-eddf2fb87135",
   "metadata": {},
   "outputs": [
    {
     "name": "stdout",
     "output_type": "stream",
     "text": [
      "190\n"
     ]
    }
   ],
   "source": [
    "IQ = 190\n",
    "print(IQ)"
   ]
  },
  {
   "cell_type": "code",
   "execution_count": 21,
   "id": "dbaa4c43-5e18-446f-8694-bada7cbfad6a",
   "metadata": {},
   "outputs": [
    {
     "name": "stdout",
     "output_type": "stream",
     "text": [
      "20\n",
      "40\n",
      "60\n"
     ]
    }
   ],
   "source": [
    "a, b, c = 20, 40, 60\n",
    "print(a)\n",
    "print(b)\n",
    "print(c)"
   ]
  },
  {
   "cell_type": "markdown",
   "id": "72fe7def-a6d1-424f-a7b4-aaf066e2a61c",
   "metadata": {},
   "source": [
    "#### constants"
   ]
  },
  {
   "cell_type": "markdown",
   "id": "f8fb4139-96af-4097-8df7-5805bdbb8136",
   "metadata": {},
   "source": [
    "Note: can be overwritten, but code ethics say otherwise. "
   ]
  },
  {
   "cell_type": "code",
   "execution_count": 22,
   "id": "98a22d1c-c4a7-4fd1-9d70-b76dccd08a03",
   "metadata": {},
   "outputs": [
    {
     "name": "stdout",
     "output_type": "stream",
     "text": [
      "31.400000000000002\n"
     ]
    }
   ],
   "source": [
    "pi = 3.14\n",
    "area  = 2*pi*5\n",
    "print(area)"
   ]
  },
  {
   "cell_type": "markdown",
   "id": "660df467-d773-466a-88e8-0060e3dc2e3d",
   "metadata": {},
   "source": [
    "#### dunders"
   ]
  },
  {
   "cell_type": "markdown",
   "id": "ed419db6-b9f5-432c-b973-93f1c32ce0c9",
   "metadata": {},
   "source": [
    "Note: things that are meant to be left alone (not to be touched)"
   ]
  },
  {
   "cell_type": "code",
   "execution_count": 23,
   "id": "c55e9f56-5010-45c4-93b7-7c398419170b",
   "metadata": {},
   "outputs": [],
   "source": [
    "__name__ = \"sharmila\"\n",
    "__hihi = 'hi'"
   ]
  },
  {
   "cell_type": "markdown",
   "id": "b5e4492e-bef3-41f4-a769-def06f8c7243",
   "metadata": {},
   "source": [
    "#### expression vs statement"
   ]
  },
  {
   "cell_type": "code",
   "execution_count": 24,
   "id": "b7d6c96c-6a01-4a1a-9975-5d5ac2f4dec7",
   "metadata": {},
   "outputs": [],
   "source": [
    "iq = 100 #statement\n",
    "user_age = iq/5 # statement where iq/5 is expression"
   ]
  },
  {
   "cell_type": "markdown",
   "id": "6215586d-e27e-44e2-9ff6-0918b150fabe",
   "metadata": {},
   "source": [
    "#### augmented assignment operator"
   ]
  },
  {
   "cell_type": "code",
   "execution_count": 25,
   "id": "f02e6057-7224-4e28-9573-d14ae30d5e58",
   "metadata": {},
   "outputs": [
    {
     "name": "stdout",
     "output_type": "stream",
     "text": [
      "5\n"
     ]
    }
   ],
   "source": [
    "some_value = 5\n",
    "print(some_value)"
   ]
  },
  {
   "cell_type": "code",
   "execution_count": 26,
   "id": "636acaf6-d1b1-4d38-84a1-da66d8370603",
   "metadata": {},
   "outputs": [
    {
     "name": "stdout",
     "output_type": "stream",
     "text": [
      "7\n"
     ]
    }
   ],
   "source": [
    "some_value+=2;\n",
    "print(some_value)"
   ]
  },
  {
   "cell_type": "code",
   "execution_count": 27,
   "id": "01e36f77-5d5a-492d-b3c0-d43c1ad9860d",
   "metadata": {},
   "outputs": [
    {
     "name": "stdout",
     "output_type": "stream",
     "text": [
      "5\n"
     ]
    }
   ],
   "source": [
    "some_value-=2\n",
    "print(some_value)"
   ]
  },
  {
   "cell_type": "code",
   "execution_count": 28,
   "id": "31f0aba3-1529-4733-ae3d-c4d999625ad2",
   "metadata": {},
   "outputs": [
    {
     "name": "stdout",
     "output_type": "stream",
     "text": [
      "15\n"
     ]
    }
   ],
   "source": [
    "some_value*=3\n",
    "print(some_value)"
   ]
  },
  {
   "cell_type": "code",
   "execution_count": 29,
   "id": "3c7d4563-92c3-4deb-a341-fd94883716e3",
   "metadata": {},
   "outputs": [
    {
     "name": "stdout",
     "output_type": "stream",
     "text": [
      "5.0\n"
     ]
    }
   ],
   "source": [
    "some_value/=3\n",
    "print(some_value)"
   ]
  },
  {
   "cell_type": "markdown",
   "id": "8175a1dd-a064-421f-99d5-13bf459d1b85",
   "metadata": {},
   "source": [
    "### 1.c string (str)\n",
    "a piece of text enclosed in ' ', \" \", or ''' '''."
   ]
  },
  {
   "cell_type": "code",
   "execution_count": 30,
   "id": "1ee6bf8e-a483-4bd0-b2ef-6a08eacf4ed3",
   "metadata": {},
   "outputs": [
    {
     "name": "stdout",
     "output_type": "stream",
     "text": [
      "<class 'str'>\n"
     ]
    }
   ],
   "source": [
    "print(type(\"hello\"))"
   ]
  },
  {
   "cell_type": "code",
   "execution_count": 31,
   "id": "43013891-c522-4278-9e64-b3a78c467080",
   "metadata": {},
   "outputs": [
    {
     "name": "stdout",
     "output_type": "stream",
     "text": [
      " \n",
      "wow\n",
      "00\n",
      "---\n",
      "\n"
     ]
    }
   ],
   "source": [
    "long_strings = ''' \n",
    "wow\n",
    "00\n",
    "---\n",
    "'''\n",
    "print(long_strings)"
   ]
  },
  {
   "cell_type": "markdown",
   "id": "4f88d243-e4e9-4800-9c22-03c85399ebd3",
   "metadata": {},
   "source": [
    "##### string concatenation"
   ]
  },
  {
   "cell_type": "code",
   "execution_count": 32,
   "id": "4df6d21c-c643-493f-a2c9-23271d1f51c3",
   "metadata": {},
   "outputs": [],
   "source": [
    "first_name = \"sharmila\"\n",
    "last_name = \"balakrishnan\""
   ]
  },
  {
   "cell_type": "code",
   "execution_count": 33,
   "id": "ef1fabe0-263e-4adb-a930-097f9ba6c4e3",
   "metadata": {},
   "outputs": [
    {
     "name": "stdout",
     "output_type": "stream",
     "text": [
      "sharmilabalakrishnan\n"
     ]
    }
   ],
   "source": [
    "full_name = first_name + last_name\n",
    "print(full_name)"
   ]
  },
  {
   "cell_type": "code",
   "execution_count": 34,
   "id": "74810cd4-16bf-4277-a085-cc869dab1a46",
   "metadata": {},
   "outputs": [
    {
     "name": "stdout",
     "output_type": "stream",
     "text": [
      "sharmila balakrishnan\n"
     ]
    }
   ],
   "source": [
    "full_name = first_name + ' ' + last_name\n",
    "print(full_name)"
   ]
  },
  {
   "cell_type": "code",
   "execution_count": 35,
   "id": "363cb0bd-91ec-477a-89c2-5c1adda52159",
   "metadata": {},
   "outputs": [
    {
     "name": "stdout",
     "output_type": "stream",
     "text": [
      "sharmila balakrishnan\n"
     ]
    }
   ],
   "source": [
    "print(\"sharmila\",\"balakrishnan\")"
   ]
  },
  {
   "cell_type": "code",
   "execution_count": 36,
   "id": "69d522de-bcaa-4fd6-b8aa-f1c90df35d76",
   "metadata": {},
   "outputs": [
    {
     "name": "stdout",
     "output_type": "stream",
     "text": [
      "sharmilabalakrishnan\n"
     ]
    }
   ],
   "source": [
    "print(\"sharmila\"+\"balakrishnan\")"
   ]
  },
  {
   "cell_type": "code",
   "execution_count": 37,
   "id": "c677c090-10d2-4f38-8002-168c4a511261",
   "metadata": {},
   "outputs": [
    {
     "name": "stdout",
     "output_type": "stream",
     "text": [
      "sharmila balakrishnan\n"
     ]
    }
   ],
   "source": [
    "print(\"sharmila\"+\" balakrishnan\")"
   ]
  },
  {
   "cell_type": "markdown",
   "id": "0f7a8a92-a69f-4f3a-88cf-53f7dc5b391c",
   "metadata": {},
   "source": [
    "#### type conversion"
   ]
  },
  {
   "cell_type": "code",
   "execution_count": 38,
   "id": "d6e57730-f2ec-4a78-87b9-ca1c5034038f",
   "metadata": {},
   "outputs": [
    {
     "name": "stdout",
     "output_type": "stream",
     "text": [
      "100\n"
     ]
    }
   ],
   "source": [
    "val = str(100)\n",
    "print(val)"
   ]
  },
  {
   "cell_type": "code",
   "execution_count": 39,
   "id": "54d3fd2c-76ca-4517-b174-b5afb57d4ecf",
   "metadata": {},
   "outputs": [
    {
     "name": "stdout",
     "output_type": "stream",
     "text": [
      "<class 'str'>\n"
     ]
    }
   ],
   "source": [
    "print(type(val))"
   ]
  },
  {
   "cell_type": "code",
   "execution_count": 40,
   "id": "3cedfd40-d633-4bc6-ad46-9231b8b165bb",
   "metadata": {},
   "outputs": [
    {
     "name": "stdout",
     "output_type": "stream",
     "text": [
      "<class 'int'>\n"
     ]
    }
   ],
   "source": [
    "print(type(int(val)))"
   ]
  },
  {
   "cell_type": "markdown",
   "id": "a1a3fc61-4e07-4d39-b6cb-2799be44e311",
   "metadata": {},
   "source": [
    "##### escape sequence"
   ]
  },
  {
   "cell_type": "code",
   "execution_count": 41,
   "id": "c02a3651-4dc7-4d22-8731-3a8cb7f46716",
   "metadata": {},
   "outputs": [
    {
     "name": "stdout",
     "output_type": "stream",
     "text": [
      "it's sunny\n",
      "it's \"kinda\" sunny\n",
      "it's sunny\n"
     ]
    }
   ],
   "source": [
    "weather1 = \"it's sunny\"\n",
    "weather2 = \"it's \\\"kinda\\\" sunny\"\n",
    "weather3 = 'it\\'s sunny'\n",
    "\n",
    "print(weather1)\n",
    "print(weather2)\n",
    "print(weather3)"
   ]
  },
  {
   "cell_type": "code",
   "execution_count": 42,
   "id": "e9ef5ec3-a12b-44ce-af62-deabe5a40a78",
   "metadata": {},
   "outputs": [
    {
     "name": "stdout",
     "output_type": "stream",
     "text": [
      "hello\\hi\n"
     ]
    }
   ],
   "source": [
    "print(\"hello\\\\hi\")"
   ]
  },
  {
   "cell_type": "code",
   "execution_count": 43,
   "id": "352ac1c3-ea05-4b05-9314-303226036d03",
   "metadata": {},
   "outputs": [
    {
     "name": "stdout",
     "output_type": "stream",
     "text": [
      "hello\thi\n"
     ]
    }
   ],
   "source": [
    "print(\"hello\\thi\")"
   ]
  },
  {
   "cell_type": "code",
   "execution_count": 44,
   "id": "83f07d84-f7bd-4ef8-8098-fea1f04a058c",
   "metadata": {},
   "outputs": [
    {
     "name": "stdout",
     "output_type": "stream",
     "text": [
      "hello\n",
      "hi\n"
     ]
    }
   ],
   "source": [
    "print(\"hello\\nhi\")"
   ]
  },
  {
   "cell_type": "markdown",
   "id": "44232a31-d92b-491d-9b75-10b3377d3a32",
   "metadata": {},
   "source": [
    "##### formatted strings"
   ]
  },
  {
   "cell_type": "code",
   "execution_count": 45,
   "id": "c6dafe8b-c0dc-41ac-ab33-9592d7f984bd",
   "metadata": {},
   "outputs": [
    {
     "name": "stdout",
     "output_type": "stream",
     "text": [
      "hi John. You are 50 years old.\n",
      "hi John. You are 50 years old.\n",
      "hi John. You are 50 years old.\n",
      "hi John. You are 50 years old.\n",
      "hi John. You are 50 years old.\n",
      "hi John. You are 50 years old.\n"
     ]
    }
   ],
   "source": [
    "name = \"John\"\n",
    "age = str(50)\n",
    "\n",
    "# normal\n",
    "print(\"hi \" + name + \". You are \" + age + \" years old.\")\n",
    "\n",
    "# formatted\n",
    "print(f\"hi {name}. You are {age} years old.\")\n",
    "\n",
    "#formatted\n",
    "print(\"hi {}. You are {} years old.\".format(name, age))\n",
    "\n",
    "#formatted\n",
    "print(\"hi {1}. You are {0} years old.\".format(age, name))\n",
    "\n",
    "#formatted\n",
    "print(\"hi {n}. You are {a} years old.\".format(n=name, a=age))\n",
    "\n",
    "#formatted\n",
    "print(\"hi {n}. You are {a} years old.\".format(n=\"John\", a=str(50)))"
   ]
  },
  {
   "cell_type": "markdown",
   "id": "63840275-effd-4ab9-92c8-80b8ec4cc936",
   "metadata": {},
   "source": [
    "##### string indeces"
   ]
  },
  {
   "cell_type": "code",
   "execution_count": 46,
   "id": "bc96b548-18bc-49ff-8cfa-b93aff76fdcf",
   "metadata": {},
   "outputs": [
    {
     "name": "stdout",
     "output_type": "stream",
     "text": [
      "m\n",
      "e\n",
      "me me me\n"
     ]
    }
   ],
   "source": [
    "selfish = \"me me me\"\n",
    "print(selfish[0])\n",
    "print(selfish[1])\n",
    "print(selfish)"
   ]
  },
  {
   "cell_type": "markdown",
   "id": "3176f63a-9c55-4c58-a93f-5db0a5ccb8ab",
   "metadata": {},
   "source": [
    "##### slicing\n",
    "[start:stop] or [start:stop:step]"
   ]
  },
  {
   "cell_type": "code",
   "execution_count": 47,
   "id": "571cb454-622f-4e90-8141-c6d6c8f312e2",
   "metadata": {},
   "outputs": [
    {
     "name": "stdout",
     "output_type": "stream",
     "text": [
      "me \n",
      "e me m\n"
     ]
    }
   ],
   "source": [
    "print(selfish[0:3])\n",
    "print(selfish[1:7])"
   ]
  },
  {
   "cell_type": "code",
   "execution_count": 48,
   "id": "5ce856a3-4717-4e89-91ff-e0720e320831",
   "metadata": {},
   "outputs": [
    {
     "name": "stdout",
     "output_type": "stream",
     "text": [
      "024\n",
      "1234567\n",
      "01234\n",
      "01234567\n",
      "7\n",
      "76543210\n"
     ]
    }
   ],
   "source": [
    "selfish = \"01234567\"\n",
    "print(selfish[0:5:2])\n",
    "print(selfish[1:])\n",
    "print(selfish[:5])\n",
    "print(selfish[::1])\n",
    "print(selfish[-1])\n",
    "print(selfish[::-1])"
   ]
  },
  {
   "cell_type": "markdown",
   "id": "024e49e1-9fdf-4f35-8a07-336c326feb6b",
   "metadata": {},
   "source": [
    "##### immutability"
   ]
  },
  {
   "cell_type": "code",
   "execution_count": 49,
   "id": "86d371e4-7881-4b47-8b01-55231e6b0702",
   "metadata": {},
   "outputs": [
    {
     "ename": "TypeError",
     "evalue": "'str' object does not support item assignment",
     "output_type": "error",
     "traceback": [
      "\u001b[1;31m---------------------------------------------------------------------------\u001b[0m",
      "\u001b[1;31mTypeError\u001b[0m                                 Traceback (most recent call last)",
      "Cell \u001b[1;32mIn[49], line 1\u001b[0m\n\u001b[1;32m----> 1\u001b[0m selfish[\u001b[38;5;241m0\u001b[39m]\u001b[38;5;241m=\u001b[39m\u001b[38;5;241m9\u001b[39m\n\u001b[0;32m      2\u001b[0m \u001b[38;5;28mprint\u001b[39m(selfish)\n",
      "\u001b[1;31mTypeError\u001b[0m: 'str' object does not support item assignment"
     ]
    }
   ],
   "source": [
    "selfish[0]=9\n",
    "print(selfish)"
   ]
  },
  {
   "cell_type": "markdown",
   "id": "a84857a1-b309-4208-829a-fecd3202dbdf",
   "metadata": {},
   "source": [
    "##### only way to chnge value of a string is to reassign the variable"
   ]
  },
  {
   "cell_type": "code",
   "execution_count": null,
   "id": "463a2f28-85ee-4d57-a66e-6b633cd5163c",
   "metadata": {},
   "outputs": [],
   "source": [
    "selfish = \"81234567\"\n",
    "print(selfish)\n",
    "\n",
    "selfish = selfish+'8'\n",
    "print(selfish)"
   ]
  },
  {
   "cell_type": "markdown",
   "id": "6c25eef7-f89a-48a7-aec9-9f0cd52c690a",
   "metadata": {},
   "source": [
    "##### build-in functions/methods"
   ]
  },
  {
   "cell_type": "code",
   "execution_count": null,
   "id": "81e944b3-71e1-49b8-aa8d-6adc33a36127",
   "metadata": {},
   "outputs": [],
   "source": [
    "print(len(selfish))\n",
    "\n",
    "greet = \"hellloo\"\n",
    "print(greet[:])\n",
    "print(greet[:7])\n",
    "print(greet[0:len(greet)])"
   ]
  },
  {
   "cell_type": "markdown",
   "id": "bc073cf3-c3da-422f-8c1c-4e5fb96af7a1",
   "metadata": {},
   "source": [
    "##### function\n",
    "* len(), print(), input()\n",
    "##### method\n",
    "* .format(), caputalize(), replace()\n",
    "* usually starts with a . and ends with a () or {}"
   ]
  },
  {
   "cell_type": "code",
   "execution_count": 50,
   "id": "cf0547f9-0050-4c67-919c-29d000564610",
   "metadata": {},
   "outputs": [
    {
     "name": "stdout",
     "output_type": "stream",
     "text": [
      "Hellohello\n",
      "1\n",
      "hetlohetlo\n",
      "hellohello\n"
     ]
    }
   ],
   "source": [
    "quote = \"hellohello\"\n",
    "\n",
    "print(quote.capitalize())\n",
    "\n",
    "print(quote.find(\"el\"))\n",
    "\n",
    "print(quote.replace(\"el\", \"et\"))\n",
    "\n",
    "print(quote)"
   ]
  },
  {
   "cell_type": "markdown",
   "id": "7b57e2ae-c9b1-482c-bf08-0b6529cd0cfc",
   "metadata": {},
   "source": [
    "### 1.d Boolean\n",
    "True/False"
   ]
  },
  {
   "cell_type": "code",
   "execution_count": 51,
   "id": "a9bfcad2-d2b0-4358-9e2c-bc9769adf862",
   "metadata": {},
   "outputs": [],
   "source": [
    "name = \"John\"\n",
    "is_cool= False\n",
    "is_cool = True"
   ]
  },
  {
   "cell_type": "code",
   "execution_count": 52,
   "id": "a7c20287-df75-41fe-b8aa-82388ff9b489",
   "metadata": {},
   "outputs": [
    {
     "name": "stdout",
     "output_type": "stream",
     "text": [
      "True\n",
      "False\n"
     ]
    }
   ],
   "source": [
    "print(bool(1))\n",
    "print(bool(0))"
   ]
  },
  {
   "cell_type": "code",
   "execution_count": 53,
   "id": "690725f2-1fc6-4cbb-ae61-58143ca23b35",
   "metadata": {},
   "outputs": [
    {
     "name": "stdout",
     "output_type": "stream",
     "text": [
      "<class 'bool'> <class 'bool'>\n"
     ]
    }
   ],
   "source": [
    "print(type(bool(1)), type(bool(0)))"
   ]
  },
  {
   "cell_type": "code",
   "execution_count": 54,
   "id": "5af9ab69-1b0d-498f-926a-94bbde655003",
   "metadata": {},
   "outputs": [
    {
     "name": "stdout",
     "output_type": "stream",
     "text": [
      "True\n",
      "True\n"
     ]
    }
   ],
   "source": [
    "print(bool(\"true\"))\n",
    "print(bool(\"false\"))"
   ]
  },
  {
   "cell_type": "code",
   "execution_count": 55,
   "id": "17ffcd6c-40a5-443b-b2ab-cf8d074a0e0e",
   "metadata": {},
   "outputs": [
    {
     "name": "stdout",
     "output_type": "stream",
     "text": [
      "<class 'bool'> <class 'bool'>\n"
     ]
    }
   ],
   "source": [
    "print(type(bool(\"true\")), type(bool(\"false\")))"
   ]
  },
  {
   "cell_type": "markdown",
   "id": "efe218b4-4deb-4c2f-9c0b-b6b06ec1bfe1",
   "metadata": {},
   "source": [
    "### 1.e list (list)\n",
    "* an ordered sequence of object can be of anny type.\n",
    "* area form of arrays in python"
   ]
  },
  {
   "cell_type": "markdown",
   "id": "b0959680-ab2f-4923-b4ea-e2d7c4c6285e",
   "metadata": {},
   "source": [
    "##### homogenous "
   ]
  },
  {
   "cell_type": "code",
   "execution_count": 56,
   "id": "4953d77c-4061-424d-9a2d-826e59b8ed39",
   "metadata": {},
   "outputs": [],
   "source": [
    "li1 = [1,2,3,4,5]\n",
    "li2 = ['a','b','c']"
   ]
  },
  {
   "cell_type": "markdown",
   "id": "d71d5c65-bc4e-4bdc-9c50-ea8e2e33be45",
   "metadata": {},
   "source": [
    "##### heterogenous"
   ]
  },
  {
   "cell_type": "code",
   "execution_count": 57,
   "id": "901bd25b-fa0b-4cb3-9dfd-757030eaf355",
   "metadata": {},
   "outputs": [],
   "source": [
    "li3 = [1,2,'a', True]"
   ]
  },
  {
   "cell_type": "markdown",
   "id": "1496e2ea-5830-41df-a4de-ad27d990de9a",
   "metadata": {},
   "source": [
    "##### data structures"
   ]
  },
  {
   "cell_type": "code",
   "execution_count": 58,
   "id": "8e6cee9f-86bb-4bcc-a6a1-ab5291c8a4b1",
   "metadata": {},
   "outputs": [
    {
     "name": "stdout",
     "output_type": "stream",
     "text": [
      "a\n"
     ]
    }
   ],
   "source": [
    "print(li2[0])"
   ]
  },
  {
   "cell_type": "markdown",
   "id": "18c1493a-1666-4853-b2b6-a44f5cc380c8",
   "metadata": {},
   "source": [
    "##### slicing"
   ]
  },
  {
   "cell_type": "code",
   "execution_count": 59,
   "id": "af91027d-16bc-4b6e-8979-ab95bf29484f",
   "metadata": {},
   "outputs": [
    {
     "name": "stdout",
     "output_type": "stream",
     "text": [
      "['a', 'b']\n",
      "['a', 1]\n"
     ]
    }
   ],
   "source": [
    "list1 = ['a', 'b', 1, True]\n",
    "print(list1[0:2:1])\n",
    "print(list1[0::2])"
   ]
  },
  {
   "cell_type": "markdown",
   "id": "a203f5d4-a5bb-4f56-9d56-074592d61c2c",
   "metadata": {},
   "source": [
    "##### mutability"
   ]
  },
  {
   "cell_type": "code",
   "execution_count": 60,
   "id": "a9b69252-2c1a-4a7d-a545-77b39f3987d5",
   "metadata": {},
   "outputs": [
    {
     "name": "stdout",
     "output_type": "stream",
     "text": [
      "['a', False, 1, True]\n"
     ]
    }
   ],
   "source": [
    "list1[1] = False\n",
    "print(list1)"
   ]
  },
  {
   "cell_type": "markdown",
   "id": "7f387bb3-2955-4a7c-bc0b-b298c1ef6e4f",
   "metadata": {},
   "source": [
    "#### matrix / multi-dimensional list\n",
    "* concept of an array inside another array"
   ]
  },
  {
   "cell_type": "code",
   "execution_count": 61,
   "id": "da8864c7-8be0-4bbc-aede-0ce897502759",
   "metadata": {},
   "outputs": [
    {
     "name": "stdout",
     "output_type": "stream",
     "text": [
      "[[1, 2, 3], [4, 5, 6], [7, 8, 9]]\n",
      "[1, 2, 3]\n",
      "2\n"
     ]
    }
   ],
   "source": [
    "matrix = [\n",
    "    [1,2,3],\n",
    "    [4,5,6],\n",
    "    [7,8,9]\n",
    "]\n",
    "print(matrix)\n",
    "print(matrix[0])\n",
    "print(matrix[0][1])"
   ]
  },
  {
   "cell_type": "markdown",
   "id": "3b83fc50-2f72-4c15-b2e7-d04a7714a6b1",
   "metadata": {},
   "source": [
    "##### list methods"
   ]
  },
  {
   "cell_type": "code",
   "execution_count": 62,
   "id": "ad862a97-b19c-4b98-ab08-dd6730ed2dd2",
   "metadata": {},
   "outputs": [
    {
     "name": "stdout",
     "output_type": "stream",
     "text": [
      "5\n",
      "None\n",
      "[1, 2, 3, 4, 5, 6]\n"
     ]
    }
   ],
   "source": [
    "basket = [1,2,3,4,5]\n",
    "\n",
    "print(len(basket))\n",
    "\n",
    "b1 = basket.append(6)\n",
    "print(b1)\n",
    "\n",
    "print(basket)"
   ]
  },
  {
   "cell_type": "markdown",
   "id": "c4bc5bee-29b4-4d55-9fe0-def7293a110f",
   "metadata": {},
   "source": [
    "Note: .append() does not produce any value to assign. it just performs action and thus, print(b1)=> none"
   ]
  },
  {
   "cell_type": "code",
   "execution_count": 63,
   "id": "42fc2333-b9c4-4059-8399-d66684da0d2c",
   "metadata": {},
   "outputs": [
    {
     "name": "stdout",
     "output_type": "stream",
     "text": [
      "[0, 1, 2, 3, 4, 5, 6]\n"
     ]
    }
   ],
   "source": [
    "basket.insert(0,0) #(data,index)\n",
    "print(basket)"
   ]
  },
  {
   "cell_type": "code",
   "execution_count": 64,
   "id": "ce1ab7cf-e419-4c4f-8e94-c721c9d5723b",
   "metadata": {},
   "outputs": [
    {
     "name": "stdout",
     "output_type": "stream",
     "text": [
      "[0, 1, 2, 3, 4, 5, 7, 6]\n"
     ]
    }
   ],
   "source": [
    "basket.insert(6, 7)\n",
    "print(basket)"
   ]
  },
  {
   "cell_type": "code",
   "execution_count": 65,
   "id": "f308b719-a5fa-4c90-a178-acb32b934965",
   "metadata": {},
   "outputs": [
    {
     "name": "stdout",
     "output_type": "stream",
     "text": [
      "[0, 1, 2, 3, 4, 5, 7]\n"
     ]
    }
   ],
   "source": [
    "basket.pop()\n",
    "print(basket)"
   ]
  },
  {
   "cell_type": "code",
   "execution_count": 66,
   "id": "c9ac2097-1eaf-4485-b304-604ebc220af4",
   "metadata": {},
   "outputs": [
    {
     "name": "stdout",
     "output_type": "stream",
     "text": [
      "[1, 2, 3, 4, 5, 7]\n"
     ]
    }
   ],
   "source": [
    "basket.pop(0)\n",
    "print(basket)"
   ]
  },
  {
   "cell_type": "code",
   "execution_count": 67,
   "id": "a01eed77-9a8e-44a8-b8a3-516fdf13785b",
   "metadata": {},
   "outputs": [
    {
     "name": "stdout",
     "output_type": "stream",
     "text": [
      "[1, 2, 3, 5, 7]\n"
     ]
    }
   ],
   "source": [
    "basket.remove(4)\n",
    "print(basket)"
   ]
  },
  {
   "cell_type": "code",
   "execution_count": 68,
   "id": "abe63cdf-7b44-4e6d-b187-6fd0aeccee76",
   "metadata": {},
   "outputs": [
    {
     "name": "stdout",
     "output_type": "stream",
     "text": [
      "[]\n"
     ]
    }
   ],
   "source": [
    "basket.clear()\n",
    "print(basket)"
   ]
  },
  {
   "cell_type": "code",
   "execution_count": 69,
   "id": "cf14e0bf-42ff-4be3-9963-0fcb46b600f3",
   "metadata": {},
   "outputs": [
    {
     "name": "stdout",
     "output_type": "stream",
     "text": [
      "1\n"
     ]
    }
   ],
   "source": [
    "basket = [1,2,3,4,5]\n",
    "print(basket.index(2))"
   ]
  },
  {
   "cell_type": "code",
   "execution_count": 70,
   "id": "946c8d3d-65d5-44a8-b41b-7583a3d88db7",
   "metadata": {},
   "outputs": [
    {
     "name": "stdout",
     "output_type": "stream",
     "text": [
      "1\n"
     ]
    }
   ],
   "source": [
    "print(basket.index(2,0,2)) #(value, start, end)"
   ]
  },
  {
   "cell_type": "code",
   "execution_count": 71,
   "id": "ec0bfd8d-718e-420a-a5b0-f0ebd29074d3",
   "metadata": {},
   "outputs": [
    {
     "name": "stdout",
     "output_type": "stream",
     "text": [
      "True\n"
     ]
    }
   ],
   "source": [
    "print(5 in basket)"
   ]
  },
  {
   "cell_type": "code",
   "execution_count": 72,
   "id": "11fc868c-06d0-4d70-baaf-2e7b5449be35",
   "metadata": {},
   "outputs": [
    {
     "name": "stdout",
     "output_type": "stream",
     "text": [
      "1\n"
     ]
    }
   ],
   "source": [
    "print(basket.count(3)) # no. of ocvcurances"
   ]
  },
  {
   "cell_type": "code",
   "execution_count": 73,
   "id": "e69dd0bd-7d77-4e3e-b80f-8997b3e3a8d7",
   "metadata": {},
   "outputs": [
    {
     "name": "stdout",
     "output_type": "stream",
     "text": [
      "None\n",
      "[1, 2, 3, 4, 5, 6]\n"
     ]
    }
   ],
   "source": [
    "basket = [1, 6, 3, 2, 5, 4]\n",
    "\n",
    "print(basket.sort())\n",
    "\n",
    "basket.sort()\n",
    "print(basket)"
   ]
  },
  {
   "cell_type": "markdown",
   "id": "04a09b26-2376-413c-9166-c33f1f849dc4",
   "metadata": {},
   "source": [
    "Note: it is none because. sort() doesnt return any value. it just performs an operation)"
   ]
  },
  {
   "cell_type": "code",
   "execution_count": 74,
   "id": "5f7c8905-4fc1-4a8f-a6f6-ce35e0247f14",
   "metadata": {},
   "outputs": [
    {
     "name": "stdout",
     "output_type": "stream",
     "text": [
      "[1, 2, 3, 4, 5, 6]\n",
      "[1, 6, 3, 2, 5, 4]\n"
     ]
    }
   ],
   "source": [
    "basket = [1, 6, 3, 2, 5, 4]\n",
    "\n",
    "print(sorted(basket))\n",
    "print(basket)"
   ]
  },
  {
   "cell_type": "code",
   "execution_count": 75,
   "id": "a400c639-6efd-4923-b721-6c10420d88f8",
   "metadata": {},
   "outputs": [
    {
     "name": "stdout",
     "output_type": "stream",
     "text": [
      "[1, 2, 3, 4, 5, 6]\n",
      "[1, 6, 3, 2, 5, 4]\n"
     ]
    }
   ],
   "source": [
    "new_basket = basket.copy()\n",
    "new_basket.sort()\n",
    "print(new_basket)\n",
    "print(basket)"
   ]
  },
  {
   "cell_type": "code",
   "execution_count": 76,
   "id": "bf2395a0-19a1-4c3b-9264-f7d52ca4c4a8",
   "metadata": {},
   "outputs": [
    {
     "name": "stdout",
     "output_type": "stream",
     "text": [
      "[4, 5, 2, 3, 6, 1]\n"
     ]
    }
   ],
   "source": [
    "basket.reverse()\n",
    "print(basket)"
   ]
  },
  {
   "cell_type": "code",
   "execution_count": 77,
   "id": "c4eb1194-6889-4709-ac82-f4c10ee2b29f",
   "metadata": {},
   "outputs": [
    {
     "name": "stdout",
     "output_type": "stream",
     "text": [
      "['a', 'b', 'c', 'd', 'd', 'e', 'x']\n",
      "['x', 'e', 'd', 'd', 'c', 'b', 'a']\n"
     ]
    }
   ],
   "source": [
    "basket = ['a', 'x', 'b', 'c', 'd', 'e', 'd']\n",
    "basket.sort()\n",
    "basket.reverse()\n",
    "print(basket[::-1]) # again reverse the basket\n",
    "print(basket)"
   ]
  },
  {
   "cell_type": "markdown",
   "id": "29e7dc4d-b562-4291-91e0-e1aaceda0b78",
   "metadata": {},
   "source": [
    "##### list patterns"
   ]
  },
  {
   "cell_type": "code",
   "execution_count": 78,
   "id": "f894aa81-3756-4b04-af41-fee7ce8d4864",
   "metadata": {},
   "outputs": [
    {
     "name": "stdout",
     "output_type": "stream",
     "text": [
      "range(1, 100)\n",
      "[1, 2, 3, 4, 5, 6, 7, 8, 9, 10, 11, 12, 13, 14, 15, 16, 17, 18, 19, 20, 21, 22, 23, 24, 25, 26, 27, 28, 29, 30, 31, 32, 33, 34, 35, 36, 37, 38, 39, 40, 41, 42, 43, 44, 45, 46, 47, 48, 49, 50, 51, 52, 53, 54, 55, 56, 57, 58, 59, 60, 61, 62, 63, 64, 65, 66, 67, 68, 69, 70, 71, 72, 73, 74, 75, 76, 77, 78, 79, 80, 81, 82, 83, 84, 85, 86, 87, 88, 89, 90, 91, 92, 93, 94, 95, 96, 97, 98, 99]\n",
      "[0, 1, 2, 3, 4, 5, 6, 7, 8, 9, 10, 11, 12, 13, 14, 15, 16, 17, 18, 19, 20, 21, 22, 23, 24, 25, 26, 27, 28, 29, 30, 31, 32, 33, 34, 35, 36, 37, 38, 39, 40, 41, 42, 43, 44, 45, 46, 47, 48, 49, 50, 51, 52, 53, 54, 55, 56, 57, 58, 59, 60, 61, 62, 63, 64, 65, 66, 67, 68, 69, 70, 71, 72, 73, 74, 75, 76, 77, 78, 79, 80, 81, 82, 83, 84, 85, 86, 87, 88, 89, 90, 91, 92, 93, 94, 95, 96, 97, 98, 99]\n"
     ]
    }
   ],
   "source": [
    "print(range(1,100))\n",
    "\n",
    "print(list(range(1,100)))\n",
    "\n",
    "print(list(range(100)))"
   ]
  },
  {
   "cell_type": "code",
   "execution_count": 79,
   "id": "06c6d0d3-d6d9-4eda-802b-34197f4a15ce",
   "metadata": {},
   "outputs": [
    {
     "name": "stdout",
     "output_type": "stream",
     "text": [
      "!\n",
      "hi!my!name!is!JoJo\n",
      "hi_my_name_is_JoJo\n"
     ]
    }
   ],
   "source": [
    "sentence = '!'\n",
    "new_sentence = sentence.join(['hi', 'my', 'name', 'is', 'JoJo'])\n",
    "print(sentence)\n",
    "print(new_sentence)\n",
    "\n",
    "new_line = '_'.join(['hi', 'my', 'name', 'is', 'JoJo'])\n",
    "print(new_line)"
   ]
  },
  {
   "cell_type": "markdown",
   "id": "3d60962a-9aa2-456d-a38e-27322fb06af4",
   "metadata": {},
   "source": [
    "##### list unpacking"
   ]
  },
  {
   "cell_type": "code",
   "execution_count": 80,
   "id": "6d66c590-db2e-4f61-9624-9b9e58ab7ab0",
   "metadata": {},
   "outputs": [
    {
     "name": "stdout",
     "output_type": "stream",
     "text": [
      "1\n",
      "2\n",
      "3\n",
      "4\n",
      "[5, 6, 7, 8, 9]\n",
      "1\n",
      "2\n",
      "3\n",
      "[4, 5, 6, 7, 8]\n",
      "9\n"
     ]
    }
   ],
   "source": [
    "a,b,c,d,*other = [1,2,3,4,5,6,7,8,9]\n",
    "print(a)\n",
    "print(b)\n",
    "print(c)\n",
    "print(d)\n",
    "print(other)\n",
    "\n",
    "a,b,c,*other,d = [1,2,3,4,5,6,7,8,9]\n",
    "print(a)\n",
    "print(b)\n",
    "print(c)\n",
    "print(other)\n",
    "print(d)"
   ]
  },
  {
   "cell_type": "markdown",
   "id": "0880febe-a4fa-4b85-9f24-9e6bfda4b2ab",
   "metadata": {},
   "source": [
    "### 1.f None\n",
    "* a special data type that exists in python\n",
    "* most l;anguages have something like this to represent the absence of value. eg: null"
   ]
  },
  {
   "cell_type": "code",
   "execution_count": 81,
   "id": "ec866044-a958-4783-af5c-5e9a1c35dec7",
   "metadata": {},
   "outputs": [
    {
     "name": "stdout",
     "output_type": "stream",
     "text": [
      "None\n"
     ]
    }
   ],
   "source": [
    "weapons = None\n",
    "print(weapons)"
   ]
  },
  {
   "cell_type": "markdown",
   "id": "38e3e757-2995-4e51-9b25-07c92697fd23",
   "metadata": {},
   "source": [
    "### 1.g dictonary (dict) \n",
    "* in other languages, it maybe called a hashtable, maybe map or object.\n",
    "* it is a data type in python\n",
    "  * but, it is also a data structure.\n",
    "* an unordered key-value pair"
   ]
  },
  {
   "cell_type": "markdown",
   "id": "d2d15d77-fca8-4e97-b236-361771d1fcb2",
   "metadata": {},
   "source": [
    "* curly brackets denote  adictionary\n",
    "* unlike a list, we have what we call a key:value pair.\n",
    "* key is a string for us to grab the value."
   ]
  },
  {
   "cell_type": "code",
   "execution_count": 82,
   "id": "eee37452-1c17-4867-bd8f-658ceb27de8c",
   "metadata": {},
   "outputs": [
    {
     "name": "stdout",
     "output_type": "stream",
     "text": [
      "{'a': 1, 'b': 2, 'x': 3}\n"
     ]
    }
   ],
   "source": [
    "dictionary = {\n",
    "    'a':1,\n",
    "    'b':2,\n",
    "    'x':3\n",
    "}\n",
    "print(dictionary)"
   ]
  },
  {
   "cell_type": "markdown",
   "id": "257975bc-969e-436a-ae96-780e22c0f636",
   "metadata": {},
   "source": [
    "##### accessing value"
   ]
  },
  {
   "cell_type": "code",
   "execution_count": 83,
   "id": "70fe6376-c5c8-4deb-8c8f-c4534cbef9aa",
   "metadata": {},
   "outputs": [
    {
     "name": "stdout",
     "output_type": "stream",
     "text": [
      "1\n"
     ]
    }
   ],
   "source": [
    "print(dictionary['a'])"
   ]
  },
  {
   "cell_type": "code",
   "execution_count": 84,
   "id": "bd8a0fc4-3867-48ed-bfb3-8fe07de29e5a",
   "metadata": {},
   "outputs": [
    {
     "name": "stdout",
     "output_type": "stream",
     "text": [
      "{'a': [1, 2, 3], 'b': 'hello', 'x': True}\n",
      "[1, 2, 3]\n",
      "2\n"
     ]
    }
   ],
   "source": [
    "# list inside dict\n",
    "dictionary = {\n",
    "    'a': [1,2,3],\n",
    "    'b': \"hello\",\n",
    "    'x': True\n",
    "}\n",
    "print(dictionary)\n",
    "print(dictionary['a'])\n",
    "print(dictionary['a'][1])"
   ]
  },
  {
   "cell_type": "code",
   "execution_count": 85,
   "id": "80d88fac-a7b7-48b8-be0d-b372321ea7d6",
   "metadata": {},
   "outputs": [
    {
     "name": "stdout",
     "output_type": "stream",
     "text": [
      "hello\n",
      "3\n"
     ]
    }
   ],
   "source": [
    "# dict inside list\n",
    "my_list = [\n",
    "    {\n",
    "        'a':1,\n",
    "        'b':2,\n",
    "        'x':3\n",
    "    },\n",
    "    {\n",
    "        'a': [1,2,3],\n",
    "        'b': \"hello\",\n",
    "        'x': True\n",
    "    }\n",
    "]\n",
    "print(my_list[1]['b'])\n",
    "print(my_list[1]['a'][2])"
   ]
  },
  {
   "cell_type": "markdown",
   "id": "bd80524c-5962-4cd0-95fc-6904b548d07d",
   "metadata": {},
   "source": [
    "##### dictionary keys"
   ]
  },
  {
   "cell_type": "code",
   "execution_count": 86,
   "id": "e27872f7-4dec-4efb-8caa-9cd1290d79f4",
   "metadata": {},
   "outputs": [
    {
     "name": "stdout",
     "output_type": "stream",
     "text": [
      "[1, 2, 3]\n",
      "hello\n"
     ]
    }
   ],
   "source": [
    "dictionary = {\n",
    "    123: [1,2,3],\n",
    "    True: \"hello\",\n",
    "    'x': True\n",
    "}\n",
    "print(dictionary[123])\n",
    "print(dictionary[True])"
   ]
  },
  {
   "cell_type": "code",
   "execution_count": 87,
   "id": "2fce1780-9470-40c3-88d7-d9c10923e469",
   "metadata": {},
   "outputs": [
    {
     "ename": "TypeError",
     "evalue": "unhashable type: 'list'",
     "output_type": "error",
     "traceback": [
      "\u001b[1;31m---------------------------------------------------------------------------\u001b[0m",
      "\u001b[1;31mTypeError\u001b[0m                                 Traceback (most recent call last)",
      "Cell \u001b[1;32mIn[87], line 1\u001b[0m\n\u001b[1;32m----> 1\u001b[0m dictionary \u001b[38;5;241m=\u001b[39m {\n\u001b[0;32m      2\u001b[0m     \u001b[38;5;241m123\u001b[39m: [\u001b[38;5;241m1\u001b[39m,\u001b[38;5;241m2\u001b[39m,\u001b[38;5;241m3\u001b[39m],\n\u001b[0;32m      3\u001b[0m     \u001b[38;5;28;01mTrue\u001b[39;00m: \u001b[38;5;124m\"\u001b[39m\u001b[38;5;124mhello\u001b[39m\u001b[38;5;124m\"\u001b[39m,\n\u001b[0;32m      4\u001b[0m     [\u001b[38;5;241m100\u001b[39m]: \u001b[38;5;28;01mTrue\u001b[39;00m\n\u001b[0;32m      5\u001b[0m }\n\u001b[0;32m      6\u001b[0m \u001b[38;5;28mprint\u001b[39m(dictionary[\u001b[38;5;241m100\u001b[39m])\n",
      "\u001b[1;31mTypeError\u001b[0m: unhashable type: 'list'"
     ]
    }
   ],
   "source": [
    "dictionary = {\n",
    "    123: [1,2,3],\n",
    "    True: \"hello\",\n",
    "    [100]: True\n",
    "}\n",
    "print(dictionary[100])"
   ]
  },
  {
   "cell_type": "markdown",
   "id": "5c2a0428-cd57-4827-87d0-48188afcf21e",
   "metadata": {},
   "source": [
    "##### Note: above error\n",
    "Reason: a key needs to be immutable i.e., it cannot be changed. a list if a mutable object."
   ]
  },
  {
   "cell_type": "code",
   "execution_count": 88,
   "id": "02b23fd7-28dd-4fc2-bbfa-fe8702e70a88",
   "metadata": {},
   "outputs": [
    {
     "name": "stdout",
     "output_type": "stream",
     "text": [
      "hello\n"
     ]
    }
   ],
   "source": [
    "dictionary = {\n",
    "    'a': [1,2,3],\n",
    "    'a': \"hello\",\n",
    "}\n",
    "print(dictionary['a'])"
   ]
  },
  {
   "cell_type": "markdown",
   "id": "eb1bf92c-f08f-419d-90b4-d948365cdf76",
   "metadata": {},
   "source": [
    "##### note: unique key req\n",
    "* a key in a dictionary has to be unique, because there can only be one key, because that key is going represent a bookshelf in that memory space.\n",
    "* so, anytime w edo the same key and maybe add a value, it is going to overwrite."
   ]
  },
  {
   "cell_type": "markdown",
   "id": "6a58d3e4-f639-44cf-a230-2151d13f9dfc",
   "metadata": {},
   "source": [
    "##### dictionary methods"
   ]
  },
  {
   "cell_type": "code",
   "execution_count": 89,
   "id": "9822051b-43d7-406b-8fe2-2b158fdd4d3a",
   "metadata": {},
   "outputs": [
    {
     "name": "stdout",
     "output_type": "stream",
     "text": [
      "None\n",
      "hello\n",
      "55\n",
      "{'basket': [1, 2, 3], 'greet': 'hello'}\n",
      "hello\n"
     ]
    }
   ],
   "source": [
    "user = {\n",
    "    'basket':[1,2,3],\n",
    "    'greet': 'hello'\n",
    "}\n",
    "print(user.get('age'))\n",
    "print(user.get('greet'))\n",
    "\n",
    "print(user.get('age', 55)) #if age doesnt exist, then return 55\n",
    "print(user)\n",
    "\n",
    "print(user.get('greet', 'hi')) # here, greet exists, so returns hello"
   ]
  },
  {
   "cell_type": "markdown",
   "id": "26e55dec-975d-4ea9-a97e-ebe2192786ba",
   "metadata": {},
   "source": [
    "##### alternate way to create  adictionary\n",
    "* dictionary = dict(key=value)"
   ]
  },
  {
   "cell_type": "code",
   "execution_count": 90,
   "id": "4bb230ba-5872-408c-9ac2-d7e485f432ab",
   "metadata": {},
   "outputs": [
    {
     "name": "stdout",
     "output_type": "stream",
     "text": [
      "{'name': 'sharmila'}\n",
      "sharmila\n"
     ]
    }
   ],
   "source": [
    "user2 = dict(name ='sharmila')\n",
    "print(user2)\n",
    "print(user2.get('name'))"
   ]
  },
  {
   "cell_type": "code",
   "execution_count": 91,
   "id": "a281ec35-9233-4cf6-8e4f-8b5237c1f466",
   "metadata": {},
   "outputs": [
    {
     "name": "stdout",
     "output_type": "stream",
     "text": [
      "True\n",
      "False\n",
      "True\n",
      "True\n",
      "{'basket': [1, 2, 3], 'greet': 'hello', 'age': 20}\n",
      "dict_items([('basket', [1, 2, 3]), ('greet', 'hello'), ('age', 20)])\n",
      "{}\n"
     ]
    }
   ],
   "source": [
    "user = {\n",
    "    'basket':[1,2,3],\n",
    "    'greet': 'hello',\n",
    "    'age': 20\n",
    "}\n",
    "print('basket' in user)\n",
    "print('size' in user)\n",
    "\n",
    "print('age' in user.keys())\n",
    "print('hello' in user.values())\n",
    "\n",
    "print(user)\n",
    "print(user.items()) # returns the values in tuple\n",
    "\n",
    "user.clear()\n",
    "print(user)"
   ]
  },
  {
   "cell_type": "code",
   "execution_count": 92,
   "id": "b3f3775e-913e-4457-8438-95a7ac43acc8",
   "metadata": {},
   "outputs": [
    {
     "name": "stdout",
     "output_type": "stream",
     "text": [
      "None\n",
      "{}\n",
      "{'basket': [1, 2, 3], 'greet': 'hello', 'age': 20}\n"
     ]
    }
   ],
   "source": [
    "user = {\n",
    "    'basket':[1,2,3],\n",
    "    'greet': 'hello',\n",
    "    'age': 20\n",
    "}\n",
    "user1 = user.copy()\n",
    "print(user.clear())\n",
    "print(user)\n",
    "print(user1)"
   ]
  },
  {
   "cell_type": "code",
   "execution_count": 93,
   "id": "1d4d4469-8219-4825-be2c-b5badbd974f7",
   "metadata": {},
   "outputs": [
    {
     "name": "stdout",
     "output_type": "stream",
     "text": [
      "20\n",
      "{'basket': [1, 2, 3], 'greet': 'hello'}\n"
     ]
    }
   ],
   "source": [
    "user = {\n",
    "    'basket':[1,2,3],\n",
    "    'greet': 'hello',\n",
    "    'age': 20\n",
    "}\n",
    "print(user.pop('age')) # returns the value of whatever is removed \n",
    "print(user)"
   ]
  },
  {
   "cell_type": "code",
   "execution_count": 94,
   "id": "ceb3e68f-0511-4680-9164-e1ceb091e131",
   "metadata": {},
   "outputs": [
    {
     "name": "stdout",
     "output_type": "stream",
     "text": [
      "('age', 20)\n",
      "{'basket': [1, 2, 3], 'greet': 'hello'}\n"
     ]
    }
   ],
   "source": [
    "user = {\n",
    "    'basket':[1,2,3],\n",
    "    'greet': 'hello',\n",
    "    'age': 20\n",
    "}\n",
    "print(user.popitem()) # returns a randomly removed on the dict is removed\n",
    "print(user)\n",
    "\n",
    "# popitem() is useful to destructively iterate over a dictionary"
   ]
  },
  {
   "cell_type": "code",
   "execution_count": 95,
   "id": "32ae5013-df4f-4032-b91a-2d62ba65c482",
   "metadata": {},
   "outputs": [
    {
     "name": "stdout",
     "output_type": "stream",
     "text": [
      "{'basket': [1, 2, 3], 'greet': 'hello', 'age': 55}\n",
      "{'basket': [1, 2, 3], 'greet': 'hello', 'age': 55, 'height': 123}\n"
     ]
    }
   ],
   "source": [
    "user = {\n",
    "    'basket':[1,2,3],\n",
    "    'greet': 'hello',\n",
    "    'age': 20\n",
    "}\n",
    "\n",
    "user.update({'age': 55})\n",
    "print(user)\n",
    "\n",
    "user.update({'height': 123})\n",
    "print(user)"
   ]
  },
  {
   "cell_type": "markdown",
   "id": "69fc83d1-2cd6-43e9-9d01-662ca0af0986",
   "metadata": {},
   "source": [
    "### 1.h tuple\n",
    "* are like lists, but unlike lists cannot be modified. i.e.., they are immutable.\n",
    "* () are used to represent a tuple."
   ]
  },
  {
   "cell_type": "code",
   "execution_count": 96,
   "id": "20606316-b590-4da1-92f0-cb40ce3ede4c",
   "metadata": {},
   "outputs": [
    {
     "name": "stdout",
     "output_type": "stream",
     "text": [
      "(1, 2, 3, 4, 5)\n"
     ]
    }
   ],
   "source": [
    "my_tuple = (1,2,3,4,5)\n",
    "print(my_tuple)"
   ]
  },
  {
   "cell_type": "code",
   "execution_count": 97,
   "id": "7e62c779-5019-4ae1-8912-a484cc5d9065",
   "metadata": {},
   "outputs": [
    {
     "name": "stdout",
     "output_type": "stream",
     "text": [
      "2\n"
     ]
    }
   ],
   "source": [
    "print(my_tuple[1])"
   ]
  },
  {
   "cell_type": "code",
   "execution_count": 100,
   "id": "4e93d522-8cc4-48b0-a4fb-a6b0a67e6893",
   "metadata": {},
   "outputs": [
    {
     "ename": "TypeError",
     "evalue": "'tuple' object does not support item assignment",
     "output_type": "error",
     "traceback": [
      "\u001b[1;31m---------------------------------------------------------------------------\u001b[0m",
      "\u001b[1;31mTypeError\u001b[0m                                 Traceback (most recent call last)",
      "Cell \u001b[1;32mIn[100], line 1\u001b[0m\n\u001b[1;32m----> 1\u001b[0m my_tuple[\u001b[38;5;241m1\u001b[39m]\u001b[38;5;241m=\u001b[39m\u001b[38;5;124m'\u001b[39m\u001b[38;5;124mz\u001b[39m\u001b[38;5;124m'\u001b[39m\n\u001b[0;32m      2\u001b[0m \u001b[38;5;28mprint\u001b[39m(my_tuple)\n",
      "\u001b[1;31mTypeError\u001b[0m: 'tuple' object does not support item assignment"
     ]
    }
   ],
   "source": [
    "my_tuple[1]='z'\n",
    "print(my_tuple) "
   ]
  },
  {
   "cell_type": "code",
   "execution_count": 101,
   "id": "ef3dee3b-8801-4e57-88a7-f168e5e16836",
   "metadata": {},
   "outputs": [
    {
     "name": "stdout",
     "output_type": "stream",
     "text": [
      "True\n"
     ]
    }
   ],
   "source": [
    "print(5 in my_tuple)"
   ]
  },
  {
   "cell_type": "markdown",
   "id": "f0a6b1e1-8652-4b15-863b-015f051e5558",
   "metadata": {},
   "source": [
    "* it is less flexible than lists\n",
    "* it is robust unlike a list\n",
    "* it cannot be sorted, reversed\n",
    "\n",
    "#### Note:\n",
    "* code: print(user.items()) where, user is a dictionary.\n",
    "  * output: dict_items([('basket', [1, 2, 3]), ('greet', 'hello'), ('age', 20)])\n",
    "* here the tuples are\n",
    "  * ('basket', [1, 2, 3])\n",
    "  * ('greet', 'hello')\n",
    "  * ('age', 20)\n",
    "* i.e, the key-value is returned as a tuple.\n",
    "* a dict has keys that are immutable.\n",
    "  * thus, a tuple is a completely valid key in python"
   ]
  },
  {
   "cell_type": "code",
   "execution_count": 102,
   "id": "371d50bc-cdc1-4832-a6db-92405be353e5",
   "metadata": {},
   "outputs": [
    {
     "name": "stdout",
     "output_type": "stream",
     "text": [
      "[1, 2, 3]\n"
     ]
    }
   ],
   "source": [
    "user = {\n",
    "    (1,2):[1,2,3],\n",
    "    'greet': 'hello',\n",
    "    'age': 20\n",
    "}\n",
    "\n",
    "print(user[(1,2)])"
   ]
  },
  {
   "cell_type": "markdown",
   "id": "23e90a33-ab0a-4376-abe7-2743c2eca7a1",
   "metadata": {},
   "source": [
    "##### slicing"
   ]
  },
  {
   "cell_type": "code",
   "execution_count": 103,
   "id": "b3dd51d9-9bcd-4fb2-9b39-99d6ce24bd14",
   "metadata": {},
   "outputs": [
    {
     "name": "stdout",
     "output_type": "stream",
     "text": [
      "(2,)\n",
      "(2, 3, 4)\n"
     ]
    }
   ],
   "source": [
    "my_tuple = (1,2,3,4,5)\n",
    "print(my_tuple[1:2])\n",
    "print(my_tuple[1:4])"
   ]
  },
  {
   "cell_type": "code",
   "execution_count": 104,
   "id": "4f1d17c1-13a5-41f4-bcfa-4f0b0e7f7677",
   "metadata": {},
   "outputs": [
    {
     "name": "stdout",
     "output_type": "stream",
     "text": [
      "1\n",
      "2\n",
      "3\n",
      "[4, 5, 6]\n"
     ]
    }
   ],
   "source": [
    "x,y,z,*others = (1,2,3,4,5,6)\n",
    "print(x)\n",
    "print(y)\n",
    "print(z)\n",
    "print(others)"
   ]
  },
  {
   "cell_type": "code",
   "execution_count": 105,
   "id": "8ca98201-2210-4279-87e2-0f7af65e7a91",
   "metadata": {},
   "outputs": [
    {
     "name": "stdout",
     "output_type": "stream",
     "text": [
      "1\n",
      "2\n",
      "[3, 4, 5]\n",
      "6\n"
     ]
    }
   ],
   "source": [
    "x,y,*others, z = (1,2,3,4,5,6)\n",
    "print(x)\n",
    "print(y)\n",
    "print(others)\n",
    "print(z)"
   ]
  },
  {
   "cell_type": "code",
   "execution_count": 106,
   "id": "9bf38c60-587f-4c16-8620-92be3b51284a",
   "metadata": {},
   "outputs": [
    {
     "name": "stdout",
     "output_type": "stream",
     "text": [
      "2\n",
      "3\n",
      "7\n"
     ]
    }
   ],
   "source": [
    "my_tuple = (1,2,3,4,5,6,5)\n",
    "print(my_tuple.count(5))\n",
    "\n",
    "print(my_tuple.index(4))\n",
    "\n",
    "print(len(my_tuple))"
   ]
  },
  {
   "cell_type": "markdown",
   "id": "95b5ee1d-f346-496e-be19-4bc8218f8550",
   "metadata": {},
   "source": [
    "### 1.i set\n",
    "* are simply unordered collection of unique objects.\n",
    "* represented by {}"
   ]
  },
  {
   "cell_type": "code",
   "execution_count": 107,
   "id": "9e00f691-2dd5-4ca5-8ff2-f8e4508396e0",
   "metadata": {},
   "outputs": [
    {
     "name": "stdout",
     "output_type": "stream",
     "text": [
      "{1, 2, 3, 4, 5}\n"
     ]
    }
   ],
   "source": [
    "my_set = {1,2,3,4,5}\n",
    "print(my_set)"
   ]
  },
  {
   "cell_type": "code",
   "execution_count": 108,
   "id": "aeb8b5c0-7f92-4c51-af4f-9290b397641e",
   "metadata": {},
   "outputs": [
    {
     "name": "stdout",
     "output_type": "stream",
     "text": [
      "{1, 2, 3, 4, 5}\n"
     ]
    }
   ],
   "source": [
    "my_set = {1,2,3, 1,4,5}\n",
    "print(my_set)"
   ]
  },
  {
   "cell_type": "code",
   "execution_count": 109,
   "id": "1757e18f-4487-497c-99ad-36df680f4a8f",
   "metadata": {},
   "outputs": [
    {
     "ename": "TypeError",
     "evalue": "'set' object is not subscriptable",
     "output_type": "error",
     "traceback": [
      "\u001b[1;31m---------------------------------------------------------------------------\u001b[0m",
      "\u001b[1;31mTypeError\u001b[0m                                 Traceback (most recent call last)",
      "Cell \u001b[1;32mIn[109], line 1\u001b[0m\n\u001b[1;32m----> 1\u001b[0m \u001b[38;5;28mprint\u001b[39m(my_set[\u001b[38;5;241m1\u001b[39m])\n",
      "\u001b[1;31mTypeError\u001b[0m: 'set' object is not subscriptable"
     ]
    }
   ],
   "source": [
    "print(my_set[1])"
   ]
  },
  {
   "cell_type": "code",
   "execution_count": 110,
   "id": "55730089-55a9-404b-9172-e6953b37bf30",
   "metadata": {},
   "outputs": [
    {
     "name": "stdout",
     "output_type": "stream",
     "text": [
      "True\n"
     ]
    }
   ],
   "source": [
    "print(1 in my_set)"
   ]
  },
  {
   "cell_type": "code",
   "execution_count": 111,
   "id": "8b9f5bee-8d42-4d42-80f9-77b80a3f6d7a",
   "metadata": {},
   "outputs": [
    {
     "name": "stdout",
     "output_type": "stream",
     "text": [
      "{1, 2, 3, 4, 5}\n",
      "[0, 6, 7, 8, 9]\n"
     ]
    }
   ],
   "source": [
    "my_list = [1,2,3,4,5] \n",
    "print(set(my_list)) # convert list into set\n",
    "\n",
    "my_set = {6,7,8,9,0}\n",
    "print(list(my_set)) # convert set into list"
   ]
  },
  {
   "cell_type": "code",
   "execution_count": 112,
   "id": "088fc4c9-c2d6-4f5b-8713-c28edd30da62",
   "metadata": {},
   "outputs": [
    {
     "name": "stdout",
     "output_type": "stream",
     "text": [
      "{0, 6, 7, 8, 9}\n"
     ]
    }
   ],
   "source": [
    "new_set = my_set.copy()\n",
    "print(new_set)"
   ]
  },
  {
   "cell_type": "code",
   "execution_count": 113,
   "id": "c3092674-4647-436a-b08d-73c7d1b451c6",
   "metadata": {},
   "outputs": [
    {
     "name": "stdout",
     "output_type": "stream",
     "text": [
      "set()\n"
     ]
    }
   ],
   "source": [
    "my_set.clear()\n",
    "print(my_set)"
   ]
  },
  {
   "cell_type": "markdown",
   "id": "a7a9887c-4b9e-43a6-99a9-0ea49cb2b241",
   "metadata": {},
   "source": [
    "##### set methods"
   ]
  },
  {
   "cell_type": "code",
   "execution_count": 114,
   "id": "0f23ac91-fccd-4238-a78f-756e9bfa05a3",
   "metadata": {},
   "outputs": [
    {
     "name": "stdout",
     "output_type": "stream",
     "text": [
      "{1, 2, 3}\n",
      "None\n",
      "{1, 2, 3, 4}\n",
      "None\n",
      "{1, 2, 3}\n",
      "{4, 5}\n",
      "{4, 5}\n",
      "False\n",
      "False\n",
      "False\n",
      "{1, 2, 3, 4, 5, 6, 7, 8, 9, 10}\n",
      "{1, 2, 3, 4, 5, 6, 7, 8, 9, 10}\n"
     ]
    }
   ],
   "source": [
    "my_set = {1,2,3,4,5}\n",
    "your_set = {4,5,6,7,8,9,10}\n",
    "\n",
    "print(my_set.difference(your_set))\n",
    "\n",
    "print(my_set.discard(5))\n",
    "print(my_set)\n",
    "\n",
    "print(my_set.difference_update(your_set))\n",
    "print(my_set)\n",
    "\n",
    "my_set = {1,2,3,4,5}\n",
    "\n",
    "print(my_set.intersection(your_set))\n",
    "print(my_set & your_set)\n",
    "\n",
    "print(my_set.isdisjoint(your_set))\n",
    "\n",
    "print(my_set.issubset(your_set))\n",
    "\n",
    "print(my_set.issuperset(your_set))\n",
    "\n",
    "print(my_set.union(your_set))\n",
    "print(my_set | your_set)"
   ]
  },
  {
   "cell_type": "markdown",
   "id": "8ea1c972-f734-4da9-95f7-217dee83521e",
   "metadata": {},
   "source": [
    "## conditional logic"
   ]
  },
  {
   "cell_type": "code",
   "execution_count": 115,
   "id": "4d7ad6e1-5a60-4ba5-b89a-99f379808f94",
   "metadata": {},
   "outputs": [
    {
     "name": "stdout",
     "output_type": "stream",
     "text": [
      "you are old enough to drive\n",
      "always be patient\n"
     ]
    }
   ],
   "source": [
    "is_old= True\n",
    "is_licenced = True\n",
    "if is_old:\n",
    "    print('you are old enough to drive')\n",
    "else:\n",
    "    print('you are not of age')\n",
    "print('always be patient')"
   ]
  },
  {
   "cell_type": "code",
   "execution_count": 116,
   "id": "6a247282-d3a1-4d3c-acfc-eca13a23aa08",
   "metadata": {},
   "outputs": [
    {
     "name": "stdout",
     "output_type": "stream",
     "text": [
      "you are old enough to drive\n",
      "always be patient\n"
     ]
    }
   ],
   "source": [
    "is_old= True\n",
    "is_licenced = True\n",
    "if is_old:\n",
    "    print('you are old enough to drive')\n",
    "elif is_licenced:\n",
    "    print('yoy can drive')\n",
    "else:\n",
    "    print('you are not of age')\n",
    "print('always be patient')"
   ]
  },
  {
   "cell_type": "code",
   "execution_count": 117,
   "id": "ed053cb7-728a-45eb-abaa-f9b2d62a3386",
   "metadata": {},
   "outputs": [
    {
     "name": "stdout",
     "output_type": "stream",
     "text": [
      "yoy can drive\n",
      "always be patient\n"
     ]
    }
   ],
   "source": [
    "is_old= False\n",
    "is_licenced = True\n",
    "\n",
    "if is_old:\n",
    "    print('you are old enough to drive')\n",
    "elif is_licenced:\n",
    "    print('yoy can drive')\n",
    "else:\n",
    "    print('you are not of age')\n",
    "print('always be patient')"
   ]
  },
  {
   "cell_type": "code",
   "execution_count": 118,
   "id": "122fe70b-8577-4fa6-a701-3dc0f09a06a9",
   "metadata": {},
   "outputs": [
    {
     "name": "stdout",
     "output_type": "stream",
     "text": [
      "you are not of age\n",
      "always be patient\n"
     ]
    }
   ],
   "source": [
    "is_old= False\n",
    "is_licenced = False\n",
    "\n",
    "if is_old:\n",
    "    print('you are old enough to drive')\n",
    "elif is_licenced:\n",
    "    print('yoy can drive')\n",
    "else:\n",
    "    print('you are not of age')\n",
    "print('always be patient')"
   ]
  },
  {
   "cell_type": "markdown",
   "id": "7b3ad129-9a2c-41e6-8663-092190880ff7",
   "metadata": {},
   "source": [
    "#### and operator\n",
    "* true and true = true\n",
    "* true and false = false\n",
    "* false and true = false\n",
    "* false and false = false"
   ]
  },
  {
   "cell_type": "code",
   "execution_count": 119,
   "id": "de740926-4f14-4757-a4d4-083682a33686",
   "metadata": {},
   "outputs": [
    {
     "name": "stdout",
     "output_type": "stream",
     "text": [
      "you can drive\n",
      "always be patient\n"
     ]
    }
   ],
   "source": [
    "is_old = True\n",
    "is_licenced = True\n",
    "\n",
    "if is_old and is_licenced:\n",
    "    print('you can drive')\n",
    "else:\n",
    "    print('you can\\'t drive')\n",
    "print('always be patient')"
   ]
  },
  {
   "cell_type": "code",
   "execution_count": 120,
   "id": "d5206b44-6c12-4e51-b75c-02fdac9cd01a",
   "metadata": {},
   "outputs": [
    {
     "name": "stdout",
     "output_type": "stream",
     "text": [
      "you can't drive\n",
      "always be patient\n"
     ]
    }
   ],
   "source": [
    "is_old = True\n",
    "is_licenced = False\n",
    "\n",
    "if is_old and is_licenced:\n",
    "    print('you can drive')\n",
    "else:\n",
    "    print('you can\\'t drive')\n",
    "print('always be patient')"
   ]
  },
  {
   "cell_type": "code",
   "execution_count": 121,
   "id": "00f091c5-6ad5-4c0d-af0f-531af832a697",
   "metadata": {},
   "outputs": [
    {
     "name": "stdout",
     "output_type": "stream",
     "text": [
      "you can't drive\n",
      "always be patient\n"
     ]
    }
   ],
   "source": [
    "is_old = False\n",
    "is_licenced = True\n",
    "\n",
    "if is_old and is_licenced:\n",
    "    print('you can drive')\n",
    "else:\n",
    "    print('you can\\'t drive')\n",
    "print('always be patient')"
   ]
  },
  {
   "cell_type": "code",
   "execution_count": 122,
   "id": "080f21b7-b325-4785-8bb3-559f3f2a974a",
   "metadata": {},
   "outputs": [
    {
     "name": "stdout",
     "output_type": "stream",
     "text": [
      "you can't drive\n",
      "always be patient\n"
     ]
    }
   ],
   "source": [
    "is_old = False\n",
    "is_licenced = False\n",
    "\n",
    "if is_old and is_licenced:\n",
    "    print('you can drive')\n",
    "else:\n",
    "    print('you can\\'t drive')\n",
    "print('always be patient')"
   ]
  },
  {
   "cell_type": "markdown",
   "id": "7f743a38-2b98-4621-9703-22bd8f3dfc6b",
   "metadata": {},
   "source": [
    "#### OR opeator\n",
    "* true or true = true\n",
    "* true or false = true\n",
    "* false or true = true\n",
    "* false or false = false"
   ]
  },
  {
   "cell_type": "code",
   "execution_count": 123,
   "id": "47df2c2d-fb0c-4003-8386-119130035b83",
   "metadata": {},
   "outputs": [
    {
     "name": "stdout",
     "output_type": "stream",
     "text": [
      "integer\n",
      "number\n"
     ]
    }
   ],
   "source": [
    "is_positive = True\n",
    "is_negative =  True\n",
    "\n",
    "if is_positive or is_negative:\n",
    "    print('integer')\n",
    "else:\n",
    "    print('zero')\n",
    "print('number')"
   ]
  },
  {
   "cell_type": "code",
   "execution_count": 124,
   "id": "cfd19664-5dba-4684-b648-b840c59c442e",
   "metadata": {},
   "outputs": [
    {
     "name": "stdout",
     "output_type": "stream",
     "text": [
      "integer\n",
      "number\n"
     ]
    }
   ],
   "source": [
    "is_positive = True\n",
    "is_negative =  False\n",
    "\n",
    "if is_positive or is_negative:\n",
    "    print('integer')\n",
    "else:\n",
    "    print('zero')\n",
    "print('number')"
   ]
  },
  {
   "cell_type": "code",
   "execution_count": 125,
   "id": "4aa7481a-71b0-4ce0-8fde-c588da69b432",
   "metadata": {},
   "outputs": [
    {
     "name": "stdout",
     "output_type": "stream",
     "text": [
      "integer\n",
      "number\n"
     ]
    }
   ],
   "source": [
    "is_positive = False\n",
    "is_negative =  True\n",
    "\n",
    "if is_positive or is_negative:\n",
    "    print('integer')\n",
    "else:\n",
    "    print('zero')\n",
    "print('number')"
   ]
  },
  {
   "cell_type": "code",
   "execution_count": 126,
   "id": "afe18d9c-18b9-4b78-85e5-bc27c4db6937",
   "metadata": {},
   "outputs": [
    {
     "name": "stdout",
     "output_type": "stream",
     "text": [
      "zero\n",
      "number\n"
     ]
    }
   ],
   "source": [
    "is_positive = False\n",
    "is_negative =  False\n",
    "\n",
    "if is_positive or is_negative:\n",
    "    print('integer')\n",
    "else:\n",
    "    print('zero')\n",
    "print('number')"
   ]
  },
  {
   "cell_type": "markdown",
   "id": "27ff732a-ce3b-4cf2-837a-ae35e421be66",
   "metadata": {},
   "source": [
    "## indentation\n",
    "spaces(2) or tab(1)"
   ]
  },
  {
   "cell_type": "markdown",
   "id": "85d7822d-eeed-44c0-bbe6-bd9474e15880",
   "metadata": {},
   "source": [
    "## truthy and falsy"
   ]
  },
  {
   "cell_type": "markdown",
   "id": "4040833f-f764-4976-8175-3b8bc845c430",
   "metadata": {},
   "source": [
    "### truthy values\n",
    "when boolean type conversion is run on a value evaluates as true, then such values as called truthy values"
   ]
  },
  {
   "cell_type": "code",
   "execution_count": 127,
   "id": "5f93e82e-53bd-4ab6-97e2-89c0ffa2b77a",
   "metadata": {},
   "outputs": [
    {
     "name": "stdout",
     "output_type": "stream",
     "text": [
      "real values: \n",
      "hello <class 'str'>\n",
      "5 <class 'int'>\n",
      "\n",
      "bool values taken as, by the if block\n",
      "True\n",
      "True\n",
      "\n",
      "result of if\n",
      "you can drive\n",
      "always be patient\n"
     ]
    }
   ],
   "source": [
    "is_old = 'hello'\n",
    "is_licenced = 5\n",
    "\n",
    "print('real values: ')\n",
    "print(is_old, type(is_old))\n",
    "print(is_licenced, type(is_licenced))\n",
    "\n",
    "print('\\nbool values taken as, by the if block')\n",
    "print(bool(is_old))\n",
    "print(bool(is_licenced))\n",
    "\n",
    "print('\\nresult of if')\n",
    "if is_old and is_licenced:\n",
    "    print('you can drive')\n",
    "else:\n",
    "    print('you can\\'t drive')\n",
    "print('always be patient')"
   ]
  },
  {
   "cell_type": "markdown",
   "id": "ead80e56-db3b-468f-9c37-a6e3e2e3eb24",
   "metadata": {},
   "source": [
    "#### Note:\n",
    "* what happened here is, Python converts 'hello' and 5 to booleans.\n",
    "* 'hello' is equivalent to bool('hello') and 5 is equivalent to bool(5)\n",
    "* but, if u print the variables. their data types remain intact."
   ]
  },
  {
   "cell_type": "markdown",
   "id": "ce6080af-e9fd-41e9-ab13-8572f121322c",
   "metadata": {},
   "source": [
    "### falsy values\n",
    "when boolean type conversion is run on a value evaluates as false, then such values as called falsy values"
   ]
  },
  {
   "cell_type": "code",
   "execution_count": 128,
   "id": "7e0a97bb-fa5d-4fb9-ba84-1a0966ecd9ed",
   "metadata": {},
   "outputs": [
    {
     "name": "stdout",
     "output_type": "stream",
     "text": [
      "real values: \n",
      " <class 'str'>\n",
      "0 <class 'int'>\n",
      "\n",
      "bool values taken as, by the if block\n",
      "False\n",
      "False\n",
      "\n",
      "result of if\n",
      "you can't drive\n",
      "always be patient\n"
     ]
    }
   ],
   "source": [
    "is_old = ''\n",
    "is_licenced = 0\n",
    "\n",
    "print('real values: ')\n",
    "print(is_old, type(is_old))\n",
    "print(is_licenced, type(is_licenced))\n",
    "\n",
    "print('\\nbool values taken as, by the if block')\n",
    "print(bool(is_old))\n",
    "print(bool(is_licenced))\n",
    "\n",
    "print('\\nresult of if')\n",
    "if is_old and is_licenced:\n",
    "    print('you can drive')\n",
    "else:\n",
    "    print('you can\\'t drive')\n",
    "print('always be patient')"
   ]
  },
  {
   "cell_type": "markdown",
   "id": "ee4204f1-b858-4c76-a0fb-caac3e4d7182",
   "metadata": {},
   "source": [
    "### Note: \n",
    "all vallues are considered Truthry except:\n",
    "* None\n",
    "* False\n",
    "* 0\n",
    "* 0.0\n",
    "* 0j\n",
    "* Decimal(0)\n",
    "* Fraction(0,1)\n",
    "* [] - empty list\n",
    "* {} - empty dict\n",
    "* () - empty tuple\n",
    "* '' - empty string\n",
    "* b'' - empty bytes\n",
    "* set() - empty set\n",
    "* empty range, range(0)\n",
    "* objects for which:\n",
    "  * obj.__ bool__() returns false\n",
    "  * obj.__ len__() returns 0"
   ]
  },
  {
   "cell_type": "markdown",
   "id": "ae57de64-10e3-4aa6-8b7a-522f1c49658d",
   "metadata": {},
   "source": [
    "## Ternary operator / conditional expressions\n",
    "* another way to do conditional logic - shortcuyt\n",
    "* is an operation that evaluates to something based on a condition being True or not.\n",
    "* is a new feature of python as of version 2.4\n",
    "\n",
    "##### condition_if_true if condition else condition_if_false"
   ]
  },
  {
   "cell_type": "code",
   "execution_count": 129,
   "id": "22f86e37-0fc6-446c-b0c9-fac2113063f4",
   "metadata": {},
   "outputs": [
    {
     "name": "stdout",
     "output_type": "stream",
     "text": [
      "message allowed\n"
     ]
    }
   ],
   "source": [
    "is_friend = True\n",
    "\n",
    "can_message = 'message allowed' if is_friend else 'message not allowed'\n",
    "\n",
    "print(can_message)"
   ]
  },
  {
   "cell_type": "code",
   "execution_count": 130,
   "id": "183a9c00-2adb-4b70-9288-61bf67a2fe5d",
   "metadata": {},
   "outputs": [
    {
     "name": "stdout",
     "output_type": "stream",
     "text": [
      "message not allowed\n"
     ]
    }
   ],
   "source": [
    "is_friend = False\n",
    "\n",
    "can_message = 'message allowed' if is_friend else 'message not allowed'\n",
    "\n",
    "print(can_message)"
   ]
  },
  {
   "cell_type": "markdown",
   "id": "a4ede70e-77dd-4b82-9e5a-f87ad85c527d",
   "metadata": {},
   "source": [
    "## Short Circuiting\n",
    "* AND OPERATION\n",
    "  * rue(1) AND True(1) -> True(1)\n",
    "  * True(1) AND False(0) -> False(0)\n",
    "  * False(0) AND True(1) -> False(0)\n",
    "  * False(0) AND False(0) -> False(0)\n",
    "* OR OPERATION\n",
    "  * True(1) OR True(1) -> True(1)\n",
    "  * True(1) OR False(0) -> True(1)\n",
    "  * False(0) OR True(1) -> True(1)\n",
    "  * False(0) OR False(0) -> False(0)"
   ]
  },
  {
   "cell_type": "markdown",
   "id": "a87db20f-14c6-4a4b-bfed-52439ea2af04",
   "metadata": {},
   "source": [
    "## logical operators\n",
    "* allows us to perform logic between two things\n",
    "* includes:\n",
    "  * and\n",
    "  * or\n",
    "  * not\n",
    "  * (greater than) >\n",
    "  * (greater than or equal to) >=\n",
    "  * (lesser than) <\n",
    "  * (lesser than or equal to) <=\n",
    "  * (equal to) ==\n",
    "  * (not equal to) !="
   ]
  },
  {
   "cell_type": "markdown",
   "id": "33bc3665-9945-472d-9b3d-6f23f1cdc9ea",
   "metadata": {},
   "source": [
    "## is vs ==\n",
    "#### == checks for equality or equality of values"
   ]
  },
  {
   "cell_type": "code",
   "execution_count": 131,
   "id": "c86434da-75fd-4de4-82c4-8709f8d384f6",
   "metadata": {},
   "outputs": [
    {
     "name": "stdout",
     "output_type": "stream",
     "text": [
      "True\n"
     ]
    }
   ],
   "source": [
    "print(True == 1)"
   ]
  },
  {
   "cell_type": "markdown",
   "id": "cfa2cfee-53cf-4f16-a438-d903c64e2557",
   "metadata": {},
   "source": [
    "here, True amd 1 are of two different types i.e, bool and int respectively. but, python will convert them into the same type. i.e., here, 1 will be equivalent to bool(1) which is True."
   ]
  },
  {
   "cell_type": "code",
   "execution_count": 132,
   "id": "84e34e72-840b-417c-b95e-48596e03ce67",
   "metadata": {},
   "outputs": [
    {
     "name": "stdout",
     "output_type": "stream",
     "text": [
      "False\n"
     ]
    }
   ],
   "source": [
    "print('' == 1)"
   ]
  },
  {
   "cell_type": "markdown",
   "id": "63af44ec-a328-4609-a185-709646d7289c",
   "metadata": {},
   "source": [
    "here, \n",
    "* '' is empty string and so is a falsy value = false\n",
    "* 1 is equivalent to bool(1) = true"
   ]
  },
  {
   "cell_type": "code",
   "execution_count": 133,
   "id": "c89b160d-92c7-4a8b-94ee-ffda0a6691bb",
   "metadata": {},
   "outputs": [
    {
     "name": "stdout",
     "output_type": "stream",
     "text": [
      "False\n"
     ]
    }
   ],
   "source": [
    "print([] == 1)"
   ]
  },
  {
   "cell_type": "markdown",
   "id": "c3d678cf-e6c6-43b2-b629-9e47e8396319",
   "metadata": {},
   "source": [
    "here,\r\n",
    "* [] is empty list and so is a falsy value = false\n",
    "* 1 is equivalent to bool(1) = truerue"
   ]
  },
  {
   "cell_type": "code",
   "execution_count": 134,
   "id": "0bb2ab7f-cc71-47c6-9b23-8280fabf5965",
   "metadata": {},
   "outputs": [
    {
     "name": "stdout",
     "output_type": "stream",
     "text": [
      "True\n"
     ]
    }
   ],
   "source": [
    "print(10 == 10.0)"
   ]
  },
  {
   "cell_type": "code",
   "execution_count": 135,
   "id": "a5e97201-3854-4ac2-8988-81cc7b3e6a20",
   "metadata": {},
   "outputs": [
    {
     "name": "stdout",
     "output_type": "stream",
     "text": [
      "True\n"
     ]
    }
   ],
   "source": [
    "print([] == [])"
   ]
  },
  {
   "cell_type": "code",
   "execution_count": 136,
   "id": "30735e38-bdb9-4e6c-86a7-0ffed67dfaea",
   "metadata": {},
   "outputs": [
    {
     "name": "stdout",
     "output_type": "stream",
     "text": [
      "False\n"
     ]
    }
   ],
   "source": [
    "print('1' == 1)"
   ]
  },
  {
   "cell_type": "code",
   "execution_count": 137,
   "id": "4243da1d-8375-4d6c-affa-63d3372593ba",
   "metadata": {},
   "outputs": [
    {
     "name": "stdout",
     "output_type": "stream",
     "text": [
      "True\n"
     ]
    }
   ],
   "source": [
    "print([1,2,3] == [1,2,3])"
   ]
  },
  {
   "cell_type": "markdown",
   "id": "f9f15629-c588-4289-af8f-79d7ecf716e2",
   "metadata": {},
   "source": [
    "#### is actually checks if the location in memory where this value is stored is the same"
   ]
  },
  {
   "cell_type": "code",
   "execution_count": 138,
   "id": "b86ef45b-0d0d-4386-9736-5365c7722fd5",
   "metadata": {},
   "outputs": [
    {
     "name": "stdout",
     "output_type": "stream",
     "text": [
      "False\n",
      "True\n",
      "False\n",
      "False\n",
      "False\n",
      "False\n",
      "False\n",
      "False\n"
     ]
    },
    {
     "name": "stderr",
     "output_type": "stream",
     "text": [
      "<>:1: SyntaxWarning: \"is\" with 'int' literal. Did you mean \"==\"?\n",
      "<>:3: SyntaxWarning: \"is\" with 'str' literal. Did you mean \"==\"?\n",
      "<>:4: SyntaxWarning: \"is\" with 'int' literal. Did you mean \"==\"?\n",
      "<>:5: SyntaxWarning: \"is\" with 'int' literal. Did you mean \"==\"?\n",
      "<>:7: SyntaxWarning: \"is\" with 'str' literal. Did you mean \"==\"?\n",
      "<>:1: SyntaxWarning: \"is\" with 'int' literal. Did you mean \"==\"?\n",
      "<>:3: SyntaxWarning: \"is\" with 'str' literal. Did you mean \"==\"?\n",
      "<>:4: SyntaxWarning: \"is\" with 'int' literal. Did you mean \"==\"?\n",
      "<>:5: SyntaxWarning: \"is\" with 'int' literal. Did you mean \"==\"?\n",
      "<>:7: SyntaxWarning: \"is\" with 'str' literal. Did you mean \"==\"?\n",
      "C:\\Users\\jeevi\\AppData\\Local\\Temp\\ipykernel_18836\\80517531.py:1: SyntaxWarning: \"is\" with 'int' literal. Did you mean \"==\"?\n",
      "  print(True is 1)\n",
      "C:\\Users\\jeevi\\AppData\\Local\\Temp\\ipykernel_18836\\80517531.py:3: SyntaxWarning: \"is\" with 'str' literal. Did you mean \"==\"?\n",
      "  print('' is 1)\n",
      "C:\\Users\\jeevi\\AppData\\Local\\Temp\\ipykernel_18836\\80517531.py:4: SyntaxWarning: \"is\" with 'int' literal. Did you mean \"==\"?\n",
      "  print([] is 1)\n",
      "C:\\Users\\jeevi\\AppData\\Local\\Temp\\ipykernel_18836\\80517531.py:5: SyntaxWarning: \"is\" with 'int' literal. Did you mean \"==\"?\n",
      "  print(10 is 10.0)\n",
      "C:\\Users\\jeevi\\AppData\\Local\\Temp\\ipykernel_18836\\80517531.py:7: SyntaxWarning: \"is\" with 'str' literal. Did you mean \"==\"?\n",
      "  print('1' is 1)\n"
     ]
    }
   ],
   "source": [
    "print(True is 1)\n",
    "print(True is True)\n",
    "print('' is 1) \n",
    "print([] is 1)\n",
    "print(10 is 10.0)\n",
    "print([] is [])\n",
    "print('1' is 1)\n",
    "print([1,2,3] is [1,2,3])"
   ]
  },
  {
   "cell_type": "markdown",
   "id": "483a478d-fab0-43d4-9023-604dfc6e6dd9",
   "metadata": {},
   "source": [
    "* in case of [] is [], and [1,2,3] is [1,2,3] the returned value is false.\n",
    "* reason: everythime we create a list, it is added somewehere in the memory. and thus the location of the 2 lists we create is in completely two different locations in the memory."
   ]
  },
  {
   "cell_type": "markdown",
   "id": "b8ab1d13-1f5c-4bd1-9827-254769bbe87d",
   "metadata": {},
   "source": [
    "## loops\n",
    "* allows us to run lines of code over and over.\n",
    "* this is one of teh powerful features of programming because, this way, we can run things 1000s of times easily."
   ]
  },
  {
   "cell_type": "code",
   "execution_count": 139,
   "id": "7343fed4-12cb-48ff-9d24-2fc22fc48d96",
   "metadata": {},
   "outputs": [
    {
     "name": "stdout",
     "output_type": "stream",
     "text": [
      "H\n",
      "e\n",
      "l\n",
      "l\n",
      "o\n"
     ]
    }
   ],
   "source": [
    "for item in 'Hello':\n",
    "    print(item)"
   ]
  },
  {
   "cell_type": "code",
   "execution_count": 140,
   "id": "d72ad3f0-94d7-4062-bbf1-406b164f1983",
   "metadata": {},
   "outputs": [
    {
     "name": "stdout",
     "output_type": "stream",
     "text": [
      "1\n",
      "2\n",
      "3\n",
      "4\n",
      "5\n"
     ]
    }
   ],
   "source": [
    "for item in [1,2,3,4,5]:\n",
    "    print(item)"
   ]
  },
  {
   "cell_type": "code",
   "execution_count": 141,
   "id": "fd0c44d3-dad2-44da-bc1a-c109ef66f0f2",
   "metadata": {},
   "outputs": [
    {
     "name": "stdout",
     "output_type": "stream",
     "text": [
      "1\n",
      "2\n",
      "3\n",
      "4\n",
      "5\n"
     ]
    }
   ],
   "source": [
    "for item in (1,2,3,4,5):\n",
    "    print(item)"
   ]
  },
  {
   "cell_type": "code",
   "execution_count": 142,
   "id": "1b7b909b-c199-4dd8-b62c-9b5eb730c444",
   "metadata": {},
   "outputs": [
    {
     "name": "stdout",
     "output_type": "stream",
     "text": [
      "1 a\n",
      "1 b\n",
      "1 c\n",
      "2 a\n",
      "2 b\n",
      "2 c\n",
      "3 a\n",
      "3 b\n",
      "3 c\n",
      "4 a\n",
      "4 b\n",
      "4 c\n",
      "5 a\n",
      "5 b\n",
      "5 c\n"
     ]
    }
   ],
   "source": [
    "for item in (1,2,3,4,5):\n",
    "    for x in ['a','b','c']:\n",
    "        print(item, x)"
   ]
  },
  {
   "cell_type": "markdown",
   "id": "9876039a-0240-4556-858c-3801f459d96c",
   "metadata": {},
   "source": [
    "## iterables\n",
    "* simply means that it is an pbject or a collection that can be iterated (go one by one to check each item in the collection) over.\n",
    "* an iterable can be :\n",
    "  * list\n",
    "  * dict\n",
    "  * tuple\n",
    "  * set\n",
    "  * string\n",
    "  * range"
   ]
  },
  {
   "cell_type": "code",
   "execution_count": 143,
   "id": "86db9e43-4edc-4f4d-84e9-35aad93724b1",
   "metadata": {},
   "outputs": [
    {
     "name": "stdout",
     "output_type": "stream",
     "text": [
      "name\n",
      "age\n",
      "can_swim\n"
     ]
    }
   ],
   "source": [
    "user = {\n",
    "    'name': 'Golem',\n",
    "    'age': 5006,\n",
    "    'can_swim': False\n",
    "}\n",
    "for item in user:\n",
    "    print(item)"
   ]
  },
  {
   "cell_type": "code",
   "execution_count": 144,
   "id": "4b9af7bb-35c3-4b49-93e4-76e35831dc9d",
   "metadata": {},
   "outputs": [
    {
     "name": "stdout",
     "output_type": "stream",
     "text": [
      "('name', 'Golem')\n",
      "('age', 5006)\n",
      "('can_swim', False)\n"
     ]
    }
   ],
   "source": [
    "for item in user.items():\n",
    "    print(item)"
   ]
  },
  {
   "cell_type": "code",
   "execution_count": 145,
   "id": "e286862d-323c-4bad-aa4f-e383b4c456e5",
   "metadata": {},
   "outputs": [
    {
     "name": "stdout",
     "output_type": "stream",
     "text": [
      "Golem\n",
      "5006\n",
      "False\n"
     ]
    }
   ],
   "source": [
    "for item in user.values():\n",
    "    print(item)"
   ]
  },
  {
   "cell_type": "code",
   "execution_count": 146,
   "id": "1b06b4a5-f078-4e0c-b2a5-42c9e0051881",
   "metadata": {},
   "outputs": [
    {
     "name": "stdout",
     "output_type": "stream",
     "text": [
      "name\n",
      "age\n",
      "can_swim\n"
     ]
    }
   ],
   "source": [
    "for item in user.keys():\n",
    "    print(item)"
   ]
  },
  {
   "cell_type": "code",
   "execution_count": 147,
   "id": "3b7c5547-13cf-48af-b63e-5c978489675e",
   "metadata": {},
   "outputs": [
    {
     "name": "stdout",
     "output_type": "stream",
     "text": [
      "name Golem\n",
      "age 5006\n",
      "can_swim False\n"
     ]
    }
   ],
   "source": [
    "for key, value in user.items():\n",
    "    print(key,value)"
   ]
  },
  {
   "cell_type": "markdown",
   "id": "3309ad8d-c60e-498c-816a-7da7162c177f",
   "metadata": {},
   "source": [
    "## range()\n",
    " * returns an object that produces a sequence of integers from start (inclusive) to stop (exclusive) bby step."
   ]
  },
  {
   "cell_type": "code",
   "execution_count": 148,
   "id": "98dc121d-3fcb-4d23-bd3a-ed8b18884f10",
   "metadata": {},
   "outputs": [
    {
     "name": "stdout",
     "output_type": "stream",
     "text": [
      "range(0, 10)\n"
     ]
    }
   ],
   "source": [
    "print(range(10))"
   ]
  },
  {
   "cell_type": "code",
   "execution_count": 149,
   "id": "87cb4ad5-8d68-4d6f-a3f8-2098f06fd87d",
   "metadata": {},
   "outputs": [
    {
     "name": "stdout",
     "output_type": "stream",
     "text": [
      "1\n",
      "2\n",
      "3\n",
      "4\n",
      "5\n"
     ]
    }
   ],
   "source": [
    "for item in range(1,6):\n",
    "    print(item)"
   ]
  },
  {
   "cell_type": "code",
   "execution_count": 150,
   "id": "d70861d1-2345-461a-8a54-c446dc8d96bc",
   "metadata": {},
   "outputs": [
    {
     "name": "stdout",
     "output_type": "stream",
     "text": [
      "0\n",
      "2\n",
      "4\n",
      "6\n",
      "8\n"
     ]
    }
   ],
   "source": [
    "for item in range(0,10,2):\n",
    "    print(item)"
   ]
  },
  {
   "cell_type": "code",
   "execution_count": 151,
   "id": "15262156-aa9d-4867-b10b-1d3cd4348590",
   "metadata": {},
   "outputs": [
    {
     "name": "stdout",
     "output_type": "stream",
     "text": [
      "10\n",
      "8\n",
      "6\n",
      "4\n",
      "2\n"
     ]
    }
   ],
   "source": [
    "for item in range(10,0,-2):\n",
    "    print(item)"
   ]
  },
  {
   "cell_type": "code",
   "execution_count": 152,
   "id": "aceb4dc9-8880-4798-b62c-371120d176c1",
   "metadata": {},
   "outputs": [
    {
     "name": "stdout",
     "output_type": "stream",
     "text": [
      "[0, 1, 2]\n",
      "[0, 1, 2]\n",
      "[0, 1, 2]\n",
      "[0, 1, 2]\n",
      "[0, 1, 2]\n"
     ]
    }
   ],
   "source": [
    "for item in range(0,5):\n",
    "    print(list(range(3)))"
   ]
  },
  {
   "cell_type": "markdown",
   "id": "a301d4a1-775b-47eb-8e7b-4e7fc1d149a6",
   "metadata": {},
   "source": [
    "## enumerate()\n",
    "* it reurns an enumerate object. iterable must be another object that supports iteration. \n"
   ]
  },
  {
   "cell_type": "code",
   "execution_count": 153,
   "id": "a1ce2d55-9d74-45f1-b0de-419b044cc16c",
   "metadata": {},
   "outputs": [
    {
     "name": "stdout",
     "output_type": "stream",
     "text": [
      "0 h\n",
      "1 e\n",
      "2 l\n",
      "3 l\n",
      "4 o\n"
     ]
    }
   ],
   "source": [
    "for i,char in enumerate('hello'):\n",
    "    print(i, char)"
   ]
  },
  {
   "cell_type": "code",
   "execution_count": 154,
   "id": "b123c6e4-badf-4464-8c72-94ffb172678e",
   "metadata": {},
   "outputs": [
    {
     "name": "stdout",
     "output_type": "stream",
     "text": [
      "0 1\n",
      "1 2\n",
      "2 3\n",
      "3 4\n"
     ]
    }
   ],
   "source": [
    "for i,char in enumerate([1,2,3,4]):\n",
    "    print(i, char)"
   ]
  },
  {
   "cell_type": "code",
   "execution_count": 155,
   "id": "55ad7570-2fbe-4f35-9eb1-2839b2b11789",
   "metadata": {},
   "outputs": [
    {
     "name": "stdout",
     "output_type": "stream",
     "text": [
      "0 1\n",
      "1 2\n",
      "2 3\n",
      "3 4\n"
     ]
    }
   ],
   "source": [
    "for i,char in enumerate((1,2,3,4)):\n",
    "    print(i, char)"
   ]
  },
  {
   "cell_type": "code",
   "execution_count": 156,
   "id": "b977b169-a9db-4c5c-9f5c-27fedd58a6b6",
   "metadata": {},
   "outputs": [
    {
     "name": "stdout",
     "output_type": "stream",
     "text": [
      "0 0\n",
      "1 1\n",
      "2 2\n",
      "3 3\n"
     ]
    }
   ],
   "source": [
    "for i,char in enumerate(list(range(4))):\n",
    "    print(i, char)"
   ]
  },
  {
   "cell_type": "code",
   "execution_count": 157,
   "id": "b9447a2d-ac60-4236-af38-ac0757a498cb",
   "metadata": {
    "scrolled": true
   },
   "outputs": [
    {
     "name": "stdout",
     "output_type": "stream",
     "text": [
      "index: 3\n"
     ]
    }
   ],
   "source": [
    "for i,char in enumerate(list(range(5))):\n",
    "    if char == 3:\n",
    "        print('index:', i)"
   ]
  },
  {
   "cell_type": "markdown",
   "id": "350a8385-b9fb-4f78-92ee-e10ac5c3a8a1",
   "metadata": {},
   "source": [
    "## while loop"
   ]
  },
  {
   "cell_type": "code",
   "execution_count": 158,
   "id": "62b72661-08bd-4f8e-a281-851b64457b83",
   "metadata": {},
   "outputs": [
    {
     "name": "stdout",
     "output_type": "stream",
     "text": [
      "0\n"
     ]
    }
   ],
   "source": [
    "i = 0\n",
    "while i<5:\n",
    "    print(i)\n",
    "    break"
   ]
  },
  {
   "cell_type": "code",
   "execution_count": 159,
   "id": "1af2afba-d6e3-4c64-aad5-0dfd37a75a51",
   "metadata": {},
   "outputs": [
    {
     "name": "stdout",
     "output_type": "stream",
     "text": [
      "0\n",
      "1\n",
      "2\n",
      "3\n",
      "4\n"
     ]
    }
   ],
   "source": [
    "i = 0\n",
    "while i<5:\n",
    "    print(i)\n",
    "    i+=1"
   ]
  },
  {
   "cell_type": "markdown",
   "id": "73c969eb-d1be-490d-960d-43bc21052e3a",
   "metadata": {},
   "source": [
    "#### note:\n",
    "to jump out of the while loop, you can either turn the condition false or you can break out of the loop"
   ]
  },
  {
   "cell_type": "code",
   "execution_count": 160,
   "id": "f8a4e42e-4bd7-4ddf-b9ee-51de93d4316e",
   "metadata": {},
   "outputs": [
    {
     "name": "stdout",
     "output_type": "stream",
     "text": [
      "0\n",
      "1\n",
      "2\n",
      "3\n",
      "4\n",
      "done with the work\n"
     ]
    }
   ],
   "source": [
    "i = 0\n",
    "while i<5:\n",
    "    print(i)\n",
    "    i+=1\n",
    "else:\n",
    "    print('done with the work')"
   ]
  },
  {
   "cell_type": "code",
   "execution_count": 161,
   "id": "3eeda4a5-3290-47d2-84e0-323f8ba42301",
   "metadata": {},
   "outputs": [
    {
     "name": "stdout",
     "output_type": "stream",
     "text": [
      "0\n",
      "1\n",
      "2\n",
      "3\n",
      "4\n",
      "done with the work\n"
     ]
    }
   ],
   "source": [
    "i = 0\n",
    "while i<5:\n",
    "    print(i)\n",
    "    i+=1\n",
    "print('done with the work')"
   ]
  },
  {
   "cell_type": "code",
   "execution_count": 162,
   "id": "82b26888-0098-43c3-9365-c43c5b5ad29d",
   "metadata": {},
   "outputs": [
    {
     "name": "stdout",
     "output_type": "stream",
     "text": [
      "0\n",
      "1\n",
      "2\n",
      "next operation\n"
     ]
    }
   ],
   "source": [
    "i = 0\n",
    "while i<5:\n",
    "    print(i)\n",
    "    i+=1\n",
    "    if i==3:\n",
    "        break\n",
    "else:\n",
    "    print('done with teh work')\n",
    "print('next operation')"
   ]
  },
  {
   "cell_type": "markdown",
   "id": "47177be3-149d-4dfc-b8cb-538b7a800839",
   "metadata": {},
   "source": [
    "#### use of else block in while\n",
    "* the else block will only execute if there isnt a break in the wile loop,\n",
    "  * i.e., the while block is executed entirely up until what it is meant for and then the else block is executed.\n",
    "* if while block operation is not complete and was broken in between, the operation that needs to be done if and only if while block is completed which can be put in the else block will not get executed."
   ]
  },
  {
   "cell_type": "code",
   "execution_count": 163,
   "id": "9cf0bed1-a306-4e7f-8977-bdc2dccbd5a2",
   "metadata": {},
   "outputs": [
    {
     "name": "stdin",
     "output_type": "stream",
     "text": [
      "say something:  hello\n"
     ]
    }
   ],
   "source": [
    "while True:\n",
    "    input(\"say something: \")\n",
    "    break"
   ]
  },
  {
   "cell_type": "code",
   "execution_count": 164,
   "id": "a0e27bba-2f51-40e2-97f6-55190c2c2ecf",
   "metadata": {},
   "outputs": [
    {
     "name": "stdin",
     "output_type": "stream",
     "text": [
      "say something:  hi\n",
      "say something:  yipee\n",
      "say something:  bye\n"
     ]
    }
   ],
   "source": [
    "while True:\n",
    "    response = input(\"say something: \")\n",
    "    if response == \"bye\":\n",
    "        break"
   ]
  },
  {
   "cell_type": "markdown",
   "id": "f6abb983-9806-4fe3-80f1-d29c8da7949c",
   "metadata": {},
   "source": [
    "## break, contiue, pass"
   ]
  },
  {
   "cell_type": "markdown",
   "id": "de643b73-395e-4365-a96f-d80015248dea",
   "metadata": {},
   "source": [
    "### break\n",
    "when used, it breaks out of the current and closing loop"
   ]
  },
  {
   "cell_type": "markdown",
   "id": "1f133f70-1082-4081-bb50-04d66deb3021",
   "metadata": {},
   "source": [
    "##### for loop"
   ]
  },
  {
   "cell_type": "code",
   "execution_count": 165,
   "id": "be6ab3fd-df17-49c4-b319-484ad91fa555",
   "metadata": {},
   "outputs": [
    {
     "name": "stdout",
     "output_type": "stream",
     "text": [
      "1\n"
     ]
    }
   ],
   "source": [
    "my_list = [1,2,3]\n",
    "for item in my_list:\n",
    "    print(item)\n",
    "    break\n",
    "    print('done')"
   ]
  },
  {
   "cell_type": "markdown",
   "id": "2bbd8694-01c0-4eae-bb6b-f9c8d2412d4e",
   "metadata": {},
   "source": [
    "##### while loop"
   ]
  },
  {
   "cell_type": "code",
   "execution_count": 166,
   "id": "f1d4423f-69c7-4ca6-8dd2-d03fd2bb4a2c",
   "metadata": {},
   "outputs": [
    {
     "name": "stdout",
     "output_type": "stream",
     "text": [
      "1\n"
     ]
    }
   ],
   "source": [
    "my_list = [1,2,3]\n",
    "i = 0\n",
    "while i<len(my_list):\n",
    "    print(my_list[i])\n",
    "    i+=1\n",
    "    break\n",
    "    print('done')"
   ]
  },
  {
   "cell_type": "markdown",
   "id": "30071ef6-274f-46e2-a207-b628cc927a7c",
   "metadata": {},
   "source": [
    "### continue\n",
    "when used, continues onto the top of the enclosing loop"
   ]
  },
  {
   "cell_type": "markdown",
   "id": "68027583-3c99-484d-a849-8d3a25d9eb19",
   "metadata": {},
   "source": [
    "##### for loop"
   ]
  },
  {
   "cell_type": "code",
   "execution_count": 167,
   "id": "092ecbb1-ecf9-4437-aa8d-27e6120b662e",
   "metadata": {},
   "outputs": [
    {
     "name": "stdout",
     "output_type": "stream",
     "text": [
      "1\n",
      "2\n",
      "3\n"
     ]
    }
   ],
   "source": [
    "my_list = [1,2,3]\n",
    "for item in my_list:\n",
    "    print(item)\n",
    "    continue\n",
    "    print('done')"
   ]
  },
  {
   "cell_type": "markdown",
   "id": "11fc2ac3-1ace-4ecd-81c5-a0dc375cfb19",
   "metadata": {},
   "source": [
    "##### while loop"
   ]
  },
  {
   "cell_type": "code",
   "execution_count": 168,
   "id": "3b5bc8e2-51a9-4d2c-872b-d6f3ac7d71b4",
   "metadata": {},
   "outputs": [
    {
     "name": "stdout",
     "output_type": "stream",
     "text": [
      "1\n",
      "2\n",
      "3\n"
     ]
    }
   ],
   "source": [
    "my_list = [1,2,3]\n",
    "i = 0\n",
    "while i<len(my_list):\n",
    "    print(my_list[i])\n",
    "    i+=1\n",
    "    continue\n",
    "    print('done')"
   ]
  },
  {
   "cell_type": "markdown",
   "id": "c4648b50-0910-4b33-b53e-afc074ee0d7a",
   "metadata": {},
   "source": [
    "### pass\n",
    "* it essentially does nothing, it just passes to the next line.\n",
    "* but can be used in places where futre addition of code is applicable\n",
    "  * i.e., it can be used as a good placeholder for further updates or undecided pieces of operations"
   ]
  },
  {
   "cell_type": "markdown",
   "id": "a776c47b-ac04-4fc7-bb41-abe850b18cad",
   "metadata": {},
   "source": [
    "##### for loop"
   ]
  },
  {
   "cell_type": "code",
   "execution_count": 169,
   "id": "4ad15659-2812-4d63-b334-354c4c2d4473",
   "metadata": {},
   "outputs": [
    {
     "name": "stdout",
     "output_type": "stream",
     "text": [
      "1\n",
      "done\n",
      "2\n",
      "done\n",
      "3\n",
      "done\n"
     ]
    }
   ],
   "source": [
    "my_list = [1,2,3]\n",
    "for item in my_list:\n",
    "    print(item)\n",
    "    pass\n",
    "    print('done')"
   ]
  },
  {
   "cell_type": "markdown",
   "id": "7c9a0196-55ca-477a-8dd1-d75f6efe447c",
   "metadata": {},
   "source": [
    "##### while loop"
   ]
  },
  {
   "cell_type": "code",
   "execution_count": 170,
   "id": "a70650a0-e42d-4291-995d-c06aebc9f812",
   "metadata": {},
   "outputs": [
    {
     "name": "stdout",
     "output_type": "stream",
     "text": [
      "1\n",
      "done\n",
      "2\n",
      "done\n",
      "3\n",
      "done\n"
     ]
    }
   ],
   "source": [
    "my_list = [1,2,3]\n",
    "i = 0\n",
    "while i<len(my_list):\n",
    "    print(my_list[i])\n",
    "    i+=1\n",
    "    pass\n",
    "    print('done')"
   ]
  },
  {
   "cell_type": "markdown",
   "id": "0d6ee7c4-c4c3-4ebc-aeb7-d497d1e623a0",
   "metadata": {},
   "source": [
    "## Note\n",
    "### what is good code?\n",
    "* ##### clean\n",
    "  * make sure our code is following a style that the python community endorses.\n",
    "  * python has standard ways of using spaces to make sure that our code is clean\n",
    "  * python has this feature of format to help write clean code.\n",
    "   \n",
    "* ##### readability\n",
    "  * it means the ability to want to read your own code\n",
    "  * make sure that our every line that we have written is easily readable\n",
    "  * make sure variable names make sense in the code.\n",
    "  * add a comment to out-of-place code bits to eplain their existence in short\n",
    "\n",
    "* ##### predictability\n",
    "  * make sure to avaid the most compact code, or using the newest features or some really obscure tools or functions that are not very common.\n",
    "\n",
    "* ##### DRY - Do not Repeat Yourself\n",
    "  * avoid code that is constantly repeating itself over and over again."
   ]
  },
  {
   "cell_type": "markdown",
   "id": "9692537d-3ac8-4a50-b038-486b93ca40b6",
   "metadata": {},
   "source": [
    "## functions\n",
    "### 2 types:\n",
    "* ##### built-in\n",
    "* ##### user-defined"
   ]
  },
  {
   "cell_type": "markdown",
   "id": "66c81080-b699-4bd9-abf3-bf24b6de2523",
   "metadata": {},
   "source": [
    "### built-in\n",
    "##### Some commonly used in-bilt functions:\n",
    "* list()\n",
    "* print()\n",
    "* max()\n",
    "* min()\n",
    "* imput()"
   ]
  },
  {
   "cell_type": "markdown",
   "id": "1b529e14-a81f-4444-8f38-73548a964fad",
   "metadata": {},
   "source": [
    "### user-defined\n",
    "* def keyword lets the interpreter know that we are defining a function\n",
    "* we use the same naming case as we do with variables to define our functions."
   ]
  },
  {
   "cell_type": "code",
   "execution_count": 171,
   "id": "499abf40-8531-4c2a-aacc-198139eb523e",
   "metadata": {},
   "outputs": [
    {
     "name": "stdout",
     "output_type": "stream",
     "text": [
      "hello\n"
     ]
    }
   ],
   "source": [
    "def say_hello():\n",
    "    print(\"hello\")\n",
    "    \n",
    "say_hello()"
   ]
  },
  {
   "cell_type": "markdown",
   "id": "0636739a-7da5-4435-9629-2c6ae885c47c",
   "metadata": {},
   "source": [
    "#### Note:\n",
    "a function needs to be called or invoked for it to work"
   ]
  },
  {
   "cell_type": "markdown",
   "id": "a9486091-2e41-4a25-8602-623dd73ab62f",
   "metadata": {},
   "source": [
    "### arguments vs parameters\n",
    "* variables used inside of the function while defining it.\n",
    "* values used to provide in a function while calling it.\n",
    "#### types of arguments:\n",
    "* positional arguments\n",
    "* keyword arguments"
   ]
  },
  {
   "cell_type": "code",
   "execution_count": 172,
   "id": "66d82994-782e-41f5-b537-8df13616310c",
   "metadata": {},
   "outputs": [
    {
     "name": "stdout",
     "output_type": "stream",
     "text": [
      "hello :)\n",
      "hello :)\n",
      "hello :)\n",
      "\n"
     ]
    }
   ],
   "source": [
    "# parameters => n, face\n",
    "def say_hello_n(n, face):\n",
    "    print(n*(\"hello \"+face+\"\\n\"))\n",
    "\n",
    "# arguments: 3, \":)\"\n",
    "say_hello_n(3, \":)\")"
   ]
  },
  {
   "cell_type": "markdown",
   "id": "b09a7102-d7dc-4c09-b346-9c7602851c2b",
   "metadata": {},
   "source": [
    "#### positional arguments\n",
    "above is an example of positional arguments because the position of the values matter"
   ]
  },
  {
   "cell_type": "code",
   "execution_count": 173,
   "id": "fcb3d762-42dd-448c-9100-b7bf98161431",
   "metadata": {},
   "outputs": [
    {
     "name": "stdout",
     "output_type": "stream",
     "text": [
      "hello :)\n",
      "hello :)\n",
      "hello :)\n",
      "\n"
     ]
    },
    {
     "ename": "TypeError",
     "evalue": "can only concatenate str (not \"int\") to str",
     "output_type": "error",
     "traceback": [
      "\u001b[1;31m---------------------------------------------------------------------------\u001b[0m",
      "\u001b[1;31mTypeError\u001b[0m                                 Traceback (most recent call last)",
      "Cell \u001b[1;32mIn[173], line 7\u001b[0m\n\u001b[0;32m      5\u001b[0m \u001b[38;5;66;03m# positional arguments:\u001b[39;00m\n\u001b[0;32m      6\u001b[0m say_hello_n(\u001b[38;5;241m3\u001b[39m, \u001b[38;5;124m\"\u001b[39m\u001b[38;5;124m:)\u001b[39m\u001b[38;5;124m\"\u001b[39m)\n\u001b[1;32m----> 7\u001b[0m say_hello_n(\u001b[38;5;124m\"\u001b[39m\u001b[38;5;124m:)\u001b[39m\u001b[38;5;124m\"\u001b[39m,\u001b[38;5;241m3\u001b[39m)\n",
      "Cell \u001b[1;32mIn[173], line 3\u001b[0m, in \u001b[0;36msay_hello_n\u001b[1;34m(n, face)\u001b[0m\n\u001b[0;32m      2\u001b[0m \u001b[38;5;28;01mdef\u001b[39;00m \u001b[38;5;21msay_hello_n\u001b[39m(n, face):\n\u001b[1;32m----> 3\u001b[0m     \u001b[38;5;28mprint\u001b[39m(n\u001b[38;5;241m*\u001b[39m(\u001b[38;5;124m\"\u001b[39m\u001b[38;5;124mhello \u001b[39m\u001b[38;5;124m\"\u001b[39m\u001b[38;5;241m+\u001b[39mface\u001b[38;5;241m+\u001b[39m\u001b[38;5;124m\"\u001b[39m\u001b[38;5;130;01m\\n\u001b[39;00m\u001b[38;5;124m\"\u001b[39m))\n",
      "\u001b[1;31mTypeError\u001b[0m: can only concatenate str (not \"int\") to str"
     ]
    }
   ],
   "source": [
    "# parameters => n, face\n",
    "def say_hello_n(n, face):\n",
    "    print(n*(\"hello \"+face+\"\\n\"))\n",
    "\n",
    "# positional arguments:\n",
    "say_hello_n(3, \":)\")\n",
    "say_hello_n(\":)\",3)"
   ]
  },
  {
   "cell_type": "markdown",
   "id": "9814b7cd-3e80-46e2-8fd1-7da86b30abb9",
   "metadata": {},
   "source": [
    "### keyword arguments:\n",
    "* allow us to displace the argument's order\n",
    "* not a frequent practise as it simply makes the code more complicated"
   ]
  },
  {
   "cell_type": "code",
   "execution_count": 174,
   "id": "6b73e18f-b8f6-42f3-82ec-e748d959ed79",
   "metadata": {},
   "outputs": [
    {
     "name": "stdout",
     "output_type": "stream",
     "text": [
      "hello :)\n",
      "hello :)\n",
      "hello :)\n",
      "\n",
      "hello :)\n",
      "hello :)\n",
      "hello :)\n",
      "\n"
     ]
    }
   ],
   "source": [
    "# parameters => n, face\n",
    "def say_hello_n(n, face):\n",
    "    print(n*(\"hello \"+face+\"\\n\"))\n",
    "\n",
    "# keyword arguments:\n",
    "# wrng practise\n",
    "say_hello_n(face = ':)',n=3)\n",
    "\n",
    "# better than worse practise\n",
    "say_hello_n(n=3, face = ':)')"
   ]
  },
  {
   "cell_type": "markdown",
   "id": "9e667151-51ed-4666-a332-fb9914ba5e68",
   "metadata": {},
   "source": [
    "### default parameters and key words\n",
    "* allow us to give right to decide what we want as default argument for any specified parameter while defining a function"
   ]
  },
  {
   "cell_type": "code",
   "execution_count": null,
   "id": "ae27a81b-b9aa-435d-98bb-7388d9231776",
   "metadata": {},
   "outputs": [],
   "source": [
    "# default parameters\n",
    "def say_hello_n(name = \"shark\", face=\":)\"):\n",
    "    print(f\"Hello {name}, you are {face}\")\n",
    "\n",
    "say_hello_n()"
   ]
  },
  {
   "cell_type": "markdown",
   "id": "1c2f776b-7325-4252-947e-84c8fa942fc1",
   "metadata": {},
   "source": [
    "##### 1. when there is default parameters, if u provide arguments while calling a function, then the preference goes tot the argument values given during the invocation of the function."
   ]
  },
  {
   "cell_type": "code",
   "execution_count": null,
   "id": "dac709dc-b3a5-46f6-b1a3-ee5d04e4a3c1",
   "metadata": {},
   "outputs": [],
   "source": [
    "# default parameters\n",
    "def say_hello_n(name = \"shark\", face=\":)\"):\n",
    "    print(f\"Hello {name}, you are {face}\")\n",
    "\n",
    "say_hello_n(\"whale\", \":(\")"
   ]
  },
  {
   "cell_type": "markdown",
   "id": "8c97eba1-470f-4767-a58a-2999eb875ca3",
   "metadata": {},
   "source": [
    "##### 2. the first mentioned argument in the invoked function corresponds to the first default parameter of the function and displaces the default parameter. "
   ]
  },
  {
   "cell_type": "code",
   "execution_count": null,
   "id": "0afcd7a5-6329-436a-b4a5-5619b673c4b5",
   "metadata": {},
   "outputs": [],
   "source": [
    "# default parameters\n",
    "def say_hello_n(name = \"shark\", face=\":)\"):\n",
    "    print(f\"Hello {name}, you are {face}\")\n",
    "\n",
    "say_hello_n(\"whale\")"
   ]
  },
  {
   "cell_type": "markdown",
   "id": "ebf019ec-ac2b-4743-9882-29753371b2d9",
   "metadata": {},
   "source": [
    "##### 3. when using default parameters, a non-default argument cannot follow a default argument."
   ]
  },
  {
   "cell_type": "code",
   "execution_count": null,
   "id": "b6fa369a-2bc1-4878-95f5-14c9ee23cf0d",
   "metadata": {},
   "outputs": [],
   "source": [
    "# default parameters\n",
    "def say_hello_n(name = \"shark\", face):\n",
    "    print(f\"Hello {name}, you are {face}\")\n",
    "\n",
    "say_hello_n(face=\":)\")"
   ]
  },
  {
   "cell_type": "markdown",
   "id": "ca54fae7-13cb-4def-af40-1127316c4008",
   "metadata": {},
   "source": [
    "##### when using a default parameters, a default poarameter can follow a non-default parameter. "
   ]
  },
  {
   "cell_type": "code",
   "execution_count": null,
   "id": "7cb97039-3f75-4e42-b62f-a5413770869f",
   "metadata": {},
   "outputs": [],
   "source": [
    "# default parameters\n",
    "def say_hello_n(name, face = \":)\"):\n",
    "    print(f\"Hello {name}, you are {face}\")\n",
    "\n",
    "say_hello_n(name = \"shark\")"
   ]
  },
  {
   "cell_type": "markdown",
   "id": "3f9e1494-8e1d-4334-918a-ff2e7f26d4de",
   "metadata": {},
   "source": [
    "### Return keyword"
   ]
  },
  {
   "cell_type": "code",
   "execution_count": null,
   "id": "cadf5b1f-58ec-4d9a-b712-9f2442e07b66",
   "metadata": {},
   "outputs": [],
   "source": [
    "def sum(num1, num2):\n",
    "    return num1+num2\n",
    "print(sum(4,5))"
   ]
  },
  {
   "cell_type": "code",
   "execution_count": null,
   "id": "7f9ed918-737f-4e47-80b1-3121ea57fea7",
   "metadata": {},
   "outputs": [],
   "source": [
    "def sum(num1, num2):\n",
    "    return num1+num2\n",
    "print(sum(4,sum(2,3)))"
   ]
  },
  {
   "cell_type": "markdown",
   "id": "25f1b472-cc4a-4535-8e0c-e99fd3dd694e",
   "metadata": {},
   "source": [
    "#### * note: a return keyword automatically exits a function"
   ]
  },
  {
   "cell_type": "code",
   "execution_count": null,
   "id": "69349aaa-5bfd-4517-bc34-029ac20d8273",
   "metadata": {},
   "outputs": [],
   "source": [
    "def sum(num1, num2):\n",
    "    print(\"before\")\n",
    "    return num1+num2\n",
    "    print(\"after\")\n",
    "    \n",
    "print(sum(2,3))"
   ]
  },
  {
   "cell_type": "markdown",
   "id": "86b1c0e0-f5bc-4184-8829-000aeb05fe1f",
   "metadata": {},
   "source": [
    "## nested functions"
   ]
  },
  {
   "cell_type": "code",
   "execution_count": null,
   "id": "c5807303-0e3f-4fb1-af26-6e3865c7db8e",
   "metadata": {},
   "outputs": [],
   "source": [
    "def sum(num1, num2):\n",
    "    def another_func(n1, n2):\n",
    "        return n1+n2\n",
    "    return another_func(num1,num2)\n",
    "print(sum(4,5))"
   ]
  },
  {
   "cell_type": "markdown",
   "id": "f7132f2b-b052-4411-bfd3-d84353539acc",
   "metadata": {},
   "source": [
    "## Methods\n",
    "* a method has to be owned by an object (string, list etc.).\n",
    "  * and, whatever is to the left of the dot owns the method."
   ]
  },
  {
   "cell_type": "code",
   "execution_count": null,
   "id": "ce4422b9-055a-477a-a0f1-b9a5e3ec2f73",
   "metadata": {},
   "outputs": [],
   "source": [
    "\"helloo\".capitalize()"
   ]
  },
  {
   "cell_type": "markdown",
   "id": "f74399ab-4da7-41bc-b280-cb21871d2554",
   "metadata": {},
   "source": [
    "## Docstrings"
   ]
  },
  {
   "cell_type": "code",
   "execution_count": null,
   "id": "4c4e929b-4e37-4465-8bfe-8d5a627e408e",
   "metadata": {},
   "outputs": [],
   "source": [
    "def test(a):\n",
    "    '''\n",
    "    Info: this function tests and prints parameter a\n",
    "    '''\n",
    "    print(a)\n",
    "    \n",
    "test(\"helloo\") # press shift tab when on jupyter notebok to see the info of the defined function\n",
    "print(\"\\n-------\\n\")\n",
    "\n",
    "help(test)\n",
    "print(\"\\n-------\\n\")\n",
    "\n",
    "print(test.__doc__)"
   ]
  },
  {
   "cell_type": "markdown",
   "id": "b5044e7a-6068-46fb-8a96-7ce8fb99cadc",
   "metadata": {},
   "source": [
    "## cleaning code:"
   ]
  },
  {
   "cell_type": "code",
   "execution_count": null,
   "id": "df655b50-0495-41f9-b6db-dd393af23a69",
   "metadata": {},
   "outputs": [],
   "source": [
    "def is_odd_or_even(num):\n",
    "    if (num%2==0):\n",
    "        return True\n",
    "    elif (num%2!=0):\n",
    "        return False\n",
    "\n",
    "is_odd_or_even(3)"
   ]
  },
  {
   "cell_type": "code",
   "execution_count": null,
   "id": "703c80df-3f8e-4c00-a033-835b4b24d7cd",
   "metadata": {},
   "outputs": [],
   "source": [
    "def is_odd_or_even(num):\n",
    "    if (num%2==0):\n",
    "        return True\n",
    "    else:\n",
    "        return False\n",
    "\n",
    "is_odd_or_even(3)"
   ]
  },
  {
   "cell_type": "code",
   "execution_count": null,
   "id": "370ee0a3-7b6f-4025-8d39-c1adad8ad1d5",
   "metadata": {},
   "outputs": [],
   "source": [
    "def is_odd_or_even(num):\n",
    "    if (num%2==0):\n",
    "        return True\n",
    "    return False\n",
    "\n",
    "is_odd_or_even(3)"
   ]
  },
  {
   "cell_type": "code",
   "execution_count": null,
   "id": "e2bda18f-158a-45e4-a030-0ebacf5ab49a",
   "metadata": {},
   "outputs": [],
   "source": [
    "def is_odd_or_even(num):\n",
    "    return (num%2==0)\n",
    "\n",
    "is_odd_or_even(3)"
   ]
  },
  {
   "cell_type": "markdown",
   "id": "05483651-5be9-4fe7-a8ad-19bb0b24922b",
   "metadata": {},
   "source": [
    "## *args and **kwargs"
   ]
  },
  {
   "cell_type": "markdown",
   "id": "44656ddf-fb67-4baf-be5d-1c4759710755",
   "metadata": {},
   "source": [
    "#### *args\n",
    "* it is basically a variable that we are creating to hold un-determined number of unique values as arguments.\n",
    "* it can be *foo, *hello, *anything.\n",
    "* but, the standard way is *args, as it is just the way it is used in the python community"
   ]
  },
  {
   "cell_type": "code",
   "execution_count": null,
   "id": "18677530-77eb-488b-855c-4677a726ac3d",
   "metadata": {},
   "outputs": [],
   "source": [
    "def super_func(args):\n",
    "    print(args)\n",
    "    \n",
    "super_func(1,2,3,4,5)"
   ]
  },
  {
   "cell_type": "code",
   "execution_count": null,
   "id": "84cf6a23-b297-4796-825d-5efa64e38ac5",
   "metadata": {},
   "outputs": [],
   "source": [
    "def super_func(*args):\n",
    "    print(*args)\n",
    "    \n",
    "super_func(1,2,3,4,5)"
   ]
  },
  {
   "cell_type": "code",
   "execution_count": null,
   "id": "ec1fcc1a-af80-4ea1-8501-486deba86a3f",
   "metadata": {},
   "outputs": [],
   "source": [
    "def super_func(*args):\n",
    "    print(args)\n",
    "    \n",
    "super_func(1,2,3,4,5)"
   ]
  },
  {
   "cell_type": "code",
   "execution_count": null,
   "id": "f0b2e25a-0044-43e9-94f1-b2f360d07a57",
   "metadata": {},
   "outputs": [],
   "source": [
    "import numpy as np\n",
    "\n",
    "def super_func(*args):\n",
    "    return np.sum(args)\n",
    "\n",
    "print(super_func(1,2,3,4,5))"
   ]
  },
  {
   "cell_type": "markdown",
   "id": "29f3512f-1eb0-4fc5-b707-9eca8745db2e",
   "metadata": {},
   "source": [
    "#### **kwargs\n",
    "* it is basically a variable that we are creating to hold un-determined number of unique values as  keyword barguments.\n",
    "* it can be **foo, **hello, **anything.\n",
    "* but, the standard way is **kwargs, as it is just the way it is used in the python community"
   ]
  },
  {
   "cell_type": "code",
   "execution_count": null,
   "id": "f0b73e0a-5238-465c-a296-8b2832cf265a",
   "metadata": {},
   "outputs": [],
   "source": [
    "def super_func(**kwargs):\n",
    "    print(kwargs)\n",
    "    \n",
    "super_func(num1=5, num2=10)"
   ]
  },
  {
   "cell_type": "code",
   "execution_count": null,
   "id": "ee4be4b6-2789-4696-b29f-39bc621fdded",
   "metadata": {},
   "outputs": [],
   "source": [
    "def super_func(**kwargs):\n",
    "    print(kwargs)\n",
    "    \n",
    "super_func(1,2,3)"
   ]
  },
  {
   "cell_type": "code",
   "execution_count": null,
   "id": "37fed7fe-8e0d-456b-95bd-0ca5ac2b3787",
   "metadata": {},
   "outputs": [],
   "source": [
    "def super_func(*args, **kwargs):\n",
    "    print(args)\n",
    "    print(kwargs)\n",
    "    \n",
    "super_func(1,2,3,4,5, num1=5, num2=10)"
   ]
  },
  {
   "cell_type": "code",
   "execution_count": null,
   "id": "db07e521-9b01-4df5-8811-ab4672eb5616",
   "metadata": {},
   "outputs": [],
   "source": [
    "import numpy as np\n",
    "\n",
    "def super_func(*args, **kwargs):\n",
    "    total=0\n",
    "    for items in kwargs.values():\n",
    "        total+=items\n",
    "    return np.sum(args)+ total\n",
    "\n",
    "print(super_func(1,2,3,4,5, num1=5, num2=10))"
   ]
  },
  {
   "cell_type": "markdown",
   "id": "6983a610-e474-4786-a53b-e4aaf6adba84",
   "metadata": {},
   "source": [
    "### ORDER OF PARAMETERS:\n",
    "#### params, *args, default parameters, **kwargs"
   ]
  },
  {
   "cell_type": "markdown",
   "id": "a55706f5-dc8a-4b4a-bd20-006dca26e470",
   "metadata": {},
   "source": [
    "## Scope\n",
    "* simply means what variables do i have access to"
   ]
  },
  {
   "cell_type": "markdown",
   "id": "15f3e6c9-7dae-4268-8b61-2ea17471280b",
   "metadata": {},
   "source": [
    "### global scope\n",
    "* anybody on this file has acces to this variable\n",
    "* can be used inside a conditional block, function."
   ]
  },
  {
   "cell_type": "code",
   "execution_count": null,
   "id": "e8df4eaf-7667-4304-9e30-bb7779c31bd6",
   "metadata": {},
   "outputs": [],
   "source": [
    "total = 100\n",
    "print(total)"
   ]
  },
  {
   "cell_type": "code",
   "execution_count": null,
   "id": "f1edd0fc-746a-4211-b2b5-58717b2748f0",
   "metadata": {},
   "outputs": [],
   "source": [
    "def sum(num):\n",
    "    return total+num\n",
    "print(sum(100))"
   ]
  },
  {
   "cell_type": "code",
   "execution_count": null,
   "id": "b34b75ea-350b-46f1-8dc4-531c9fc4da7d",
   "metadata": {},
   "outputs": [],
   "source": [
    "if (total%2==0):\n",
    "    print(total*2)"
   ]
  },
  {
   "cell_type": "markdown",
   "id": "b31133b8-6311-4087-ae70-cf87355e7a84",
   "metadata": {},
   "source": [
    "### Functional Scope\n",
    "it can only be used inside  the function withing which it was initisalized and declared."
   ]
  },
  {
   "cell_type": "code",
   "execution_count": null,
   "id": "535946f0-c9d6-4651-b523-544358fceb1c",
   "metadata": {},
   "outputs": [],
   "source": [
    "def sum(num):\n",
    "    func_total = 100\n",
    "    return func_total+num\n",
    "    \n",
    "print(func_total)"
   ]
  },
  {
   "cell_type": "markdown",
   "id": "6332727e-67d4-4268-a7e2-0e6753d6225a",
   "metadata": {},
   "source": [
    "### conditional scope\n",
    "* variables initialized and declared inside the conditional block can be accessed globally untila nd inless the condition evaluates to true."
   ]
  },
  {
   "cell_type": "code",
   "execution_count": null,
   "id": "59008817-5df5-4be1-8b54-e21dea9ae3c4",
   "metadata": {},
   "outputs": [],
   "source": [
    "if True:\n",
    "    x=10\n",
    "print(x)\n",
    "\n",
    "if False:\n",
    "    y=20\n",
    "print(y)"
   ]
  },
  {
   "cell_type": "code",
   "execution_count": null,
   "id": "1df27392-a949-44f1-9c64-ff2e7e120908",
   "metadata": {},
   "outputs": [],
   "source": [
    "total = 0\n",
    "def count():\n",
    "    total+=1\n",
    "    return total\n",
    "print(count())"
   ]
  },
  {
   "cell_type": "markdown",
   "id": "7fbd043b-77a8-4fb5-91c6-249cd4874054",
   "metadata": {},
   "source": [
    "##### Note: the above erroris caused because, total is not assigned any value locally."
   ]
  },
  {
   "cell_type": "code",
   "execution_count": null,
   "id": "4032e6bb-c90f-4b9a-a5d4-b3f8e9177b85",
   "metadata": {},
   "outputs": [],
   "source": [
    "total = 0\n",
    "def count():\n",
    "    global total\n",
    "    total+=1\n",
    "    return total\n",
    "print(count())"
   ]
  },
  {
   "cell_type": "markdown",
   "id": "080daf84-2b9a-4cca-a72d-79ba1f59d9b9",
   "metadata": {},
   "source": [
    "##### Note: here we are telling interpreter to use bthe global variable total"
   ]
  },
  {
   "cell_type": "markdown",
   "id": "f8741ae5-4ced-42db-9d3b-ca55c50a88d7",
   "metadata": {},
   "source": [
    "### dependency injection"
   ]
  },
  {
   "cell_type": "code",
   "execution_count": null,
   "id": "47c9f712-ecdb-4406-b530-993fc6eabf10",
   "metadata": {},
   "outputs": [],
   "source": [
    "total = 0\n",
    "def count(total):\n",
    "    total+=1\n",
    "    return total\n",
    "print(count(total))\n",
    "print(count(count(count(total))))"
   ]
  },
  {
   "cell_type": "markdown",
   "id": "4bac0f75-bfef-42c3-ab21-704c3d3ee894",
   "metadata": {},
   "source": [
    "## Pure functions\n",
    "#### rules:\n",
    "1. given the same input, the function should always return the same output\n",
    "   * [1,2,3] -> function -> [2,4,6]\n",
    "   * here, no matter how many times i run the function, the output shoudl be the same for the respectively given input.\n",
    "2. a function shoudl not produce any side effects\n",
    "   * side effect:  things that a function does that affects the outside world.\n",
    "   * for example:\n",
    "     * printing something in a function makes changes on the screen(by printing it).\n",
    "     * mending with a variable outside its scope (one with a global scope)"
   ]
  },
  {
   "cell_type": "code",
   "execution_count": null,
   "id": "55911c00-ae49-4122-97da-9e18f3fc8107",
   "metadata": {},
   "outputs": [],
   "source": [
    "def multiply_by_2(li):\n",
    "    new_list=[]\n",
    "    for item in li:\n",
    "        new_list.append(item*2)\n",
    "    return new_list\n",
    "\n",
    "print(multiply_by_2([1,2,3]))"
   ]
  },
  {
   "cell_type": "markdown",
   "id": "82fe432e-5cbd-46e6-80c7-ed3ce3aec901",
   "metadata": {},
   "source": [
    "# paradigms"
   ]
  },
  {
   "cell_type": "markdown",
   "id": "712fffd1-315b-4823-9bd2-988d5b5f48fa",
   "metadata": {},
   "source": [
    "### map()\n",
    "* allows us to simplify teh code"
   ]
  },
  {
   "cell_type": "code",
   "execution_count": null,
   "id": "4d41c358-1620-4f85-b4e5-3a7c7782bd57",
   "metadata": {},
   "outputs": [],
   "source": [
    "def multiply_by_2(item):\n",
    "    return item*2\n",
    "print(map(multiply_by_2, [1,2,3]))\n",
    "print(list(map(multiply_by_2, [1,2,3])))"
   ]
  },
  {
   "cell_type": "markdown",
   "id": "f5447a2e-489f-4715-8b38-588efe03d1c2",
   "metadata": {},
   "source": [
    "### filter()\n",
    "* filters out and returns true/ required values "
   ]
  },
  {
   "cell_type": "code",
   "execution_count": null,
   "id": "80d51ca8-af91-40d2-b693-47db35ab6b58",
   "metadata": {},
   "outputs": [],
   "source": [
    "def check_odd(item):\n",
    "    return item%2!=0\n",
    "print(list(filter(check_odd, [1,2,3])))"
   ]
  },
  {
   "cell_type": "markdown",
   "id": "74899e32-32b4-49b2-b219-1c9d9b6806bd",
   "metadata": {},
   "source": [
    "### zip()\n",
    "* correspondes/ zips multiple iterables into one element"
   ]
  },
  {
   "cell_type": "code",
   "execution_count": null,
   "id": "23643138-e00d-4b40-b359-718417cb7d8a",
   "metadata": {},
   "outputs": [],
   "source": [
    "my_list = [1,2,3]\n",
    "your_list = [10,20,30]\n",
    "random = [200, 100, 300]\n",
    "print(list(zip(my_list, your_list)))\n",
    "print(list(zip(my_list, your_list, random)))"
   ]
  },
  {
   "cell_type": "markdown",
   "id": "b0882039-3c86-4a11-a9ae-9bb7074b04fe",
   "metadata": {},
   "source": [
    "### reduce()\n",
    "* not a python built-in function\n",
    "* "
   ]
  },
  {
   "cell_type": "code",
   "execution_count": null,
   "id": "9bea6582-81eb-4d1d-9b81-e1d7d3e5d32b",
   "metadata": {},
   "outputs": [],
   "source": [
    "from functools import reduce\n",
    "my_list = [1,2,3]\n",
    "\n",
    "def accumulator(acc, item):\n",
    "    print(acc, item)\n",
    "    return acc+item\n",
    "    \n",
    "print(reduce(accumulator,my_list, 0))"
   ]
  },
  {
   "cell_type": "markdown",
   "id": "a563a1c6-1988-4b3e-9287-5886aeace72f",
   "metadata": {},
   "source": [
    "#### explanation:\n",
    "* Initial accumulator (acc) = 0\n",
    "* Iteration 1: acc = 0, item = 1\n",
    "  * Prints: 0 1\n",
    "  * Returns: 0 + 1 = 1\n",
    "* Iteration 2: acc = 1, item = 2\n",
    "  * Prints: 1 2\n",
    "  * Returns: 1 + 2 = 3\n",
    "* Iteration 3: acc = 3, item = 3\n",
    "  * Prints: 3 3\n",
    "  * Returns: 3 + 3 = 6\n",
    "* Final result: 6 is printed."
   ]
  },
  {
   "cell_type": "markdown",
   "id": "5c74fc43-37c4-4d79-bb38-91ef6032baf5",
   "metadata": {},
   "source": [
    "## Comprehensions\n",
    "* allows a quick way for us to create lists or sets or dictionaries in python instead if perhaps looping or appending to a bunch of items to the list/set/dict"
   ]
  },
  {
   "cell_type": "markdown",
   "id": "1597e461-bc36-4002-94cf-d1bd5be689b4",
   "metadata": {},
   "source": [
    "### * list comprehensions"
   ]
  },
  {
   "cell_type": "code",
   "execution_count": null,
   "id": "daac771e-38e6-438a-ab57-89c4fb275e50",
   "metadata": {},
   "outputs": [],
   "source": [
    "my_list = []\n",
    "for char in \"hello\":\n",
    "    my_list.append(char)\n",
    "print(my_list)\n",
    "\n",
    "print('\\nusing list comprehension:')\n",
    "# alt with list comprehension\n",
    "my_list = [char for char in \"hello\"]\n",
    "print(my_list)"
   ]
  },
  {
   "cell_type": "code",
   "execution_count": null,
   "id": "b3467a0f-52ef-495e-8119-254796da1c9b",
   "metadata": {},
   "outputs": [],
   "source": [
    "my_list2 = [num for num in range(10)]\n",
    "my_list3 = [num*2 for num in range(10)]\n",
    "print(my_list2)\n",
    "print(my_list3)"
   ]
  },
  {
   "cell_type": "code",
   "execution_count": null,
   "id": "07612f06-6c7e-4046-859d-4332b3aaace4",
   "metadata": {},
   "outputs": [],
   "source": [
    "my_list4 = [num**2 for num in range(10)]\n",
    "my_list5 = [num**2 for num in range(10) if num%2==0]\n",
    "\n",
    "print(my_list4)\n",
    "print(my_list5)"
   ]
  },
  {
   "cell_type": "markdown",
   "id": "9448f608-096c-4f22-b79e-4247a5032b81",
   "metadata": {},
   "source": [
    "### * set comprehensions"
   ]
  },
  {
   "cell_type": "code",
   "execution_count": null,
   "id": "28191a9d-71bd-4319-a50e-7e32044ce229",
   "metadata": {},
   "outputs": [],
   "source": [
    "my_set = set()\n",
    "for char in \"hello\":\n",
    "    my_set.add(char)\n",
    "print(my_set)\n",
    "\n",
    "print('\\nusing set comprehension:')\n",
    "# alt with set comprehension\n",
    "my_set = {char for char in \"hello\"}\n",
    "print(my_set)"
   ]
  },
  {
   "cell_type": "code",
   "execution_count": null,
   "id": "0a3aacb3-27e5-46cd-b2f3-cfc567b9470b",
   "metadata": {},
   "outputs": [],
   "source": [
    "my_set2 = {num for num in range(10)}\n",
    "my_set3 = {num*2 for num in range(10)}\n",
    "print(my_set2)\n",
    "print(my_set3)"
   ]
  },
  {
   "cell_type": "code",
   "execution_count": null,
   "id": "eadffb50-23a7-4e40-a233-029ba86948ad",
   "metadata": {},
   "outputs": [],
   "source": [
    "my_set4 = {num**2 for num in range(10)}\n",
    "my_set5 = {num**2 for num in range(10) if num%2==0}\n",
    "\n",
    "print(my_set4)\n",
    "print(my_set5)"
   ]
  },
  {
   "cell_type": "markdown",
   "id": "a23cc161-fac9-461e-a49d-e9403d09aadc",
   "metadata": {},
   "source": [
    "### * dictionary comprehensions"
   ]
  },
  {
   "cell_type": "code",
   "execution_count": null,
   "id": "7e92fb47-1e6d-4417-b83e-a4a7940cff72",
   "metadata": {},
   "outputs": [],
   "source": [
    "simple_dict = {\n",
    "    'a':2,\n",
    "    'b':3\n",
    "}\n",
    "\n",
    "my_dict = {key:value**2 for key,value in simple_dict.items()}\n",
    "print(simple_dict)\n",
    "print(my_dict)\n",
    "\n",
    "my_dict2 = {key:value**2 for key,value in simple_dict.items() if value%2==0}\n",
    "print(my_dict2)"
   ]
  },
  {
   "cell_type": "code",
   "execution_count": null,
   "id": "e085b25a-2f65-4368-b881-ddf6f4182db2",
   "metadata": {},
   "outputs": [],
   "source": [
    "my_dict3 = {num:num*2 for num in [1,2,3]}\n",
    "print(my_dict3)"
   ]
  },
  {
   "cell_type": "markdown",
   "id": "4350fa68-ffb8-4f21-aa03-ee1f8be3faf7",
   "metadata": {},
   "source": [
    "## Modules\n",
    "#### organize code"
   ]
  },
  {
   "cell_type": "code",
   "execution_count": null,
   "id": "e3a6ee45-420b-4017-8d14-7047aef3cd2e",
   "metadata": {},
   "outputs": [],
   "source": []
  }
 ],
 "metadata": {
  "kernelspec": {
   "display_name": "Python 3 (ipykernel)",
   "language": "python",
   "name": "python3"
  },
  "language_info": {
   "codemirror_mode": {
    "name": "ipython",
    "version": 3
   },
   "file_extension": ".py",
   "mimetype": "text/x-python",
   "name": "python",
   "nbconvert_exporter": "python",
   "pygments_lexer": "ipython3",
   "version": "3.13.2"
  }
 },
 "nbformat": 4,
 "nbformat_minor": 5
}
