{
 "cells": [
  {
   "cell_type": "markdown",
   "id": "cf44fdfd-df2a-484b-99eb-c0f274a3ee1a",
   "metadata": {},
   "source": [
    "# Numpy: Numerical Data Manipulation "
   ]
  },
  {
   "cell_type": "markdown",
   "id": "1fdc9cca-3643-4388-978c-24a6a90db2d8",
   "metadata": {},
   "source": [
    "## What is NumPy?\n",
    "\n",
    "[NumPy](https://numpy.org/doc/stable/index.html) stands for numerical Python. It's the backbone of all kinds of scientific and numerical computing in Python.\n",
    "\n",
    "And since machine learning is all about turning data into numbers and then figuring out the patterns, NumPy often comes into play."
   ]
  },
  {
   "cell_type": "markdown",
   "id": "f8b87cc0-154a-414e-913c-aff9f329ea4a",
   "metadata": {},
   "source": [
    "## Why NumPy?\n",
    "\n",
    "You can do numerical calculations using pure Python. In the beginning, you might think Python is fast but once your data gets large, you'll start to notice slow downs.\n",
    "\n",
    "One of the main reasons you use NumPy is because it's fast. Behind the scenes, the code has been optimized to run using C. Which is another programming language, which can do things much faster than Python.\n",
    "\n",
    "The benefit of this being behind the scenes is you don't need to know any C to take advantage of it. You can write your numerical computations in Python using NumPy and get the added speed benefits.\n",
    "\n",
    "If your curious as to what causes this speed benefit, it's a process called vectorization. [Vectorization](https://en.wikipedia.org/wiki/Vectorization) aims to do calculations by avoiding loops as loops can create potential bottlenecks.\n",
    "\n",
    "NumPy achieves vectorization through a process called [broadcasting](https://docs.scipy.org/doc/numpy/user/basics.broadcasting.html#module-numpy.doc.broadcasting)."
   ]
  },
  {
   "cell_type": "markdown",
   "id": "91c6ac3a-b35d-4c8d-aa95-8c7e57f70d79",
   "metadata": {},
   "source": [
    "## 0. Importing NumPy\n",
    "\n",
    "To get started using NumPy, the first step is to import it. \n",
    "\n",
    "The most common way (and method you should use) is to import NumPy as the abbreviation `np`.\n",
    "\n",
    "If you see the letters `np` used anywhere in machine learning or data science, it's probably referring to the NumPy library."
   ]
  },
  {
   "cell_type": "code",
   "execution_count": 1,
   "id": "25b92674-6a76-402b-b616-1f73fe65417f",
   "metadata": {},
   "outputs": [
    {
     "name": "stdout",
     "output_type": "stream",
     "text": [
      "2.2.4\n"
     ]
    }
   ],
   "source": [
    "import numpy as np\n",
    "\n",
    "# Check the version\n",
    "print(np.__version__)"
   ]
  },
  {
   "cell_type": "markdown",
   "id": "b0fcf58f-0a61-49cf-b88d-d511c83521b3",
   "metadata": {},
   "source": [
    "## 1. DataTypes and attributes\n",
    "\n",
    "> **Note:** Important to remember the main type in NumPy is `ndarray`, even seemingly different kinds of arrays are still `ndarray`'s. This means an operation you do on one array, will work on another."
   ]
  },
  {
   "cell_type": "code",
   "execution_count": 2,
   "id": "da3b28db-bd5c-4f75-aee0-1a8cfb8d0922",
   "metadata": {},
   "outputs": [
    {
     "data": {
      "text/plain": [
       "array([1, 2, 3])"
      ]
     },
     "execution_count": 2,
     "metadata": {},
     "output_type": "execute_result"
    }
   ],
   "source": [
    "# 1-dimensonal array, also referred to as a vector\n",
    "a1 = np.array([1, 2, 3])\n",
    "a1"
   ]
  },
  {
   "cell_type": "code",
   "execution_count": 3,
   "id": "ebac3fe2-e50f-40ae-84d4-b3c7858bbab8",
   "metadata": {},
   "outputs": [
    {
     "data": {
      "text/plain": [
       "(3,)"
      ]
     },
     "execution_count": 3,
     "metadata": {},
     "output_type": "execute_result"
    }
   ],
   "source": [
    "a1.shape"
   ]
  },
  {
   "cell_type": "code",
   "execution_count": 4,
   "id": "c7dcff28-d35e-465f-a9b7-a2a5032e215e",
   "metadata": {},
   "outputs": [
    {
     "data": {
      "text/plain": [
       "1"
      ]
     },
     "execution_count": 4,
     "metadata": {},
     "output_type": "execute_result"
    }
   ],
   "source": [
    "a1.ndim"
   ]
  },
  {
   "cell_type": "code",
   "execution_count": 5,
   "id": "abb03726-7a3d-464e-8d84-c250404a130a",
   "metadata": {},
   "outputs": [
    {
     "data": {
      "text/plain": [
       "dtype('int64')"
      ]
     },
     "execution_count": 5,
     "metadata": {},
     "output_type": "execute_result"
    }
   ],
   "source": [
    "a1.dtype"
   ]
  },
  {
   "cell_type": "code",
   "execution_count": 6,
   "id": "cb4b72ad-6979-4e28-ab06-219895adb7e0",
   "metadata": {},
   "outputs": [
    {
     "data": {
      "text/plain": [
       "3"
      ]
     },
     "execution_count": 6,
     "metadata": {},
     "output_type": "execute_result"
    }
   ],
   "source": [
    "a1.size"
   ]
  },
  {
   "cell_type": "code",
   "execution_count": 7,
   "id": "73eded7d-82c1-4bd8-a405-0ad4c8e5c0de",
   "metadata": {},
   "outputs": [
    {
     "data": {
      "text/plain": [
       "numpy.ndarray"
      ]
     },
     "execution_count": 7,
     "metadata": {},
     "output_type": "execute_result"
    }
   ],
   "source": [
    "type(a1)"
   ]
  },
  {
   "cell_type": "code",
   "execution_count": 8,
   "id": "f659af79-7fb0-4e06-af90-719adb0cd58f",
   "metadata": {},
   "outputs": [
    {
     "data": {
      "text/plain": [
       "array([[1. , 2. , 3.3],\n",
       "       [4. , 5. , 6.5]])"
      ]
     },
     "execution_count": 8,
     "metadata": {},
     "output_type": "execute_result"
    }
   ],
   "source": [
    "# 2-dimensional array, also referred to as matrix\n",
    "a2 = np.array([[1, 2.0, 3.3],\n",
    "               [4, 5, 6.5]])\n",
    "a2"
   ]
  },
  {
   "cell_type": "code",
   "execution_count": 9,
   "id": "6172f0c1-039c-4626-ae3e-6e4a4c6a7513",
   "metadata": {},
   "outputs": [
    {
     "data": {
      "text/plain": [
       "(2, 3)"
      ]
     },
     "execution_count": 9,
     "metadata": {},
     "output_type": "execute_result"
    }
   ],
   "source": [
    "a2.shape"
   ]
  },
  {
   "cell_type": "code",
   "execution_count": 10,
   "id": "95f7cf89-77b4-40e9-958b-a3361a514888",
   "metadata": {},
   "outputs": [
    {
     "data": {
      "text/plain": [
       "2"
      ]
     },
     "execution_count": 10,
     "metadata": {},
     "output_type": "execute_result"
    }
   ],
   "source": [
    "a2.ndim"
   ]
  },
  {
   "cell_type": "code",
   "execution_count": 11,
   "id": "b47ef54b-62ac-4d1e-a517-6b27761dacea",
   "metadata": {},
   "outputs": [
    {
     "data": {
      "text/plain": [
       "dtype('float64')"
      ]
     },
     "execution_count": 11,
     "metadata": {},
     "output_type": "execute_result"
    }
   ],
   "source": [
    "a2.dtype"
   ]
  },
  {
   "cell_type": "code",
   "execution_count": 12,
   "id": "ea6748e1-e4ac-4b81-8748-e17de7a85214",
   "metadata": {},
   "outputs": [
    {
     "data": {
      "text/plain": [
       "6"
      ]
     },
     "execution_count": 12,
     "metadata": {},
     "output_type": "execute_result"
    }
   ],
   "source": [
    "a2.size"
   ]
  },
  {
   "cell_type": "code",
   "execution_count": 13,
   "id": "ade31e5a-356a-4ded-abec-ac5a69a39736",
   "metadata": {},
   "outputs": [
    {
     "data": {
      "text/plain": [
       "numpy.ndarray"
      ]
     },
     "execution_count": 13,
     "metadata": {},
     "output_type": "execute_result"
    }
   ],
   "source": [
    "type(a2)"
   ]
  },
  {
   "cell_type": "code",
   "execution_count": 14,
   "id": "7e582aa8-db0a-4dae-8a38-11c1d00d5196",
   "metadata": {},
   "outputs": [
    {
     "data": {
      "text/plain": [
       "array([[[ 1,  2,  3],\n",
       "        [ 4,  5,  6],\n",
       "        [ 7,  8,  9]],\n",
       "\n",
       "       [[10, 11, 12],\n",
       "        [13, 14, 15],\n",
       "        [16, 17, 18]]])"
      ]
     },
     "execution_count": 14,
     "metadata": {},
     "output_type": "execute_result"
    }
   ],
   "source": [
    "# 3-dimensional array, also referred to as a matrix\n",
    "a3 = np.array([[[1, 2, 3],\n",
    "                [4, 5, 6],\n",
    "                [7, 8, 9]],\n",
    "                [[10, 11, 12],\n",
    "                 [13, 14, 15],\n",
    "                 [16, 17, 18]]])\n",
    "a3"
   ]
  },
  {
   "cell_type": "code",
   "execution_count": 15,
   "id": "f87c716c-7503-487b-83bd-3a93b9d009e1",
   "metadata": {},
   "outputs": [
    {
     "data": {
      "text/plain": [
       "(2, 3, 3)"
      ]
     },
     "execution_count": 15,
     "metadata": {},
     "output_type": "execute_result"
    }
   ],
   "source": [
    "a3.shape"
   ]
  },
  {
   "cell_type": "code",
   "execution_count": 16,
   "id": "7de1f70c-774e-421b-a332-a77566c45365",
   "metadata": {},
   "outputs": [
    {
     "data": {
      "text/plain": [
       "3"
      ]
     },
     "execution_count": 16,
     "metadata": {},
     "output_type": "execute_result"
    }
   ],
   "source": [
    "a3.ndim"
   ]
  },
  {
   "cell_type": "code",
   "execution_count": 17,
   "id": "70d7eab9-3c6c-4afe-a381-4a7592063b0e",
   "metadata": {},
   "outputs": [
    {
     "data": {
      "text/plain": [
       "dtype('int64')"
      ]
     },
     "execution_count": 17,
     "metadata": {},
     "output_type": "execute_result"
    }
   ],
   "source": [
    "a3.dtype"
   ]
  },
  {
   "cell_type": "code",
   "execution_count": 18,
   "id": "32648e9b-c5b5-4f1d-841b-c7e538c2fc36",
   "metadata": {},
   "outputs": [
    {
     "data": {
      "text/plain": [
       "18"
      ]
     },
     "execution_count": 18,
     "metadata": {},
     "output_type": "execute_result"
    }
   ],
   "source": [
    "a3.size"
   ]
  },
  {
   "cell_type": "code",
   "execution_count": 19,
   "id": "ca805e53-54f3-4823-9879-60129a8efbe2",
   "metadata": {},
   "outputs": [
    {
     "data": {
      "text/plain": [
       "numpy.ndarray"
      ]
     },
     "execution_count": 19,
     "metadata": {},
     "output_type": "execute_result"
    }
   ],
   "source": [
    "type(a3)"
   ]
  },
  {
   "cell_type": "markdown",
   "id": "61a7a3e7-74e5-4d56-b577-1ebb6ebd75ba",
   "metadata": {},
   "source": [
    "### Anatomy of an array\n",
    "Key terms:\n",
    "* **Array** - A list of numbers, can be multi-dimensional.\n",
    "* **Scalar** - A single number (e.g. `7`).\n",
    "* **Vector** - A list of numbers with 1-dimension (e.g. `np.array([1, 2, 3])`).\n",
    "* **Matrix** - A (usually) multi-dimensional list of numbers (e.g. `np.array([[1, 2, 3], [4, 5, 6]])`)."
   ]
  },
  {
   "cell_type": "markdown",
   "id": "3821477e-37cc-4d34-b93b-b851ce3423fe",
   "metadata": {},
   "source": [
    "### pandas DataFrame out of NumPy arrays\n",
    "\n",
    "This is to examplify how NumPy is the backbone of many other libraries."
   ]
  },
  {
   "cell_type": "code",
   "execution_count": 20,
   "id": "5c3faae7-b340-45d5-86e0-d9353b633226",
   "metadata": {},
   "outputs": [
    {
     "data": {
      "text/plain": [
       "array([[8, 1, 6],\n",
       "       [4, 0, 5],\n",
       "       [7, 6, 4],\n",
       "       [3, 9, 7],\n",
       "       [8, 3, 0]], dtype=int32)"
      ]
     },
     "execution_count": 20,
     "metadata": {},
     "output_type": "execute_result"
    }
   ],
   "source": [
    "np.random.randint(10, size=(5, 3))"
   ]
  },
  {
   "cell_type": "code",
   "execution_count": 21,
   "id": "6a0b987b-da3a-4021-b96e-468d348c4f25",
   "metadata": {},
   "outputs": [
    {
     "data": {
      "text/html": [
       "<div>\n",
       "<style scoped>\n",
       "    .dataframe tbody tr th:only-of-type {\n",
       "        vertical-align: middle;\n",
       "    }\n",
       "\n",
       "    .dataframe tbody tr th {\n",
       "        vertical-align: top;\n",
       "    }\n",
       "\n",
       "    .dataframe thead th {\n",
       "        text-align: right;\n",
       "    }\n",
       "</style>\n",
       "<table border=\"1\" class=\"dataframe\">\n",
       "  <thead>\n",
       "    <tr style=\"text-align: right;\">\n",
       "      <th></th>\n",
       "      <th>a</th>\n",
       "      <th>b</th>\n",
       "      <th>c</th>\n",
       "    </tr>\n",
       "  </thead>\n",
       "  <tbody>\n",
       "    <tr>\n",
       "      <th>0</th>\n",
       "      <td>7</td>\n",
       "      <td>7</td>\n",
       "      <td>2</td>\n",
       "    </tr>\n",
       "    <tr>\n",
       "      <th>1</th>\n",
       "      <td>4</td>\n",
       "      <td>9</td>\n",
       "      <td>5</td>\n",
       "    </tr>\n",
       "    <tr>\n",
       "      <th>2</th>\n",
       "      <td>4</td>\n",
       "      <td>9</td>\n",
       "      <td>3</td>\n",
       "    </tr>\n",
       "    <tr>\n",
       "      <th>3</th>\n",
       "      <td>7</td>\n",
       "      <td>3</td>\n",
       "      <td>8</td>\n",
       "    </tr>\n",
       "    <tr>\n",
       "      <th>4</th>\n",
       "      <td>8</td>\n",
       "      <td>9</td>\n",
       "      <td>3</td>\n",
       "    </tr>\n",
       "  </tbody>\n",
       "</table>\n",
       "</div>"
      ],
      "text/plain": [
       "   a  b  c\n",
       "0  7  7  2\n",
       "1  4  9  5\n",
       "2  4  9  3\n",
       "3  7  3  8\n",
       "4  8  9  3"
      ]
     },
     "execution_count": 21,
     "metadata": {},
     "output_type": "execute_result"
    }
   ],
   "source": [
    "import pandas as pd\n",
    "df = pd.DataFrame(np.random.randint(10, size=(5, 3)), \n",
    "                                    columns=['a', 'b', 'c'])\n",
    "df"
   ]
  },
  {
   "cell_type": "code",
   "execution_count": 22,
   "id": "1bef4e32-84cb-4715-92b9-bdf11a209f1d",
   "metadata": {},
   "outputs": [
    {
     "data": {
      "text/plain": [
       "array([[1. , 2.9, 3.3],\n",
       "       [4. , 5. , 6.5]])"
      ]
     },
     "execution_count": 22,
     "metadata": {},
     "output_type": "execute_result"
    }
   ],
   "source": [
    "a = np.array([[1,2.9,3.3],\n",
    "              [4,5,6.5]])\n",
    "a"
   ]
  },
  {
   "cell_type": "code",
   "execution_count": 23,
   "id": "f69c8cc7-97d0-424d-aee5-320bd5ab05eb",
   "metadata": {},
   "outputs": [
    {
     "data": {
      "text/html": [
       "<div>\n",
       "<style scoped>\n",
       "    .dataframe tbody tr th:only-of-type {\n",
       "        vertical-align: middle;\n",
       "    }\n",
       "\n",
       "    .dataframe tbody tr th {\n",
       "        vertical-align: top;\n",
       "    }\n",
       "\n",
       "    .dataframe thead th {\n",
       "        text-align: right;\n",
       "    }\n",
       "</style>\n",
       "<table border=\"1\" class=\"dataframe\">\n",
       "  <thead>\n",
       "    <tr style=\"text-align: right;\">\n",
       "      <th></th>\n",
       "      <th>a</th>\n",
       "      <th>b</th>\n",
       "      <th>c</th>\n",
       "    </tr>\n",
       "  </thead>\n",
       "  <tbody>\n",
       "    <tr>\n",
       "      <th>0</th>\n",
       "      <td>1.0</td>\n",
       "      <td>2.9</td>\n",
       "      <td>3.3</td>\n",
       "    </tr>\n",
       "    <tr>\n",
       "      <th>1</th>\n",
       "      <td>4.0</td>\n",
       "      <td>5.0</td>\n",
       "      <td>6.5</td>\n",
       "    </tr>\n",
       "  </tbody>\n",
       "</table>\n",
       "</div>"
      ],
      "text/plain": [
       "     a    b    c\n",
       "0  1.0  2.9  3.3\n",
       "1  4.0  5.0  6.5"
      ]
     },
     "execution_count": 23,
     "metadata": {},
     "output_type": "execute_result"
    }
   ],
   "source": [
    "df = pd.DataFrame(a, columns = ['a', 'b', 'c'])\n",
    "df"
   ]
  },
  {
   "cell_type": "markdown",
   "id": "697f0bf9-a152-49a2-9d8e-5c08d77ff1da",
   "metadata": {},
   "source": [
    "## 2. Creating arrays\n",
    "\n",
    "* `np.array()`\n",
    "* `np.ones()`\n",
    "* `np.zeros()`\n",
    "* `np.random.rand(5, 3)`\n",
    "* `np.random.randint(10, size=5)`\n",
    "* `np.random.seed()` - pseudo random numbers\n",
    "* Searching the documentation example (finding `np.unique()` and using it)"
   ]
  },
  {
   "cell_type": "markdown",
   "id": "61034665-76da-48f2-91dc-b09be744452d",
   "metadata": {},
   "source": [
    "### np.array()"
   ]
  },
  {
   "cell_type": "code",
   "execution_count": 24,
   "id": "b9e8fa14-19b1-475a-a720-3ef3d37f0925",
   "metadata": {},
   "outputs": [
    {
     "data": {
      "text/plain": [
       "array([1, 2, 3])"
      ]
     },
     "execution_count": 24,
     "metadata": {},
     "output_type": "execute_result"
    }
   ],
   "source": [
    "simple_array = np.array([1,2,3])\n",
    "simple_array"
   ]
  },
  {
   "cell_type": "code",
   "execution_count": 25,
   "id": "0493bcab-e3f5-414d-8d8c-4211d415cda0",
   "metadata": {},
   "outputs": [
    {
     "data": {
      "text/plain": [
       "dtype('int64')"
      ]
     },
     "execution_count": 25,
     "metadata": {},
     "output_type": "execute_result"
    }
   ],
   "source": [
    "simple_array.dtype"
   ]
  },
  {
   "cell_type": "markdown",
   "id": "084932f0-b760-4304-9b2f-c28ae1e2dfcb",
   "metadata": {},
   "source": [
    "### np.ones()\n",
    "* np.ones(shape, dtype=None, order='C', *, like=None)\n",
    "* Return a new array of given shape and type, filled with ones.s."
   ]
  },
  {
   "cell_type": "code",
   "execution_count": 26,
   "id": "0d489257-6783-4b5f-81bd-9d8b5caaeb5f",
   "metadata": {},
   "outputs": [
    {
     "data": {
      "text/plain": [
       "array([[1., 1.],\n",
       "       [1., 1.],\n",
       "       [1., 1.],\n",
       "       [1., 1.],\n",
       "       [1., 1.],\n",
       "       [1., 1.],\n",
       "       [1., 1.],\n",
       "       [1., 1.],\n",
       "       [1., 1.],\n",
       "       [1., 1.]])"
      ]
     },
     "execution_count": 26,
     "metadata": {},
     "output_type": "execute_result"
    }
   ],
   "source": [
    "ones = np.ones((10,2))\n",
    "ones"
   ]
  },
  {
   "cell_type": "markdown",
   "id": "12505778-05d0-41b7-8883-296a2601f74f",
   "metadata": {},
   "source": [
    "#### ones.dtype # float by defalut"
   ]
  },
  {
   "cell_type": "code",
   "execution_count": 27,
   "id": "c1667d43-1224-4259-b54d-cb742bcdfe0d",
   "metadata": {},
   "outputs": [
    {
     "data": {
      "text/plain": [
       "array([[1, 1],\n",
       "       [1, 1],\n",
       "       [1, 1],\n",
       "       [1, 1],\n",
       "       [1, 1],\n",
       "       [1, 1],\n",
       "       [1, 1],\n",
       "       [1, 1],\n",
       "       [1, 1],\n",
       "       [1, 1]])"
      ]
     },
     "execution_count": 27,
     "metadata": {},
     "output_type": "execute_result"
    }
   ],
   "source": [
    "ones.astype(int)"
   ]
  },
  {
   "cell_type": "markdown",
   "id": "8ea19739-251a-4ac9-a0a7-4c4214f9e7b6",
   "metadata": {},
   "source": [
    "### np.zeros()\n",
    "* zeros(shape, dtype=float, order='C', *, like=None)\n",
    "* \r\n",
    "Return a new array of given shape and type, filled with zeros."
   ]
  },
  {
   "cell_type": "code",
   "execution_count": 28,
   "id": "72ed1716-11a0-4f95-a819-ebab95310f78",
   "metadata": {},
   "outputs": [
    {
     "data": {
      "text/plain": [
       "array([[[0., 0., 0.],\n",
       "        [0., 0., 0.]],\n",
       "\n",
       "       [[0., 0., 0.],\n",
       "        [0., 0., 0.]],\n",
       "\n",
       "       [[0., 0., 0.],\n",
       "        [0., 0., 0.]]])"
      ]
     },
     "execution_count": 28,
     "metadata": {},
     "output_type": "execute_result"
    }
   ],
   "source": [
    "zeros = np.zeros((3,2,3))\n",
    "zeros"
   ]
  },
  {
   "cell_type": "code",
   "execution_count": 29,
   "id": "574eb2bc-a9e4-4503-87b1-3c93e6d31328",
   "metadata": {},
   "outputs": [
    {
     "data": {
      "text/plain": [
       "dtype('float64')"
      ]
     },
     "execution_count": 29,
     "metadata": {},
     "output_type": "execute_result"
    }
   ],
   "source": [
    "zeros.dtype"
   ]
  },
  {
   "cell_type": "code",
   "execution_count": 30,
   "id": "4dcb209e-5426-4901-a7ba-b951fb54fe8d",
   "metadata": {},
   "outputs": [
    {
     "data": {
      "text/plain": [
       "array([[[0, 0, 0],\n",
       "        [0, 0, 0]],\n",
       "\n",
       "       [[0, 0, 0],\n",
       "        [0, 0, 0]],\n",
       "\n",
       "       [[0, 0, 0],\n",
       "        [0, 0, 0]]])"
      ]
     },
     "execution_count": 30,
     "metadata": {},
     "output_type": "execute_result"
    }
   ],
   "source": [
    "zeros.astype(int)"
   ]
  },
  {
   "cell_type": "markdown",
   "id": "00598b61-c0f0-4741-8227-ba00f1ac85a9",
   "metadata": {},
   "source": [
    "### np.arange()\n",
    "* arange([start,] stop[, step,], dtype=None, *, like=None)\n",
    "* \r\n",
    "Return evenly spaced values within a given interval."
   ]
  },
  {
   "cell_type": "code",
   "execution_count": 31,
   "id": "858db108-8710-44d5-a188-4185bbf8cf12",
   "metadata": {},
   "outputs": [
    {
     "data": {
      "text/plain": [
       "array([0, 2, 4, 6, 8])"
      ]
     },
     "execution_count": 31,
     "metadata": {},
     "output_type": "execute_result"
    }
   ],
   "source": [
    "range_array = np.arange(0,10,2)\n",
    "range_array"
   ]
  },
  {
   "cell_type": "markdown",
   "id": "5700896a-48b6-41b9-8a8a-00757c2d3a70",
   "metadata": {},
   "source": [
    "### np.random.rand()\n",
    "* rand(d0, d1, ..., dn)\n",
    "* \r\n",
    "Random values in a given shap\n",
    "* Create an array of the given shape and populate it with\r\n",
    "random samples from a uniform distribution\r\n",
    "over ``[0, 1)``.e."
   ]
  },
  {
   "cell_type": "code",
   "execution_count": 32,
   "id": "492cb82f-3d9e-475b-b5b5-c91a29c8748c",
   "metadata": {},
   "outputs": [
    {
     "data": {
      "text/plain": [
       "array([[0.1321418 , 0.08514691, 0.00580593],\n",
       "       [0.96738656, 0.77166382, 0.45866095],\n",
       "       [0.32568666, 0.79747258, 0.67999189],\n",
       "       [0.95043905, 0.61818531, 0.56668677],\n",
       "       [0.67735529, 0.95823987, 0.41881862]])"
      ]
     },
     "execution_count": 32,
     "metadata": {},
     "output_type": "execute_result"
    }
   ],
   "source": [
    "random_array = np.random.rand(5,3)\n",
    "random_array"
   ]
  },
  {
   "cell_type": "markdown",
   "id": "4083e21d-c19d-4bfc-b3e7-74981324767e",
   "metadata": {},
   "source": [
    "### np.random.randint(10, size=5)\n",
    "* randint(low, high=None, size=None, dtype=int)\n",
    "* \r\n",
    "Return random integers from `low` (inclusive) to `high` (exclusive\n",
    "* Return random integers from the \"discrete uniform\" distribution of the specified dtype in the \"half-open\" interval [`low`, `high`). If `high` is None (the default), then results are from [0, `low`).low`)."
   ]
  },
  {
   "cell_type": "code",
   "execution_count": 33,
   "id": "708151dd-2faf-4394-b151-9e216180f8cd",
   "metadata": {},
   "outputs": [
    {
     "data": {
      "text/plain": [
       "array([7, 1, 2, 4, 1], dtype=int32)"
      ]
     },
     "execution_count": 33,
     "metadata": {},
     "output_type": "execute_result"
    }
   ],
   "source": [
    "random_int_array = np.random.randint(10, size = 5) \n",
    "random_int_array"
   ]
  },
  {
   "cell_type": "code",
   "execution_count": 34,
   "id": "24982a2c-2d2a-4feb-a49f-46584bac39ec",
   "metadata": {},
   "outputs": [
    {
     "data": {
      "text/plain": [
       "array([[9, 1, 7],\n",
       "       [2, 7, 1]], dtype=int32)"
      ]
     },
     "execution_count": 34,
     "metadata": {},
     "output_type": "execute_result"
    }
   ],
   "source": [
    "random_int_array = np.random.randint(10, size = (2,3)) \n",
    "random_int_array"
   ]
  },
  {
   "cell_type": "markdown",
   "id": "a3fec96d-878e-4f31-8b18-1383a18180b9",
   "metadata": {},
   "source": [
    "### np.random.seed() \n",
    "* pseudo random number, which means, the numbers look random but aren't really, they're predetermined.\n",
    "* For consistency, you might want to keep the random numbers you generate similar throughout experiments.\n",
    "* What this does is it tells NumPy, \"Hey, I want you to create random numbers but keep them aligned with the seed.\""
   ]
  },
  {
   "cell_type": "code",
   "execution_count": 35,
   "id": "a83a0c3f-cd39-4c62-9e14-34976f3f838f",
   "metadata": {},
   "outputs": [
    {
     "data": {
      "text/plain": [
       "array([[5, 0, 3],\n",
       "       [3, 7, 9],\n",
       "       [3, 5, 2],\n",
       "       [4, 7, 6],\n",
       "       [8, 8, 1]], dtype=int32)"
      ]
     },
     "execution_count": 35,
     "metadata": {},
     "output_type": "execute_result"
    }
   ],
   "source": [
    "np.random.seed(0)\n",
    "np.random.randint(10, size=(5,3))"
   ]
  },
  {
   "cell_type": "markdown",
   "id": "d175bdfe-b164-47f8-a8c1-417f89a746cb",
   "metadata": {},
   "source": [
    "With np.random.seed() set, every time you run the cell above, the same random numbers will be generated.\n",
    "\n",
    "What if np.random.seed() wasn't set?\n",
    "\n",
    "Every time you run the cell below, a new set of numbers will appear."
   ]
  },
  {
   "cell_type": "code",
   "execution_count": 36,
   "id": "1dd8bbab-41c6-4222-a3c9-da866b99340b",
   "metadata": {},
   "outputs": [
    {
     "data": {
      "text/plain": [
       "array([[6, 7, 7],\n",
       "       [8, 1, 5],\n",
       "       [9, 8, 9],\n",
       "       [4, 3, 0],\n",
       "       [3, 5, 0]], dtype=int32)"
      ]
     },
     "execution_count": 36,
     "metadata": {},
     "output_type": "execute_result"
    }
   ],
   "source": [
    "np.random.randint(10, size=(5, 3))"
   ]
  },
  {
   "cell_type": "markdown",
   "id": "c5c99f4b-88de-4f2c-a4c9-aaeaf4aa282b",
   "metadata": {},
   "source": [
    "Because np.random.seed() is set to 0, the random numbers are the same as the cell with np.random.seed() set to 0 as well.\n",
    "\n",
    "Setting np.random.seed() is not 100% necessary but it's helpful to keep numbers the same throughout your experiments.\n",
    "\n",
    "For example, say you wanted to split your data randomly into training and test sets.\n",
    "\n",
    "Every time you randomly split, you might get different rows in each set.\n",
    "\n",
    "If you shared your work with someone else, they'd get different rows in each set too.\n",
    "\n",
    "Setting np.random.seed() ensures there's still randomness, it just makes the randomness repeatable. Hence the 'pseudo-random' numbers."
   ]
  },
  {
   "cell_type": "code",
   "execution_count": 37,
   "id": "bcc0a218-fa5b-45c1-999a-b2943edf2359",
   "metadata": {},
   "outputs": [
    {
     "data": {
      "text/html": [
       "<div>\n",
       "<style scoped>\n",
       "    .dataframe tbody tr th:only-of-type {\n",
       "        vertical-align: middle;\n",
       "    }\n",
       "\n",
       "    .dataframe tbody tr th {\n",
       "        vertical-align: top;\n",
       "    }\n",
       "\n",
       "    .dataframe thead th {\n",
       "        text-align: right;\n",
       "    }\n",
       "</style>\n",
       "<table border=\"1\" class=\"dataframe\">\n",
       "  <thead>\n",
       "    <tr style=\"text-align: right;\">\n",
       "      <th></th>\n",
       "      <th>0</th>\n",
       "      <th>1</th>\n",
       "      <th>2</th>\n",
       "    </tr>\n",
       "  </thead>\n",
       "  <tbody>\n",
       "    <tr>\n",
       "      <th>0</th>\n",
       "      <td>5</td>\n",
       "      <td>0</td>\n",
       "      <td>3</td>\n",
       "    </tr>\n",
       "    <tr>\n",
       "      <th>1</th>\n",
       "      <td>3</td>\n",
       "      <td>7</td>\n",
       "      <td>9</td>\n",
       "    </tr>\n",
       "    <tr>\n",
       "      <th>2</th>\n",
       "      <td>3</td>\n",
       "      <td>5</td>\n",
       "      <td>2</td>\n",
       "    </tr>\n",
       "    <tr>\n",
       "      <th>3</th>\n",
       "      <td>4</td>\n",
       "      <td>7</td>\n",
       "      <td>6</td>\n",
       "    </tr>\n",
       "    <tr>\n",
       "      <th>4</th>\n",
       "      <td>8</td>\n",
       "      <td>8</td>\n",
       "      <td>1</td>\n",
       "    </tr>\n",
       "  </tbody>\n",
       "</table>\n",
       "</div>"
      ],
      "text/plain": [
       "   0  1  2\n",
       "0  5  0  3\n",
       "1  3  7  9\n",
       "2  3  5  2\n",
       "3  4  7  6\n",
       "4  8  8  1"
      ]
     },
     "execution_count": 37,
     "metadata": {},
     "output_type": "execute_result"
    }
   ],
   "source": [
    "np.random.seed(0)\n",
    "df = pd.DataFrame(np.random.randint(10, size=(5, 3)))\n",
    "df"
   ]
  },
  {
   "cell_type": "markdown",
   "id": "b75f13ea-2eab-4070-8aa6-00ce393f33a9",
   "metadata": {},
   "source": [
    "### np.unique()\n",
    "* syntax: np.unique(ar, return_index=False, return_inverse=False, resturn_counts=False, axis=None)\n",
    "* find the unique elements of an array\n",
    "* returns the sorted unique elements of an array."
   ]
  },
  {
   "cell_type": "code",
   "execution_count": 38,
   "id": "046ecc91-e615-48a6-93f2-e5e26ec3ad2d",
   "metadata": {},
   "outputs": [
    {
     "data": {
      "text/plain": [
       "array([1, 2, 3, 4, 6, 9])"
      ]
     },
     "execution_count": 38,
     "metadata": {},
     "output_type": "execute_result"
    }
   ],
   "source": [
    "a = np.array([[1, 2, 3],\n",
    "               [4, 2, 6],\n",
    "               [1, 2, 9]])\n",
    "\n",
    "unique_values = np.unique(a)\n",
    "unique_values"
   ]
  },
  {
   "cell_type": "markdown",
   "id": "a9049c02-59c5-4572-ad03-05821b7d1ecb",
   "metadata": {},
   "source": [
    "## 3. Viewing arrays and matrices (indexing)\n",
    "\n",
    "Remember, because arrays and matrices are both `ndarray`'s, they can be viewed in similar ways.\n",
    "Array shapes are always listed in the format `(row, column, n, n, n...)` where `n` is optional extra dimensions.\n",
    "\n",
    "Let's check out our 3 arrays again."
   ]
  },
  {
   "cell_type": "code",
   "execution_count": 39,
   "id": "5099bd46-a05b-4731-a03e-d8484f0170f4",
   "metadata": {},
   "outputs": [],
   "source": [
    "a1 = np.array([1,2,3])\n",
    "\n",
    "a2 = np.array([[1, 2.0, 3.3],\n",
    "              [4, 5, 6.5]])\n",
    "\n",
    "a3 = np.array([[[1, 2, 3],\n",
    "                [4, 5, 6],\n",
    "                [7, 8, 9]],\n",
    "               [[10, 11, 12],\n",
    "                [13, 14, 15],\n",
    "                [16, 17, 18]]])\n"
   ]
  },
  {
   "cell_type": "code",
   "execution_count": 40,
   "id": "26247773-b79b-4cf6-a850-e3a65846e481",
   "metadata": {},
   "outputs": [
    {
     "data": {
      "text/plain": [
       "array([1, 2, 3])"
      ]
     },
     "execution_count": 40,
     "metadata": {},
     "output_type": "execute_result"
    }
   ],
   "source": [
    "a1"
   ]
  },
  {
   "cell_type": "code",
   "execution_count": 41,
   "id": "7ac4a021-2370-453b-bcbb-3dbd3cabb514",
   "metadata": {},
   "outputs": [
    {
     "data": {
      "text/plain": [
       "np.int64(1)"
      ]
     },
     "execution_count": 41,
     "metadata": {},
     "output_type": "execute_result"
    }
   ],
   "source": [
    "a1[0]"
   ]
  },
  {
   "cell_type": "code",
   "execution_count": 42,
   "id": "f3e6047c-255a-48fc-a82d-825c05fbf7bc",
   "metadata": {},
   "outputs": [
    {
     "data": {
      "text/plain": [
       "array([[1. , 2. , 3.3],\n",
       "       [4. , 5. , 6.5]])"
      ]
     },
     "execution_count": 42,
     "metadata": {},
     "output_type": "execute_result"
    }
   ],
   "source": [
    "a2"
   ]
  },
  {
   "cell_type": "code",
   "execution_count": 43,
   "id": "84108cfb-8b4f-4f72-b03e-464b6358de41",
   "metadata": {},
   "outputs": [
    {
     "data": {
      "text/plain": [
       "array([1. , 2. , 3.3])"
      ]
     },
     "execution_count": 43,
     "metadata": {},
     "output_type": "execute_result"
    }
   ],
   "source": [
    "a2[0]"
   ]
  },
  {
   "cell_type": "code",
   "execution_count": 44,
   "id": "e56b5732-026f-4fe2-b617-46f208f0cbaf",
   "metadata": {},
   "outputs": [
    {
     "data": {
      "text/plain": [
       "np.float64(2.0)"
      ]
     },
     "execution_count": 44,
     "metadata": {},
     "output_type": "execute_result"
    }
   ],
   "source": [
    "a2[0][1]"
   ]
  },
  {
   "cell_type": "code",
   "execution_count": 45,
   "id": "2a1e1d71-9c62-4d56-bf2e-fa98433de593",
   "metadata": {},
   "outputs": [
    {
     "data": {
      "text/plain": [
       "np.float64(2.0)"
      ]
     },
     "execution_count": 45,
     "metadata": {},
     "output_type": "execute_result"
    }
   ],
   "source": [
    "a2[0,1]"
   ]
  },
  {
   "cell_type": "code",
   "execution_count": 46,
   "id": "91b39c2a-88ef-4bcb-b646-389074e45cfe",
   "metadata": {},
   "outputs": [
    {
     "data": {
      "text/plain": [
       "array([1., 2.])"
      ]
     },
     "execution_count": 46,
     "metadata": {},
     "output_type": "execute_result"
    }
   ],
   "source": [
    "a2[0, :2]"
   ]
  },
  {
   "cell_type": "code",
   "execution_count": 47,
   "id": "c1ae23e6-ad24-469b-a191-27ddc7a39f66",
   "metadata": {},
   "outputs": [
    {
     "data": {
      "text/plain": [
       "array([[[ 1,  2,  3],\n",
       "        [ 4,  5,  6],\n",
       "        [ 7,  8,  9]],\n",
       "\n",
       "       [[10, 11, 12],\n",
       "        [13, 14, 15],\n",
       "        [16, 17, 18]]])"
      ]
     },
     "execution_count": 47,
     "metadata": {},
     "output_type": "execute_result"
    }
   ],
   "source": [
    "a3"
   ]
  },
  {
   "cell_type": "code",
   "execution_count": 48,
   "id": "cf68f431-c3b0-4c9b-bff3-f072a38d21dd",
   "metadata": {},
   "outputs": [
    {
     "data": {
      "text/plain": [
       "array([[1, 2, 3],\n",
       "       [4, 5, 6],\n",
       "       [7, 8, 9]])"
      ]
     },
     "execution_count": 48,
     "metadata": {},
     "output_type": "execute_result"
    }
   ],
   "source": [
    "a3[0]"
   ]
  },
  {
   "cell_type": "code",
   "execution_count": 49,
   "id": "e86037d7-fea8-4a01-b3db-906878bdc3c6",
   "metadata": {},
   "outputs": [
    {
     "data": {
      "text/plain": [
       "array([7, 8, 9])"
      ]
     },
     "execution_count": 49,
     "metadata": {},
     "output_type": "execute_result"
    }
   ],
   "source": [
    "a3[0][2]"
   ]
  },
  {
   "cell_type": "code",
   "execution_count": 50,
   "id": "5445f221-1f9b-420c-a6b0-ffeca215b0a9",
   "metadata": {},
   "outputs": [
    {
     "data": {
      "text/plain": [
       "np.int64(8)"
      ]
     },
     "execution_count": 50,
     "metadata": {},
     "output_type": "execute_result"
    }
   ],
   "source": [
    "a3[0][2][1]"
   ]
  },
  {
   "cell_type": "code",
   "execution_count": 51,
   "id": "fdaeaaf6-e1cd-45e5-8fd7-ea0b2db9d0e0",
   "metadata": {},
   "outputs": [
    {
     "data": {
      "text/plain": [
       "np.int64(8)"
      ]
     },
     "execution_count": 51,
     "metadata": {},
     "output_type": "execute_result"
    }
   ],
   "source": [
    "a3[0, 2, 1]"
   ]
  },
  {
   "cell_type": "code",
   "execution_count": 52,
   "id": "daba2ff4-bdb2-43a1-811d-b7ae42febde2",
   "metadata": {},
   "outputs": [
    {
     "data": {
      "text/plain": [
       "array([1, 2])"
      ]
     },
     "execution_count": 52,
     "metadata": {},
     "output_type": "execute_result"
    }
   ],
   "source": [
    "a3[0, 0, :2]"
   ]
  },
  {
   "cell_type": "code",
   "execution_count": 53,
   "id": "05664075-8c21-435b-af50-59e7e89e756c",
   "metadata": {},
   "outputs": [
    {
     "data": {
      "text/plain": [
       "array([7, 8])"
      ]
     },
     "execution_count": 53,
     "metadata": {},
     "output_type": "execute_result"
    }
   ],
   "source": [
    "a3[0, 2, :2]"
   ]
  },
  {
   "cell_type": "code",
   "execution_count": 54,
   "id": "3754bbfe-070d-4210-90af-be3e369a9f26",
   "metadata": {},
   "outputs": [
    {
     "data": {
      "text/plain": [
       "array([[1, 2],\n",
       "       [4, 5]])"
      ]
     },
     "execution_count": 54,
     "metadata": {},
     "output_type": "execute_result"
    }
   ],
   "source": [
    "a3[0, :2, :2]"
   ]
  },
  {
   "cell_type": "code",
   "execution_count": 55,
   "id": "c6bf2287-90e2-4a4c-8769-4835c087a794",
   "metadata": {},
   "outputs": [
    {
     "data": {
      "text/plain": [
       "array([[[ 1,  2],\n",
       "        [ 4,  5]],\n",
       "\n",
       "       [[10, 11],\n",
       "        [13, 14]]])"
      ]
     },
     "execution_count": 55,
     "metadata": {},
     "output_type": "execute_result"
    }
   ],
   "source": [
    "a3[:2, :2, :2]"
   ]
  },
  {
   "cell_type": "markdown",
   "id": "d50a3426-3468-4e80-8796-97b8b9d36519",
   "metadata": {},
   "source": [
    "This takes a bit of practice, especially when the dimensions get higher. Usually, it takes me a little trial and error of trying to get certain values, viewing the output in the notebook and trying again.\n",
    "\n",
    "NumPy arrays get printed from outside to inside. This means the number at the end of the shape comes first, and the number at the start of the shape comes last."
   ]
  },
  {
   "cell_type": "markdown",
   "id": "bfbaa3f6-df24-49fb-828d-2f1252204e65",
   "metadata": {},
   "source": [
    "## 4. Manipulating and comparing arrays\n",
    "* Arithmetic\n",
    "    * `+`, `-`, `*`, `/`, `//`, `**`, `%`\n",
    "    * `np.exp()`\n",
    "    * `np.log()`\n",
    "    * [Dot product](https://www.mathsisfun.com/algebra/matrix-multiplying.html) - `np.dot()`\n",
    "    * Broadcasting\n",
    "* Reshaping\n",
    "    * `np.reshape()`\n",
    "* Transposing\n",
    "    * `a3.T`\n",
    "* Aggregation\n",
    "    * `np.sum()` - faster than Python's `.sum()` for NumPy arrays\n",
    "    * `np.mean()`\n",
    "    * `np.std()`- measure of hoe spread out a group of numbers is fromm the mean. (is just teh square root of the variance)\n",
    "    * `np.var()` - measure of the average degree to which each number is different to the mean. (Higher variance = wider range of numbers & Hlower variance - narrower range of numbers) \n",
    "    * `np.min()`\n",
    "    * `np.max()`\n",
    "    * `np.argmin()` - find index of minimum value\n",
    "    * `np.argmax()` - find index of maximum value\n",
    "    * These work on all `ndarray`'s\n",
    "        * `a4.min(axis=0)` -- you can use axis as well\n",
    "* Comparison operators\n",
    "    * `>`\n",
    "    * `<`\n",
    "    * `<=`\n",
    "    * `>=`\n",
    "    * `x != 3`\n",
    "    * `x == 3`\n",
    "    * `np.sum(x > 3)`"
   ]
  },
  {
   "cell_type": "markdown",
   "id": "32364be4-5957-40a9-8e4a-16d2a70e8fbc",
   "metadata": {},
   "source": [
    "### Arithmetic"
   ]
  },
  {
   "cell_type": "code",
   "execution_count": 56,
   "id": "77afd990-1afb-4a4f-a918-fd2097477f3f",
   "metadata": {},
   "outputs": [
    {
     "data": {
      "text/plain": [
       "array([1, 2, 3])"
      ]
     },
     "execution_count": 56,
     "metadata": {},
     "output_type": "execute_result"
    }
   ],
   "source": [
    "a1 = np.array([1, 2, 3])\n",
    "a1"
   ]
  },
  {
   "cell_type": "code",
   "execution_count": 57,
   "id": "bca5381c-0a37-4e7e-a071-7262174af83d",
   "metadata": {},
   "outputs": [
    {
     "data": {
      "text/plain": [
       "array([1., 1., 1.])"
      ]
     },
     "execution_count": 57,
     "metadata": {},
     "output_type": "execute_result"
    }
   ],
   "source": [
    "ones = np.ones(3)\n",
    "ones"
   ]
  },
  {
   "cell_type": "code",
   "execution_count": 58,
   "id": "830c8d95-c2bb-42ac-a793-d3bb84c21a0a",
   "metadata": {},
   "outputs": [
    {
     "data": {
      "text/plain": [
       "array([2., 3., 4.])"
      ]
     },
     "execution_count": 58,
     "metadata": {},
     "output_type": "execute_result"
    }
   ],
   "source": [
    "a1 + ones"
   ]
  },
  {
   "cell_type": "code",
   "execution_count": 59,
   "id": "316ae1a9-224e-4c56-867f-304b54181eba",
   "metadata": {},
   "outputs": [
    {
     "data": {
      "text/plain": [
       "array([2., 3., 4.])"
      ]
     },
     "execution_count": 59,
     "metadata": {},
     "output_type": "execute_result"
    }
   ],
   "source": [
    "np.add(a1, ones)"
   ]
  },
  {
   "cell_type": "code",
   "execution_count": 60,
   "id": "50feb15b-5cab-45f0-8530-adef2f1ccaf6",
   "metadata": {},
   "outputs": [
    {
     "data": {
      "text/plain": [
       "array([0., 1., 2.])"
      ]
     },
     "execution_count": 60,
     "metadata": {},
     "output_type": "execute_result"
    }
   ],
   "source": [
    "a1 - ones"
   ]
  },
  {
   "cell_type": "code",
   "execution_count": 61,
   "id": "af48720a-d095-44dc-91f3-da33772aecd7",
   "metadata": {},
   "outputs": [
    {
     "data": {
      "text/plain": [
       "array([3, 4, 9])"
      ]
     },
     "execution_count": 61,
     "metadata": {},
     "output_type": "execute_result"
    }
   ],
   "source": [
    "a2 = np.array([3, 4, 9])\n",
    "a2"
   ]
  },
  {
   "cell_type": "code",
   "execution_count": 62,
   "id": "b5ac621b-3827-4b9c-8351-a30339571b05",
   "metadata": {},
   "outputs": [
    {
     "data": {
      "text/plain": [
       "array([ 3,  8, 27])"
      ]
     },
     "execution_count": 62,
     "metadata": {},
     "output_type": "execute_result"
    }
   ],
   "source": [
    "a1 * a2"
   ]
  },
  {
   "cell_type": "code",
   "execution_count": 63,
   "id": "f5b163ee-9a46-40e2-87cb-557957fb68b3",
   "metadata": {},
   "outputs": [
    {
     "data": {
      "text/plain": [
       "array([3., 2., 3.])"
      ]
     },
     "execution_count": 63,
     "metadata": {},
     "output_type": "execute_result"
    }
   ],
   "source": [
    "a2 / a1"
   ]
  },
  {
   "cell_type": "code",
   "execution_count": 64,
   "id": "6f75a2a5-bd5f-438e-8180-78952a217342",
   "metadata": {},
   "outputs": [
    {
     "data": {
      "text/plain": [
       "array([3, 2, 3])"
      ]
     },
     "execution_count": 64,
     "metadata": {},
     "output_type": "execute_result"
    }
   ],
   "source": [
    "a2 // a1"
   ]
  },
  {
   "cell_type": "code",
   "execution_count": 65,
   "id": "1bb8136a-9b03-4f0c-a0b8-feea4654e083",
   "metadata": {},
   "outputs": [
    {
     "data": {
      "text/plain": [
       "array([0, 0, 0])"
      ]
     },
     "execution_count": 65,
     "metadata": {},
     "output_type": "execute_result"
    }
   ],
   "source": [
    "a2 % a1"
   ]
  },
  {
   "cell_type": "code",
   "execution_count": 66,
   "id": "be69e0e9-bf7e-4f9d-b3d5-824912389e8f",
   "metadata": {},
   "outputs": [
    {
     "data": {
      "text/plain": [
       "array([1, 4, 9])"
      ]
     },
     "execution_count": 66,
     "metadata": {},
     "output_type": "execute_result"
    }
   ],
   "source": [
    "a1 ** 2"
   ]
  },
  {
   "cell_type": "code",
   "execution_count": 67,
   "id": "7615c84d-c5d2-4793-8aad-c84bbc0cf080",
   "metadata": {},
   "outputs": [
    {
     "data": {
      "text/plain": [
       "array([1, 4, 9])"
      ]
     },
     "execution_count": 67,
     "metadata": {},
     "output_type": "execute_result"
    }
   ],
   "source": [
    "np.square(a1)"
   ]
  },
  {
   "cell_type": "code",
   "execution_count": 68,
   "id": "f024585e-3b5f-40ac-a3e3-e2cd07954331",
   "metadata": {},
   "outputs": [
    {
     "data": {
      "text/plain": [
       "array([ 2.71828183,  7.3890561 , 20.08553692])"
      ]
     },
     "execution_count": 68,
     "metadata": {},
     "output_type": "execute_result"
    }
   ],
   "source": [
    "np.exp(a1)"
   ]
  },
  {
   "cell_type": "code",
   "execution_count": 69,
   "id": "2f722628-14e5-4c08-b253-e1c7268f4dd7",
   "metadata": {},
   "outputs": [
    {
     "data": {
      "text/plain": [
       "array([0.        , 0.69314718, 1.09861229])"
      ]
     },
     "execution_count": 69,
     "metadata": {},
     "output_type": "execute_result"
    }
   ],
   "source": [
    "np.log(a1)"
   ]
  },
  {
   "cell_type": "markdown",
   "id": "9737bf30-13d2-4ad6-b87f-be8c4610b79c",
   "metadata": {},
   "source": [
    "Note: np.dot()\n",
    "* Dot product of two arrays. Specifically,\n",
    "   * If both `a` and `b` are 1-D arrays, it is inner product of vectors\n",
    "  (without complex conjugation).\n",
    "   * If both `a` and `b` are 2-D arrays, it is matrix multiplication,\n",
    "  but using :func:`matmul` or ``a @ b`` is preferred.\n",
    "   * If either `a` or `b` is 0-D (scalar), it is equivalent to\n",
    "  :func:`multiply` and using ``numpy.multiply(a, b)`` or ``a * b`` is\n",
    "  preferred."
   ]
  },
  {
   "cell_type": "code",
   "execution_count": 70,
   "id": "9c1f7849-cd99-4ce6-ab20-441c978a3b1b",
   "metadata": {},
   "outputs": [
    {
     "data": {
      "text/plain": [
       "np.int64(32)"
      ]
     },
     "execution_count": 70,
     "metadata": {},
     "output_type": "execute_result"
    }
   ],
   "source": [
    "d1 = np.array([1, 2, 3])\n",
    "d2 = np.array([4, 5, 6])\n",
    "np.dot(d1, d2)"
   ]
  },
  {
   "cell_type": "code",
   "execution_count": 71,
   "id": "cfb5852a-ed5c-49d7-9f77-f31c8da5cc32",
   "metadata": {},
   "outputs": [
    {
     "ename": "ValueError",
     "evalue": "shapes (2,3) and (2,3) not aligned: 3 (dim 1) != 2 (dim 0)",
     "output_type": "error",
     "traceback": [
      "\u001b[1;31m---------------------------------------------------------------------------\u001b[0m",
      "\u001b[1;31mValueError\u001b[0m                                Traceback (most recent call last)",
      "Cell \u001b[1;32mIn[71], line 5\u001b[0m\n\u001b[0;32m      1\u001b[0m d1 \u001b[38;5;241m=\u001b[39m np\u001b[38;5;241m.\u001b[39marray([[\u001b[38;5;241m1\u001b[39m, \u001b[38;5;241m2\u001b[39m, \u001b[38;5;241m3\u001b[39m],\n\u001b[0;32m      2\u001b[0m                [\u001b[38;5;241m4\u001b[39m, \u001b[38;5;241m5\u001b[39m, \u001b[38;5;241m6\u001b[39m]])\n\u001b[0;32m      3\u001b[0m d2 \u001b[38;5;241m=\u001b[39m np\u001b[38;5;241m.\u001b[39marray([[\u001b[38;5;241m7\u001b[39m, \u001b[38;5;241m8\u001b[39m, \u001b[38;5;241m9\u001b[39m],\n\u001b[0;32m      4\u001b[0m                [\u001b[38;5;241m10\u001b[39m, \u001b[38;5;241m11\u001b[39m, \u001b[38;5;241m12\u001b[39m]])\n\u001b[1;32m----> 5\u001b[0m np\u001b[38;5;241m.\u001b[39mdot(d1, d2)\n",
      "\u001b[1;31mValueError\u001b[0m: shapes (2,3) and (2,3) not aligned: 3 (dim 1) != 2 (dim 0)"
     ]
    }
   ],
   "source": [
    "d1 = np.array([[1, 2, 3],\n",
    "               [4, 5, 6]])\n",
    "d2 = np.array([[7, 8, 9],\n",
    "               [10, 11, 12]])\n",
    "np.dot(d1, d2)"
   ]
  },
  {
   "cell_type": "code",
   "execution_count": 73,
   "id": "2734703d-e495-4d64-8597-7ff8ac7516d7",
   "metadata": {},
   "outputs": [
    {
     "data": {
      "text/plain": [
       "array([[ 7, 16, 27],\n",
       "       [40, 55, 72]])"
      ]
     },
     "execution_count": 73,
     "metadata": {},
     "output_type": "execute_result"
    }
   ],
   "source": [
    "d1 * d2"
   ]
  },
  {
   "cell_type": "code",
   "execution_count": 74,
   "id": "a162276a-5456-4805-81dc-a171b082dbef",
   "metadata": {},
   "outputs": [
    {
     "data": {
      "text/plain": [
       "array([[47, 52, 57],\n",
       "       [64, 71, 78],\n",
       "       [81, 90, 99]])"
      ]
     },
     "execution_count": 74,
     "metadata": {},
     "output_type": "execute_result"
    }
   ],
   "source": [
    "d1 = np.array([[1, 4],\n",
    "               [2, 5],\n",
    "               [3, 6]])\n",
    "np.dot(d1, d2)"
   ]
  },
  {
   "cell_type": "markdown",
   "id": "0dde320d-45a8-4d8c-92c2-774b335106f2",
   "metadata": {},
   "source": [
    "### Note:"
   ]
  },
  {
   "cell_type": "code",
   "execution_count": 75,
   "id": "23013999-4836-442e-9bfe-303829080315",
   "metadata": {},
   "outputs": [
    {
     "data": {
      "text/plain": [
       "array([[4, 5, 6],\n",
       "       [7, 8, 9]])"
      ]
     },
     "execution_count": 75,
     "metadata": {},
     "output_type": "execute_result"
    }
   ],
   "source": [
    "a3 = np.array([[4, 5, 6],\n",
    "               [7, 8, 9]])\n",
    "a3"
   ]
  },
  {
   "cell_type": "code",
   "execution_count": 76,
   "id": "116b6640-8899-4876-923f-6c6ec560b40b",
   "metadata": {},
   "outputs": [
    {
     "data": {
      "text/plain": [
       "array([[12, 20, 54],\n",
       "       [21, 32, 81]])"
      ]
     },
     "execution_count": 76,
     "metadata": {},
     "output_type": "execute_result"
    }
   ],
   "source": [
    "a2 * a3"
   ]
  },
  {
   "cell_type": "code",
   "execution_count": 77,
   "id": "c691a703-1c72-4ccf-b582-01c0bdb5d7ef",
   "metadata": {},
   "outputs": [
    {
     "data": {
      "text/plain": [
       "((3,), (2, 3))"
      ]
     },
     "execution_count": 77,
     "metadata": {},
     "output_type": "execute_result"
    }
   ],
   "source": [
    "a2.shape, a3.shape"
   ]
  },
  {
   "cell_type": "code",
   "execution_count": 78,
   "id": "f63c3f5c-969e-4758-8f4d-c9dac732c24f",
   "metadata": {},
   "outputs": [
    {
     "data": {
      "text/plain": [
       "array([[[ 1,  2,  3],\n",
       "        [ 4,  6,  9],\n",
       "        [ 7,  8, 12]],\n",
       "\n",
       "       [[ 7,  8, 12],\n",
       "        [10, 12, 15],\n",
       "        [ 4,  6, 10]]])"
      ]
     },
     "execution_count": 78,
     "metadata": {},
     "output_type": "execute_result"
    }
   ],
   "source": [
    "a4 = np.array([[[1, 2, 3],\n",
    "               [4, 6, 9],\n",
    "               [7, 8, 12]],\n",
    "              [[7, 8, 12],\n",
    "               [10, 12, 15],\n",
    "               [4, 6, 10]]])\n",
    "a4"
   ]
  },
  {
   "cell_type": "code",
   "execution_count": 79,
   "id": "1a91d1d3-24ff-49fb-bdca-2b04e32661fa",
   "metadata": {},
   "outputs": [
    {
     "ename": "ValueError",
     "evalue": "operands could not be broadcast together with shapes (2,3) (2,3,3) ",
     "output_type": "error",
     "traceback": [
      "\u001b[1;31m---------------------------------------------------------------------------\u001b[0m",
      "\u001b[1;31mValueError\u001b[0m                                Traceback (most recent call last)",
      "Cell \u001b[1;32mIn[79], line 1\u001b[0m\n\u001b[1;32m----> 1\u001b[0m a3 \u001b[38;5;241m*\u001b[39m a4\n",
      "\u001b[1;31mValueError\u001b[0m: operands could not be broadcast together with shapes (2,3) (2,3,3) "
     ]
    }
   ],
   "source": [
    "a3 * a4"
   ]
  },
  {
   "cell_type": "code",
   "execution_count": 80,
   "id": "615e675f-9a5c-4b54-ae0c-cb876ddae6af",
   "metadata": {},
   "outputs": [
    {
     "data": {
      "text/plain": [
       "((2, 3), (2, 3, 3))"
      ]
     },
     "execution_count": 80,
     "metadata": {},
     "output_type": "execute_result"
    }
   ],
   "source": [
    "a3.shape, a4.shape"
   ]
  },
  {
   "cell_type": "code",
   "execution_count": 81,
   "id": "56862835-d140-47a9-8d29-97c0dc9923b4",
   "metadata": {},
   "outputs": [
    {
     "data": {
      "text/plain": [
       "array([[1, 2],\n",
       "       [3, 4],\n",
       "       [5, 6]])"
      ]
     },
     "execution_count": 81,
     "metadata": {},
     "output_type": "execute_result"
    }
   ],
   "source": [
    "a5 = np.array([[1,2],\n",
    "              [3, 4],\n",
    "              [5, 6]])\n",
    "a5"
   ]
  },
  {
   "cell_type": "code",
   "execution_count": 82,
   "id": "38478044-6702-4a84-ba16-e014a97ea100",
   "metadata": {},
   "outputs": [
    {
     "ename": "ValueError",
     "evalue": "operands could not be broadcast together with shapes (2,3) (3,2) ",
     "output_type": "error",
     "traceback": [
      "\u001b[1;31m---------------------------------------------------------------------------\u001b[0m",
      "\u001b[1;31mValueError\u001b[0m                                Traceback (most recent call last)",
      "Cell \u001b[1;32mIn[82], line 1\u001b[0m\n\u001b[1;32m----> 1\u001b[0m a3 \u001b[38;5;241m*\u001b[39m a5\n",
      "\u001b[1;31mValueError\u001b[0m: operands could not be broadcast together with shapes (2,3) (3,2) "
     ]
    }
   ],
   "source": [
    "a3 * a5"
   ]
  },
  {
   "cell_type": "code",
   "execution_count": 83,
   "id": "0732af1d-d763-4cb6-9699-d58654fb8942",
   "metadata": {},
   "outputs": [
    {
     "data": {
      "text/plain": [
       "((2, 3), (3, 2))"
      ]
     },
     "execution_count": 83,
     "metadata": {},
     "output_type": "execute_result"
    }
   ],
   "source": [
    "a3.shape, a5.shape"
   ]
  },
  {
   "cell_type": "markdown",
   "id": "0d4a7819-d9e9-4655-9471-4d74c1d3e8f9",
   "metadata": {},
   "source": [
    "### Broadcasting\n",
    "\n",
    "- What is broadcasting?\n",
    "    - Broadcasting is a feature of NumPy which performs an operation across multiple dimensions of data without replicating the data. This saves time and space. For example, if you have a 3x3 array (A) and want to add a 1x3 array (B), NumPy will add the row of (B) to every row of (A).\n",
    "\n",
    "- Rules of Broadcasting\n",
    "    1. If the two arrays differ in their number of dimensions, the shape of the one with fewer dimensions is padded with ones on its leading (left) side.\n",
    "    2. If the shape of the two arrays does not match in any dimension, the array with shape equal to 1 in that dimension is stretched to match the other shape.\n",
    "    3. If in any dimension the sizes disagree and neither is equal to 1, an error is raised.\n",
    "    \n",
    "    \n",
    "**The broadcasting rule:**\n",
    "In order to broadcast, the size of the trailing axes for both arrays in an operation must be either the same size or one of them must be one."
   ]
  },
  {
   "cell_type": "markdown",
   "id": "c5683ddb-3cbc-45ea-8fd0-269053b422c0",
   "metadata": {},
   "source": [
    "### Reshaping"
   ]
  },
  {
   "cell_type": "code",
   "execution_count": 84,
   "id": "bcfd28e9-d32c-4eb3-8466-7a47d97b7168",
   "metadata": {},
   "outputs": [
    {
     "data": {
      "text/plain": [
       "array([[4, 5, 6],\n",
       "       [7, 8, 9]])"
      ]
     },
     "execution_count": 84,
     "metadata": {},
     "output_type": "execute_result"
    }
   ],
   "source": [
    "a3"
   ]
  },
  {
   "cell_type": "code",
   "execution_count": 85,
   "id": "18d618df-8334-4461-baf0-5c5f351a4138",
   "metadata": {},
   "outputs": [
    {
     "data": {
      "text/plain": [
       "array([[[ 1,  2,  3],\n",
       "        [ 4,  6,  9],\n",
       "        [ 7,  8, 12]],\n",
       "\n",
       "       [[ 7,  8, 12],\n",
       "        [10, 12, 15],\n",
       "        [ 4,  6, 10]]])"
      ]
     },
     "execution_count": 85,
     "metadata": {},
     "output_type": "execute_result"
    }
   ],
   "source": [
    "a4"
   ]
  },
  {
   "cell_type": "code",
   "execution_count": 86,
   "id": "b1377462-2970-483f-aaf5-d0cf4205f249",
   "metadata": {},
   "outputs": [
    {
     "data": {
      "text/plain": [
       "((2, 3), (2, 3, 3))"
      ]
     },
     "execution_count": 86,
     "metadata": {},
     "output_type": "execute_result"
    }
   ],
   "source": [
    "a3.shape, a4.shape"
   ]
  },
  {
   "cell_type": "code",
   "execution_count": 87,
   "id": "440327c9-aa1a-4b99-8984-514bf57134fb",
   "metadata": {},
   "outputs": [
    {
     "data": {
      "text/plain": [
       "array([[[4],\n",
       "        [5],\n",
       "        [6]],\n",
       "\n",
       "       [[7],\n",
       "        [8],\n",
       "        [9]]])"
      ]
     },
     "execution_count": 87,
     "metadata": {},
     "output_type": "execute_result"
    }
   ],
   "source": [
    "a3.reshape(2,3,1)"
   ]
  },
  {
   "cell_type": "code",
   "execution_count": 88,
   "id": "00120ebe-7b1d-4a89-8961-3f9157db744f",
   "metadata": {},
   "outputs": [
    {
     "data": {
      "text/plain": [
       "array([[[  4,   8,  12],\n",
       "        [ 20,  30,  45],\n",
       "        [ 42,  48,  72]],\n",
       "\n",
       "       [[ 49,  56,  84],\n",
       "        [ 80,  96, 120],\n",
       "        [ 36,  54,  90]]])"
      ]
     },
     "execution_count": 88,
     "metadata": {},
     "output_type": "execute_result"
    }
   ],
   "source": [
    "a3.reshape(2,3,1) * a4"
   ]
  },
  {
   "cell_type": "markdown",
   "id": "b7d6b7fb-3907-475a-a72c-6de17f6cc3b2",
   "metadata": {},
   "source": [
    "### Transpose\n",
    "\n",
    "A tranpose reverses the order of the axes. \n",
    "\n",
    "For example, an array with shape `(2, 3)` becomes `(3, 2)`."
   ]
  },
  {
   "cell_type": "code",
   "execution_count": 89,
   "id": "9da9e2fe-7668-4416-b8c9-c9f64ef2ad96",
   "metadata": {},
   "outputs": [
    {
     "data": {
      "text/plain": [
       "((2, 3), (3, 2))"
      ]
     },
     "execution_count": 89,
     "metadata": {},
     "output_type": "execute_result"
    }
   ],
   "source": [
    "a3.shape, a5.shape"
   ]
  },
  {
   "cell_type": "code",
   "execution_count": 90,
   "id": "e7d98523-86a0-4c48-b6f5-fd776b902b46",
   "metadata": {},
   "outputs": [
    {
     "data": {
      "text/plain": [
       "array([[4, 7],\n",
       "       [5, 8],\n",
       "       [6, 9]])"
      ]
     },
     "execution_count": 90,
     "metadata": {},
     "output_type": "execute_result"
    }
   ],
   "source": [
    "a3.T"
   ]
  },
  {
   "cell_type": "code",
   "execution_count": 91,
   "id": "17021d4d-48e6-4ccb-beff-0961b853dfc2",
   "metadata": {},
   "outputs": [
    {
     "data": {
      "text/plain": [
       "(3, 2)"
      ]
     },
     "execution_count": 91,
     "metadata": {},
     "output_type": "execute_result"
    }
   ],
   "source": [
    "a3.T.shape"
   ]
  },
  {
   "cell_type": "code",
   "execution_count": 92,
   "id": "9e41dd22-69b9-4e0e-9e64-cb8a9ad6f35b",
   "metadata": {},
   "outputs": [
    {
     "data": {
      "text/plain": [
       "array([[ 4, 14],\n",
       "       [15, 32],\n",
       "       [30, 54]])"
      ]
     },
     "execution_count": 92,
     "metadata": {},
     "output_type": "execute_result"
    }
   ],
   "source": [
    "a3.T * a5"
   ]
  },
  {
   "cell_type": "markdown",
   "id": "2f807bb8-670e-472c-adcf-8ced4c22c595",
   "metadata": {},
   "source": [
    "For larger arrays, the default value of a tranpose is to swap the first and last axes.\n",
    "\n",
    "> Add blockquote\n",
    "\n",
    "\n",
    "\n",
    "For example, `(5, 3, 2)` -> `(2, 3, 5)`. "
   ]
  },
  {
   "cell_type": "code",
   "execution_count": 93,
   "id": "35343458-3f39-4bc9-8608-6d372d4c6388",
   "metadata": {},
   "outputs": [
    {
     "data": {
      "text/plain": [
       "(array([[[6, 7],\n",
       "         [7, 8],\n",
       "         [1, 5]],\n",
       " \n",
       "        [[9, 8],\n",
       "         [9, 4],\n",
       "         [3, 0]],\n",
       " \n",
       "        [[3, 5],\n",
       "         [0, 2],\n",
       "         [3, 8]],\n",
       " \n",
       "        [[1, 3],\n",
       "         [3, 3],\n",
       "         [7, 0]],\n",
       " \n",
       "        [[1, 9],\n",
       "         [9, 0],\n",
       "         [4, 7]]], dtype=int32),\n",
       " (5, 3, 2))"
      ]
     },
     "execution_count": 93,
     "metadata": {},
     "output_type": "execute_result"
    }
   ],
   "source": [
    "matrix = np.random.randint(10, size=(5, 3, 2))\n",
    "matrix, matrix.shape"
   ]
  },
  {
   "cell_type": "code",
   "execution_count": 94,
   "id": "8192123e-0a27-44d0-8638-81c21d27c17c",
   "metadata": {},
   "outputs": [
    {
     "data": {
      "text/plain": [
       "(array([[[6, 9, 3, 1, 1],\n",
       "         [7, 9, 0, 3, 9],\n",
       "         [1, 3, 3, 7, 4]],\n",
       " \n",
       "        [[7, 8, 5, 3, 9],\n",
       "         [8, 4, 2, 3, 0],\n",
       "         [5, 0, 8, 0, 7]]], dtype=int32),\n",
       " (2, 3, 5))"
      ]
     },
     "execution_count": 94,
     "metadata": {},
     "output_type": "execute_result"
    }
   ],
   "source": [
    "matrix.T, matrix.T.shape"
   ]
  },
  {
   "cell_type": "markdown",
   "id": "65a1a74e-e013-40da-8924-c7325b978d0e",
   "metadata": {},
   "source": [
    "### Aggregation\n",
    "\n",
    "Aggregation - bringing things together, doing a similar thing on a number of things."
   ]
  },
  {
   "cell_type": "code",
   "execution_count": 95,
   "id": "74a77ef7-55c8-4c29-83c5-4ed092f0cc03",
   "metadata": {},
   "outputs": [
    {
     "data": {
      "text/plain": [
       "list"
      ]
     },
     "execution_count": 95,
     "metadata": {},
     "output_type": "execute_result"
    }
   ],
   "source": [
    "list_1 = [1, 2, 3]\n",
    "type(list_1)"
   ]
  },
  {
   "cell_type": "code",
   "execution_count": 96,
   "id": "08ad4784-bad4-42b0-a34f-6798fe5c133d",
   "metadata": {},
   "outputs": [
    {
     "data": {
      "text/plain": [
       "6"
      ]
     },
     "execution_count": 96,
     "metadata": {},
     "output_type": "execute_result"
    }
   ],
   "source": [
    "sum(list_1)"
   ]
  },
  {
   "cell_type": "code",
   "execution_count": 97,
   "id": "be951f09-3cd9-47f8-ac28-9626b8b4e8c7",
   "metadata": {},
   "outputs": [
    {
     "data": {
      "text/plain": [
       "numpy.ndarray"
      ]
     },
     "execution_count": 97,
     "metadata": {},
     "output_type": "execute_result"
    }
   ],
   "source": [
    "a1 = np.array([1, 2, 3])\n",
    "type(a1)"
   ]
  },
  {
   "cell_type": "code",
   "execution_count": 98,
   "id": "329f717b-9c7c-45b3-8545-285c2c5e70b0",
   "metadata": {},
   "outputs": [
    {
     "data": {
      "text/plain": [
       "np.int64(6)"
      ]
     },
     "execution_count": 98,
     "metadata": {},
     "output_type": "execute_result"
    }
   ],
   "source": [
    "sum(a1)"
   ]
  },
  {
   "cell_type": "code",
   "execution_count": 99,
   "id": "6e73c190-6958-44da-a333-b288f1b5e962",
   "metadata": {},
   "outputs": [
    {
     "data": {
      "text/plain": [
       "np.int64(6)"
      ]
     },
     "execution_count": 99,
     "metadata": {},
     "output_type": "execute_result"
    }
   ],
   "source": [
    "np.sum(a1)"
   ]
  },
  {
   "cell_type": "markdown",
   "id": "c09d6c26-c82e-403a-b73c-a623ae8d25d7",
   "metadata": {},
   "source": [
    "**Tip:** Use NumPy's methods(`np.sum()`) on NumPy arrays and Python's methods (`sum()`) on Python datatypes(`list`s)."
   ]
  },
  {
   "cell_type": "code",
   "execution_count": 100,
   "id": "9631f022-1280-4c2e-b87b-fce2b2efec02",
   "metadata": {},
   "outputs": [
    {
     "data": {
      "text/plain": [
       "100000"
      ]
     },
     "execution_count": 100,
     "metadata": {},
     "output_type": "execute_result"
    }
   ],
   "source": [
    "massive_array = np.random.random(100000)\n",
    "massive_array.size"
   ]
  },
  {
   "cell_type": "code",
   "execution_count": 101,
   "id": "5ff2b4a7-f6d7-49a2-aca8-d7b8ed70d336",
   "metadata": {},
   "outputs": [
    {
     "data": {
      "text/plain": [
       "array([0.26455561, 0.77423369, 0.45615033, 0.56843395, 0.0187898 ,\n",
       "       0.6176355 , 0.61209572, 0.616934  , 0.94374808, 0.6818203 ])"
      ]
     },
     "execution_count": 101,
     "metadata": {},
     "output_type": "execute_result"
    }
   ],
   "source": [
    "massive_array[:10]"
   ]
  },
  {
   "cell_type": "markdown",
   "id": "e526342a-5dcd-46a1-a09f-3ce08e892876",
   "metadata": {},
   "source": [
    "Note: `%timeit` times how long a particular line of code takes to run."
   ]
  },
  {
   "cell_type": "code",
   "execution_count": 102,
   "id": "3eb8d3f5-aee8-4f50-a1fc-26247f65ab06",
   "metadata": {},
   "outputs": [
    {
     "name": "stdout",
     "output_type": "stream",
     "text": [
      "14.7 ms ± 2.97 ms per loop (mean ± std. dev. of 7 runs, 100 loops each)\n",
      "35.4 μs ± 3.64 μs per loop (mean ± std. dev. of 7 runs, 10,000 loops each)\n"
     ]
    }
   ],
   "source": [
    "%timeit sum(massive_array)\n",
    "%timeit np.sum(massive_array)"
   ]
  },
  {
   "cell_type": "markdown",
   "id": "7645526b-289d-4639-b89b-9327f862b0f6",
   "metadata": {},
   "source": [
    "Notice `np.sum()` is faster on the Numpy array (`numpy.ndarray`) than Python's `sum()`."
   ]
  },
  {
   "cell_type": "code",
   "execution_count": 103,
   "id": "36fe98af-caf1-472b-87ce-4ba66abab5b7",
   "metadata": {},
   "outputs": [
    {
     "data": {
      "text/plain": [
       "array([[1. , 2. , 3.3],\n",
       "       [4. , 5. , 6.5]])"
      ]
     },
     "execution_count": 103,
     "metadata": {},
     "output_type": "execute_result"
    }
   ],
   "source": [
    "a2 = np.array([[1, 2.0, 3.3],\n",
    "               [4, 5, 6.5]])\n",
    "a2"
   ]
  },
  {
   "cell_type": "code",
   "execution_count": 104,
   "id": "80127d89-ca91-4f8a-8e70-7aa658d94428",
   "metadata": {},
   "outputs": [
    {
     "data": {
      "text/plain": [
       "np.float64(6.5)"
      ]
     },
     "execution_count": 104,
     "metadata": {},
     "output_type": "execute_result"
    }
   ],
   "source": [
    "np.max(a2)"
   ]
  },
  {
   "cell_type": "code",
   "execution_count": 105,
   "id": "1c6ac575-b3a9-4eb2-98f1-0909c36fe62e",
   "metadata": {},
   "outputs": [
    {
     "data": {
      "text/plain": [
       "np.int64(5)"
      ]
     },
     "execution_count": 105,
     "metadata": {},
     "output_type": "execute_result"
    }
   ],
   "source": [
    "np.argmax(a2)"
   ]
  },
  {
   "cell_type": "code",
   "execution_count": 106,
   "id": "990f250f-f04c-44c1-9708-1c02aa101e64",
   "metadata": {},
   "outputs": [
    {
     "data": {
      "text/plain": [
       "np.float64(1.0)"
      ]
     },
     "execution_count": 106,
     "metadata": {},
     "output_type": "execute_result"
    }
   ],
   "source": [
    "np.min(a2)"
   ]
  },
  {
   "cell_type": "code",
   "execution_count": 107,
   "id": "e757f386-ea02-4854-84b9-389cd74715e3",
   "metadata": {},
   "outputs": [
    {
     "data": {
      "text/plain": [
       "np.int64(0)"
      ]
     },
     "execution_count": 107,
     "metadata": {},
     "output_type": "execute_result"
    }
   ],
   "source": [
    "np.argmin(a2)"
   ]
  },
  {
   "cell_type": "markdown",
   "id": "9def9676-481d-4d17-b5da-91f156ebb585",
   "metadata": {},
   "source": [
    "**What's mean?**\n",
    "\n",
    "Mean is the same as average. You can find the average of a set of numbers by adding them up and dividing them by how many there are."
   ]
  },
  {
   "cell_type": "code",
   "execution_count": 108,
   "id": "e64b62e6-1eba-4efd-a347-5fae7bf29e4f",
   "metadata": {},
   "outputs": [
    {
     "data": {
      "text/plain": [
       "np.float64(3.6333333333333333)"
      ]
     },
     "execution_count": 108,
     "metadata": {},
     "output_type": "execute_result"
    }
   ],
   "source": [
    "a2.mean()"
   ]
  },
  {
   "cell_type": "code",
   "execution_count": 109,
   "id": "e1e7d7d0-b5ce-4edc-9ffa-c4d12417838e",
   "metadata": {},
   "outputs": [],
   "source": [
    "high_var_array = np.array([1, 100, 200, 300, 4000, 5000])\n",
    "low_var_array = np.array([2, 4, 6, 8, 10])"
   ]
  },
  {
   "cell_type": "code",
   "execution_count": 110,
   "id": "aecda1d2-4da0-4b28-afb3-818f3eb00bbf",
   "metadata": {},
   "outputs": [
    {
     "data": {
      "text/plain": [
       "(np.float64(1600.1666666666667), np.float64(6.0))"
      ]
     },
     "execution_count": 110,
     "metadata": {},
     "output_type": "execute_result"
    }
   ],
   "source": [
    "np.mean(high_var_array), np.mean(low_var_array)"
   ]
  },
  {
   "cell_type": "markdown",
   "id": "53cd9d4a-d793-4b0c-8839-5bca334d3649",
   "metadata": {},
   "source": [
    "**What's standard deviation?**\n",
    "\n",
    "[Standard deviation](https://www.mathsisfun.com/data/standard-deviation.html) is a measure of how spread out numbers are."
   ]
  },
  {
   "cell_type": "code",
   "execution_count": 111,
   "id": "fbf0c7fe-9fa9-4852-917c-437dda150c75",
   "metadata": {},
   "outputs": [
    {
     "data": {
      "text/plain": [
       "np.float64(1.8226964152656422)"
      ]
     },
     "execution_count": 111,
     "metadata": {},
     "output_type": "execute_result"
    }
   ],
   "source": [
    "np.std(a2)"
   ]
  },
  {
   "cell_type": "code",
   "execution_count": 112,
   "id": "f236e7c7-eb8a-44d2-91d0-afa6cfd4418c",
   "metadata": {},
   "outputs": [],
   "source": [
    "high_var_array = np.array([1, 100, 200, 300, 4000, 5000])\n",
    "low_var_array = np.array([2, 4, 6, 8, 10])"
   ]
  },
  {
   "cell_type": "code",
   "execution_count": 113,
   "id": "87f94c28-2279-403b-8569-41215734eebd",
   "metadata": {},
   "outputs": [
    {
     "data": {
      "text/plain": [
       "(np.float64(2072.711623024829), np.float64(2.8284271247461903))"
      ]
     },
     "execution_count": 113,
     "metadata": {},
     "output_type": "execute_result"
    }
   ],
   "source": [
    "np.std(high_var_array), np.std(low_var_array)"
   ]
  },
  {
   "cell_type": "markdown",
   "id": "003083d0-d1e5-4e16-8ba5-459f048aee23",
   "metadata": {},
   "source": [
    "**What's variance?**\n",
    "\n",
    "The [variance](https://www.mathsisfun.com/data/standard-deviation.html) is the averaged squared differences of the mean.\n",
    "\n",
    "To work it out, you:\n",
    "1. Work out the mean\n",
    "2. For each number, subtract the mean and square the result\n",
    "3. Find the average of the squared differences`"
   ]
  },
  {
   "cell_type": "code",
   "execution_count": 114,
   "id": "ce8a6990-4c80-4ed6-9aa3-02e20d3f5964",
   "metadata": {},
   "outputs": [
    {
     "data": {
      "text/plain": [
       "np.float64(3.3222222222222224)"
      ]
     },
     "execution_count": 114,
     "metadata": {},
     "output_type": "execute_result"
    }
   ],
   "source": [
    "np.var(a2)"
   ]
  },
  {
   "cell_type": "code",
   "execution_count": 115,
   "id": "48802b9c-2a5e-43bd-ad2b-6b024787cf4d",
   "metadata": {},
   "outputs": [],
   "source": [
    "high_var_array = np.array([1, 100, 200, 300, 4000, 5000])\n",
    "low_var_array = np.array([2, 4, 6, 8, 10])"
   ]
  },
  {
   "cell_type": "code",
   "execution_count": 116,
   "id": "b0e0810f-e69d-453e-a23b-ca2481c99843",
   "metadata": {},
   "outputs": [
    {
     "data": {
      "text/plain": [
       "(np.float64(4296133.472222221), np.float64(8.0))"
      ]
     },
     "execution_count": 116,
     "metadata": {},
     "output_type": "execute_result"
    }
   ],
   "source": [
    "np.var(high_var_array), np.var(low_var_array)"
   ]
  },
  {
   "cell_type": "code",
   "execution_count": 117,
   "id": "dad790fa-af04-42ee-8e3c-87667b952744",
   "metadata": {},
   "outputs": [
    {
     "data": {
      "text/plain": [
       "np.float64(1.8226964152656422)"
      ]
     },
     "execution_count": 117,
     "metadata": {},
     "output_type": "execute_result"
    }
   ],
   "source": [
    "np.sqrt(np.var(a2)) # = np.std(a2)"
   ]
  },
  {
   "cell_type": "markdown",
   "id": "aeac8de6-8dc2-4e8e-929e-5636854c78dd",
   "metadata": {},
   "source": [
    "**What's sqrt?**\n",
    "\n",
    "Return the non-negative square-root of an array, element-wise."
   ]
  },
  {
   "cell_type": "code",
   "execution_count": 118,
   "id": "fd8b199e-654e-43e5-a601-cc956444ee4e",
   "metadata": {},
   "outputs": [
    {
     "data": {
      "text/plain": [
       "array([4., 2., 3.])"
      ]
     },
     "execution_count": 118,
     "metadata": {},
     "output_type": "execute_result"
    }
   ],
   "source": [
    "a = np.array([16, 4, 9])\n",
    "np.sqrt(a)"
   ]
  },
  {
   "cell_type": "markdown",
   "id": "afb5d3ef-701f-4213-94b1-974ea5ab259e",
   "metadata": {},
   "source": [
    "### Dot product\n",
    "\n",
    "The main two rules for dot product to remember are:\n",
    "\n",
    "1. The **inner dimensions** must match:\n",
    "  * `(3, 2) @ (3, 2)` won't work\n",
    "  * `(2, 3) @ (3, 2)` will work\n",
    "  * `(3, 2) @ (2, 3)` will work\n",
    "  \n",
    "2. The resulting matrix has the shape of the **outer dimensions**:\n",
    " * `(2, 3) @ (3, 2)` -> `(2, 2)`\n",
    " * `(3, 2) @ (2, 3)` -> `(3, 3)`\n",
    " \n",
    "**Note:** In NumPy, `np.dot()` and `@` can be used to acheive the same result for 1-2 dimension arrays. However, their behaviour begins to differ at arrays with 3+ dimensions."
   ]
  },
  {
   "cell_type": "code",
   "execution_count": 119,
   "id": "4681f4e6-bb9f-4caf-a66c-07e9060025b4",
   "metadata": {},
   "outputs": [],
   "source": [
    "np.random.seed(0)\n",
    "mat1 = np.random.randint(10, size=(3,3))\n",
    "mat2 = np.random.randint(10, size=(3,2))"
   ]
  },
  {
   "cell_type": "code",
   "execution_count": 120,
   "id": "88fa64f3-6d04-40e2-a15c-17aa3d8146f6",
   "metadata": {},
   "outputs": [
    {
     "data": {
      "text/plain": [
       "(array([[5, 0, 3],\n",
       "        [3, 7, 9],\n",
       "        [3, 5, 2]], dtype=int32),\n",
       " (3, 3))"
      ]
     },
     "execution_count": 120,
     "metadata": {},
     "output_type": "execute_result"
    }
   ],
   "source": [
    "mat1, mat1.shape"
   ]
  },
  {
   "cell_type": "code",
   "execution_count": 121,
   "id": "8f296462-2207-4f31-97d9-f59bc9ec6fe6",
   "metadata": {},
   "outputs": [
    {
     "data": {
      "text/plain": [
       "(array([[4, 7],\n",
       "        [6, 8],\n",
       "        [8, 1]], dtype=int32),\n",
       " (3, 2))"
      ]
     },
     "execution_count": 121,
     "metadata": {},
     "output_type": "execute_result"
    }
   ],
   "source": [
    "mat2, mat2.shape"
   ]
  },
  {
   "cell_type": "code",
   "execution_count": 122,
   "id": "d91bff04-7b27-4ec8-82cb-b6d34ac2aca8",
   "metadata": {},
   "outputs": [
    {
     "data": {
      "text/plain": [
       "array([[ 44,  38],\n",
       "       [126,  86],\n",
       "       [ 58,  63]], dtype=int32)"
      ]
     },
     "execution_count": 122,
     "metadata": {},
     "output_type": "execute_result"
    }
   ],
   "source": [
    "np.dot(mat1, mat2)"
   ]
  },
  {
   "cell_type": "code",
   "execution_count": 123,
   "id": "a716f2d6-6953-4ee2-90a2-affff26ce6a4",
   "metadata": {},
   "outputs": [
    {
     "data": {
      "text/plain": [
       "array([[ 44,  38],\n",
       "       [126,  86],\n",
       "       [ 58,  63]], dtype=int32)"
      ]
     },
     "execution_count": 123,
     "metadata": {},
     "output_type": "execute_result"
    }
   ],
   "source": [
    "# Can also achieve np.dot() with \"@\" \n",
    "# (however, they may behave differently at 3D+ arrays)\n",
    "mat1 @ mat2"
   ]
  },
  {
   "cell_type": "code",
   "execution_count": 124,
   "id": "a886d0e7-f681-4ddf-9b0e-4214c2f8afdb",
   "metadata": {},
   "outputs": [],
   "source": [
    "np.random.seed(0)\n",
    "mat3 = np.random.randint(10, size=(4,3))\n",
    "mat4 = np.random.randint(10, size=(4,3))"
   ]
  },
  {
   "cell_type": "code",
   "execution_count": 125,
   "id": "f4dac94e-4626-48fe-921f-c769769d6deb",
   "metadata": {},
   "outputs": [
    {
     "data": {
      "text/plain": [
       "(array([[5, 0, 3],\n",
       "        [3, 7, 9],\n",
       "        [3, 5, 2],\n",
       "        [4, 7, 6]], dtype=int32),\n",
       " (4, 3))"
      ]
     },
     "execution_count": 125,
     "metadata": {},
     "output_type": "execute_result"
    }
   ],
   "source": [
    "mat3, mat3.shape"
   ]
  },
  {
   "cell_type": "code",
   "execution_count": 126,
   "id": "ad388322-473d-472f-bd2b-3bb68ffb08af",
   "metadata": {},
   "outputs": [
    {
     "data": {
      "text/plain": [
       "(array([[8, 8, 1],\n",
       "        [6, 7, 7],\n",
       "        [8, 1, 5],\n",
       "        [9, 8, 9]], dtype=int32),\n",
       " (4, 3))"
      ]
     },
     "execution_count": 126,
     "metadata": {},
     "output_type": "execute_result"
    }
   ],
   "source": [
    "mat4, mat4.shape"
   ]
  },
  {
   "cell_type": "code",
   "execution_count": 127,
   "id": "cb00424b-733d-402c-bdad-994cf6d41a85",
   "metadata": {},
   "outputs": [
    {
     "ename": "ValueError",
     "evalue": "shapes (4,3) and (4,3) not aligned: 3 (dim 1) != 4 (dim 0)",
     "output_type": "error",
     "traceback": [
      "\u001b[1;31m---------------------------------------------------------------------------\u001b[0m",
      "\u001b[1;31mValueError\u001b[0m                                Traceback (most recent call last)",
      "Cell \u001b[1;32mIn[127], line 1\u001b[0m\n\u001b[1;32m----> 1\u001b[0m np\u001b[38;5;241m.\u001b[39mdot(mat3, mat4)\n",
      "\u001b[1;31mValueError\u001b[0m: shapes (4,3) and (4,3) not aligned: 3 (dim 1) != 4 (dim 0)"
     ]
    }
   ],
   "source": [
    "np.dot(mat3, mat4)"
   ]
  },
  {
   "cell_type": "code",
   "execution_count": 128,
   "id": "f3a21ff4-fda0-44e6-8b14-3d1c9135f847",
   "metadata": {},
   "outputs": [
    {
     "data": {
      "text/plain": [
       "(array([[5, 3, 3, 4],\n",
       "        [0, 7, 5, 7],\n",
       "        [3, 9, 2, 6]], dtype=int32),\n",
       " (3, 4))"
      ]
     },
     "execution_count": 128,
     "metadata": {},
     "output_type": "execute_result"
    }
   ],
   "source": [
    "mat3.T, mat3.T.shape"
   ]
  },
  {
   "cell_type": "code",
   "execution_count": 129,
   "id": "2b24b2f8-e55a-4d49-992a-a7997d37782c",
   "metadata": {},
   "outputs": [
    {
     "data": {
      "text/plain": [
       "array([[118,  96,  77],\n",
       "       [145, 110, 137],\n",
       "       [148, 137, 130]], dtype=int32)"
      ]
     },
     "execution_count": 129,
     "metadata": {},
     "output_type": "execute_result"
    }
   ],
   "source": [
    "np.dot(mat3.T, mat4)"
   ]
  },
  {
   "cell_type": "markdown",
   "id": "6bec94a4-c1c5-4d8a-bc15-11738ec37045",
   "metadata": {},
   "source": [
    "### Element wise / Hadamard product\n",
    "The main two rules for hadamard product to remember are:\n",
    "1. The **dimensions** must match exactly:\n",
    "  * `(3, 2) * (3, 2)` will work\n",
    "  * `(2, 3) * (2, 3)` will work\n",
    "  * `(3, 2) * (2, 3)` won't work\n",
    "  \n",
    "2. The resulting matrix has the shape of the **exact dimensions**:\n",
    " * `(3, 2) * (3, 2)` -> `(3, 2)`\n",
    " * `(2, 3) * (2, 3)` -> `(2, 3)`"
   ]
  },
  {
   "cell_type": "code",
   "execution_count": 130,
   "id": "1f5eb748-84a3-42a1-8a75-745805f62b85",
   "metadata": {},
   "outputs": [
    {
     "data": {
      "text/plain": [
       "(array([[5, 0, 3],\n",
       "        [3, 7, 9],\n",
       "        [3, 5, 2],\n",
       "        [4, 7, 6]], dtype=int32),\n",
       " (4, 3))"
      ]
     },
     "execution_count": 130,
     "metadata": {},
     "output_type": "execute_result"
    }
   ],
   "source": [
    "mat3, mat3.shape"
   ]
  },
  {
   "cell_type": "code",
   "execution_count": 131,
   "id": "9c7d58da-4a0a-419b-9025-1bcea89a2815",
   "metadata": {},
   "outputs": [
    {
     "data": {
      "text/plain": [
       "(array([[8, 8, 1],\n",
       "        [6, 7, 7],\n",
       "        [8, 1, 5],\n",
       "        [9, 8, 9]], dtype=int32),\n",
       " (4, 3))"
      ]
     },
     "execution_count": 131,
     "metadata": {},
     "output_type": "execute_result"
    }
   ],
   "source": [
    "mat4, mat4.shape"
   ]
  },
  {
   "cell_type": "code",
   "execution_count": 132,
   "id": "15555699-49b6-4fe0-b4f2-f7449ec916ff",
   "metadata": {},
   "outputs": [
    {
     "data": {
      "text/plain": [
       "array([[40,  0,  3],\n",
       "       [18, 49, 63],\n",
       "       [24,  5, 10],\n",
       "       [36, 56, 54]], dtype=int32)"
      ]
     },
     "execution_count": 132,
     "metadata": {},
     "output_type": "execute_result"
    }
   ],
   "source": [
    "mat3 * mat4"
   ]
  },
  {
   "cell_type": "markdown",
   "id": "604ee278-9fd0-4b48-abd6-841c03fcbbaa",
   "metadata": {},
   "source": [
    "### Comparison operators \n",
    "\n",
    "Finding out if one array is larger, smaller or equal to another."
   ]
  },
  {
   "cell_type": "code",
   "execution_count": 133,
   "id": "0cee84d8-043c-46f6-8be3-36c0791fdf62",
   "metadata": {},
   "outputs": [
    {
     "data": {
      "text/plain": [
       "array([1, 2, 3])"
      ]
     },
     "execution_count": 133,
     "metadata": {},
     "output_type": "execute_result"
    }
   ],
   "source": [
    "a1 = np.array([1, 2, 3])\n",
    "a1"
   ]
  },
  {
   "cell_type": "code",
   "execution_count": 134,
   "id": "db7f5447-102e-464e-822a-52d89ff4e736",
   "metadata": {},
   "outputs": [
    {
     "data": {
      "text/plain": [
       "array([[1. , 2. , 3.3],\n",
       "       [4. , 5. , 6.5]])"
      ]
     },
     "execution_count": 134,
     "metadata": {},
     "output_type": "execute_result"
    }
   ],
   "source": [
    "a2 = np.array([[1, 2.0, 3.3],\n",
    "               [4, 5, 6.5]])\n",
    "a2"
   ]
  },
  {
   "cell_type": "code",
   "execution_count": 135,
   "id": "32c3a6fc-1ea2-467f-8b3c-71c8895beb5a",
   "metadata": {},
   "outputs": [
    {
     "data": {
      "text/plain": [
       "array([[False, False, False],\n",
       "       [False, False, False]])"
      ]
     },
     "execution_count": 135,
     "metadata": {},
     "output_type": "execute_result"
    }
   ],
   "source": [
    "a1>a2"
   ]
  },
  {
   "cell_type": "code",
   "execution_count": 136,
   "id": "92d6071a-b4a1-4eaa-bc5d-30d1312de624",
   "metadata": {},
   "outputs": [
    {
     "data": {
      "text/plain": [
       "array([[ True,  True, False],\n",
       "       [False, False, False]])"
      ]
     },
     "execution_count": 136,
     "metadata": {},
     "output_type": "execute_result"
    }
   ],
   "source": [
    "a1>=a2"
   ]
  },
  {
   "cell_type": "code",
   "execution_count": 137,
   "id": "804f7010-b87f-4ea5-8019-186cf839e1b9",
   "metadata": {},
   "outputs": [
    {
     "data": {
      "text/plain": [
       "array([[False, False,  True],\n",
       "       [ True,  True,  True]])"
      ]
     },
     "execution_count": 137,
     "metadata": {},
     "output_type": "execute_result"
    }
   ],
   "source": [
    "a1<a2"
   ]
  },
  {
   "cell_type": "code",
   "execution_count": 138,
   "id": "ab9efbc1-2149-46eb-b5ea-829f4192e847",
   "metadata": {},
   "outputs": [
    {
     "data": {
      "text/plain": [
       "array([[ True,  True,  True],\n",
       "       [ True,  True,  True]])"
      ]
     },
     "execution_count": 138,
     "metadata": {},
     "output_type": "execute_result"
    }
   ],
   "source": [
    "a1<=a2"
   ]
  },
  {
   "cell_type": "code",
   "execution_count": 139,
   "id": "afdfadf1-edef-40de-a51b-45fb9612ab6a",
   "metadata": {},
   "outputs": [
    {
     "data": {
      "text/plain": [
       "array([[ True,  True, False],\n",
       "       [False, False, False]])"
      ]
     },
     "execution_count": 139,
     "metadata": {},
     "output_type": "execute_result"
    }
   ],
   "source": [
    "a1 == a2"
   ]
  },
  {
   "cell_type": "code",
   "execution_count": 140,
   "id": "57f9898d-6c0d-43b9-8663-de15ca6d04c8",
   "metadata": {},
   "outputs": [
    {
     "data": {
      "text/plain": [
       "array([[False, False,  True],\n",
       "       [ True,  True,  True]])"
      ]
     },
     "execution_count": 140,
     "metadata": {},
     "output_type": "execute_result"
    }
   ],
   "source": [
    "a1 != a2"
   ]
  },
  {
   "cell_type": "markdown",
   "id": "0078ee9c-9534-4bed-9bac-15e7c113610d",
   "metadata": {},
   "source": [
    " ## 5. Sorting arrays"
   ]
  },
  {
   "cell_type": "code",
   "execution_count": 142,
   "id": "79a9d34a-2296-4a9e-98a6-412d6cd5643a",
   "metadata": {},
   "outputs": [
    {
     "data": {
      "text/plain": [
       "array([[5, 0, 3, 3, 7],\n",
       "       [9, 3, 5, 2, 4],\n",
       "       [7, 6, 8, 8, 1]], dtype=int32)"
      ]
     },
     "execution_count": 142,
     "metadata": {},
     "output_type": "execute_result"
    }
   ],
   "source": [
    "np.random.seed(0)\n",
    "random_array = np.random.randint(10, size = (3,5))\n",
    "random_array"
   ]
  },
  {
   "cell_type": "markdown",
   "id": "5b8a3f0f-9ddd-4a01-b0d3-7efcb28c43ab",
   "metadata": {},
   "source": [
    "### [`np.sort()`](https://numpy.org/doc/stable/reference/generated/numpy.sort.html) \n",
    "sort values in a specified dimension of an array.\n"
   ]
  },
  {
   "cell_type": "code",
   "execution_count": 143,
   "id": "44ea4f6f-639f-4332-9c4a-65252ed40afe",
   "metadata": {},
   "outputs": [
    {
     "data": {
      "text/plain": [
       "array([[0, 3, 3, 5, 7],\n",
       "       [2, 3, 4, 5, 9],\n",
       "       [1, 6, 7, 8, 8]], dtype=int32)"
      ]
     },
     "execution_count": 143,
     "metadata": {},
     "output_type": "execute_result"
    }
   ],
   "source": [
    "np.sort(random_array)"
   ]
  },
  {
   "cell_type": "markdown",
   "id": "aba6f262-9d12-45dc-81f1-93dee329b524",
   "metadata": {},
   "source": [
    "### [`np.argsort()`](https://numpy.org/doc/stable/reference/generated/numpy.argsort.html) \n",
    "return the indices to sort the array on a given axis."
   ]
  },
  {
   "cell_type": "code",
   "execution_count": 144,
   "id": "30de36e9-4244-41a7-8f53-b4ffa487c814",
   "metadata": {},
   "outputs": [
    {
     "data": {
      "text/plain": [
       "array([[1, 2, 3, 0, 4],\n",
       "       [3, 1, 4, 2, 0],\n",
       "       [4, 1, 0, 2, 3]])"
      ]
     },
     "execution_count": 144,
     "metadata": {},
     "output_type": "execute_result"
    }
   ],
   "source": [
    "np.argsort(random_array)"
   ]
  },
  {
   "cell_type": "markdown",
   "id": "1c21376a-20bb-49b4-894b-5671e8b8a188",
   "metadata": {},
   "source": [
    "### [`np.argmax()`](https://numpy.org/doc/stable/reference/generated/numpy.argmax.html) \n",
    "return the index/indicies which gives the highest value(s) along an axis."
   ]
  },
  {
   "cell_type": "code",
   "execution_count": 145,
   "id": "ff913139-00b1-4a71-8bcb-c3dbacc76d36",
   "metadata": {},
   "outputs": [
    {
     "data": {
      "text/plain": [
       "np.int64(5)"
      ]
     },
     "execution_count": 145,
     "metadata": {},
     "output_type": "execute_result"
    }
   ],
   "source": [
    "np.argmax(random_array)"
   ]
  },
  {
   "cell_type": "code",
   "execution_count": 149,
   "id": "31b5c9a8-9e7f-4781-9d71-817e52e04332",
   "metadata": {},
   "outputs": [
    {
     "data": {
      "text/plain": [
       "array([1, 2, 2, 2, 0])"
      ]
     },
     "execution_count": 149,
     "metadata": {},
     "output_type": "execute_result"
    }
   ],
   "source": [
    "np.argmax(random_array, axis = 0)"
   ]
  },
  {
   "cell_type": "code",
   "execution_count": 150,
   "id": "e5a2f026-28f7-4ad5-86cf-51ad9ae97192",
   "metadata": {},
   "outputs": [
    {
     "data": {
      "text/plain": [
       "array([4, 0, 2])"
      ]
     },
     "execution_count": 150,
     "metadata": {},
     "output_type": "execute_result"
    }
   ],
   "source": [
    "np.argmax(random_array, axis=1)"
   ]
  },
  {
   "cell_type": "markdown",
   "id": "4a58127c-ce64-460f-90ba-d81b03068666",
   "metadata": {},
   "source": [
    "### [`np.argmin()`](https://numpy.org/doc/stable/reference/generated/numpy.argmin.html) \n",
    "return the index/indices which gives the lowest value(s) along an axis."
   ]
  },
  {
   "cell_type": "code",
   "execution_count": 146,
   "id": "863fba00-a994-4b03-8741-bbdd27065a1e",
   "metadata": {},
   "outputs": [
    {
     "data": {
      "text/plain": [
       "np.int64(1)"
      ]
     },
     "execution_count": 146,
     "metadata": {},
     "output_type": "execute_result"
    }
   ],
   "source": [
    "np.argmin(random_array)"
   ]
  },
  {
   "cell_type": "code",
   "execution_count": 151,
   "id": "63b933ad-bbea-4ef2-81a4-24ee134d73f8",
   "metadata": {},
   "outputs": [
    {
     "data": {
      "text/plain": [
       "array([0, 0, 0, 1, 2])"
      ]
     },
     "execution_count": 151,
     "metadata": {},
     "output_type": "execute_result"
    }
   ],
   "source": [
    "np.argmin(random_array, axis = 0)"
   ]
  },
  {
   "cell_type": "code",
   "execution_count": 152,
   "id": "0cea6462-9310-4036-941a-6e00f6d11ba0",
   "metadata": {},
   "outputs": [
    {
     "data": {
      "text/plain": [
       "array([1, 3, 4])"
      ]
     },
     "execution_count": 152,
     "metadata": {},
     "output_type": "execute_result"
    }
   ],
   "source": [
    "np.argmin(random_array, axis = 1)"
   ]
  },
  {
   "cell_type": "markdown",
   "id": "9ecf164f-969d-4bcc-991e-90db2a5bdfac",
   "metadata": {},
   "source": [
    "## 6. Use case\n",
    "\n",
    "Turning an image into a NumPy array.\n",
    "\n",
    "Why?\n",
    "\n",
    "Because computers can use the numbers in the NumPy array to find patterns in the image and in turn use those patterns to figure out what's in the image.\n",
    "\n",
    "This is what happens in modern computer vision algorithms.\n",
    "\n",
    "Let's start with this beautiful image of a panda:\n",
    "\n",
    "<img src=\"../images/panda.jpg\" alt=\"photo of a panda waving\" width=450/>"
   ]
  },
  {
   "cell_type": "code",
   "execution_count": 163,
   "id": "e78c1000-84dd-4654-a80e-f43d18a2167b",
   "metadata": {},
   "outputs": [
    {
     "name": "stdout",
     "output_type": "stream",
     "text": [
      "<class 'numpy.ndarray'>\n"
     ]
    }
   ],
   "source": [
    "# turn image into NumPy array\n",
    "from matplotlib.image import imread\n",
    "\n",
    "panda = imread('images/panda.jpg')\n",
    "print(type(panda))"
   ]
  },
  {
   "cell_type": "code",
   "execution_count": 166,
   "id": "a84b6c0c-21ca-4d61-a8fe-e248b8f00d15",
   "metadata": {},
   "outputs": [
    {
     "data": {
      "text/plain": [
       "((148, 148, 3), 65712)"
      ]
     },
     "execution_count": 166,
     "metadata": {},
     "output_type": "execute_result"
    }
   ],
   "source": [
    "panda.shape, panda.size"
   ]
  },
  {
   "cell_type": "code",
   "execution_count": 165,
   "id": "a5424e09-792e-4cb9-943f-2348a882cb1c",
   "metadata": {},
   "outputs": [
    {
     "data": {
      "text/plain": [
       "array([[[ 66,  74,  53],\n",
       "        [ 74,  84,  60],\n",
       "        [ 76,  86,  59],\n",
       "        ...,\n",
       "        [ 85, 154,  74],\n",
       "        [ 77, 145,  68],\n",
       "        [ 76, 144,  67]],\n",
       "\n",
       "       [[ 53,  60,  42],\n",
       "        [ 56,  64,  43],\n",
       "        [ 53,  63,  38],\n",
       "        ...,\n",
       "        [ 84, 152,  79],\n",
       "        [ 76, 144,  71],\n",
       "        [ 74, 142,  69]],\n",
       "\n",
       "       [[ 55,  59,  44],\n",
       "        [ 50,  54,  37],\n",
       "        [ 42,  50,  27],\n",
       "        ...,\n",
       "        [ 97, 162,  98],\n",
       "        [ 90, 155,  91],\n",
       "        [ 85, 150,  86]],\n",
       "\n",
       "       ...,\n",
       "\n",
       "       [[ 69, 112,  58],\n",
       "        [ 75, 115,  62],\n",
       "        [ 75, 112,  60],\n",
       "        ...,\n",
       "        [ 39,  84,  45],\n",
       "        [ 36,  81,  42],\n",
       "        [ 33,  77,  41]],\n",
       "\n",
       "       [[ 74, 117,  63],\n",
       "        [ 82, 122,  69],\n",
       "        [ 84, 121,  69],\n",
       "        ...,\n",
       "        [ 40,  82,  44],\n",
       "        [ 41,  83,  45],\n",
       "        [ 41,  83,  47]],\n",
       "\n",
       "       [[ 82, 125,  71],\n",
       "        [ 90, 130,  77],\n",
       "        [ 95, 132,  78],\n",
       "        ...,\n",
       "        [ 40,  80,  43],\n",
       "        [ 45,  85,  48],\n",
       "        [ 48,  88,  53]]], shape=(148, 148, 3), dtype=uint8)"
      ]
     },
     "execution_count": 165,
     "metadata": {},
     "output_type": "execute_result"
    }
   ],
   "source": [
    "panda"
   ]
  },
  {
   "cell_type": "code",
   "execution_count": null,
   "id": "ba0d990b-7394-4f33-a32d-329a2d5d947d",
   "metadata": {},
   "outputs": [],
   "source": []
  }
 ],
 "metadata": {
  "kernelspec": {
   "display_name": "Python 3 (ipykernel)",
   "language": "python",
   "name": "python3"
  },
  "language_info": {
   "codemirror_mode": {
    "name": "ipython",
    "version": 3
   },
   "file_extension": ".py",
   "mimetype": "text/x-python",
   "name": "python",
   "nbconvert_exporter": "python",
   "pygments_lexer": "ipython3",
   "version": "3.13.2"
  }
 },
 "nbformat": 4,
 "nbformat_minor": 5
}
