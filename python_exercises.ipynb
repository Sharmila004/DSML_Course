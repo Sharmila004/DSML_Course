{
 "cells": [
  {
   "cell_type": "markdown",
   "id": "00e9bd9c-bc8f-416c-9946-fb1529b8da35",
   "metadata": {},
   "source": [
    "# exercise 1\n",
    "### create a program to guess user's age."
   ]
  },
  {
   "cell_type": "code",
   "execution_count": 1,
   "id": "f69ffc5c-c600-462c-8ee4-c39981f129c5",
   "metadata": {},
   "outputs": [
    {
     "name": "stdin",
     "output_type": "stream",
     "text": [
      "What year were ypu born?  2002\n"
     ]
    },
    {
     "name": "stdout",
     "output_type": "stream",
     "text": [
      "Your age is 23\n"
     ]
    }
   ],
   "source": [
    "birth_year = input(\"What year were ypu born? \")\n",
    "# write yopur code below\n",
    "current_year = 2025\n",
    "year = int(birth_year)\n",
    "age = current_year-year\n",
    "print(\"Your age is {}\".format(age))"
   ]
  },
  {
   "cell_type": "markdown",
   "id": "d9a03b50-9bc2-44cb-8c85-c42cdecc81c8",
   "metadata": {},
   "source": [
    "# exercise 2\n",
    "### take username and password as the user inputs and give output like 'hey {username}, your password {pswd} is {len} characters long'. \n",
    "#### Note: pswd: (****) => no of starts = len of password.\n",
    "#### Hint: print('*'*10)"
   ]
  },
  {
   "cell_type": "code",
   "execution_count": 2,
   "id": "df3cb2f4-619c-4f53-982f-ff4944e74f7e",
   "metadata": {},
   "outputs": [
    {
     "name": "stdin",
     "output_type": "stream",
     "text": [
      "Enter your name:  sharmila\n",
      "Enter your password:  shark123\n"
     ]
    },
    {
     "name": "stdout",
     "output_type": "stream",
     "text": [
      "Hey sharmila, your password ******** is 8 characters long.\n"
     ]
    }
   ],
   "source": [
    "username = input(\"Enter your name: \")\n",
    "password = input(\"Enter your password: \")\n",
    "\n",
    "#write your code below\n",
    "length = len(password)\n",
    "pswd = '*'*length\n",
    "\n",
    "print(f\"Hey {username}, your password {pswd} is {length} characters long.\")"
   ]
  },
  {
   "cell_type": "markdown",
   "id": "1853a4ae-a1ca-4ac6-adfb-5f205c435dd0",
   "metadata": {},
   "source": [
    "# exercise 3\n",
    "### we just got hired by a gaming company and we're creating this wizard game. check if the user is:\n",
    "* #### magician and expert: 'you are a master magician'\n",
    "* #### magician but not expert: 'at least you're getting there'\n",
    "* #### not magician: \"you need magic powers\""
   ]
  },
  {
   "cell_type": "code",
   "execution_count": 9,
   "id": "d90086ca-4bc0-4d69-8504-2d18de97c6e0",
   "metadata": {},
   "outputs": [
    {
     "name": "stdout",
     "output_type": "stream",
     "text": [
      "atleast you're getting there\n"
     ]
    }
   ],
   "source": [
    "is_magician = True\n",
    "is_expert = False\n",
    "\n",
    "# write your code below\n",
    "if is_magician and is_expert:\n",
    "    print(\"yoy are a master magician\")\n",
    "elif is_magician and not is_expert:\n",
    "    print(\"atleast you're getting there\")\n",
    "elif not is_magician:\n",
    "    print(\"you need magic powers\")"
   ]
  },
  {
   "cell_type": "markdown",
   "id": "7cdcd54b-bffb-4590-9d52-acdbfab178cd",
   "metadata": {},
   "source": [
    "# exercise 4\n",
    "### using looping to loop over the iterable list, find teh sum of the total of the list"
   ]
  },
  {
   "cell_type": "code",
   "execution_count": 14,
   "id": "a4de1a3a-17d0-41c1-8e77-be410a6b4c9a",
   "metadata": {},
   "outputs": [
    {
     "name": "stdout",
     "output_type": "stream",
     "text": [
      "55\n"
     ]
    }
   ],
   "source": [
    "my_list = [1,2,3,4,5,6,7,8,9,10]\n",
    "# enter your code below\n",
    "sum = 0\n",
    "for item in my_list:\n",
    "    sum+= item\n",
    "print(sum)"
   ]
  },
  {
   "cell_type": "markdown",
   "id": "d14b23df-f2d8-4a8c-bdb5-4709fc26dba4",
   "metadata": {},
   "source": [
    "# exercise 5\n",
    "### simulate hwat a computer does when we have something like a graphical user interface.\n",
    "##### given a multi dimensional list of pixels. fill empty spaces in place of 0s and * in place of 1s"
   ]
  },
  {
   "cell_type": "code",
   "execution_count": 8,
   "id": "06431a8b-da4e-4afd-8096-d1ed74291658",
   "metadata": {},
   "outputs": [
    {
     "name": "stdout",
     "output_type": "stream",
     "text": [
      "   *   \n",
      "  ***  \n",
      " ***** \n",
      "*******\n",
      "   *   \n",
      "   *   \n",
      "\n",
      "   *   \n",
      "  ***  \n",
      " ***** \n",
      "*******\n",
      "   *   \n",
      "   *   \n"
     ]
    }
   ],
   "source": [
    "picture = [\n",
    "    [0,0,0,1,0,0,0],\n",
    "    [0,0,1,1,1,0,0],\n",
    "    [0,1,1,1,1,1,0],\n",
    "    [1,1,1,1,1,1,1],\n",
    "    [0,0,0,1,0,0,0],\n",
    "    [0,0,0,1,0,0,0]\n",
    "]\n",
    "# soln 1\n",
    "for item in picture:\n",
    "    i=0\n",
    "    while i<len(item):\n",
    "        if(item[i] == 0):\n",
    "            print(' ', end='')\n",
    "        elif(item[i] == 1):\n",
    "            print('*', end='')\n",
    "        i+=1\n",
    "    print('')\n",
    "\n",
    "print('')\n",
    "\n",
    "# soln 2\n",
    "for item in picture:\n",
    "    for i in item:\n",
    "        if(i == 0):\n",
    "            print(' ', end='')\n",
    "        elif(i == 1):\n",
    "            print('*', end='')\n",
    "    print('')\n",
    "            "
   ]
  },
  {
   "cell_type": "markdown",
   "id": "d8891457-302c-4e3e-a32a-9d3de82a4be5",
   "metadata": {},
   "source": [
    "# exercise 6\n",
    "### check duplicates in list and print whatever the duplicate values is"
   ]
  },
  {
   "cell_type": "code",
   "execution_count": 9,
   "id": "7300e46f-6592-4485-9bdf-663061301f43",
   "metadata": {},
   "outputs": [
    {
     "name": "stdout",
     "output_type": "stream",
     "text": [
      "n\n",
      "b\n",
      "\n",
      "['b', 'n']\n"
     ]
    }
   ],
   "source": [
    "some_list = ['a', 'b', 'c', 'b', 'd', 'm', 'n', 'n']\n",
    "# write your code below\n",
    "# soln 1\n",
    "my_set = set()\n",
    "for value in some_list:\n",
    "    if some_list.count(value) > 1:\n",
    "        my_set.add(value)\n",
    "for result in my_set:\n",
    "    print(result)\n",
    "\n",
    "print('')\n",
    "\n",
    "# soln 2\n",
    "result = []\n",
    "for value in some_list:\n",
    "    if some_list.count(value) > 1:\n",
    "        if value not in result:\n",
    "            result.append(value)\n",
    "print(result)"
   ]
  },
  {
   "cell_type": "markdown",
   "id": "44b6990d-95b9-4c10-8106-b7027c0a217d",
   "metadata": {},
   "source": [
    "# Exercise 7\n",
    "### create a function called highest even. and this function is going to atke a list data type."
   ]
  },
  {
   "cell_type": "code",
   "execution_count": 5,
   "id": "eec5cf45-3f52-4cbb-9ff3-8e360809bd48",
   "metadata": {},
   "outputs": [
    {
     "name": "stdout",
     "output_type": "stream",
     "text": [
      "10\n"
     ]
    }
   ],
   "source": [
    "# soln1\n",
    "def highest_even(li):\n",
    "    # write your code here\n",
    "    temp = 0\n",
    "    for item in li:\n",
    "        if (item>temp) and (item%2==0):\n",
    "            temp=item\n",
    "    return temp\n",
    "\n",
    "li = [10,2,3,4,8]\n",
    "print(highest_even(li))"
   ]
  },
  {
   "cell_type": "code",
   "execution_count": 12,
   "id": "ad48c39a-9b26-43aa-990b-4d4104d9544f",
   "metadata": {},
   "outputs": [
    {
     "name": "stdout",
     "output_type": "stream",
     "text": [
      "30\n"
     ]
    }
   ],
   "source": [
    "# soln2\n",
    "def highest_even(li):\n",
    "    # write your code here\n",
    "    temp = li[0]\n",
    "    for i in range(len(li)):\n",
    "        if (li[i]>temp) and (li[i]%2==0):\n",
    "            temp = li[i]\n",
    "    return temp\n",
    "\n",
    "li = [10,2,30,4,8]\n",
    "print(highest_even(li))"
   ]
  },
  {
   "cell_type": "markdown",
   "id": "2964c802-0251-4208-baf9-1490c3091301",
   "metadata": {},
   "source": [
    "# Exercise 8: \n",
    "### refer exercise 6: check duplicates in list and print whatever the duplicate values is using comprehensions"
   ]
  },
  {
   "cell_type": "code",
   "execution_count": 14,
   "id": "bd8f7519-74f5-4175-aa7f-a4cda7fbeb86",
   "metadata": {},
   "outputs": [
    {
     "name": "stdout",
     "output_type": "stream",
     "text": [
      "{'b', 'n'}\n"
     ]
    }
   ],
   "source": [
    "some_list = ['a', 'b', 'c', 'b', 'd', 'm', 'n', 'n']\n",
    "# write your code below\n",
    "result = [value for value in some_list if some_list.count(value)>1]\n",
    "print(set(result))"
   ]
  },
  {
   "cell_type": "code",
   "execution_count": null,
   "id": "0c579369-0cce-49f9-bffe-b807d95eadc4",
   "metadata": {},
   "outputs": [],
   "source": []
  }
 ],
 "metadata": {
  "kernelspec": {
   "display_name": "Python 3 (ipykernel)",
   "language": "python",
   "name": "python3"
  },
  "language_info": {
   "codemirror_mode": {
    "name": "ipython",
    "version": 3
   },
   "file_extension": ".py",
   "mimetype": "text/x-python",
   "name": "python",
   "nbconvert_exporter": "python",
   "pygments_lexer": "ipython3",
   "version": "3.11.7"
  }
 },
 "nbformat": 4,
 "nbformat_minor": 5
}
