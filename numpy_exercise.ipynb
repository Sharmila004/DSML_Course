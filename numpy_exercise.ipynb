{
 "cells": [
  {
   "cell_type": "markdown",
   "id": "1cacfa5d-7ce8-4635-92e2-9a5e7b81378d",
   "metadata": {},
   "source": [
    "### Exercise 1\n",
    "\n",
    "1. Make a `ndarray` of size 10 with the shape (2,3,4,5).\n",
    "2. Get the first 3 numbers from the inner most array"
   ]
  },
  {
   "cell_type": "code",
   "execution_count": 2,
   "id": "aa9f7c03-06a3-4b8f-9360-8174beb9e329",
   "metadata": {},
   "outputs": [],
   "source": [
    "import numpy as np"
   ]
  },
  {
   "cell_type": "code",
   "execution_count": 4,
   "id": "e9fe5b2e-d6e0-4d54-8380-d940d97ae451",
   "metadata": {},
   "outputs": [
    {
     "data": {
      "text/plain": [
       "array([[[[5, 8, 2, 4, 6],\n",
       "         [9, 2, 5, 5, 5],\n",
       "         [8, 7, 0, 0, 8],\n",
       "         [4, 4, 8, 4, 8]],\n",
       "\n",
       "        [[0, 9, 6, 8, 4],\n",
       "         [4, 3, 9, 4, 7],\n",
       "         [9, 0, 6, 9, 4],\n",
       "         [8, 2, 9, 4, 5]],\n",
       "\n",
       "        [[5, 6, 4, 3, 1],\n",
       "         [8, 8, 9, 9, 7],\n",
       "         [1, 7, 2, 3, 6],\n",
       "         [3, 1, 4, 9, 6]]],\n",
       "\n",
       "\n",
       "       [[[6, 9, 2, 8, 2],\n",
       "         [3, 4, 9, 3, 5],\n",
       "         [6, 6, 3, 1, 4],\n",
       "         [4, 9, 8, 6, 6]],\n",
       "\n",
       "        [[8, 2, 5, 2, 5],\n",
       "         [2, 5, 9, 4, 0],\n",
       "         [5, 3, 1, 5, 8],\n",
       "         [8, 3, 9, 3, 1]],\n",
       "\n",
       "        [[9, 9, 2, 4, 8],\n",
       "         [5, 4, 6, 5, 8],\n",
       "         [4, 0, 6, 1, 4],\n",
       "         [8, 8, 2, 3, 2]]]], dtype=int32)"
      ]
     },
     "execution_count": 4,
     "metadata": {},
     "output_type": "execute_result"
    }
   ],
   "source": [
    "a4 = np.random.randint(10, size=(2, 3, 4, 5))\n",
    "a4"
   ]
  },
  {
   "cell_type": "code",
   "execution_count": 5,
   "id": "7aeaacfa-142b-49d3-afad-c0e8ac1ccb54",
   "metadata": {},
   "outputs": [
    {
     "data": {
      "text/plain": [
       "array([[[[5, 8],\n",
       "         [9, 2],\n",
       "         [8, 7],\n",
       "         [4, 4]],\n",
       "\n",
       "        [[0, 9],\n",
       "         [4, 3],\n",
       "         [9, 0],\n",
       "         [8, 2]],\n",
       "\n",
       "        [[5, 6],\n",
       "         [8, 8],\n",
       "         [1, 7],\n",
       "         [3, 1]]],\n",
       "\n",
       "\n",
       "       [[[6, 9],\n",
       "         [3, 4],\n",
       "         [6, 6],\n",
       "         [4, 9]],\n",
       "\n",
       "        [[8, 2],\n",
       "         [2, 5],\n",
       "         [5, 3],\n",
       "         [8, 3]],\n",
       "\n",
       "        [[9, 9],\n",
       "         [5, 4],\n",
       "         [4, 0],\n",
       "         [8, 8]]]], dtype=int32)"
      ]
     },
     "execution_count": 5,
     "metadata": {},
     "output_type": "execute_result"
    }
   ],
   "source": [
    "a4[:, :, :, :2]"
   ]
  },
  {
   "cell_type": "markdown",
   "id": "8ce8c1ca-468d-48f4-af8f-bd38974cbcd3",
   "metadata": {},
   "source": [
    "# Exercise 1\n",
    "## Nut Butter Store Sales"
   ]
  },
  {
   "cell_type": "code",
   "execution_count": 1,
   "id": "dcd87566-23b2-4be1-8207-4293c832f81e",
   "metadata": {},
   "outputs": [],
   "source": [
    "import pandas as pd\n",
    "import numpy as np"
   ]
  },
  {
   "cell_type": "code",
   "execution_count": 4,
   "id": "6f2cb6dd-100c-4c02-9b4b-882d47bdbac6",
   "metadata": {},
   "outputs": [],
   "source": [
    "almond_butter = pd.Series([2, 9, 11, 13, 15])\n",
    "peanut_butter = pd.Series([7, 4, 14, 13, 18])\n",
    "cashew_butter = pd.Series([1, 16, 18, 16, 9])\n",
    "col1 = pd.Series([\"Mon\", \"Tues\", \"Wed\", \"Thurs\", \"Fri\"])\n",
    "\n",
    "nut_butter_sales_main = pd.DataFrame({\n",
    "    \"\": col1,\n",
    "    \"Almond butter\": almond_butter,\n",
    "    \"Peanut butter\": peanut_butter,\n",
    "    \"Cashew butter\": cashew_butter,\n",
    "})\n",
    "\n",
    "nut_butter_sales_price = pd.DataFrame({\n",
    "    \"\": [\"Price\"],\n",
    "    \"Almond butter\": [10],\n",
    "    \"Peanut butter\": [8],\n",
    "    \"Cashew butter\": [12]\n",
    "})"
   ]
  },
  {
   "cell_type": "code",
   "execution_count": 11,
   "id": "9547bc88-4822-49a9-a04c-aae3b3e8cfe4",
   "metadata": {},
   "outputs": [],
   "source": [
    "sales_array = np.array([[ 2,  7,  1],\n",
    "                        [ 9,  4, 16],\n",
    "                        [11, 14, 18],\n",
    "                        [13, 13, 16],\n",
    "                        [15, 18,  9]])\n",
    "nut_butter_sales_main = pd.DataFrame(sales_array,\n",
    "                                     index = [\"Mon\", \"Tue\", \"Wed\", \"Thurs\", \"Fri\"],\n",
    "                                     columns = [\"Almond butter\", \"Peanut butter\", \"Cashew butter\"])\n",
    "\n",
    "price_array = np.array([[10, 8, 12]])\n",
    "\n",
    "nut_butter_sales_price = pd.DataFrame(price_array,\n",
    "                                      index = [\"Price\"],\n",
    "                                      columns = [\"Almond butter\", \"Peanut butter\", \"Cashew butter\"])"
   ]
  },
  {
   "cell_type": "code",
   "execution_count": 14,
   "id": "cd3e5726-bfa9-4f4d-995c-c5fdd0799d6a",
   "metadata": {},
   "outputs": [
    {
     "data": {
      "text/plain": [
       "(       Almond butter  Peanut butter  Cashew butter\n",
       " Mon                2              7              1\n",
       " Tue                9              4             16\n",
       " Wed               11             14             18\n",
       " Thurs             13             13             16\n",
       " Fri               15             18              9,\n",
       " (5, 3))"
      ]
     },
     "execution_count": 14,
     "metadata": {},
     "output_type": "execute_result"
    }
   ],
   "source": [
    "nut_butter_sales_main, nut_butter_sales_main.shape"
   ]
  },
  {
   "cell_type": "code",
   "execution_count": 15,
   "id": "f160ea1e-32c2-4109-8bcf-54b4dbe82a4a",
   "metadata": {},
   "outputs": [
    {
     "data": {
      "text/plain": [
       "(       Almond butter  Peanut butter  Cashew butter\n",
       " Price             10              8             12,\n",
       " (1, 3))"
      ]
     },
     "execution_count": 15,
     "metadata": {},
     "output_type": "execute_result"
    }
   ],
   "source": [
    "nut_butter_sales_price, nut_butter_sales_price.shape"
   ]
  },
  {
   "cell_type": "code",
   "execution_count": 30,
   "id": "10723ebe-b728-47f0-81aa-c13dfbd739b4",
   "metadata": {},
   "outputs": [
    {
     "data": {
      "text/plain": [
       "array([[ 88, 314, 438, 426, 402]])"
      ]
     },
     "execution_count": 30,
     "metadata": {},
     "output_type": "execute_result"
    }
   ],
   "source": [
    "total = np.dot(nut_butter_sales_price, nut_butter_sales_main.T)\n",
    "total"
   ]
  },
  {
   "cell_type": "code",
   "execution_count": 18,
   "id": "925deb3b-5022-4494-b54f-16b3655e70bb",
   "metadata": {},
   "outputs": [],
   "source": [
    "nut_butter_sales_main[\"Total($)\"] = total"
   ]
  },
  {
   "cell_type": "code",
   "execution_count": 19,
   "id": "6af5d4e1-e177-4f0b-a82c-c333759d11c7",
   "metadata": {},
   "outputs": [
    {
     "data": {
      "text/html": [
       "<div>\n",
       "<style scoped>\n",
       "    .dataframe tbody tr th:only-of-type {\n",
       "        vertical-align: middle;\n",
       "    }\n",
       "\n",
       "    .dataframe tbody tr th {\n",
       "        vertical-align: top;\n",
       "    }\n",
       "\n",
       "    .dataframe thead th {\n",
       "        text-align: right;\n",
       "    }\n",
       "</style>\n",
       "<table border=\"1\" class=\"dataframe\">\n",
       "  <thead>\n",
       "    <tr style=\"text-align: right;\">\n",
       "      <th></th>\n",
       "      <th>Almond butter</th>\n",
       "      <th>Peanut butter</th>\n",
       "      <th>Cashew butter</th>\n",
       "      <th>Total($)</th>\n",
       "    </tr>\n",
       "  </thead>\n",
       "  <tbody>\n",
       "    <tr>\n",
       "      <th>Mon</th>\n",
       "      <td>2</td>\n",
       "      <td>7</td>\n",
       "      <td>1</td>\n",
       "      <td>88</td>\n",
       "    </tr>\n",
       "    <tr>\n",
       "      <th>Tue</th>\n",
       "      <td>9</td>\n",
       "      <td>4</td>\n",
       "      <td>16</td>\n",
       "      <td>314</td>\n",
       "    </tr>\n",
       "    <tr>\n",
       "      <th>Wed</th>\n",
       "      <td>11</td>\n",
       "      <td>14</td>\n",
       "      <td>18</td>\n",
       "      <td>438</td>\n",
       "    </tr>\n",
       "    <tr>\n",
       "      <th>Thurs</th>\n",
       "      <td>13</td>\n",
       "      <td>13</td>\n",
       "      <td>16</td>\n",
       "      <td>426</td>\n",
       "    </tr>\n",
       "    <tr>\n",
       "      <th>Fri</th>\n",
       "      <td>15</td>\n",
       "      <td>18</td>\n",
       "      <td>9</td>\n",
       "      <td>402</td>\n",
       "    </tr>\n",
       "  </tbody>\n",
       "</table>\n",
       "</div>"
      ],
      "text/plain": [
       "       Almond butter  Peanut butter  Cashew butter  Total($)\n",
       "Mon                2              7              1        88\n",
       "Tue                9              4             16       314\n",
       "Wed               11             14             18       438\n",
       "Thurs             13             13             16       426\n",
       "Fri               15             18              9       402"
      ]
     },
     "execution_count": 19,
     "metadata": {},
     "output_type": "execute_result"
    }
   ],
   "source": [
    "nut_butter_sales_main"
   ]
  },
  {
   "cell_type": "markdown",
   "id": "d7a8559d-2ebc-4141-8051-d8be39da0463",
   "metadata": {},
   "source": [
    "# Module exercises"
   ]
  },
  {
   "cell_type": "markdown",
   "id": "545e036b-5953-49bf-8faa-d43d2e75e9ac",
   "metadata": {},
   "source": [
    "### 1. Import NumPy as its abbreviation 'np'"
   ]
  },
  {
   "cell_type": "code",
   "execution_count": 1,
   "id": "404a210e-e9b1-4537-a387-417888f04a9d",
   "metadata": {},
   "outputs": [],
   "source": [
    "import numpy as np"
   ]
  },
  {
   "cell_type": "markdown",
   "id": "5952e2ab-6af7-48a0-ae5e-01c8f6db4a40",
   "metadata": {},
   "source": [
    "### Create a 1-dimensional NumPy array using np.array()"
   ]
  },
  {
   "cell_type": "code",
   "execution_count": 5,
   "id": "ff1e0c81-03b2-41b8-b8d8-937c6fd726fb",
   "metadata": {},
   "outputs": [
    {
     "data": {
      "text/plain": [
       "(array([1, 2, 3]), 1)"
      ]
     },
     "execution_count": 5,
     "metadata": {},
     "output_type": "execute_result"
    }
   ],
   "source": [
    "a1 = np.array([1, 2, 3])\n",
    "a1"
   ]
  },
  {
   "cell_type": "markdown",
   "id": "858e0671-3c91-4bb7-ba2c-4ee3099e5995",
   "metadata": {},
   "source": [
    "### Attributes of 1-dimensional array (shape, number of dimensions, data type, size and type)"
   ]
  },
  {
   "cell_type": "code",
   "execution_count": 9,
   "id": "7463bbfd-6c46-4f38-86c0-87abfe616f3d",
   "metadata": {},
   "outputs": [
    {
     "data": {
      "text/plain": [
       "(3,)"
      ]
     },
     "execution_count": 9,
     "metadata": {},
     "output_type": "execute_result"
    }
   ],
   "source": [
    "a1.shape"
   ]
  },
  {
   "cell_type": "code",
   "execution_count": 10,
   "id": "b56d24d7-f107-4efd-9cae-f01aec67a7c0",
   "metadata": {},
   "outputs": [
    {
     "data": {
      "text/plain": [
       "1"
      ]
     },
     "execution_count": 10,
     "metadata": {},
     "output_type": "execute_result"
    }
   ],
   "source": [
    "a1.ndim"
   ]
  },
  {
   "cell_type": "code",
   "execution_count": 11,
   "id": "e3c0c343-8d79-4a66-8955-02d3f764a952",
   "metadata": {},
   "outputs": [
    {
     "data": {
      "text/plain": [
       "dtype('int64')"
      ]
     },
     "execution_count": 11,
     "metadata": {},
     "output_type": "execute_result"
    }
   ],
   "source": [
    "a1.dtype"
   ]
  },
  {
   "cell_type": "code",
   "execution_count": 12,
   "id": "4f4f8c16-b6ed-4481-b414-46cd4507dcb7",
   "metadata": {},
   "outputs": [
    {
     "data": {
      "text/plain": [
       "3"
      ]
     },
     "execution_count": 12,
     "metadata": {},
     "output_type": "execute_result"
    }
   ],
   "source": [
    "a1.size"
   ]
  },
  {
   "cell_type": "code",
   "execution_count": 14,
   "id": "faf21ba3-4a5c-463f-93b3-8522748171eb",
   "metadata": {},
   "outputs": [
    {
     "data": {
      "text/plain": [
       "numpy.ndarray"
      ]
     },
     "execution_count": 14,
     "metadata": {},
     "output_type": "execute_result"
    }
   ],
   "source": [
    "type(a1)"
   ]
  },
  {
   "cell_type": "markdown",
   "id": "e145eb1d-9c6a-4801-aeee-45e684c2fe89",
   "metadata": {},
   "source": [
    "### Create a 2-dimensional NumPy array using np.array()"
   ]
  },
  {
   "cell_type": "code",
   "execution_count": 6,
   "id": "1a58a723-66bc-4601-97e6-571d4772f65e",
   "metadata": {},
   "outputs": [
    {
     "data": {
      "text/plain": [
       "(array([[1. , 2. , 3.3],\n",
       "        [4. , 5. , 6.5]]),\n",
       " 2)"
      ]
     },
     "execution_count": 6,
     "metadata": {},
     "output_type": "execute_result"
    }
   ],
   "source": [
    "a2 = np.array([[1, 2.0, 3.3],\n",
    "               [4, 5, 6.5]])\n",
    "a2, a2.ndim"
   ]
  },
  {
   "cell_type": "markdown",
   "id": "5e2c8a9f-ca0d-4000-9c85-65e9ce9ac369",
   "metadata": {},
   "source": [
    "### Attributes of 1-dimensional array (shape, `number of dimensions, data type, size and type)"
   ]
  },
  {
   "cell_type": "code",
   "execution_count": 15,
   "id": "ddef83ec-6914-49f2-bb34-c61adcd08f93",
   "metadata": {},
   "outputs": [
    {
     "data": {
      "text/plain": [
       "(2, 3)"
      ]
     },
     "execution_count": 15,
     "metadata": {},
     "output_type": "execute_result"
    }
   ],
   "source": [
    "a2.shape"
   ]
  },
  {
   "cell_type": "code",
   "execution_count": 16,
   "id": "6aab935d-9e56-43a8-9faf-bbe20655e875",
   "metadata": {},
   "outputs": [
    {
     "data": {
      "text/plain": [
       "2"
      ]
     },
     "execution_count": 16,
     "metadata": {},
     "output_type": "execute_result"
    }
   ],
   "source": [
    "a2.ndim"
   ]
  },
  {
   "cell_type": "code",
   "execution_count": 17,
   "id": "89c4470c-aaeb-46b0-8389-b8d14c470f01",
   "metadata": {},
   "outputs": [
    {
     "data": {
      "text/plain": [
       "dtype('float64')"
      ]
     },
     "execution_count": 17,
     "metadata": {},
     "output_type": "execute_result"
    }
   ],
   "source": [
    "a2.dtype"
   ]
  },
  {
   "cell_type": "code",
   "execution_count": 18,
   "id": "7dbeba80-9b1a-4a6e-9f72-d53476330569",
   "metadata": {},
   "outputs": [
    {
     "data": {
      "text/plain": [
       "6"
      ]
     },
     "execution_count": 18,
     "metadata": {},
     "output_type": "execute_result"
    }
   ],
   "source": [
    "a2.size"
   ]
  },
  {
   "cell_type": "code",
   "execution_count": 19,
   "id": "1161bd25-b14a-4291-98a6-5f33a6526d5f",
   "metadata": {},
   "outputs": [
    {
     "data": {
      "text/plain": [
       "numpy.ndarray"
      ]
     },
     "execution_count": 19,
     "metadata": {},
     "output_type": "execute_result"
    }
   ],
   "source": [
    "type(a2)"
   ]
  },
  {
   "cell_type": "markdown",
   "id": "2c3ea203-348e-44b9-9c47-5963e53ff6c9",
   "metadata": {},
   "source": [
    "### Create a 3-dimensional Numpy array using np.array()"
   ]
  },
  {
   "cell_type": "code",
   "execution_count": 7,
   "id": "ee69d688-594f-47e7-897f-526bb1f4aeea",
   "metadata": {},
   "outputs": [
    {
     "data": {
      "text/plain": [
       "(array([[[ 1,  2,  3],\n",
       "         [ 4,  5,  6]],\n",
       " \n",
       "        [[ 7,  8,  9],\n",
       "         [10, 11, 12]]]),\n",
       " 3)"
      ]
     },
     "execution_count": 7,
     "metadata": {},
     "output_type": "execute_result"
    }
   ],
   "source": [
    "a3 = np.array([[[1, 2, 3],\n",
    "                [4, 5, 6]],\n",
    "                [[7, 8, 9],\n",
    "                 [10, 11, 12]]])\n",
    "a3, a3.ndim"
   ]
  },
  {
   "cell_type": "markdown",
   "id": "c05638ab-d581-4187-9b75-8c11f5afaa5f",
   "metadata": {},
   "source": [
    "### Attributes of 1-dimensional array (shape, number of dimensions, data type, size and type)"
   ]
  },
  {
   "cell_type": "code",
   "execution_count": 20,
   "id": "ec4cee26-eaf8-467e-8891-802b2307bdbb",
   "metadata": {},
   "outputs": [
    {
     "data": {
      "text/plain": [
       "(2, 2, 3)"
      ]
     },
     "execution_count": 20,
     "metadata": {},
     "output_type": "execute_result"
    }
   ],
   "source": [
    "a3.shape"
   ]
  },
  {
   "cell_type": "code",
   "execution_count": 21,
   "id": "b0d8a4f6-7ee5-4d15-97d8-6cd8af1a2c76",
   "metadata": {},
   "outputs": [
    {
     "data": {
      "text/plain": [
       "2"
      ]
     },
     "execution_count": 21,
     "metadata": {},
     "output_type": "execute_result"
    }
   ],
   "source": [
    "a2.ndim"
   ]
  },
  {
   "cell_type": "code",
   "execution_count": 23,
   "id": "5367bc58-4389-473b-8278-6a3135d2eaf8",
   "metadata": {},
   "outputs": [
    {
     "data": {
      "text/plain": [
       "dtype('float64')"
      ]
     },
     "execution_count": 23,
     "metadata": {},
     "output_type": "execute_result"
    }
   ],
   "source": [
    "a2.dtype"
   ]
  },
  {
   "cell_type": "code",
   "execution_count": 24,
   "id": "2bf73e4d-65e9-440b-ac79-6a6dcb5c5322",
   "metadata": {},
   "outputs": [
    {
     "data": {
      "text/plain": [
       "6"
      ]
     },
     "execution_count": 24,
     "metadata": {},
     "output_type": "execute_result"
    }
   ],
   "source": [
    "a2.size"
   ]
  },
  {
   "cell_type": "code",
   "execution_count": 25,
   "id": "f2b1b173-dd20-4e8a-8153-491bda55a2c6",
   "metadata": {},
   "outputs": [
    {
     "data": {
      "text/plain": [
       "numpy.ndarray"
      ]
     },
     "execution_count": 25,
     "metadata": {},
     "output_type": "execute_result"
    }
   ],
   "source": [
    "type(a2)"
   ]
  },
  {
   "cell_type": "markdown",
   "id": "41f0ec4e-cff3-4e91-abbf-a8ef9b6e1f31",
   "metadata": {},
   "source": [
    "### Import pandas and create a DataFrame out of one of the arrays you've created"
   ]
  },
  {
   "cell_type": "code",
   "execution_count": 26,
   "id": "9e0d432b-e4b5-4cdc-8f19-0ecc2ecdc6ae",
   "metadata": {},
   "outputs": [],
   "source": [
    "import pandas as pd"
   ]
  },
  {
   "cell_type": "code",
   "execution_count": 30,
   "id": "e5921637-c2d2-4863-a4b3-6fd3e43b5be6",
   "metadata": {},
   "outputs": [
    {
     "data": {
      "text/html": [
       "<div>\n",
       "<style scoped>\n",
       "    .dataframe tbody tr th:only-of-type {\n",
       "        vertical-align: middle;\n",
       "    }\n",
       "\n",
       "    .dataframe tbody tr th {\n",
       "        vertical-align: top;\n",
       "    }\n",
       "\n",
       "    .dataframe thead th {\n",
       "        text-align: right;\n",
       "    }\n",
       "</style>\n",
       "<table border=\"1\" class=\"dataframe\">\n",
       "  <thead>\n",
       "    <tr style=\"text-align: right;\">\n",
       "      <th></th>\n",
       "      <th>0</th>\n",
       "      <th>1</th>\n",
       "      <th>2</th>\n",
       "    </tr>\n",
       "  </thead>\n",
       "  <tbody>\n",
       "    <tr>\n",
       "      <th>0</th>\n",
       "      <td>1.0</td>\n",
       "      <td>2.0</td>\n",
       "      <td>3.3</td>\n",
       "    </tr>\n",
       "    <tr>\n",
       "      <th>1</th>\n",
       "      <td>4.0</td>\n",
       "      <td>5.0</td>\n",
       "      <td>6.5</td>\n",
       "    </tr>\n",
       "  </tbody>\n",
       "</table>\n",
       "</div>"
      ],
      "text/plain": [
       "     0    1    2\n",
       "0  1.0  2.0  3.3\n",
       "1  4.0  5.0  6.5"
      ]
     },
     "execution_count": 30,
     "metadata": {},
     "output_type": "execute_result"
    }
   ],
   "source": [
    "df = pd.DataFrame(a2)\n",
    "df"
   ]
  },
  {
   "cell_type": "code",
   "execution_count": 31,
   "id": "1aa6a8a8-a171-4381-8e09-80d1087ad9a1",
   "metadata": {},
   "outputs": [
    {
     "data": {
      "text/html": [
       "<div>\n",
       "<style scoped>\n",
       "    .dataframe tbody tr th:only-of-type {\n",
       "        vertical-align: middle;\n",
       "    }\n",
       "\n",
       "    .dataframe tbody tr th {\n",
       "        vertical-align: top;\n",
       "    }\n",
       "\n",
       "    .dataframe thead th {\n",
       "        text-align: right;\n",
       "    }\n",
       "</style>\n",
       "<table border=\"1\" class=\"dataframe\">\n",
       "  <thead>\n",
       "    <tr style=\"text-align: right;\">\n",
       "      <th></th>\n",
       "      <th>1</th>\n",
       "      <th>2</th>\n",
       "      <th>3</th>\n",
       "    </tr>\n",
       "  </thead>\n",
       "  <tbody>\n",
       "    <tr>\n",
       "      <th>A</th>\n",
       "      <td>1.0</td>\n",
       "      <td>2.0</td>\n",
       "      <td>3.3</td>\n",
       "    </tr>\n",
       "    <tr>\n",
       "      <th>B</th>\n",
       "      <td>4.0</td>\n",
       "      <td>5.0</td>\n",
       "      <td>6.5</td>\n",
       "    </tr>\n",
       "  </tbody>\n",
       "</table>\n",
       "</div>"
      ],
      "text/plain": [
       "     1    2    3\n",
       "A  1.0  2.0  3.3\n",
       "B  4.0  5.0  6.5"
      ]
     },
     "execution_count": 31,
     "metadata": {},
     "output_type": "execute_result"
    }
   ],
   "source": [
    "df = pd.DataFrame(a2,\n",
    "                 index = ['A', 'B'],\n",
    "                 columns = [1, 2, 3])\n",
    "df"
   ]
  },
  {
   "cell_type": "markdown",
   "id": "4f3bec90-461f-4f92-bfef-3ea970a67a2e",
   "metadata": {},
   "source": [
    "### Create an array of shape (10, 2) with only ones"
   ]
  },
  {
   "cell_type": "code",
   "execution_count": 34,
   "id": "393f2143-f4a7-467e-8e9f-0d28ef84b5e0",
   "metadata": {},
   "outputs": [
    {
     "data": {
      "text/plain": [
       "array([[1., 1.],\n",
       "       [1., 1.],\n",
       "       [1., 1.],\n",
       "       [1., 1.],\n",
       "       [1., 1.],\n",
       "       [1., 1.],\n",
       "       [1., 1.],\n",
       "       [1., 1.],\n",
       "       [1., 1.],\n",
       "       [1., 1.]])"
      ]
     },
     "execution_count": 34,
     "metadata": {},
     "output_type": "execute_result"
    }
   ],
   "source": [
    "ones = np.ones((10, 2))\n",
    "ones"
   ]
  },
  {
   "cell_type": "markdown",
   "id": "ba391521-bb7e-4818-8e45-e5948767a355",
   "metadata": {},
   "source": [
    "### Create an array of shape (7, 2, 3) of only zeros"
   ]
  },
  {
   "cell_type": "code",
   "execution_count": 35,
   "id": "22eeb08c-1c36-45a6-a568-12d789666a74",
   "metadata": {},
   "outputs": [
    {
     "data": {
      "text/plain": [
       "array([[[0., 0., 0.],\n",
       "        [0., 0., 0.]],\n",
       "\n",
       "       [[0., 0., 0.],\n",
       "        [0., 0., 0.]],\n",
       "\n",
       "       [[0., 0., 0.],\n",
       "        [0., 0., 0.]],\n",
       "\n",
       "       [[0., 0., 0.],\n",
       "        [0., 0., 0.]],\n",
       "\n",
       "       [[0., 0., 0.],\n",
       "        [0., 0., 0.]],\n",
       "\n",
       "       [[0., 0., 0.],\n",
       "        [0., 0., 0.]],\n",
       "\n",
       "       [[0., 0., 0.],\n",
       "        [0., 0., 0.]]])"
      ]
     },
     "execution_count": 35,
     "metadata": {},
     "output_type": "execute_result"
    }
   ],
   "source": [
    "zeros = np.zeros((7, 2, 3))\n",
    "zeros"
   ]
  },
  {
   "cell_type": "markdown",
   "id": "f185169e-2dbf-4fab-88aa-cbac1791dd8c",
   "metadata": {},
   "source": [
    "### Create an array within a range of 0 and 100 with step 3"
   ]
  },
  {
   "cell_type": "code",
   "execution_count": 40,
   "id": "30f80907-016f-44b8-b7ed-5923bafa6440",
   "metadata": {},
   "outputs": [
    {
     "data": {
      "text/plain": [
       "array([ 0,  3,  6,  9, 12, 15, 18, 21, 24, 27, 30, 33, 36, 39, 42, 45, 48,\n",
       "       51, 54, 57, 60, 63, 66, 69, 72, 75, 78, 81, 84, 87, 90, 93, 96, 99])"
      ]
     },
     "execution_count": 40,
     "metadata": {},
     "output_type": "execute_result"
    }
   ],
   "source": [
    "array = np.arange(0,100, 3)\n",
    "array"
   ]
  },
  {
   "cell_type": "markdown",
   "id": "9c030446-f0ee-4478-8d14-15416050c3b8",
   "metadata": {},
   "source": [
    "### Create a random array with numbers between 0 and 10 of size (7, 2)"
   ]
  },
  {
   "cell_type": "code",
   "execution_count": 53,
   "id": "6ebb9b42-bc98-44ea-bc86-9fd02226c253",
   "metadata": {},
   "outputs": [
    {
     "data": {
      "text/plain": [
       "array([[1, 3],\n",
       "       [8, 1],\n",
       "       [9, 8],\n",
       "       [9, 4],\n",
       "       [1, 3],\n",
       "       [6, 7],\n",
       "       [2, 0]], dtype=int32)"
      ]
     },
     "execution_count": 53,
     "metadata": {},
     "output_type": "execute_result"
    }
   ],
   "source": [
    "np.random.randint(10, size = (7,2))"
   ]
  },
  {
   "cell_type": "markdown",
   "id": "9832ebf3-e948-4729-baba-4675ff17bfe2",
   "metadata": {},
   "source": [
    "### Create a random array of floats between 0 & 1 of shape (3, 5)"
   ]
  },
  {
   "cell_type": "code",
   "execution_count": 52,
   "id": "1e6ea91c-2393-45b0-8067-9d70f82f5eee",
   "metadata": {},
   "outputs": [
    {
     "data": {
      "text/plain": [
       "array([[0.00706631, 0.02306243, 0.52477466, 0.39986097, 0.04666566],\n",
       "       [0.97375552, 0.23277134, 0.09060643, 0.61838601, 0.38246199],\n",
       "       [0.98323089, 0.46676289, 0.85994041, 0.68030754, 0.45049925]])"
      ]
     },
     "execution_count": 52,
     "metadata": {},
     "output_type": "execute_result"
    }
   ],
   "source": [
    "np.random.random((3,5))"
   ]
  },
  {
   "cell_type": "markdown",
   "id": "425584c0-adc2-4cd9-90ec-378b2996cb08",
   "metadata": {},
   "source": [
    "### Set the random seed to 42"
   ]
  },
  {
   "cell_type": "code",
   "execution_count": 50,
   "id": "c0ccca38-4bf4-4882-a561-a42223bddbc6",
   "metadata": {},
   "outputs": [],
   "source": [
    "np.random.seed(42)"
   ]
  },
  {
   "cell_type": "markdown",
   "id": "9bcbdc4a-39fd-45ea-9d42-4c27a694e7e9",
   "metadata": {},
   "source": [
    "### Create a random array of numbers between 0 & 10 of size (4, 6)"
   ]
  },
  {
   "cell_type": "code",
   "execution_count": 51,
   "id": "96d925cb-2741-4c17-b916-0626ac72e418",
   "metadata": {},
   "outputs": [
    {
     "data": {
      "text/plain": [
       "array([[6, 3, 7, 4, 6, 9],\n",
       "       [2, 6, 7, 4, 3, 7],\n",
       "       [7, 2, 5, 4, 1, 7],\n",
       "       [5, 1, 4, 0, 9, 5]], dtype=int32)"
      ]
     },
     "execution_count": 51,
     "metadata": {},
     "output_type": "execute_result"
    }
   ],
   "source": [
    "np.random.randint(10, size = (4, 6))"
   ]
  },
  {
   "cell_type": "markdown",
   "id": "c80b4cb9-2dd3-450c-ba07-ee45ece53828",
   "metadata": {},
   "source": [
    "### Create an array of random numbers between 1 & 10 of size (3, 7) and save it to a variable"
   ]
  },
  {
   "cell_type": "code",
   "execution_count": 54,
   "id": "225f4742-41b8-4062-8995-899fec53c2b5",
   "metadata": {},
   "outputs": [
    {
     "data": {
      "text/plain": [
       "array([[3, 1, 7, 3, 1, 5, 5],\n",
       "       [9, 3, 5, 1, 9, 1, 9],\n",
       "       [3, 7, 6, 8, 7, 4, 1]], dtype=int32)"
      ]
     },
     "execution_count": 54,
     "metadata": {},
     "output_type": "execute_result"
    }
   ],
   "source": [
    "random_array = np.random.randint(10, size = (3, 7))\n",
    "random_array"
   ]
  },
  {
   "cell_type": "markdown",
   "id": "d3fb9feb-9439-48b9-b1d9-35520b473fba",
   "metadata": {},
   "source": [
    "### Find the unique numbers in the array you just created"
   ]
  },
  {
   "cell_type": "code",
   "execution_count": 55,
   "id": "620c0e79-bfc7-4dcf-82a5-6445aa7329ec",
   "metadata": {},
   "outputs": [
    {
     "data": {
      "text/plain": [
       "array([1, 3, 4, 5, 6, 7, 8, 9], dtype=int32)"
      ]
     },
     "execution_count": 55,
     "metadata": {},
     "output_type": "execute_result"
    }
   ],
   "source": [
    "np.unique(random_array)"
   ]
  },
  {
   "cell_type": "markdown",
   "id": "fc1bb8a7-448c-4e17-8a7f-9776de7a2150",
   "metadata": {},
   "source": [
    "### Find the 0'th index of the latest array you created"
   ]
  },
  {
   "cell_type": "code",
   "execution_count": 56,
   "id": "b41a329e-3ab1-4860-aea0-6f217b145bf7",
   "metadata": {},
   "outputs": [
    {
     "data": {
      "text/plain": [
       "array([3, 1, 7, 3, 1, 5, 5], dtype=int32)"
      ]
     },
     "execution_count": 56,
     "metadata": {},
     "output_type": "execute_result"
    }
   ],
   "source": [
    "random_array[0]"
   ]
  },
  {
   "cell_type": "markdown",
   "id": "c920cfa3-670e-45dc-a9a4-69aa33bfdcdd",
   "metadata": {},
   "source": [
    "### Get the first 2 rows of latest array you created"
   ]
  },
  {
   "cell_type": "code",
   "execution_count": 58,
   "id": "b24f0f0f-7966-44b1-b62a-17c0dda05522",
   "metadata": {},
   "outputs": [
    {
     "data": {
      "text/plain": [
       "array([[3, 1, 7, 3, 1, 5, 5],\n",
       "       [9, 3, 5, 1, 9, 1, 9]], dtype=int32)"
      ]
     },
     "execution_count": 58,
     "metadata": {},
     "output_type": "execute_result"
    }
   ],
   "source": [
    "random_array[:2]"
   ]
  },
  {
   "cell_type": "markdown",
   "id": "9500882d-15ba-4065-947e-63ec1e005fc3",
   "metadata": {},
   "source": [
    "### Get the first 2 values of the first 2 rows of the latest array\n"
   ]
  },
  {
   "cell_type": "code",
   "execution_count": 59,
   "id": "145292ab-1192-4824-be73-01bce3013b4d",
   "metadata": {},
   "outputs": [
    {
     "data": {
      "text/plain": [
       "array([[3, 1],\n",
       "       [9, 3]], dtype=int32)"
      ]
     },
     "execution_count": 59,
     "metadata": {},
     "output_type": "execute_result"
    }
   ],
   "source": [
    "random_array[:2, :2]"
   ]
  },
  {
   "cell_type": "markdown",
   "id": "827ba899-18ff-486d-a5b3-765086db3ba2",
   "metadata": {},
   "source": [
    "### Create a random array of numbers between 0 & 10 and an array of ones both of size (3, 5), save them both to variables"
   ]
  },
  {
   "cell_type": "code",
   "execution_count": 62,
   "id": "1c5abfc3-565e-4241-96ee-aea241d294ac",
   "metadata": {},
   "outputs": [],
   "source": [
    "random_array = np.random.randint(10, size = (3, 5))\n",
    "ones = np.ones((3, 5))"
   ]
  },
  {
   "cell_type": "code",
   "execution_count": 63,
   "id": "77d204f2-f40a-4803-9ca1-025cfcf87a78",
   "metadata": {},
   "outputs": [
    {
     "data": {
      "text/plain": [
       "array([[4, 7, 9, 8, 8],\n",
       "       [0, 8, 6, 8, 7],\n",
       "       [0, 7, 7, 2, 0]], dtype=int32)"
      ]
     },
     "execution_count": 63,
     "metadata": {},
     "output_type": "execute_result"
    }
   ],
   "source": [
    "random_array"
   ]
  },
  {
   "cell_type": "code",
   "execution_count": 64,
   "id": "79a88d5f-0e1c-443e-b24e-a064dfa3581c",
   "metadata": {},
   "outputs": [
    {
     "data": {
      "text/plain": [
       "array([[1., 1., 1., 1., 1.],\n",
       "       [1., 1., 1., 1., 1.],\n",
       "       [1., 1., 1., 1., 1.]])"
      ]
     },
     "execution_count": 64,
     "metadata": {},
     "output_type": "execute_result"
    }
   ],
   "source": [
    "ones"
   ]
  },
  {
   "cell_type": "markdown",
   "id": "71b7ce28-c6e9-4126-a24d-775014ea71b9",
   "metadata": {},
   "source": [
    "### Add the two arrays together"
   ]
  },
  {
   "cell_type": "code",
   "execution_count": 65,
   "id": "e975ca63-6a73-404f-8d0f-b4ddb454919f",
   "metadata": {},
   "outputs": [
    {
     "data": {
      "text/plain": [
       "array([[ 5.,  8., 10.,  9.,  9.],\n",
       "       [ 1.,  9.,  7.,  9.,  8.],\n",
       "       [ 1.,  8.,  8.,  3.,  1.]])"
      ]
     },
     "execution_count": 65,
     "metadata": {},
     "output_type": "execute_result"
    }
   ],
   "source": [
    "random_array + ones"
   ]
  },
  {
   "cell_type": "markdown",
   "id": "8a7a8b7e-2b55-4f28-a7ea-9ce0d9d8f282",
   "metadata": {},
   "source": [
    "### Create another array of ones of shape (5, 3)"
   ]
  },
  {
   "cell_type": "code",
   "execution_count": 71,
   "id": "1f13a384-9f07-4d19-ae66-0fee1791bb24",
   "metadata": {},
   "outputs": [
    {
     "data": {
      "text/plain": [
       "array([[1., 1., 1.],\n",
       "       [1., 1., 1.],\n",
       "       [1., 1., 1.],\n",
       "       [1., 1., 1.],\n",
       "       [1., 1., 1.]])"
      ]
     },
     "execution_count": 71,
     "metadata": {},
     "output_type": "execute_result"
    }
   ],
   "source": [
    "ones1 = np.ones((5, 3))\n",
    "ones1"
   ]
  },
  {
   "cell_type": "markdown",
   "id": "484e13a7-e991-4823-a527-e27d1b1873aa",
   "metadata": {},
   "source": [
    "### Try add the array of ones and the other most recent array together"
   ]
  },
  {
   "cell_type": "code",
   "execution_count": 72,
   "id": "0efdbcba-19aa-4e78-96ae-f91c33f58628",
   "metadata": {},
   "outputs": [
    {
     "ename": "ValueError",
     "evalue": "operands could not be broadcast together with shapes (3,5) (5,3) ",
     "output_type": "error",
     "traceback": [
      "\u001b[1;31m---------------------------------------------------------------------------\u001b[0m",
      "\u001b[1;31mValueError\u001b[0m                                Traceback (most recent call last)",
      "Cell \u001b[1;32mIn[72], line 1\u001b[0m\n\u001b[1;32m----> 1\u001b[0m ones \u001b[38;5;241m+\u001b[39m ones1\n",
      "\u001b[1;31mValueError\u001b[0m: operands could not be broadcast together with shapes (3,5) (5,3) "
     ]
    }
   ],
   "source": [
    "ones + ones1"
   ]
  },
  {
   "cell_type": "markdown",
   "id": "fb2b4343-2b18-4760-837c-38e24bb1efe7",
   "metadata": {},
   "source": [
    "### Create another array of ones of shape (3, 5)"
   ]
  },
  {
   "cell_type": "code",
   "execution_count": 73,
   "id": "7a9629a6-5968-4edb-bf19-946cca9d7572",
   "metadata": {},
   "outputs": [
    {
     "data": {
      "text/plain": [
       "array([[1., 1., 1., 1., 1.],\n",
       "       [1., 1., 1., 1., 1.],\n",
       "       [1., 1., 1., 1., 1.]])"
      ]
     },
     "execution_count": 73,
     "metadata": {},
     "output_type": "execute_result"
    }
   ],
   "source": [
    "ones2 = np.ones((3, 5))\n",
    "ones2"
   ]
  },
  {
   "cell_type": "markdown",
   "id": "3a6c1971-5214-4eb0-ab9e-4931a5733d56",
   "metadata": {},
   "source": [
    "### Subtract the new array of ones from the other most recent array"
   ]
  },
  {
   "cell_type": "code",
   "execution_count": 77,
   "id": "aeb305ad-402a-4c51-9c48-ce435eb90e72",
   "metadata": {},
   "outputs": [
    {
     "data": {
      "text/plain": [
       "array([[ 3.,  6.,  8.,  7.,  7.],\n",
       "       [-1.,  7.,  5.,  7.,  6.],\n",
       "       [-1.,  6.,  6.,  1., -1.]])"
      ]
     },
     "execution_count": 77,
     "metadata": {},
     "output_type": "execute_result"
    }
   ],
   "source": [
    "random_array - ones2"
   ]
  },
  {
   "cell_type": "markdown",
   "id": "afcc104f-d7ce-464f-87c5-9cdb26ec4af7",
   "metadata": {},
   "source": [
    "### Multiply the ones array with the latest array"
   ]
  },
  {
   "cell_type": "code",
   "execution_count": 78,
   "id": "ac5c45d7-bf86-4e97-90b7-f935358444d5",
   "metadata": {},
   "outputs": [
    {
     "data": {
      "text/plain": [
       "array([[4., 7., 9., 8., 8.],\n",
       "       [0., 8., 6., 8., 7.],\n",
       "       [0., 7., 7., 2., 0.]])"
      ]
     },
     "execution_count": 78,
     "metadata": {},
     "output_type": "execute_result"
    }
   ],
   "source": [
    "ones * random_array"
   ]
  },
  {
   "cell_type": "markdown",
   "id": "5317bb36-3503-4a67-997f-cd249da17f9d",
   "metadata": {},
   "source": [
    "### Take the latest array to the power of 2 using '**'"
   ]
  },
  {
   "cell_type": "code",
   "execution_count": 82,
   "id": "81fa5517-ebae-4784-96e6-565ec8040f31",
   "metadata": {},
   "outputs": [
    {
     "data": {
      "text/plain": [
       "array([[16, 49, 81, 64, 64],\n",
       "       [ 0, 64, 36, 64, 49],\n",
       "       [ 0, 49, 49,  4,  0]], dtype=int32)"
      ]
     },
     "execution_count": 82,
     "metadata": {},
     "output_type": "execute_result"
    }
   ],
   "source": [
    "random_array ** 2"
   ]
  },
  {
   "cell_type": "markdown",
   "id": "0ed684c2-9336-4011-8b89-03b2600a22fb",
   "metadata": {},
   "source": [
    "### Do the same thing with np.square()"
   ]
  },
  {
   "cell_type": "code",
   "execution_count": 84,
   "id": "e7b5da9c-9173-4458-ae38-522bd089850d",
   "metadata": {},
   "outputs": [
    {
     "data": {
      "text/plain": [
       "array([[16, 49, 81, 64, 64],\n",
       "       [ 0, 64, 36, 64, 49],\n",
       "       [ 0, 49, 49,  4,  0]], dtype=int32)"
      ]
     },
     "execution_count": 84,
     "metadata": {},
     "output_type": "execute_result"
    }
   ],
   "source": [
    "np.square(random_array)"
   ]
  },
  {
   "cell_type": "markdown",
   "id": "a670693b-35ca-4616-b929-30a1cf37f44d",
   "metadata": {},
   "source": [
    "### Find the mean of the latest array using np.mean()"
   ]
  },
  {
   "cell_type": "code",
   "execution_count": 85,
   "id": "a49199cf-d07f-48ac-8a3c-f7ad807fe314",
   "metadata": {},
   "outputs": [
    {
     "data": {
      "text/plain": [
       "np.float64(5.4)"
      ]
     },
     "execution_count": 85,
     "metadata": {},
     "output_type": "execute_result"
    }
   ],
   "source": [
    "np.mean(random_array)"
   ]
  },
  {
   "cell_type": "markdown",
   "id": "afde55b6-2063-4380-958e-5fdd82111d28",
   "metadata": {},
   "source": [
    "### Find the maximum of the latest array using np.max()"
   ]
  },
  {
   "cell_type": "code",
   "execution_count": 86,
   "id": "b67fdd49-1f90-4efb-b2cc-e4d16d1dc4b3",
   "metadata": {},
   "outputs": [
    {
     "data": {
      "text/plain": [
       "np.int32(9)"
      ]
     },
     "execution_count": 86,
     "metadata": {},
     "output_type": "execute_result"
    }
   ],
   "source": [
    "np.max(random_array)"
   ]
  },
  {
   "cell_type": "markdown",
   "id": "e6121955-66b3-40e7-946e-33de945af574",
   "metadata": {},
   "source": [
    "### Find the minimum of the latest array using np.min()"
   ]
  },
  {
   "cell_type": "code",
   "execution_count": 87,
   "id": "36850888-66fd-4c3f-9fbe-6bd498f1fe70",
   "metadata": {},
   "outputs": [
    {
     "data": {
      "text/plain": [
       "np.int32(0)"
      ]
     },
     "execution_count": 87,
     "metadata": {},
     "output_type": "execute_result"
    }
   ],
   "source": [
    "np.min(random_array)"
   ]
  },
  {
   "cell_type": "markdown",
   "id": "79531c46-949f-4421-b461-115178a366db",
   "metadata": {},
   "source": [
    "### Find the standard deviation of the latest array"
   ]
  },
  {
   "cell_type": "code",
   "execution_count": 88,
   "id": "03029ccf-34d0-4b1d-b1d6-7c3866947ca8",
   "metadata": {},
   "outputs": [
    {
     "data": {
      "text/plain": [
       "np.float64(3.1790984046843636)"
      ]
     },
     "execution_count": 88,
     "metadata": {},
     "output_type": "execute_result"
    }
   ],
   "source": [
    "np.std(random_array)"
   ]
  },
  {
   "cell_type": "markdown",
   "id": "cc55ddbf-e599-467d-a5f7-c56846892669",
   "metadata": {},
   "source": [
    "### Find the variance of the latest array"
   ]
  },
  {
   "cell_type": "code",
   "execution_count": 89,
   "id": "b0408c72-7f6e-4212-8af2-27ad17d36365",
   "metadata": {},
   "outputs": [
    {
     "data": {
      "text/plain": [
       "np.float64(10.106666666666666)"
      ]
     },
     "execution_count": 89,
     "metadata": {},
     "output_type": "execute_result"
    }
   ],
   "source": [
    "np.var(random_array)"
   ]
  },
  {
   "cell_type": "markdown",
   "id": "b0e3cd82-5ebc-4e53-924b-f349de8c5401",
   "metadata": {},
   "source": [
    "### Reshape the latest array to (3, 5, 1)"
   ]
  },
  {
   "cell_type": "code",
   "execution_count": 91,
   "id": "a9daf98c-15d3-491c-9279-14d4c2d4e14c",
   "metadata": {},
   "outputs": [
    {
     "data": {
      "text/plain": [
       "array([[[4],\n",
       "        [7],\n",
       "        [9],\n",
       "        [8],\n",
       "        [8]],\n",
       "\n",
       "       [[0],\n",
       "        [8],\n",
       "        [6],\n",
       "        [8],\n",
       "        [7]],\n",
       "\n",
       "       [[0],\n",
       "        [7],\n",
       "        [7],\n",
       "        [2],\n",
       "        [0]]], dtype=int32)"
      ]
     },
     "execution_count": 91,
     "metadata": {},
     "output_type": "execute_result"
    }
   ],
   "source": [
    "np.reshape(random_array, (3, 5, 1))"
   ]
  },
  {
   "cell_type": "markdown",
   "id": "a57f04cb-165b-4bba-b204-db958c529122",
   "metadata": {},
   "source": [
    "### Transpose the latest array"
   ]
  },
  {
   "cell_type": "code",
   "execution_count": 92,
   "id": "e06cd2a3-e3c9-4366-ba02-95c5a0023452",
   "metadata": {},
   "outputs": [
    {
     "data": {
      "text/plain": [
       "array([[4, 0, 0],\n",
       "       [7, 8, 7],\n",
       "       [9, 6, 7],\n",
       "       [8, 8, 2],\n",
       "       [8, 7, 0]], dtype=int32)"
      ]
     },
     "execution_count": 92,
     "metadata": {},
     "output_type": "execute_result"
    }
   ],
   "source": [
    "np.transpose(random_array)"
   ]
  },
  {
   "cell_type": "markdown",
   "id": "7b54664d-e0ed-4dca-be66-8ed8e5a96055",
   "metadata": {},
   "source": [
    "### Create two arrays of random integers between 0 to 10 one of size (3, 3) the other of size (3, 2)"
   ]
  },
  {
   "cell_type": "code",
   "execution_count": 93,
   "id": "d219d65f-aa4b-4e5d-b107-1f930b16d9ee",
   "metadata": {},
   "outputs": [],
   "source": [
    "random_array_1 = np.random.randint(10, size = (3,3))\n",
    "random_array_2 = np.random.randint(10, size = (3, 2))"
   ]
  },
  {
   "cell_type": "code",
   "execution_count": 94,
   "id": "74871f06-6e4f-4463-8f31-b8b07be13950",
   "metadata": {},
   "outputs": [
    {
     "data": {
      "text/plain": [
       "array([[7, 2, 2],\n",
       "       [0, 4, 9],\n",
       "       [6, 9, 8]], dtype=int32)"
      ]
     },
     "execution_count": 94,
     "metadata": {},
     "output_type": "execute_result"
    }
   ],
   "source": [
    "random_array_1"
   ]
  },
  {
   "cell_type": "code",
   "execution_count": 95,
   "id": "c3a6a508-bc9d-47f6-8b68-9b7b2d91df0b",
   "metadata": {},
   "outputs": [
    {
     "data": {
      "text/plain": [
       "array([[6, 8],\n",
       "       [7, 1],\n",
       "       [0, 6]], dtype=int32)"
      ]
     },
     "execution_count": 95,
     "metadata": {},
     "output_type": "execute_result"
    }
   ],
   "source": [
    "random_array_2"
   ]
  },
  {
   "cell_type": "markdown",
   "id": "995e37b1-82d6-4ee8-a788-7f6778e651ed",
   "metadata": {},
   "source": [
    "### Perform a dot product on the two newest arrays you created"
   ]
  },
  {
   "cell_type": "code",
   "execution_count": 96,
   "id": "b5429006-9bad-4125-8d14-895e3a818e0c",
   "metadata": {},
   "outputs": [
    {
     "data": {
      "text/plain": [
       "array([[ 56,  70],\n",
       "       [ 28,  58],\n",
       "       [ 99, 105]], dtype=int32)"
      ]
     },
     "execution_count": 96,
     "metadata": {},
     "output_type": "execute_result"
    }
   ],
   "source": [
    "np.dot(random_array_1, random_array_2)"
   ]
  },
  {
   "cell_type": "markdown",
   "id": "4403f5ce-77e4-473b-bc0a-7db2ce7b5859",
   "metadata": {},
   "source": [
    "### Create two arrays of random integers between 0 to 10 both of size (4, 3)"
   ]
  },
  {
   "cell_type": "code",
   "execution_count": 98,
   "id": "ae6da0dc-7c91-43a2-832a-93f49116f0b7",
   "metadata": {},
   "outputs": [
    {
     "data": {
      "text/plain": [
       "array([[4, 9, 6],\n",
       "       [6, 8, 9],\n",
       "       [9, 2, 6],\n",
       "       [0, 3, 3]], dtype=int32)"
      ]
     },
     "execution_count": 98,
     "metadata": {},
     "output_type": "execute_result"
    }
   ],
   "source": [
    "random_array_1 = np.random.randint(10, size=(4, 3))\n",
    "random_array_1"
   ]
  },
  {
   "cell_type": "code",
   "execution_count": 99,
   "id": "d478b26b-f6c5-412e-b03e-98860085a793",
   "metadata": {},
   "outputs": [
    {
     "data": {
      "text/plain": [
       "array([[4, 6, 6],\n",
       "       [3, 6, 2],\n",
       "       [5, 1, 9],\n",
       "       [8, 4, 5]], dtype=int32)"
      ]
     },
     "execution_count": 99,
     "metadata": {},
     "output_type": "execute_result"
    }
   ],
   "source": [
    "random_array_2 = np.random.randint(10, size = (4, 3))\n",
    "random_array_2"
   ]
  },
  {
   "cell_type": "markdown",
   "id": "97d7efe4-8121-448a-8f4a-8574acbe3788",
   "metadata": {},
   "source": [
    "### Perform a dot product on the two newest arrays you created"
   ]
  },
  {
   "cell_type": "code",
   "execution_count": 100,
   "id": "3c35bb2e-7647-4646-915b-351ae97c6d27",
   "metadata": {},
   "outputs": [
    {
     "ename": "ValueError",
     "evalue": "shapes (4,3) and (4,3) not aligned: 3 (dim 1) != 4 (dim 0)",
     "output_type": "error",
     "traceback": [
      "\u001b[1;31m---------------------------------------------------------------------------\u001b[0m",
      "\u001b[1;31mValueError\u001b[0m                                Traceback (most recent call last)",
      "Cell \u001b[1;32mIn[100], line 1\u001b[0m\n\u001b[1;32m----> 1\u001b[0m np\u001b[38;5;241m.\u001b[39mdot(random_array_1, random_array_2)\n",
      "\u001b[1;31mValueError\u001b[0m: shapes (4,3) and (4,3) not aligned: 3 (dim 1) != 4 (dim 0)"
     ]
    }
   ],
   "source": [
    "np.dot(random_array_1, random_array_2)"
   ]
  },
  {
   "cell_type": "markdown",
   "id": "7d008d90-05dd-4a51-9c2e-45341e4fa1de",
   "metadata": {},
   "source": [
    "### Take the latest two arrays, perform a transpose on one of them and then perform a dot product on them both"
   ]
  },
  {
   "cell_type": "code",
   "execution_count": 102,
   "id": "6949507b-0bed-441e-8867-59e25001e6c7",
   "metadata": {},
   "outputs": [],
   "source": [
    "random_array_2 = random_array_2.T"
   ]
  },
  {
   "cell_type": "code",
   "execution_count": 103,
   "id": "0ce887b0-e8b7-4fa5-aa42-179de978a7a8",
   "metadata": {},
   "outputs": [
    {
     "data": {
      "text/plain": [
       "array([[106,  78,  83,  98],\n",
       "       [126,  84, 119, 125],\n",
       "       [ 84,  51, 101, 110],\n",
       "       [ 36,  24,  30,  27]], dtype=int32)"
      ]
     },
     "execution_count": 103,
     "metadata": {},
     "output_type": "execute_result"
    }
   ],
   "source": [
    "np.dot(random_array_1, random_array_2)"
   ]
  },
  {
   "cell_type": "markdown",
   "id": "d9fa8e69-d095-44e7-9efa-e6eb59a6e924",
   "metadata": {},
   "source": [
    "### Create two arrays of random integers between 0 & 10 of the same shape and save them to variables"
   ]
  },
  {
   "cell_type": "code",
   "execution_count": 104,
   "id": "28085b84-e70d-44c5-9ef9-6926240116fb",
   "metadata": {},
   "outputs": [
    {
     "data": {
      "text/plain": [
       "array([[3, 9, 6],\n",
       "       [8, 6, 0]], dtype=int32)"
      ]
     },
     "execution_count": 104,
     "metadata": {},
     "output_type": "execute_result"
    }
   ],
   "source": [
    "a1 = np.random.randint(10, size = (2, 3))\n",
    "a1"
   ]
  },
  {
   "cell_type": "code",
   "execution_count": 105,
   "id": "ddf3b4de-2495-496e-898e-96d75ea2f305",
   "metadata": {},
   "outputs": [
    {
     "data": {
      "text/plain": [
       "array([[0, 8, 8],\n",
       "       [3, 8, 2]], dtype=int32)"
      ]
     },
     "execution_count": 105,
     "metadata": {},
     "output_type": "execute_result"
    }
   ],
   "source": [
    "a2 = np.random.randint(10, size = (2,3))\n",
    "a2"
   ]
  },
  {
   "cell_type": "markdown",
   "id": "c3ca4d8a-ba85-4333-8ef1-f2d1465673aa",
   "metadata": {},
   "source": [
    "### Compare the two arrays with '>'"
   ]
  },
  {
   "cell_type": "code",
   "execution_count": 106,
   "id": "61566262-cbb4-4362-a453-1225b3b13b19",
   "metadata": {},
   "outputs": [
    {
     "data": {
      "text/plain": [
       "array([[ True,  True, False],\n",
       "       [ True, False, False]])"
      ]
     },
     "execution_count": 106,
     "metadata": {},
     "output_type": "execute_result"
    }
   ],
   "source": [
    "a1>a2"
   ]
  },
  {
   "cell_type": "markdown",
   "id": "94146e53-d2f7-4a93-ad4e-1986a1c259dd",
   "metadata": {},
   "source": [
    "### Compare the two arrays with '>='"
   ]
  },
  {
   "cell_type": "code",
   "execution_count": 107,
   "id": "0eeb4fb7-b78b-4697-9cf7-5a9bc65abf64",
   "metadata": {},
   "outputs": [
    {
     "data": {
      "text/plain": [
       "array([[ True,  True, False],\n",
       "       [ True, False, False]])"
      ]
     },
     "execution_count": 107,
     "metadata": {},
     "output_type": "execute_result"
    }
   ],
   "source": [
    "a1>=a2"
   ]
  },
  {
   "cell_type": "markdown",
   "id": "194f3b99-2167-4cb0-8095-ddef9ea1e03f",
   "metadata": {},
   "source": [
    "### Find which elements of the first array are greater than 7"
   ]
  },
  {
   "cell_type": "code",
   "execution_count": 108,
   "id": "635cadc3-d292-48fd-930c-5aec27c55fe9",
   "metadata": {},
   "outputs": [
    {
     "data": {
      "text/plain": [
       "array([[False,  True, False],\n",
       "       [ True, False, False]])"
      ]
     },
     "execution_count": 108,
     "metadata": {},
     "output_type": "execute_result"
    }
   ],
   "source": [
    "a1>7"
   ]
  },
  {
   "cell_type": "markdown",
   "id": "75b0bf78-5108-4a33-85ec-d2541ff697ff",
   "metadata": {},
   "source": [
    "### Which parts of each array are equal? (try using '==')"
   ]
  },
  {
   "cell_type": "code",
   "execution_count": 109,
   "id": "3b4f13e0-5603-48b6-ace4-816d622728cf",
   "metadata": {},
   "outputs": [
    {
     "data": {
      "text/plain": [
       "array([[False, False, False],\n",
       "       [False, False, False]])"
      ]
     },
     "execution_count": 109,
     "metadata": {},
     "output_type": "execute_result"
    }
   ],
   "source": [
    "a1 == a2"
   ]
  },
  {
   "cell_type": "markdown",
   "id": "1f358f1b-b3cd-4a89-ba0c-b88ff322af3d",
   "metadata": {},
   "source": [
    "### Sort one of the arrays you just created in ascending order"
   ]
  },
  {
   "cell_type": "code",
   "execution_count": 110,
   "id": "3ccfbba9-cbbf-40fd-9d18-73361bfbc640",
   "metadata": {},
   "outputs": [
    {
     "data": {
      "text/plain": [
       "array([[3, 6, 9],\n",
       "       [0, 6, 8]], dtype=int32)"
      ]
     },
     "execution_count": 110,
     "metadata": {},
     "output_type": "execute_result"
    }
   ],
   "source": [
    "np.sort(a1)"
   ]
  },
  {
   "cell_type": "code",
   "execution_count": 111,
   "id": "f98fc122-ece1-4cc5-9979-a91c6890e0e3",
   "metadata": {},
   "outputs": [
    {
     "data": {
      "text/plain": [
       "array([[0, 8, 8],\n",
       "       [2, 3, 8]], dtype=int32)"
      ]
     },
     "execution_count": 111,
     "metadata": {},
     "output_type": "execute_result"
    }
   ],
   "source": [
    "np.sort(a2)"
   ]
  },
  {
   "cell_type": "markdown",
   "id": "ef65759b-452f-47fe-965c-a9d120c1abd4",
   "metadata": {},
   "source": [
    "### Sort the indexes of one of the arrays you just created"
   ]
  },
  {
   "cell_type": "code",
   "execution_count": 112,
   "id": "4c1f857d-9c06-4130-94cc-ea3b195b70e2",
   "metadata": {},
   "outputs": [
    {
     "data": {
      "text/plain": [
       "array([[0, 2, 1],\n",
       "       [2, 1, 0]])"
      ]
     },
     "execution_count": 112,
     "metadata": {},
     "output_type": "execute_result"
    }
   ],
   "source": [
    "np.argsort(a1)"
   ]
  },
  {
   "cell_type": "code",
   "execution_count": 113,
   "id": "53d34f2a-2f9f-44b2-b128-6cdebdaf730e",
   "metadata": {},
   "outputs": [
    {
     "data": {
      "text/plain": [
       "array([[0, 1, 2],\n",
       "       [2, 0, 1]])"
      ]
     },
     "execution_count": 113,
     "metadata": {},
     "output_type": "execute_result"
    }
   ],
   "source": [
    "np.argsort(a2)"
   ]
  },
  {
   "cell_type": "markdown",
   "id": "5aeba418-b029-4e73-872a-11b4eae53d96",
   "metadata": {},
   "source": [
    "### Find the index with the maximum value in one of the arrays you've created"
   ]
  },
  {
   "cell_type": "code",
   "execution_count": 114,
   "id": "ab880b8d-1c42-44b8-823d-8fb2da6b3b73",
   "metadata": {},
   "outputs": [
    {
     "data": {
      "text/plain": [
       "np.int64(1)"
      ]
     },
     "execution_count": 114,
     "metadata": {},
     "output_type": "execute_result"
    }
   ],
   "source": [
    "np.argmax(a1)"
   ]
  },
  {
   "cell_type": "markdown",
   "id": "1df61686-645d-4db5-b7c8-2f32bb38579c",
   "metadata": {},
   "source": [
    "### Find the index with the minimum value in one of the arrays you've created"
   ]
  },
  {
   "cell_type": "code",
   "execution_count": 115,
   "id": "f0f0999c-269d-4dfb-aeb5-53bb88a1c49e",
   "metadata": {},
   "outputs": [
    {
     "data": {
      "text/plain": [
       "np.int64(5)"
      ]
     },
     "execution_count": 115,
     "metadata": {},
     "output_type": "execute_result"
    }
   ],
   "source": [
    "np.argmin(a1)"
   ]
  },
  {
   "cell_type": "markdown",
   "id": "7dbe6216-ff23-450b-86ec-7a42eb9ff6b4",
   "metadata": {},
   "source": [
    "###  Find the indexes with the maximum values down the 1st axis (axis=1) of one of the arrays you created"
   ]
  },
  {
   "cell_type": "code",
   "execution_count": 116,
   "id": "afadb948-ff54-47fe-8da3-ee3a790d265d",
   "metadata": {},
   "outputs": [
    {
     "data": {
      "text/plain": [
       "array([1, 0])"
      ]
     },
     "execution_count": 116,
     "metadata": {},
     "output_type": "execute_result"
    }
   ],
   "source": [
    "np.argmax(a1, axis = 1)"
   ]
  },
  {
   "cell_type": "markdown",
   "id": "aaedd8e3-2d19-4fce-a3c6-07123d21ff52",
   "metadata": {},
   "source": [
    "### Find the indexes with the minimum values across the 0th axis (axis=0) of one of the arrays you created"
   ]
  },
  {
   "cell_type": "code",
   "execution_count": 117,
   "id": "dbb25c30-77e6-4ebb-93a1-0df892e4816a",
   "metadata": {},
   "outputs": [
    {
     "data": {
      "text/plain": [
       "array([0, 1, 1])"
      ]
     },
     "execution_count": 117,
     "metadata": {},
     "output_type": "execute_result"
    }
   ],
   "source": [
    "np.argmin(a1, axis = 0)"
   ]
  },
  {
   "cell_type": "markdown",
   "id": "c39f7397-9082-4f95-925f-84ad37ca43cc",
   "metadata": {},
   "source": [
    "### Create an array of normally distributed random numbers"
   ]
  },
  {
   "cell_type": "code",
   "execution_count": 118,
   "id": "9000b141-5cb9-4eb4-8d03-a79727dd5c47",
   "metadata": {},
   "outputs": [
    {
     "data": {
      "text/plain": [
       "array([ 0.00511346, -0.23458713, -1.41537074, -0.42064532, -0.34271452,\n",
       "       -0.80227727, -0.16128571,  0.40405086,  1.8861859 ,  0.17457781])"
      ]
     },
     "execution_count": 118,
     "metadata": {},
     "output_type": "execute_result"
    }
   ],
   "source": [
    "normal_array = np.random.randn(10)\n",
    "normal_array"
   ]
  },
  {
   "cell_type": "code",
   "execution_count": 119,
   "id": "e23fc143-74cd-43b9-be16-971a9370a4c6",
   "metadata": {},
   "outputs": [
    {
     "data": {
      "text/plain": [
       "np.float64(0.8180198457414615)"
      ]
     },
     "execution_count": 119,
     "metadata": {},
     "output_type": "execute_result"
    }
   ],
   "source": [
    "np.std(normal_array)"
   ]
  },
  {
   "cell_type": "code",
   "execution_count": 121,
   "id": "e046b3c0-091c-474e-8534-da28d834fd41",
   "metadata": {},
   "outputs": [
    {
     "data": {
      "text/plain": [
       "np.float64(-0.09069526681059495)"
      ]
     },
     "execution_count": 121,
     "metadata": {},
     "output_type": "execute_result"
    }
   ],
   "source": [
    "np.mean(normal_array)"
   ]
  },
  {
   "cell_type": "markdown",
   "id": "6aa2c626-9620-43fb-ba26-bcf2e5cfd957",
   "metadata": {},
   "source": [
    "### Create an array with 10 evenly spaced numbers between 1 and 100"
   ]
  },
  {
   "cell_type": "code",
   "execution_count": 120,
   "id": "bcd128d0-be74-4990-abfb-8800c24b375d",
   "metadata": {},
   "outputs": [
    {
     "name": "stdout",
     "output_type": "stream",
     "text": [
      "[  1.  12.  23.  34.  45.  56.  67.  78.  89. 100.]\n"
     ]
    }
   ],
   "source": [
    "evenly_spaced_array = np.linspace(1, 100, 10)\n",
    "\n",
    "print(evenly_spaced_array)"
   ]
  },
  {
   "cell_type": "code",
   "execution_count": null,
   "id": "23d461ab-c638-476a-a9a2-0b32ed35715b",
   "metadata": {},
   "outputs": [],
   "source": []
  }
 ],
 "metadata": {
  "kernelspec": {
   "display_name": "Python 3 (ipykernel)",
   "language": "python",
   "name": "python3"
  },
  "language_info": {
   "codemirror_mode": {
    "name": "ipython",
    "version": 3
   },
   "file_extension": ".py",
   "mimetype": "text/x-python",
   "name": "python",
   "nbconvert_exporter": "python",
   "pygments_lexer": "ipython3",
   "version": "3.13.2"
  }
 },
 "nbformat": 4,
 "nbformat_minor": 5
}
